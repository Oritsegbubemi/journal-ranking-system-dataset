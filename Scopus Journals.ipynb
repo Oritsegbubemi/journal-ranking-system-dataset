{
 "cells": [
  {
   "cell_type": "markdown",
   "metadata": {},
   "source": [
    "# Import all the needed libraries"
   ]
  },
  {
   "cell_type": "code",
   "execution_count": 1,
   "metadata": {},
   "outputs": [],
   "source": [
    "import numpy as np\n",
    "import pandas as pd\n",
    "import matplotlib.pyplot as plt\n",
    "import seaborn as sns\n",
    "%matplotlib inline\n",
    "sns.set_style('whitegrid')"
   ]
  },
  {
   "cell_type": "markdown",
   "metadata": {},
   "source": [
    "# Import Dataset "
   ]
  },
  {
   "cell_type": "code",
   "execution_count": 2,
   "metadata": {},
   "outputs": [],
   "source": [
    "#import scopus journal csv file\n",
    "journal = pd.read_csv('Scopus Journals.csv') "
   ]
  },
  {
   "cell_type": "code",
   "execution_count": 3,
   "metadata": {},
   "outputs": [
    {
     "data": {
      "text/html": [
       "<div>\n",
       "<style scoped>\n",
       "    .dataframe tbody tr th:only-of-type {\n",
       "        vertical-align: middle;\n",
       "    }\n",
       "\n",
       "    .dataframe tbody tr th {\n",
       "        vertical-align: top;\n",
       "    }\n",
       "\n",
       "    .dataframe thead th {\n",
       "        text-align: right;\n",
       "    }\n",
       "</style>\n",
       "<table border=\"1\" class=\"dataframe\">\n",
       "  <thead>\n",
       "    <tr style=\"text-align: right;\">\n",
       "      <th></th>\n",
       "      <th>Scopus Source ID</th>\n",
       "      <th>Title</th>\n",
       "      <th>CiteScore</th>\n",
       "      <th>Percentile</th>\n",
       "      <th>Citation\n",
       "Count</th>\n",
       "      <th>Scholarly\n",
       "Output</th>\n",
       "      <th>Percent\n",
       "Cited</th>\n",
       "      <th>SNIP</th>\n",
       "      <th>SJR</th>\n",
       "      <th>RANK</th>\n",
       "      <th>...</th>\n",
       "      <th>Publisher</th>\n",
       "      <th>Type</th>\n",
       "      <th>Open Access</th>\n",
       "      <th>Scopus ASJC Code</th>\n",
       "      <th>Scopus Sub-Subject Area</th>\n",
       "      <th>Quartile</th>\n",
       "      <th>Top 10% (CiteScore Percentile)</th>\n",
       "      <th>Scopus Source ID.1</th>\n",
       "      <th>Print ISSN</th>\n",
       "      <th>E-ISSN</th>\n",
       "    </tr>\n",
       "  </thead>\n",
       "  <tbody>\n",
       "    <tr>\n",
       "      <th>0</th>\n",
       "      <td>10600153309</td>\n",
       "      <td>PLoS ONE</td>\n",
       "      <td>2.97</td>\n",
       "      <td>90</td>\n",
       "      <td>219890</td>\n",
       "      <td>73990</td>\n",
       "      <td>79</td>\n",
       "      <td>1.123</td>\n",
       "      <td>1.1</td>\n",
       "      <td>9</td>\n",
       "      <td>...</td>\n",
       "      <td>Public Library of Science</td>\n",
       "      <td>Journal</td>\n",
       "      <td>YES</td>\n",
       "      <td>1000</td>\n",
       "      <td>Multidisciplinary</td>\n",
       "      <td>Quartile1</td>\n",
       "      <td>Top 10%</td>\n",
       "      <td>https://www.scopus.com/sourceid/10600153309</td>\n",
       "      <td>19326203</td>\n",
       "      <td>NaN</td>\n",
       "    </tr>\n",
       "    <tr>\n",
       "      <th>1</th>\n",
       "      <td>12337</td>\n",
       "      <td>International Journal of Bifurcation and Chaos...</td>\n",
       "      <td>2.14</td>\n",
       "      <td>86</td>\n",
       "      <td>1773</td>\n",
       "      <td>830</td>\n",
       "      <td>60</td>\n",
       "      <td>0.875</td>\n",
       "      <td>0.674</td>\n",
       "      <td>13</td>\n",
       "      <td>...</td>\n",
       "      <td>World Scientific Publishing Co. Pte Ltd</td>\n",
       "      <td>Journal</td>\n",
       "      <td>NO</td>\n",
       "      <td>1000</td>\n",
       "      <td>Multidisciplinary</td>\n",
       "      <td>Quartile1</td>\n",
       "      <td>NaN</td>\n",
       "      <td>https://www.scopus.com/sourceid/12337</td>\n",
       "      <td>2181274</td>\n",
       "      <td>NaN</td>\n",
       "    </tr>\n",
       "    <tr>\n",
       "      <th>2</th>\n",
       "      <td>1300147101</td>\n",
       "      <td>Foundations of Science</td>\n",
       "      <td>0.76</td>\n",
       "      <td>64</td>\n",
       "      <td>111</td>\n",
       "      <td>146</td>\n",
       "      <td>33</td>\n",
       "      <td>0.651</td>\n",
       "      <td>0.292</td>\n",
       "      <td>33</td>\n",
       "      <td>...</td>\n",
       "      <td>Springer Netherlands</td>\n",
       "      <td>Journal</td>\n",
       "      <td>NO</td>\n",
       "      <td>1000</td>\n",
       "      <td>Multidisciplinary</td>\n",
       "      <td>Quartile2</td>\n",
       "      <td>NaN</td>\n",
       "      <td>https://www.scopus.com/sourceid/1300147101</td>\n",
       "      <td>12331821</td>\n",
       "      <td>NaN</td>\n",
       "    </tr>\n",
       "    <tr>\n",
       "      <th>3</th>\n",
       "      <td>13951</td>\n",
       "      <td>Arabian Journal for Science and Engineering</td>\n",
       "      <td>1.72</td>\n",
       "      <td>81</td>\n",
       "      <td>1955</td>\n",
       "      <td>1139</td>\n",
       "      <td>64</td>\n",
       "      <td>0.93</td>\n",
       "      <td>0.32</td>\n",
       "      <td>17</td>\n",
       "      <td>...</td>\n",
       "      <td>Springer Berlin</td>\n",
       "      <td>Journal</td>\n",
       "      <td>NO</td>\n",
       "      <td>1000</td>\n",
       "      <td>Multidisciplinary</td>\n",
       "      <td>Quartile1</td>\n",
       "      <td>NaN</td>\n",
       "      <td>https://www.scopus.com/sourceid/13951</td>\n",
       "      <td>13198025</td>\n",
       "      <td>21914281</td>\n",
       "    </tr>\n",
       "    <tr>\n",
       "      <th>4</th>\n",
       "      <td>14038</td>\n",
       "      <td>Shanghai Jiaotong Daxue Xuebao/Journal of Shan...</td>\n",
       "      <td>0.32</td>\n",
       "      <td>26</td>\n",
       "      <td>280</td>\n",
       "      <td>887</td>\n",
       "      <td>23</td>\n",
       "      <td>0.337</td>\n",
       "      <td>0.171</td>\n",
       "      <td>67</td>\n",
       "      <td>...</td>\n",
       "      <td>Shanghai Jiao Tong University</td>\n",
       "      <td>Journal</td>\n",
       "      <td>NO</td>\n",
       "      <td>1000</td>\n",
       "      <td>Multidisciplinary</td>\n",
       "      <td>Quartile3</td>\n",
       "      <td>NaN</td>\n",
       "      <td>https://www.scopus.com/sourceid/14038</td>\n",
       "      <td>10062467</td>\n",
       "      <td>NaN</td>\n",
       "    </tr>\n",
       "  </tbody>\n",
       "</table>\n",
       "<p>5 rows × 21 columns</p>\n",
       "</div>"
      ],
      "text/plain": [
       "   Scopus Source ID                                              Title  \\\n",
       "0       10600153309                                           PLoS ONE   \n",
       "1             12337  International Journal of Bifurcation and Chaos...   \n",
       "2        1300147101                             Foundations of Science   \n",
       "3             13951        Arabian Journal for Science and Engineering   \n",
       "4             14038  Shanghai Jiaotong Daxue Xuebao/Journal of Shan...   \n",
       "\n",
       "   CiteScore  Percentile  Citation\\nCount  Scholarly\\nOutput  Percent\\nCited  \\\n",
       "0       2.97          90           219890              73990              79   \n",
       "1       2.14          86             1773                830              60   \n",
       "2       0.76          64              111                146              33   \n",
       "3       1.72          81             1955               1139              64   \n",
       "4       0.32          26              280                887              23   \n",
       "\n",
       "    SNIP    SJR  RANK  ...                                Publisher     Type  \\\n",
       "0  1.123    1.1     9  ...                Public Library of Science  Journal   \n",
       "1  0.875  0.674    13  ...  World Scientific Publishing Co. Pte Ltd  Journal   \n",
       "2  0.651  0.292    33  ...                     Springer Netherlands  Journal   \n",
       "3   0.93   0.32    17  ...                          Springer Berlin  Journal   \n",
       "4  0.337  0.171    67  ...            Shanghai Jiao Tong University  Journal   \n",
       "\n",
       "  Open Access Scopus ASJC Code  Scopus Sub-Subject Area   Quartile  \\\n",
       "0         YES             1000        Multidisciplinary  Quartile1   \n",
       "1          NO             1000        Multidisciplinary  Quartile1   \n",
       "2          NO             1000        Multidisciplinary  Quartile2   \n",
       "3          NO             1000        Multidisciplinary  Quartile1   \n",
       "4          NO             1000        Multidisciplinary  Quartile3   \n",
       "\n",
       "  Top 10% (CiteScore Percentile)                           Scopus Source ID.1  \\\n",
       "0                        Top 10%  https://www.scopus.com/sourceid/10600153309   \n",
       "1                            NaN        https://www.scopus.com/sourceid/12337   \n",
       "2                            NaN   https://www.scopus.com/sourceid/1300147101   \n",
       "3                            NaN        https://www.scopus.com/sourceid/13951   \n",
       "4                            NaN        https://www.scopus.com/sourceid/14038   \n",
       "\n",
       "  Print ISSN    E-ISSN  \n",
       "0   19326203       NaN  \n",
       "1    2181274       NaN  \n",
       "2   12331821       NaN  \n",
       "3   13198025  21914281  \n",
       "4   10062467       NaN  \n",
       "\n",
       "[5 rows x 21 columns]"
      ]
     },
     "execution_count": 3,
     "metadata": {},
     "output_type": "execute_result"
    }
   ],
   "source": [
    "#view the first 5 rows in the dataset\n",
    "journal.head()  "
   ]
  },
  {
   "cell_type": "code",
   "execution_count": 4,
   "metadata": {},
   "outputs": [
    {
     "name": "stdout",
     "output_type": "stream",
     "text": [
      "<class 'pandas.core.frame.DataFrame'>\n",
      "RangeIndex: 52578 entries, 0 to 52577\n",
      "Data columns (total 21 columns):\n",
      "Scopus Source ID                  52578 non-null int64\n",
      "Title                             52578 non-null object\n",
      "CiteScore                         52578 non-null float64\n",
      "Percentile                        52578 non-null int64\n",
      "Citation\n",
      "Count                    52578 non-null int64\n",
      "Scholarly\n",
      "Output                  52578 non-null int64\n",
      "Percent\n",
      "Cited                     52578 non-null int64\n",
      "SNIP                              52578 non-null object\n",
      "SJR                               52578 non-null object\n",
      "RANK                              52578 non-null int64\n",
      "Rank\n",
      "Out Of                       52578 non-null int64\n",
      "Publisher                         52578 non-null object\n",
      "Type                              52578 non-null object\n",
      "Open Access                       52578 non-null object\n",
      "Scopus ASJC Code                  52578 non-null int64\n",
      "Scopus Sub-Subject Area           52578 non-null object\n",
      "Quartile                          52578 non-null object\n",
      "Top 10% (CiteScore Percentile)    5280 non-null object\n",
      "Scopus Source ID.1                52578 non-null object\n",
      "Print ISSN                        49571 non-null object\n",
      "E-ISSN                            24826 non-null object\n",
      "dtypes: float64(1), int64(8), object(12)\n",
      "memory usage: 8.4+ MB\n"
     ]
    }
   ],
   "source": [
    "#get to know more about the dataset using the info method\n",
    "journal.info()"
   ]
  },
  {
   "cell_type": "markdown",
   "metadata": {},
   "source": [
    "# Exploratory Data Analysis"
   ]
  },
  {
   "cell_type": "markdown",
   "metadata": {},
   "source": [
    "## Check the Correlation between the features of the dataset"
   ]
  },
  {
   "cell_type": "code",
   "execution_count": 5,
   "metadata": {},
   "outputs": [
    {
     "data": {
      "text/plain": [
       "<matplotlib.axes._subplots.AxesSubplot at 0x205a47c09e8>"
      ]
     },
     "execution_count": 5,
     "metadata": {},
     "output_type": "execute_result"
    },
    {
     "data": {
      "image/png": "[encoded data removed]",
      "text/plain": [
       "<Figure size 720x432 with 2 Axes>"
      ]
     },
     "metadata": {
      "needs_background": "light"
     },
     "output_type": "display_data"
    }
   ],
   "source": [
    "plt.figure(figsize=(10,6))\n",
    "sns.heatmap(journal.corr(),cmap='coolwarm', annot=True, vmin=0.25)"
   ]
  },
  {
   "cell_type": "raw",
   "metadata": {},
   "source": [
    "Correlation in Features include\n",
    "1. Percentile and Percent Cited (0.81)\n",
    "2. Rank and Rank Out Of (0.73)\n",
    "3. Citation Count and Scholarly Output (0.69)\n",
    "4. CiteScore and Percent Cited (0.60)\n",
    "5. CiteScore and Percentile (0.56)\n",
    "\n",
    "Other Correlation include\n",
    "Percentile and Percent Cited and CiteScore \n",
    "Rank and Rank Out Of and Subject Area\n",
    "CiteScore and SNIP and SJR\n",
    "CiteScore and Percentile and Quartile"
   ]
  },
  {
   "cell_type": "markdown",
   "metadata": {},
   "source": [
    "# Select Computer Science Subject Area"
   ]
  },
  {
   "cell_type": "code",
   "execution_count": 6,
   "metadata": {},
   "outputs": [],
   "source": [
    "#covert the ASJC column to string datatype\n",
    "asjc_code = journal['Scopus ASJC Code'].apply(str) "
   ]
  },
  {
   "cell_type": "code",
   "execution_count": 7,
   "metadata": {},
   "outputs": [],
   "source": [
    "#using lambda function to get the asjc of computer science starting with 17..\n",
    "journal = journal[asjc_code.apply(lambda x: x[:2]) == '17'] "
   ]
  },
  {
   "cell_type": "markdown",
   "metadata": {},
   "source": [
    "# Select Computer Science Journal"
   ]
  },
  {
   "cell_type": "code",
   "execution_count": 8,
   "metadata": {},
   "outputs": [],
   "source": [
    "not_journal = journal.loc[journal['Type'] != 'Journal']\n",
    "journal=journal.drop(not_journal.index, axis=0)"
   ]
  },
  {
   "cell_type": "code",
   "execution_count": 9,
   "metadata": {},
   "outputs": [
    {
     "data": {
      "text/html": [
       "<div>\n",
       "<style scoped>\n",
       "    .dataframe tbody tr th:only-of-type {\n",
       "        vertical-align: middle;\n",
       "    }\n",
       "\n",
       "    .dataframe tbody tr th {\n",
       "        vertical-align: top;\n",
       "    }\n",
       "\n",
       "    .dataframe thead th {\n",
       "        text-align: right;\n",
       "    }\n",
       "</style>\n",
       "<table border=\"1\" class=\"dataframe\">\n",
       "  <thead>\n",
       "    <tr style=\"text-align: right;\">\n",
       "      <th></th>\n",
       "      <th>Scopus Source ID</th>\n",
       "      <th>Title</th>\n",
       "      <th>CiteScore</th>\n",
       "      <th>Percentile</th>\n",
       "      <th>Citation\n",
       "Count</th>\n",
       "      <th>Scholarly\n",
       "Output</th>\n",
       "      <th>Percent\n",
       "Cited</th>\n",
       "      <th>SNIP</th>\n",
       "      <th>SJR</th>\n",
       "      <th>RANK</th>\n",
       "      <th>...</th>\n",
       "      <th>Publisher</th>\n",
       "      <th>Type</th>\n",
       "      <th>Open Access</th>\n",
       "      <th>Scopus ASJC Code</th>\n",
       "      <th>Scopus Sub-Subject Area</th>\n",
       "      <th>Quartile</th>\n",
       "      <th>Top 10% (CiteScore Percentile)</th>\n",
       "      <th>Scopus Source ID.1</th>\n",
       "      <th>Print ISSN</th>\n",
       "      <th>E-ISSN</th>\n",
       "    </tr>\n",
       "  </thead>\n",
       "  <tbody>\n",
       "    <tr>\n",
       "      <th>14544</th>\n",
       "      <td>11900154400</td>\n",
       "      <td>International Journal of Information Technolog...</td>\n",
       "      <td>1.29</td>\n",
       "      <td>60</td>\n",
       "      <td>63</td>\n",
       "      <td>49</td>\n",
       "      <td>63</td>\n",
       "      <td>0.635</td>\n",
       "      <td>0.191</td>\n",
       "      <td>82</td>\n",
       "      <td>...</td>\n",
       "      <td>IGI Publishing</td>\n",
       "      <td>Journal</td>\n",
       "      <td>NO</td>\n",
       "      <td>1700</td>\n",
       "      <td>General Computer Science</td>\n",
       "      <td>Quartile2</td>\n",
       "      <td>NaN</td>\n",
       "      <td>https://www.scopus.com/sourceid/11900154400</td>\n",
       "      <td>15541045</td>\n",
       "      <td>15541053</td>\n",
       "    </tr>\n",
       "    <tr>\n",
       "      <th>14545</th>\n",
       "      <td>12100154817</td>\n",
       "      <td>International Journal of Wireless and Mobile C...</td>\n",
       "      <td>0.49</td>\n",
       "      <td>22</td>\n",
       "      <td>137</td>\n",
       "      <td>280</td>\n",
       "      <td>30</td>\n",
       "      <td>0.252</td>\n",
       "      <td>0.168</td>\n",
       "      <td>160</td>\n",
       "      <td>...</td>\n",
       "      <td>Inderscience Enterprises Ltd</td>\n",
       "      <td>Journal</td>\n",
       "      <td>NO</td>\n",
       "      <td>1700</td>\n",
       "      <td>General Computer Science</td>\n",
       "      <td>Quartile4</td>\n",
       "      <td>NaN</td>\n",
       "      <td>https://www.scopus.com/sourceid/12100154817</td>\n",
       "      <td>17411084</td>\n",
       "      <td>17411092</td>\n",
       "    </tr>\n",
       "  </tbody>\n",
       "</table>\n",
       "<p>2 rows × 21 columns</p>\n",
       "</div>"
      ],
      "text/plain": [
       "       Scopus Source ID                                              Title  \\\n",
       "14544       11900154400  International Journal of Information Technolog...   \n",
       "14545       12100154817  International Journal of Wireless and Mobile C...   \n",
       "\n",
       "       CiteScore  Percentile  Citation\\nCount  Scholarly\\nOutput  \\\n",
       "14544       1.29          60               63                 49   \n",
       "14545       0.49          22              137                280   \n",
       "\n",
       "       Percent\\nCited   SNIP    SJR  RANK  ...                     Publisher  \\\n",
       "14544              63  0.635  0.191    82  ...                IGI Publishing   \n",
       "14545              30  0.252  0.168   160  ...  Inderscience Enterprises Ltd   \n",
       "\n",
       "          Type Open Access Scopus ASJC Code   Scopus Sub-Subject Area  \\\n",
       "14544  Journal          NO             1700  General Computer Science   \n",
       "14545  Journal          NO             1700  General Computer Science   \n",
       "\n",
       "        Quartile Top 10% (CiteScore Percentile)  \\\n",
       "14544  Quartile2                            NaN   \n",
       "14545  Quartile4                            NaN   \n",
       "\n",
       "                                Scopus Source ID.1 Print ISSN    E-ISSN  \n",
       "14544  https://www.scopus.com/sourceid/11900154400   15541045  15541053  \n",
       "14545  https://www.scopus.com/sourceid/12100154817   17411084  17411092  \n",
       "\n",
       "[2 rows x 21 columns]"
      ]
     },
     "execution_count": 9,
     "metadata": {},
     "output_type": "execute_result"
    }
   ],
   "source": [
    "journal.head(2)"
   ]
  },
  {
   "cell_type": "markdown",
   "metadata": {},
   "source": [
    "# Check for empty/null cells in the dataset"
   ]
  },
  {
   "cell_type": "code",
   "execution_count": 10,
   "metadata": {},
   "outputs": [
    {
     "data": {
      "text/plain": [
       "<function matplotlib.pyplot.tight_layout(pad=1.08, h_pad=None, w_pad=None, rect=None)>"
      ]
     },
     "execution_count": 10,
     "metadata": {},
     "output_type": "execute_result"
    },
    {
     "data": {
      "image/png": "[encoded data removed]",
      "text/plain": [
       "<Figure size 432x288 with 1 Axes>"
      ]
     },
     "metadata": {
      "needs_background": "light"
     },
     "output_type": "display_data"
    }
   ],
   "source": [
    "sns.heatmap(journal.isnull(),yticklabels=False,cbar=False,cmap='viridis')\n",
    "plt.tight_layout"
   ]
  },
  {
   "cell_type": "code",
   "execution_count": 11,
   "metadata": {},
   "outputs": [
    {
     "name": "stdout",
     "output_type": "stream",
     "text": [
      "<class 'pandas.core.frame.DataFrame'>\n",
      "Int64Index: 2284 entries, 14544 to 17046\n",
      "Data columns (total 21 columns):\n",
      "Scopus Source ID                  2284 non-null int64\n",
      "Title                             2284 non-null object\n",
      "CiteScore                         2284 non-null float64\n",
      "Percentile                        2284 non-null int64\n",
      "Citation\n",
      "Count                    2284 non-null int64\n",
      "Scholarly\n",
      "Output                  2284 non-null int64\n",
      "Percent\n",
      "Cited                     2284 non-null int64\n",
      "SNIP                              2284 non-null object\n",
      "SJR                               2284 non-null object\n",
      "RANK                              2284 non-null int64\n",
      "Rank\n",
      "Out Of                       2284 non-null int64\n",
      "Publisher                         2284 non-null object\n",
      "Type                              2284 non-null object\n",
      "Open Access                       2284 non-null object\n",
      "Scopus ASJC Code                  2284 non-null int64\n",
      "Scopus Sub-Subject Area           2284 non-null object\n",
      "Quartile                          2284 non-null object\n",
      "Top 10% (CiteScore Percentile)    239 non-null object\n",
      "Scopus Source ID.1                2284 non-null object\n",
      "Print ISSN                        2122 non-null object\n",
      "E-ISSN                            1195 non-null object\n",
      "dtypes: float64(1), int64(8), object(12)\n",
      "memory usage: 392.6+ KB\n"
     ]
    }
   ],
   "source": [
    "journal.info()"
   ]
  },
  {
   "cell_type": "markdown",
   "metadata": {},
   "source": [
    "# Working on the Index Column"
   ]
  },
  {
   "cell_type": "code",
   "execution_count": 12,
   "metadata": {},
   "outputs": [],
   "source": [
    "journal['Index'] = ['Scopus']*len(journal) #Create the Index column"
   ]
  },
  {
   "cell_type": "markdown",
   "metadata": {},
   "source": [
    "# Working on the Publisher column¶"
   ]
  },
  {
   "cell_type": "code",
   "execution_count": 13,
   "metadata": {},
   "outputs": [
    {
     "data": {
      "text/plain": [
       "Taylor and Francis Ltd.                                   125\n",
       "Springer Netherlands                                      115\n",
       "Elsevier                                                  115\n",
       "Institute of Electrical and Electronics Engineers Inc.     99\n",
       "Springer Verlag                                            70\n",
       "Name: Publisher, dtype: int64"
      ]
     },
     "execution_count": 13,
     "metadata": {},
     "output_type": "execute_result"
    }
   ],
   "source": [
    "#view the first 5 most popular publication\n",
    "#*****QUESTIONS: Some of the publcations have multiple similar names like(Elsevier, Elsevier Ltd)\n",
    "journal['Publisher'].value_counts().head()"
   ]
  },
  {
   "cell_type": "code",
   "execution_count": 14,
   "metadata": {},
   "outputs": [],
   "source": [
    "publisher = journal['Publisher']\n",
    "\n",
    "#Taylor and Francis\n",
    "pub_taylor = publisher[publisher.apply(lambda x: x[:6]) == 'Taylor'].unique().tolist()\n",
    "for i in publisher:\n",
    "    if i in pub_taylor:\n",
    "        a = publisher.replace(i,\"Taylor and Francis\", inplace=True)\n",
    "    \n",
    "#Inderscience\n",
    "pub_indersci = publisher[publisher.apply(lambda x: x[:12]) == 'Inderscience'].unique().tolist()\n",
    "for i in publisher:\n",
    "    if i in pub_indersci:\n",
    "        a = publisher.replace(i,\"Inderscience\", inplace=True)\n",
    "\n",
    "#ACM\n",
    "pub_acm = publisher[publisher.apply(lambda x: x[:41]) == 'Association for Computing Machinery (ACM)'].unique().tolist()\n",
    "for i in publisher:\n",
    "    if i in pub_acm:\n",
    "        a = publisher.replace(i,\"ACM\", inplace=True)\n",
    "        \n",
    "#Elsevier\n",
    "pub_elsevier = publisher[publisher.apply(lambda x: x[:8]) == 'Elsevier'].unique().tolist()\n",
    "for i in publisher:\n",
    "    if i in pub_elsevier:\n",
    "        a = publisher.replace(i,\"Elsevier\", inplace=True)\n",
    "        \n",
    "#Springer\n",
    "pub_springer = publisher[publisher.apply(lambda x: x[:8]) == 'Springer'].unique().tolist()\n",
    "for i in publisher:\n",
    "    if i in pub_springer:\n",
    "        a = publisher.replace(i,\"Springer\", inplace=True)\n",
    "        \n",
    "#IEEE1\n",
    "pub_ieee1 = publisher[publisher.apply(lambda x: x[:4]) == 'IEEE'].unique().tolist()\n",
    "for i in publisher:\n",
    "    if i in pub_ieee1:\n",
    "        a = publisher.replace(i,\"IEEE\", inplace=True)\n",
    "        \n",
    "#IEEE2\n",
    "pub_ieee2 = publisher[publisher.apply(lambda x: x[:49]) == 'Institute of Electrical and Electronics Engineers'].unique().tolist()\n",
    "for i in publisher:\n",
    "    if i in pub_ieee2:\n",
    "        a = publisher.replace(i,\"IEEE\", inplace=True)"
   ]
  },
  {
   "cell_type": "code",
   "execution_count": 15,
   "metadata": {},
   "outputs": [
    {
     "data": {
      "text/plain": [
       "Others                1217\n",
       "Springer               354\n",
       "Elsevier               242\n",
       "IEEE                   164\n",
       "Taylor and Francis     128\n",
       "Inderscience           111\n",
       "ACM                     68\n",
       "Name: Publisher, dtype: int64"
      ]
     },
     "execution_count": 15,
     "metadata": {},
     "output_type": "execute_result"
    }
   ],
   "source": [
    "main_publiser = publisher.value_counts().head(6)\n",
    "main_publiser = main_publiser.index.tolist()\n",
    "for i in publisher:\n",
    "    if i not in main_publiser:\n",
    "        a = publisher.replace(i, \"Others\", inplace=True)\n",
    "publisher.value_counts()"
   ]
  },
  {
   "cell_type": "markdown",
   "metadata": {},
   "source": [
    "# Working on the Frequency Column"
   ]
  },
  {
   "cell_type": "code",
   "execution_count": 16,
   "metadata": {},
   "outputs": [],
   "source": [
    "np.random.seed(12)\n",
    "frequency_list = ['Annually', 'Bi-annually', 'Quarterly', 'Bi-monthly', 'Monthly']\n",
    "frequency = []\n",
    "i = 0\n",
    "while(i < len(journal)):\n",
    "    frequency_random = np.random.choice(frequency_list)\n",
    "    i = i + 1\n",
    "    frequency.append(frequency_random)\n",
    "    \n",
    "journal['Frequency'] = frequency"
   ]
  },
  {
   "cell_type": "markdown",
   "metadata": {},
   "source": [
    "# Working on the Review Time Column"
   ]
  },
  {
   "cell_type": "code",
   "execution_count": 17,
   "metadata": {},
   "outputs": [],
   "source": [
    "np.random.seed(12)\n",
    "review_list = ['4 weeks', '6 weeks', '10 weeks', '12 weeks', '18 weeks']\n",
    "review = []\n",
    "i = 0\n",
    "while(i < len(journal)):\n",
    "    review_random = np.random.choice(review_list)\n",
    "    i = i + 1\n",
    "    review.append(review_random)\n",
    "    \n",
    "journal['Review Time'] = review"
   ]
  },
  {
   "cell_type": "code",
   "execution_count": 18,
   "metadata": {},
   "outputs": [
    {
     "data": {
      "text/html": [
       "<div>\n",
       "<style scoped>\n",
       "    .dataframe tbody tr th:only-of-type {\n",
       "        vertical-align: middle;\n",
       "    }\n",
       "\n",
       "    .dataframe tbody tr th {\n",
       "        vertical-align: top;\n",
       "    }\n",
       "\n",
       "    .dataframe thead th {\n",
       "        text-align: right;\n",
       "    }\n",
       "</style>\n",
       "<table border=\"1\" class=\"dataframe\">\n",
       "  <thead>\n",
       "    <tr style=\"text-align: right;\">\n",
       "      <th></th>\n",
       "      <th>Scopus Source ID</th>\n",
       "      <th>Title</th>\n",
       "      <th>CiteScore</th>\n",
       "      <th>Percentile</th>\n",
       "      <th>Citation\n",
       "Count</th>\n",
       "      <th>Scholarly\n",
       "Output</th>\n",
       "      <th>Percent\n",
       "Cited</th>\n",
       "      <th>SNIP</th>\n",
       "      <th>SJR</th>\n",
       "      <th>RANK</th>\n",
       "      <th>...</th>\n",
       "      <th>Scopus ASJC Code</th>\n",
       "      <th>Scopus Sub-Subject Area</th>\n",
       "      <th>Quartile</th>\n",
       "      <th>Top 10% (CiteScore Percentile)</th>\n",
       "      <th>Scopus Source ID.1</th>\n",
       "      <th>Print ISSN</th>\n",
       "      <th>E-ISSN</th>\n",
       "      <th>Index</th>\n",
       "      <th>Frequency</th>\n",
       "      <th>Review Time</th>\n",
       "    </tr>\n",
       "  </thead>\n",
       "  <tbody>\n",
       "    <tr>\n",
       "      <th>14544</th>\n",
       "      <td>11900154400</td>\n",
       "      <td>International Journal of Information Technolog...</td>\n",
       "      <td>1.29</td>\n",
       "      <td>60</td>\n",
       "      <td>63</td>\n",
       "      <td>49</td>\n",
       "      <td>63</td>\n",
       "      <td>0.635</td>\n",
       "      <td>0.191</td>\n",
       "      <td>82</td>\n",
       "      <td>...</td>\n",
       "      <td>1700</td>\n",
       "      <td>General Computer Science</td>\n",
       "      <td>Quartile2</td>\n",
       "      <td>NaN</td>\n",
       "      <td>https://www.scopus.com/sourceid/11900154400</td>\n",
       "      <td>15541045</td>\n",
       "      <td>15541053</td>\n",
       "      <td>Scopus</td>\n",
       "      <td>Bi-monthly</td>\n",
       "      <td>12 weeks</td>\n",
       "    </tr>\n",
       "    <tr>\n",
       "      <th>14545</th>\n",
       "      <td>12100154817</td>\n",
       "      <td>International Journal of Wireless and Mobile C...</td>\n",
       "      <td>0.49</td>\n",
       "      <td>22</td>\n",
       "      <td>137</td>\n",
       "      <td>280</td>\n",
       "      <td>30</td>\n",
       "      <td>0.252</td>\n",
       "      <td>0.168</td>\n",
       "      <td>160</td>\n",
       "      <td>...</td>\n",
       "      <td>1700</td>\n",
       "      <td>General Computer Science</td>\n",
       "      <td>Quartile4</td>\n",
       "      <td>NaN</td>\n",
       "      <td>https://www.scopus.com/sourceid/12100154817</td>\n",
       "      <td>17411084</td>\n",
       "      <td>17411092</td>\n",
       "      <td>Scopus</td>\n",
       "      <td>Bi-monthly</td>\n",
       "      <td>12 weeks</td>\n",
       "    </tr>\n",
       "  </tbody>\n",
       "</table>\n",
       "<p>2 rows × 24 columns</p>\n",
       "</div>"
      ],
      "text/plain": [
       "       Scopus Source ID                                              Title  \\\n",
       "14544       11900154400  International Journal of Information Technolog...   \n",
       "14545       12100154817  International Journal of Wireless and Mobile C...   \n",
       "\n",
       "       CiteScore  Percentile  Citation\\nCount  Scholarly\\nOutput  \\\n",
       "14544       1.29          60               63                 49   \n",
       "14545       0.49          22              137                280   \n",
       "\n",
       "       Percent\\nCited   SNIP    SJR  RANK  ...  Scopus ASJC Code  \\\n",
       "14544              63  0.635  0.191    82  ...              1700   \n",
       "14545              30  0.252  0.168   160  ...              1700   \n",
       "\n",
       "        Scopus Sub-Subject Area   Quartile Top 10% (CiteScore Percentile)  \\\n",
       "14544  General Computer Science  Quartile2                            NaN   \n",
       "14545  General Computer Science  Quartile4                            NaN   \n",
       "\n",
       "                                Scopus Source ID.1 Print ISSN    E-ISSN  \\\n",
       "14544  https://www.scopus.com/sourceid/11900154400   15541045  15541053   \n",
       "14545  https://www.scopus.com/sourceid/12100154817   17411084  17411092   \n",
       "\n",
       "        Index   Frequency Review Time  \n",
       "14544  Scopus  Bi-monthly    12 weeks  \n",
       "14545  Scopus  Bi-monthly    12 weeks  \n",
       "\n",
       "[2 rows x 24 columns]"
      ]
     },
     "execution_count": 18,
     "metadata": {},
     "output_type": "execute_result"
    }
   ],
   "source": [
    "journal.head(2)"
   ]
  },
  {
   "cell_type": "code",
   "execution_count": 19,
   "metadata": {},
   "outputs": [],
   "source": [
    "journal.rename(columns = {'Scopus Source ID': 'scopus_source_id', \n",
    "                          'Scopus Sub-Subject Area': 'subject_area', \n",
    "                          'Index': 'index',\n",
    "                          'Publisher': 'publisher',\n",
    "                          'Percentile': 'percentile',\n",
    "                          'Frequency': 'frequency',\n",
    "                          'Open Access': 'open_access',\n",
    "                          'Review Time': 'review_time',\n",
    "                          'Title': 'title',\n",
    "                          'CiteScore': 'citescore', \n",
    "                          'Citation\\nCount': 'citation_count',\n",
    "                          'Scholarly\\nOutput': 'scholarly_output', \n",
    "                          'Percent\\nCited': 'percent_cited',\n",
    "                          'SNIP': 'snip',\n",
    "                          'SJR': 'sjr',\n",
    "                          'RANK': 'rank',\n",
    "                          'Rank\\nOut Of': 'rank_outof',\n",
    "                          'Type': 'type',\n",
    "                          'Scopus ASJC Code': 'scopus_asjc_code',\n",
    "                          'Quartile': 'quartile',\n",
    "                          'Top 10% (CiteScore Percentile)': 'top_10%',\n",
    "                          'Scopus Source ID.1': 'scopus_link',\n",
    "                          'Print ISSN': 'print_issn',\n",
    "                          'E-ISSN': 'e_issn'}, \n",
    "               inplace=True)"
   ]
  },
  {
   "cell_type": "code",
   "execution_count": 20,
   "metadata": {},
   "outputs": [],
   "source": [
    "#create a new csv file to save the new dataset\n",
    "journal.to_csv(r'C:\\Users\\Gbubemi\\Documents\\#Project\\journal-ranking-system-dataset\\Ranking Journals.csv', index=False)"
   ]
  },
  {
   "cell_type": "code",
   "execution_count": null,
   "metadata": {},
   "outputs": [],
   "source": []
  }
 ],
 "metadata": {
  "kernelspec": {
   "display_name": "Python 3",
   "language": "python",
   "name": "python3"
  },
  "language_info": {
   "codemirror_mode": {
    "name": "ipython",
    "version": 3
   },
   "file_extension": ".py",
   "mimetype": "text/x-python",
   "name": "python",
   "nbconvert_exporter": "python",
   "pygments_lexer": "ipython3",
   "version": "3.7.3"
  }
 },
 "nbformat": 4,
 "nbformat_minor": 2
}
