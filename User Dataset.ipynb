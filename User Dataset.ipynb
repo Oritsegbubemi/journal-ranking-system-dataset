{
 "cells": [
  {
   "cell_type": "code",
   "execution_count": 17,
   "metadata": {},
   "outputs": [],
   "source": [
    "import numpy as np\n",
    "import pandas as pd"
   ]
  },
  {
   "cell_type": "code",
   "execution_count": 18,
   "metadata": {},
   "outputs": [
    {
     "data": {
      "text/html": [
       "<div>\n",
       "<style scoped>\n",
       "    .dataframe tbody tr th:only-of-type {\n",
       "        vertical-align: middle;\n",
       "    }\n",
       "\n",
       "    .dataframe tbody tr th {\n",
       "        vertical-align: top;\n",
       "    }\n",
       "\n",
       "    .dataframe thead th {\n",
       "        text-align: right;\n",
       "    }\n",
       "</style>\n",
       "<table border=\"1\" class=\"dataframe\">\n",
       "  <thead>\n",
       "    <tr style=\"text-align: right;\">\n",
       "      <th></th>\n",
       "      <th>scopus_source_id</th>\n",
       "      <th>subject_area</th>\n",
       "      <th>index</th>\n",
       "      <th>publisher</th>\n",
       "      <th>percentile</th>\n",
       "      <th>frequency</th>\n",
       "      <th>open_access</th>\n",
       "      <th>review_time</th>\n",
       "    </tr>\n",
       "  </thead>\n",
       "  <tbody>\n",
       "    <tr>\n",
       "      <th>0</th>\n",
       "      <td>11600153445</td>\n",
       "      <td>Computer Graphics and Computer-Aided Design</td>\n",
       "      <td>1.0</td>\n",
       "      <td>0.55</td>\n",
       "      <td>0.3</td>\n",
       "      <td>1.0</td>\n",
       "      <td>0.5</td>\n",
       "      <td>0.2</td>\n",
       "    </tr>\n",
       "    <tr>\n",
       "      <th>1</th>\n",
       "      <td>14452</td>\n",
       "      <td>Computer Graphics and Computer-Aided Design</td>\n",
       "      <td>1.0</td>\n",
       "      <td>0.10</td>\n",
       "      <td>0.7</td>\n",
       "      <td>0.8</td>\n",
       "      <td>0.5</td>\n",
       "      <td>0.4</td>\n",
       "    </tr>\n",
       "    <tr>\n",
       "      <th>2</th>\n",
       "      <td>144702</td>\n",
       "      <td>Computer Graphics and Computer-Aided Design</td>\n",
       "      <td>1.0</td>\n",
       "      <td>1.00</td>\n",
       "      <td>1.0</td>\n",
       "      <td>0.6</td>\n",
       "      <td>0.5</td>\n",
       "      <td>0.6</td>\n",
       "    </tr>\n",
       "    <tr>\n",
       "      <th>3</th>\n",
       "      <td>144891</td>\n",
       "      <td>Computer Graphics and Computer-Aided Design</td>\n",
       "      <td>1.0</td>\n",
       "      <td>0.55</td>\n",
       "      <td>0.3</td>\n",
       "      <td>1.0</td>\n",
       "      <td>0.5</td>\n",
       "      <td>0.2</td>\n",
       "    </tr>\n",
       "    <tr>\n",
       "      <th>4</th>\n",
       "      <td>144972</td>\n",
       "      <td>Computer Graphics and Computer-Aided Design</td>\n",
       "      <td>1.0</td>\n",
       "      <td>0.10</td>\n",
       "      <td>0.5</td>\n",
       "      <td>1.0</td>\n",
       "      <td>0.5</td>\n",
       "      <td>0.2</td>\n",
       "    </tr>\n",
       "  </tbody>\n",
       "</table>\n",
       "</div>"
      ],
      "text/plain": [
       "   scopus_source_id                                 subject_area  index  \\\n",
       "0       11600153445  Computer Graphics and Computer-Aided Design    1.0   \n",
       "1             14452  Computer Graphics and Computer-Aided Design    1.0   \n",
       "2            144702  Computer Graphics and Computer-Aided Design    1.0   \n",
       "3            144891  Computer Graphics and Computer-Aided Design    1.0   \n",
       "4            144972  Computer Graphics and Computer-Aided Design    1.0   \n",
       "\n",
       "   publisher  percentile  frequency  open_access  review_time  \n",
       "0       0.55         0.3        1.0          0.5          0.2  \n",
       "1       0.10         0.7        0.8          0.5          0.4  \n",
       "2       1.00         1.0        0.6          0.5          0.6  \n",
       "3       0.55         0.3        1.0          0.5          0.2  \n",
       "4       0.10         0.5        1.0          0.5          0.2  "
      ]
     },
     "execution_count": 18,
     "metadata": {},
     "output_type": "execute_result"
    }
   ],
   "source": [
    "journal = pd.read_csv('User Dataset.csv')\n",
    "journal.head()"
   ]
  },
  {
   "cell_type": "code",
   "execution_count": 19,
   "metadata": {},
   "outputs": [],
   "source": [
    "number = len(journal)\n",
    "columns = journal.columns[2:]"
   ]
  },
  {
   "cell_type": "code",
   "execution_count": 20,
   "metadata": {},
   "outputs": [
    {
     "name": "stdout",
     "output_type": "stream",
     "text": [
      "Index(['index', 'publisher', 'percentile', 'frequency', 'open_access',\n",
      "       'review_time'],\n",
      "      dtype='object')\n"
     ]
    }
   ],
   "source": [
    "print(columns)"
   ]
  },
  {
   "cell_type": "code",
   "execution_count": 21,
   "metadata": {},
   "outputs": [
    {
     "name": "stdout",
     "output_type": "stream",
     "text": [
      "[1.0, 0.39076923076923087, 0.6415384615384615, 0.6184615384615385, 0.5769230769230769, 0.5815384615384618]\n"
     ]
    }
   ],
   "source": [
    "#Mean - 4\n",
    "mean = []\n",
    "for i in columns:\n",
    "    mean_criteria = np.mean(journal[i])\n",
    "    mean.append(mean_criteria)\n",
    "print(mean)"
   ]
  },
  {
   "cell_type": "code",
   "execution_count": 22,
   "metadata": {},
   "outputs": [
    {
     "name": "stdout",
     "output_type": "stream",
     "text": [
      "[0.0, 7.6444615384615355, 4.437846153846156, 5.497846153846151, 2.1153846153846168, 5.497846153846152]\n"
     ]
    }
   ],
   "source": [
    "#Variance - 5\n",
    "variance = []\n",
    "for i in columns:\n",
    "    variance_criteria = np.var(journal[i])*number\n",
    "    variance.append(variance_criteria)\n",
    "print(variance)"
   ]
  },
  {
   "cell_type": "code",
   "execution_count": 23,
   "metadata": {},
   "outputs": [
    {
     "name": "stdout",
     "output_type": "stream",
     "text": [
      "[1.0, -6.6444615384615355, -3.4378461538461558, -4.497846153846151, -1.1153846153846168, -4.497846153846152]\n"
     ]
    }
   ],
   "source": [
    "#Deviation - 6\n",
    "deviation = []\n",
    "for (i, j) in zip(columns, variance):\n",
    "    deviation_criteria = 1 - j\n",
    "    deviation.append(deviation_criteria)\n",
    "print(deviation)"
   ]
  },
  {
   "cell_type": "code",
   "execution_count": 24,
   "metadata": {},
   "outputs": [
    {
     "name": "stdout",
     "output_type": "stream",
     "text": [
      "[-0.052101284897841424, 0.34618498360813416, 0.17911620189648694, 0.23434356388819857, 0.058112971616823196, 0.23434356388819863]\n"
     ]
    }
   ],
   "source": [
    "# Finding Overall preference value - 7\n",
    "preference_value = []\n",
    "overall = sum(deviation)\n",
    "for (i, j) in zip(columns, deviation):\n",
    "    preference_criteria = j/overall\n",
    "    preference_value.append(preference_criteria)\n",
    "print(preference_value)\n",
    "sum_ = sum(preference_value)"
   ]
  },
  {
   "cell_type": "code",
   "execution_count": 25,
   "metadata": {},
   "outputs": [
    {
     "data": {
      "text/plain": [
       "1.0"
      ]
     },
     "execution_count": 25,
     "metadata": {},
     "output_type": "execute_result"
    }
   ],
   "source": [
    "sum_"
   ]
  },
  {
   "cell_type": "code",
   "execution_count": 26,
   "metadata": {},
   "outputs": [],
   "source": [
    "#Calculating PSI - 8\n",
    "for (i,j) in zip(columns, preference_value): \n",
    "    journal[i] = journal.loc[:, i] * j"
   ]
  },
  {
   "cell_type": "code",
   "execution_count": 27,
   "metadata": {},
   "outputs": [],
   "source": [
    "psi_rank = journal.drop(['scopus_source_id', 'subject_area'], axis=1)\n",
    "psi = []\n",
    "for i in range(number):\n",
    "    psi_sum = sum(psi_rank.loc[i])\n",
    "    psi.append(psi_sum)"
   ]
  },
  {
   "cell_type": "code",
   "execution_count": 28,
   "metadata": {},
   "outputs": [],
   "source": [
    "journal['PSI'] = psi"
   ]
  },
  {
   "cell_type": "code",
   "execution_count": 29,
   "metadata": {},
   "outputs": [],
   "source": [
    "ranked_journal = journal.sort_values('PSI', ascending=False)"
   ]
  },
  {
   "cell_type": "code",
   "execution_count": 30,
   "metadata": {},
   "outputs": [
    {
     "data": {
      "text/html": [
       "<div>\n",
       "<style scoped>\n",
       "    .dataframe tbody tr th:only-of-type {\n",
       "        vertical-align: middle;\n",
       "    }\n",
       "\n",
       "    .dataframe tbody tr th {\n",
       "        vertical-align: top;\n",
       "    }\n",
       "\n",
       "    .dataframe thead th {\n",
       "        text-align: right;\n",
       "    }\n",
       "</style>\n",
       "<table border=\"1\" class=\"dataframe\">\n",
       "  <thead>\n",
       "    <tr style=\"text-align: right;\">\n",
       "      <th></th>\n",
       "      <th>scopus_source_id</th>\n",
       "      <th>subject_area</th>\n",
       "      <th>index</th>\n",
       "      <th>publisher</th>\n",
       "      <th>percentile</th>\n",
       "      <th>frequency</th>\n",
       "      <th>open_access</th>\n",
       "      <th>review_time</th>\n",
       "      <th>PSI</th>\n",
       "    </tr>\n",
       "  </thead>\n",
       "  <tbody>\n",
       "    <tr>\n",
       "      <th>33</th>\n",
       "      <td>21100856541</td>\n",
       "      <td>Computer Graphics and Computer-Aided Design</td>\n",
       "      <td>-0.052101</td>\n",
       "      <td>0.346185</td>\n",
       "      <td>0.179116</td>\n",
       "      <td>0.093737</td>\n",
       "      <td>0.058113</td>\n",
       "      <td>0.187475</td>\n",
       "      <td>0.812525</td>\n",
       "    </tr>\n",
       "    <tr>\n",
       "      <th>14</th>\n",
       "      <td>18661</td>\n",
       "      <td>Computer Graphics and Computer-Aided Design</td>\n",
       "      <td>-0.052101</td>\n",
       "      <td>0.346185</td>\n",
       "      <td>0.179116</td>\n",
       "      <td>0.093737</td>\n",
       "      <td>0.029056</td>\n",
       "      <td>0.187475</td>\n",
       "      <td>0.783469</td>\n",
       "    </tr>\n",
       "    <tr>\n",
       "      <th>2</th>\n",
       "      <td>144702</td>\n",
       "      <td>Computer Graphics and Computer-Aided Design</td>\n",
       "      <td>-0.052101</td>\n",
       "      <td>0.346185</td>\n",
       "      <td>0.179116</td>\n",
       "      <td>0.140606</td>\n",
       "      <td>0.029056</td>\n",
       "      <td>0.140606</td>\n",
       "      <td>0.783469</td>\n",
       "    </tr>\n",
       "    <tr>\n",
       "      <th>37</th>\n",
       "      <td>23607</td>\n",
       "      <td>Computer Graphics and Computer-Aided Design</td>\n",
       "      <td>-0.052101</td>\n",
       "      <td>0.294257</td>\n",
       "      <td>0.179116</td>\n",
       "      <td>0.093737</td>\n",
       "      <td>0.029056</td>\n",
       "      <td>0.187475</td>\n",
       "      <td>0.731541</td>\n",
       "    </tr>\n",
       "    <tr>\n",
       "      <th>8</th>\n",
       "      <td>17271</td>\n",
       "      <td>Computer Graphics and Computer-Aided Design</td>\n",
       "      <td>-0.052101</td>\n",
       "      <td>0.294257</td>\n",
       "      <td>0.179116</td>\n",
       "      <td>0.093737</td>\n",
       "      <td>0.029056</td>\n",
       "      <td>0.187475</td>\n",
       "      <td>0.731541</td>\n",
       "    </tr>\n",
       "  </tbody>\n",
       "</table>\n",
       "</div>"
      ],
      "text/plain": [
       "    scopus_source_id                                 subject_area     index  \\\n",
       "33       21100856541  Computer Graphics and Computer-Aided Design -0.052101   \n",
       "14             18661  Computer Graphics and Computer-Aided Design -0.052101   \n",
       "2             144702  Computer Graphics and Computer-Aided Design -0.052101   \n",
       "37             23607  Computer Graphics and Computer-Aided Design -0.052101   \n",
       "8              17271  Computer Graphics and Computer-Aided Design -0.052101   \n",
       "\n",
       "    publisher  percentile  frequency  open_access  review_time       PSI  \n",
       "33   0.346185    0.179116   0.093737     0.058113     0.187475  0.812525  \n",
       "14   0.346185    0.179116   0.093737     0.029056     0.187475  0.783469  \n",
       "2    0.346185    0.179116   0.140606     0.029056     0.140606  0.783469  \n",
       "37   0.294257    0.179116   0.093737     0.029056     0.187475  0.731541  \n",
       "8    0.294257    0.179116   0.093737     0.029056     0.187475  0.731541  "
      ]
     },
     "execution_count": 30,
     "metadata": {},
     "output_type": "execute_result"
    }
   ],
   "source": [
    "ranked_journal.head()"
   ]
  },
  {
   "cell_type": "code",
   "execution_count": 31,
   "metadata": {},
   "outputs": [],
   "source": [
    "ranked_journal.to_csv(r'C:\\Users\\Gbubemi\\Documents\\#Project\\journal-ranking-system-dataset\\Result Dataset.csv', index=False) "
   ]
  },
  {
   "cell_type": "code",
   "execution_count": null,
   "metadata": {},
   "outputs": [],
   "source": []
  }
 ],
 "metadata": {
  "kernelspec": {
   "display_name": "Python 3",
   "language": "python",
   "name": "python3"
  },
  "language_info": {
   "codemirror_mode": {
    "name": "ipython",
    "version": 3
   },
   "file_extension": ".py",
   "mimetype": "text/x-python",
   "name": "python",
   "nbconvert_exporter": "python",
   "pygments_lexer": "ipython3",
   "version": "3.7.3"
  }
 },
 "nbformat": 4,
 "nbformat_minor": 2
}
