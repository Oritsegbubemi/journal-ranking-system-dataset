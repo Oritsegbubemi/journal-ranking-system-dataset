{
 "cells": [
  {
   "cell_type": "code",
   "execution_count": 1,
   "metadata": {},
   "outputs": [],
   "source": [
    "import numpy as np\n",
    "import pandas as pd\n",
    "import matplotlib.pyplot as plt\n",
    "import seaborn as sns\n",
    "%matplotlib inline"
   ]
  },
  {
   "cell_type": "code",
   "execution_count": 2,
   "metadata": {},
   "outputs": [
    {
     "data": {
      "text/html": [
       "<div>\n",
       "<style scoped>\n",
       "    .dataframe tbody tr th:only-of-type {\n",
       "        vertical-align: middle;\n",
       "    }\n",
       "\n",
       "    .dataframe tbody tr th {\n",
       "        vertical-align: top;\n",
       "    }\n",
       "\n",
       "    .dataframe thead th {\n",
       "        text-align: right;\n",
       "    }\n",
       "</style>\n",
       "<table border=\"1\" class=\"dataframe\">\n",
       "  <thead>\n",
       "    <tr style=\"text-align: right;\">\n",
       "      <th></th>\n",
       "      <th>scopus_source_id</th>\n",
       "      <th>subject_area</th>\n",
       "      <th>index</th>\n",
       "      <th>publisher</th>\n",
       "      <th>percentile</th>\n",
       "      <th>frequency</th>\n",
       "      <th>open_access</th>\n",
       "      <th>review_time</th>\n",
       "    </tr>\n",
       "  </thead>\n",
       "  <tbody>\n",
       "    <tr>\n",
       "      <th>0</th>\n",
       "      <td>11900154400</td>\n",
       "      <td>General Computer Science</td>\n",
       "      <td>Scopus</td>\n",
       "      <td>Others</td>\n",
       "      <td>60</td>\n",
       "      <td>Bi-monthly</td>\n",
       "      <td>NO</td>\n",
       "      <td>12 weeks</td>\n",
       "    </tr>\n",
       "    <tr>\n",
       "      <th>1</th>\n",
       "      <td>12100154817</td>\n",
       "      <td>General Computer Science</td>\n",
       "      <td>Scopus</td>\n",
       "      <td>Inderscience</td>\n",
       "      <td>22</td>\n",
       "      <td>Bi-monthly</td>\n",
       "      <td>NO</td>\n",
       "      <td>12 weeks</td>\n",
       "    </tr>\n",
       "  </tbody>\n",
       "</table>\n",
       "</div>"
      ],
      "text/plain": [
       "   scopus_source_id              subject_area   index     publisher  \\\n",
       "0       11900154400  General Computer Science  Scopus        Others   \n",
       "1       12100154817  General Computer Science  Scopus  Inderscience   \n",
       "\n",
       "   percentile   frequency open_access review_time  \n",
       "0          60  Bi-monthly          NO    12 weeks  \n",
       "1          22  Bi-monthly          NO    12 weeks  "
      ]
     },
     "execution_count": 2,
     "metadata": {},
     "output_type": "execute_result"
    }
   ],
   "source": [
    "journal = pd.read_csv('Ranking Dataset.csv')\n",
    "journal.head(2)"
   ]
  },
  {
   "cell_type": "code",
   "execution_count": 7,
   "metadata": {},
   "outputs": [
    {
     "data": {
      "text/plain": [
       "<bound method DataFrame.all of       scopus_source_id              subject_area   index           publisher  \\\n",
       "0          11900154400  General Computer Science  Scopus              Others   \n",
       "1          12100154817  General Computer Science  Scopus        Inderscience   \n",
       "2          12100154833  General Computer Science  Scopus                 ACM   \n",
       "3                12166  General Computer Science  Scopus            Elsevier   \n",
       "4                12213  General Computer Science  Scopus                 ACM   \n",
       "5                12288  General Computer Science  Scopus              Others   \n",
       "6                12318  General Computer Science  Scopus            Elsevier   \n",
       "7                12324  General Computer Science  Scopus              Others   \n",
       "8                12415  General Computer Science  Scopus              Others   \n",
       "9                12753  General Computer Science  Scopus              Others   \n",
       "10               12933  General Computer Science  Scopus            Springer   \n",
       "11               13185  General Computer Science  Scopus                IEEE   \n",
       "12               13560  General Computer Science  Scopus              Others   \n",
       "13               13675  General Computer Science  Scopus                 ACM   \n",
       "14         14000156208  General Computer Science  Scopus            Springer   \n",
       "15              145262  General Computer Science  Scopus            Springer   \n",
       "16              145537  General Computer Science  Scopus              Others   \n",
       "17              145567  General Computer Science  Scopus              Others   \n",
       "18              145592  General Computer Science  Scopus              Others   \n",
       "19              147225  General Computer Science  Scopus              Others   \n",
       "20               15099  General Computer Science  Scopus              Others   \n",
       "21         15900154752  General Computer Science  Scopus              Others   \n",
       "22         17300154986  General Computer Science  Scopus              Others   \n",
       "23         17400154829  General Computer Science  Scopus            Springer   \n",
       "24         17600155052  General Computer Science  Scopus              Others   \n",
       "25               17645  General Computer Science  Scopus            Elsevier   \n",
       "26         17800156712  General Computer Science  Scopus              Others   \n",
       "27               17953  General Computer Science  Scopus            Springer   \n",
       "28         18000156702  General Computer Science  Scopus              Others   \n",
       "29               18156  General Computer Science  Scopus              Others   \n",
       "...                ...                       ...     ...                 ...   \n",
       "2254             28424                  Software  Scopus              Others   \n",
       "2255             28511                  Software  Scopus  Taylor and Francis   \n",
       "2256             28512                  Software  Scopus            Springer   \n",
       "2257             28535                  Software  Scopus              Others   \n",
       "2258             28538                  Software  Scopus  Taylor and Francis   \n",
       "2259             28554                  Software  Scopus            Springer   \n",
       "2260             28642                  Software  Scopus              Others   \n",
       "2261             28931                  Software  Scopus              Others   \n",
       "2262             29089                  Software  Scopus            Springer   \n",
       "2263         300147006                  Software  Scopus            Springer   \n",
       "2264        3200147819                  Software  Scopus            Elsevier   \n",
       "2265             35932                  Software  Scopus              Others   \n",
       "2266        4400151723                  Software  Scopus              Others   \n",
       "2267        4700152798                  Software  Scopus                 ACM   \n",
       "2268        4800153205                  Software  Scopus                 ACM   \n",
       "2269        4900153227                  Software  Scopus              Others   \n",
       "2270        5400152640                  Software  Scopus              Others   \n",
       "2271        5400152646                  Software  Scopus              Others   \n",
       "2272        5800173367                  Software  Scopus              Others   \n",
       "2273        5800179613                  Software  Scopus        Inderscience   \n",
       "2274        6100152804                  Software  Scopus        Inderscience   \n",
       "2275        6100153019                  Software  Scopus            Springer   \n",
       "2276        6700153282                  Software  Scopus        Inderscience   \n",
       "2277        6700153285                  Software  Scopus        Inderscience   \n",
       "2278        7000153231                  Software  Scopus              Others   \n",
       "2279        7100153120                  Software  Scopus              Others   \n",
       "2280             72242                  Software  Scopus            Springer   \n",
       "2281             79015                  Software  Scopus              Others   \n",
       "2282         800147111                  Software  Scopus            Springer   \n",
       "2283             87936                  Software  Scopus              Others   \n",
       "\n",
       "      percentile    frequency open_access review_time  \n",
       "0             60   Bi-monthly          NO    12 weeks  \n",
       "1             22   Bi-monthly          NO    12 weeks  \n",
       "2             75  Bi-annually          NO     6 weeks  \n",
       "3             73    Quarterly          NO    10 weeks  \n",
       "4             90   Bi-monthly          NO    12 weeks  \n",
       "5             14   Bi-monthly          NO    12 weeks  \n",
       "6             80      Monthly          NO    18 weeks  \n",
       "7             28     Annually          NO     4 weeks  \n",
       "8             48  Bi-annually          NO     6 weeks  \n",
       "9             16      Monthly          NO    18 weeks  \n",
       "10            32  Bi-annually          NO     6 weeks  \n",
       "11            65    Quarterly          NO    10 weeks  \n",
       "12            43   Bi-monthly          NO    12 weeks  \n",
       "13            78    Quarterly          NO    10 weeks  \n",
       "14            69     Annually          NO     4 weeks  \n",
       "15            55     Annually         YES     4 weeks  \n",
       "16            69      Monthly         YES    18 weeks  \n",
       "17            39    Quarterly          NO    10 weeks  \n",
       "18            64  Bi-annually          NO     6 weeks  \n",
       "19            56   Bi-monthly          NO    12 weeks  \n",
       "20            72      Monthly          NO    18 weeks  \n",
       "21            61   Bi-monthly         YES    12 weeks  \n",
       "22             1  Bi-annually          NO     6 weeks  \n",
       "23            81     Annually          NO     4 weeks  \n",
       "24            59    Quarterly          NO    10 weeks  \n",
       "25            97    Quarterly          NO    10 weeks  \n",
       "26            88     Annually         YES     4 weeks  \n",
       "27            67      Monthly          NO    18 weeks  \n",
       "28            42   Bi-monthly         YES    12 weeks  \n",
       "29            74  Bi-annually          NO     6 weeks  \n",
       "...          ...          ...         ...         ...  \n",
       "2254          56    Quarterly          NO    10 weeks  \n",
       "2255          31  Bi-annually          NO     6 weeks  \n",
       "2256          83      Monthly          NO    18 weeks  \n",
       "2257          38     Annually          NO     4 weeks  \n",
       "2258          41   Bi-monthly          NO    12 weeks  \n",
       "2259          74     Annually          NO     4 weeks  \n",
       "2260          29  Bi-annually          NO     6 weeks  \n",
       "2261          32    Quarterly          NO    10 weeks  \n",
       "2262          37  Bi-annually          NO     6 weeks  \n",
       "2263          26  Bi-annually          NO     6 weeks  \n",
       "2264          79    Quarterly          NO    10 weeks  \n",
       "2265          57    Quarterly          NO    10 weeks  \n",
       "2266          14   Bi-monthly         YES    12 weeks  \n",
       "2267          60    Quarterly          NO    10 weeks  \n",
       "2268          69  Bi-annually          NO     6 weeks  \n",
       "2269           1    Quarterly          NO    10 weeks  \n",
       "2270          42      Monthly          NO    18 weeks  \n",
       "2271          70      Monthly          NO    18 weeks  \n",
       "2272          31  Bi-annually          NO     6 weeks  \n",
       "2273          15      Monthly          NO    18 weeks  \n",
       "2274          32   Bi-monthly          NO    12 weeks  \n",
       "2275          53    Quarterly          NO    10 weeks  \n",
       "2276          33  Bi-annually          NO     6 weeks  \n",
       "2277          24  Bi-annually          NO     6 weeks  \n",
       "2278          63  Bi-annually          NO     6 weeks  \n",
       "2279          19  Bi-annually          NO     6 weeks  \n",
       "2280          98  Bi-annually          NO     6 weeks  \n",
       "2281          23   Bi-monthly          NO    12 weeks  \n",
       "2282          80     Annually          NO     4 weeks  \n",
       "2283          11    Quarterly          NO    10 weeks  \n",
       "\n",
       "[2284 rows x 8 columns]>"
      ]
     },
     "execution_count": 7,
     "metadata": {},
     "output_type": "execute_result"
    }
   ],
   "source": [
    "journal.all"
   ]
  },
  {
   "cell_type": "markdown",
   "metadata": {},
   "source": [
    "# Ranking Time Everybody!!!!!"
   ]
  },
  {
   "cell_type": "markdown",
   "metadata": {},
   "source": [
    "# Subject Area"
   ]
  },
  {
   "cell_type": "code",
   "execution_count": 3,
   "metadata": {},
   "outputs": [
    {
     "name": "stdout",
     "output_type": "stream",
     "text": [
      "Please Enter a number which represent a computer science sub-subject area: 4\n"
     ]
    }
   ],
   "source": [
    "def user__switch_subject_area(arg):\n",
    "    switcher = {\n",
    "        1: \"General Computer Science\",\n",
    "        2: \"Computer Science (miscellaneous)\",\n",
    "        3: \"Artificial Intelligence\",\n",
    "        4: \"Computational Theory and Mathematics\",\n",
    "        5: \"Computer Graphics and Computer-Aided Design\",\n",
    "        6: \"Computer Networks and Communications\",\n",
    "        7: \"Computer Science Applications\",\n",
    "        8: \"Computer Vision and Pattern Recognition\",\n",
    "        9: \"Hardware and Architecture\",\n",
    "        10: \"Human-Computer Interaction\",\n",
    "        11: \"Information Systems\",\n",
    "        12: \"Signal Processing\",\n",
    "        13: \"Software\"\n",
    "    }\n",
    "    return switcher.get(arg, \"You entered an invalid input\")\n",
    "\n",
    "user_subject_area = int(input(\"Please Enter a number which represent a computer science sub-subject area: \"))\n",
    "subject_area = user__switch_subject_area(user_subject_area)\n",
    "\n",
    "not_suject_area = journal.loc[journal['subject_area'] != subject_area]\n",
    "journal=journal.drop(not_suject_area.index, axis=0)"
   ]
  },
  {
   "cell_type": "markdown",
   "metadata": {},
   "source": [
    "# Index"
   ]
  },
  {
   "cell_type": "code",
   "execution_count": 4,
   "metadata": {},
   "outputs": [
    {
     "name": "stdout",
     "output_type": "stream",
     "text": [
      "Kindly input rank: \n",
      "1 for Scopus journals \n",
      "2 for Others\n",
      "Enter the first journal index ranking number: 1\n",
      "Enter the second journal index ranking number: 2\n"
     ]
    }
   ],
   "source": [
    "index = dict()\n",
    "def user_index():\n",
    "    print(\"Kindly input rank: \\n1 for Scopus journals \\n2 for Others\")\n",
    "    dict_index = { 1: \"Scopus\", 2: \"Others\" }\n",
    "    list_index = [\"first\", \"second\"]\n",
    "    rank_index = [1.0, 0.5]\n",
    "    \n",
    "    for (x, y) in zip(list_index, rank_index):   \n",
    "        user_text_index = \"Enter the {} journal index ranking number: \".format(x)\n",
    "        user_index = int(input(user_text_index))\n",
    "        for key in dict_index.keys():\n",
    "            if user_index == key:\n",
    "                index[dict_index[key]] = y\n",
    "               \n",
    "            elif user_index not in dict_index.keys():\n",
    "                return (\"Please enter either 1 or 2\")\n",
    "    return index\n",
    "\n",
    "user_index()\n",
    "rank_index = journal['index']\n",
    "for i in rank_index:\n",
    "    for key in index.keys():\n",
    "        if (i == key):\n",
    "            a = rank_index.replace(i,index[key], inplace=True)"
   ]
  },
  {
   "cell_type": "markdown",
   "metadata": {},
   "source": [
    "# Publisher"
   ]
  },
  {
   "cell_type": "code",
   "execution_count": 5,
   "metadata": {},
   "outputs": [
    {
     "name": "stdout",
     "output_type": "stream",
     "text": [
      "Kindly input rank: \n",
      "1 for Springer \n",
      "2 for Elsevier \n",
      "3 for IEEE \n",
      "4 for Taylor and Francis \n",
      "5 for Inderscience         \n",
      "6 for ACM \n",
      "7 for Others\n",
      "Enter the first publisher ranking number: 1\n",
      "Enter the second publisher ranking number: 2\n",
      "Enter the third publisher ranking number: 3\n",
      "Enter the forth publisher ranking number: 4\n",
      "Enter the fifth publisher ranking number: 5\n",
      "Enter the sixth publisher ranking number: 6\n",
      "Enter the seventh publisher ranking number: 7\n"
     ]
    }
   ],
   "source": [
    "publisher = dict()\n",
    "def user_publisher():\n",
    "    print(\"Kindly input rank: \\n1 for Springer \\n2 for Elsevier \\n3 for IEEE \\n4 for Taylor and Francis \\n5 for Inderscience\\\n",
    "         \\n6 for ACM \\n7 for Others\")\n",
    "    dict_publisher = { 1: \"Springer\", 2: \"Elsevier\", 3: \"IEEE\", 4: \"Taylor and Francis\", 5: \"Inderscience\", 6: \"ACM\", \n",
    "                      7: \"Others\" }\n",
    "    list_publisher = [\"first\", \"second\", \"third\", \"forth\", \"fifth\", \"sixth\", \"seventh\"]\n",
    "    rank_publisher = [1.0, 0.85, 0.7, 0.55, 0.4, 0.25, 0.1]\n",
    "    \n",
    "    for (x, y) in zip(list_publisher, rank_publisher):   \n",
    "        user_text_publisher = \"Enter the {} publisher ranking number: \".format(x)\n",
    "        user_publisher = int(input(user_text_publisher))\n",
    "        for key in dict_publisher.keys():\n",
    "            if user_publisher == key:\n",
    "                publisher[dict_publisher[key]] = y\n",
    "                \n",
    "            elif user_publisher not in dict_publisher.keys():\n",
    "                return (\"Please enter a number between 1 to 7\")\n",
    "    return publisher\n",
    "\n",
    "user_publisher()\n",
    "\n",
    "rank_publisher = journal['publisher']\n",
    "for i in rank_publisher:\n",
    "    for key in publisher.keys():\n",
    "        if (i == key):\n",
    "            a = rank_publisher.replace(i,publisher[key], inplace=True)"
   ]
  },
  {
   "cell_type": "markdown",
   "metadata": {},
   "source": [
    "# Percentile"
   ]
  },
  {
   "cell_type": "code",
   "execution_count": 6,
   "metadata": {},
   "outputs": [],
   "source": [
    "#Grouping the Percentile\n",
    "percent = journal['percentile']\n",
    "for i in percent:\n",
    "    if(i>=0 and i<=25):\n",
    "        a = percent.replace(i, 4, inplace=True)\n",
    "\n",
    "for i in percent:\n",
    "    if(i>=25 and i<=49):\n",
    "        a = percent.replace(i, 3, inplace=True)\n",
    "        \n",
    "for i in percent:\n",
    "    if(i>=50 and i<=74):\n",
    "        a = percent.replace(i, 2, inplace=True)\n",
    "\n",
    "for i in percent:\n",
    "    if(i>=75 and i<=99):\n",
    "        a = percent.replace(i, 1, inplace=True)"
   ]
  },
  {
   "cell_type": "code",
   "execution_count": 7,
   "metadata": {},
   "outputs": [
    {
     "name": "stdout",
     "output_type": "stream",
     "text": [
      "Kindly input rank: \n",
      "1 for 99 - 75 \n",
      "2 for 74 - 50 \n",
      "3 for 49 - 25 \n",
      "4 for 24 - 0\n",
      "Enter the first percentile ranking number: 1\n",
      "Enter the second percentile ranking number: 2\n",
      "Enter the third percentile ranking number: 3\n",
      "Enter the forth percentile ranking number: 4\n"
     ]
    }
   ],
   "source": [
    "percentile = dict() \n",
    "def user_percentile(): \n",
    "    print(\"Kindly input rank: \\n1 for 99 - 75 \\n2 for 74 - 50 \\n3 for 49 - 25 \\n4 for 24 - 0\") \n",
    "    dict_percentile = { 1: 1, 2: 2, 3: 3, 4: 4} \n",
    "    list_percentile = [\"first\", \"second\", \"third\", \"forth\"] \n",
    "    rank_percentile = [1.0, 0.7, 0.5, 0.3]\n",
    "    for (x, y) in zip(list_percentile, rank_percentile):   \n",
    "        user_text_percentile = \"Enter the {} percentile ranking number: \".format(x)\n",
    "        user_percentile = int(input(user_text_percentile))\n",
    "        for key in dict_percentile.keys():\n",
    "            if user_percentile == key:\n",
    "                percentile[dict_percentile[key]] = y\n",
    "\n",
    "            elif user_percentile not in dict_percentile.keys():\n",
    "                return (\"Please enter a number between 1 to 4\")\n",
    "    return percentile\n",
    "\n",
    "user_percentile()\n",
    "rank_percentile = journal['percentile']\n",
    "for i in rank_percentile:\n",
    "    for key in percentile.keys():\n",
    "        if (i == key):\n",
    "            a = rank_percentile.replace(i,percentile[key], inplace=True)"
   ]
  },
  {
   "cell_type": "markdown",
   "metadata": {},
   "source": [
    "# Frequency"
   ]
  },
  {
   "cell_type": "code",
   "execution_count": 8,
   "metadata": {},
   "outputs": [
    {
     "name": "stdout",
     "output_type": "stream",
     "text": [
      "Kindly input rank: \n",
      "1 for Monthly \n",
      "2 for Bi-monthly \n",
      "3 for Quarterly \n",
      "4 for Bi-annually \n",
      "5 for Annually\n",
      "Enter the first frequency ranking number: 1\n",
      "Enter the second frequency ranking number: 2\n",
      "Enter the third frequency ranking number: 3\n",
      "Enter the forth frequency ranking number: 4\n",
      "Enter the fifth frequency ranking number: 5\n"
     ]
    }
   ],
   "source": [
    "frequency = dict()\n",
    "def user_frequency():\n",
    "    print(\"Kindly input rank: \\n1 for Monthly \\n2 for Bi-monthly \\n3 for Quarterly \\n4 for Bi-annually \\n5 for Annually\")\n",
    "    dict_frequency = { 1: \"Monthly\", 2: \"Bi-monthly\", 3: \"Quarterly\", 4: \"Bi-annually\", 5: \"Annually\" }\n",
    "    list_frequency = [\"first\", \"second\", \"third\", \"forth\", \"fifth\"]\n",
    "    rank_frequency = [1.0, 0.8, 0.6, 0.4, 0.2]\n",
    "    \n",
    "    for (x, y) in zip(list_frequency, rank_frequency):   \n",
    "        user_text_frequency = \"Enter the {} frequency ranking number: \".format(x)\n",
    "        user_frequency = int(input(user_text_frequency))\n",
    "        for key in dict_frequency.keys():\n",
    "            if user_frequency == key:\n",
    "                frequency[dict_frequency[key]] = y\n",
    "                \n",
    "            elif user_frequency not in dict_frequency.keys():\n",
    "                return (\"Please enter a number between 1 to 5\")\n",
    "    return frequency\n",
    "\n",
    "user_frequency()\n",
    "rank_frequency = journal['frequency']\n",
    "for i in rank_frequency:\n",
    "    for key in frequency.keys():\n",
    "        if (i == key):\n",
    "            a = rank_frequency.replace(i,frequency[key], inplace=True)"
   ]
  },
  {
   "cell_type": "markdown",
   "metadata": {},
   "source": [
    "# Open Access"
   ]
  },
  {
   "cell_type": "code",
   "execution_count": 10,
   "metadata": {},
   "outputs": [
    {
     "name": "stdout",
     "output_type": "stream",
     "text": [
      "Do you want open access journal input: \n",
      "1 for Yes \n",
      "2 for No\n",
      "Enter the first open access ranking number: 1\n",
      "Enter the second open access ranking number: 2\n"
     ]
    }
   ],
   "source": [
    "# open_access = dict()\n",
    "def user_open_access():\n",
    "    print(\"Do you want open access journal input: \\n1 for Yes \\n2 for No\")\n",
    "    dict_open_access = { 1: \"YES\", 2: \"NO\" }\n",
    "    list_open_access = [\"first\", \"second\"]\n",
    "    rank_open_access = [1.0, 0.5]\n",
    "    \n",
    "    for (x, y) in zip(list_open_access, rank_open_access):   \n",
    "        user_text_open_access = \"Enter the {} open access ranking number: \".format(x)\n",
    "        user_open_access = int(input(user_text_open_access))\n",
    "        for key in dict_open_access.keys():\n",
    "            if user_open_access == key:\n",
    "                open_access[dict_open_access[key]] = y\n",
    "               \n",
    "            elif user_open_access not in dict_open_access.keys():\n",
    "                return (\"Please enter either 1 or 2\")\n",
    "    return open_access\n",
    "\n",
    "user_open_access()\n",
    "rank_open_access = journal['open_access']\n",
    "for i in rank_open_access:\n",
    "    for key in open_access.keys():\n",
    "        if (i == key):\n",
    "            a = rank_open_access.replace(i,open_access[key], inplace=True)"
   ]
  },
  {
   "cell_type": "markdown",
   "metadata": {},
   "source": [
    "# Review Time"
   ]
  },
  {
   "cell_type": "code",
   "execution_count": 11,
   "metadata": {},
   "outputs": [
    {
     "name": "stdout",
     "output_type": "stream",
     "text": [
      "Kindly input rank: \n",
      "1 for 4 weeks \n",
      "2 for 6 weeks \n",
      "3 for 10 weeks \n",
      "4 for 12 weeks \n",
      "5 for 18 weeks\n",
      "Enter the first review time ranking number: 1\n",
      "Enter the second review time ranking number: 2\n",
      "Enter the third review time ranking number: 3\n",
      "Enter the forth review time ranking number: 4\n",
      "Enter the fifth review time ranking number: 5\n"
     ]
    }
   ],
   "source": [
    "review_time = dict()\n",
    "def user_review_time():\n",
    "    print(\"Kindly input rank: \\n1 for 4 weeks \\n2 for 6 weeks \\n3 for 10 weeks \\n4 for 12 weeks \\n5 for 18 weeks\")\n",
    "    dict_review_time = { 1: \"4 weeks\", 2: \"6 weeks\", 3: \"10 weeks\", 4: \"12 weeks\", 5: \"18 weeks\" }\n",
    "    list_review_time = [\"first\", \"second\", \"third\", \"forth\", \"fifth\"]\n",
    "    rank_review_time = [1.0, 0.8, 0.6, 0.4, 0.2]\n",
    "    \n",
    "    for (x, y) in zip(list_review_time, rank_review_time):   \n",
    "        user_text_review_time = \"Enter the {} review time ranking number: \".format(x)\n",
    "        user_review_time = int(input(user_text_review_time))\n",
    "        for key in dict_review_time.keys():\n",
    "            if user_review_time == key:\n",
    "                review_time[dict_review_time[key]] = y\n",
    "                \n",
    "            elif user_review_time not in dict_review_time.keys():\n",
    "                return (\"Please enter a number between 1 to 5\")\n",
    "    return review_time\n",
    "\n",
    "user_review_time()\n",
    "rank_review_time = journal['review_time']\n",
    "for i in rank_review_time:\n",
    "    for key in review_time.keys():\n",
    "        if (i == key):\n",
    "            a = rank_review_time.replace(i,review_time[key], inplace=True)"
   ]
  },
  {
   "cell_type": "markdown",
   "metadata": {},
   "source": [
    "# View Dataset"
   ]
  },
  {
   "cell_type": "code",
   "execution_count": 12,
   "metadata": {},
   "outputs": [
    {
     "data": {
      "text/html": [
       "<div>\n",
       "<style scoped>\n",
       "    .dataframe tbody tr th:only-of-type {\n",
       "        vertical-align: middle;\n",
       "    }\n",
       "\n",
       "    .dataframe tbody tr th {\n",
       "        vertical-align: top;\n",
       "    }\n",
       "\n",
       "    .dataframe thead th {\n",
       "        text-align: right;\n",
       "    }\n",
       "</style>\n",
       "<table border=\"1\" class=\"dataframe\">\n",
       "  <thead>\n",
       "    <tr style=\"text-align: right;\">\n",
       "      <th></th>\n",
       "      <th>scopus_source_id</th>\n",
       "      <th>subject_area</th>\n",
       "      <th>index</th>\n",
       "      <th>publisher</th>\n",
       "      <th>percentile</th>\n",
       "      <th>frequency</th>\n",
       "      <th>open_access</th>\n",
       "      <th>review_time</th>\n",
       "    </tr>\n",
       "  </thead>\n",
       "  <tbody>\n",
       "    <tr>\n",
       "      <th>180</th>\n",
       "      <td>13024</td>\n",
       "      <td>Computer Science (miscellaneous)</td>\n",
       "      <td>1.0</td>\n",
       "      <td>0.1</td>\n",
       "      <td>0.3</td>\n",
       "      <td>0.4</td>\n",
       "      <td>0.5</td>\n",
       "      <td>0.8</td>\n",
       "    </tr>\n",
       "    <tr>\n",
       "      <th>181</th>\n",
       "      <td>144674</td>\n",
       "      <td>Computer Science (miscellaneous)</td>\n",
       "      <td>1.0</td>\n",
       "      <td>0.1</td>\n",
       "      <td>0.3</td>\n",
       "      <td>0.4</td>\n",
       "      <td>0.5</td>\n",
       "      <td>0.8</td>\n",
       "    </tr>\n",
       "    <tr>\n",
       "      <th>182</th>\n",
       "      <td>145095</td>\n",
       "      <td>Computer Science (miscellaneous)</td>\n",
       "      <td>1.0</td>\n",
       "      <td>1.0</td>\n",
       "      <td>0.5</td>\n",
       "      <td>1.0</td>\n",
       "      <td>0.5</td>\n",
       "      <td>0.2</td>\n",
       "    </tr>\n",
       "    <tr>\n",
       "      <th>183</th>\n",
       "      <td>15591</td>\n",
       "      <td>Computer Science (miscellaneous)</td>\n",
       "      <td>1.0</td>\n",
       "      <td>0.1</td>\n",
       "      <td>1.0</td>\n",
       "      <td>0.2</td>\n",
       "      <td>1.0</td>\n",
       "      <td>1.0</td>\n",
       "    </tr>\n",
       "    <tr>\n",
       "      <th>184</th>\n",
       "      <td>17700155307</td>\n",
       "      <td>Computer Science (miscellaneous)</td>\n",
       "      <td>1.0</td>\n",
       "      <td>0.1</td>\n",
       "      <td>0.3</td>\n",
       "      <td>0.2</td>\n",
       "      <td>0.5</td>\n",
       "      <td>1.0</td>\n",
       "    </tr>\n",
       "  </tbody>\n",
       "</table>\n",
       "</div>"
      ],
      "text/plain": [
       "     scopus_source_id                      subject_area  index  publisher  \\\n",
       "180             13024  Computer Science (miscellaneous)    1.0        0.1   \n",
       "181            144674  Computer Science (miscellaneous)    1.0        0.1   \n",
       "182            145095  Computer Science (miscellaneous)    1.0        1.0   \n",
       "183             15591  Computer Science (miscellaneous)    1.0        0.1   \n",
       "184       17700155307  Computer Science (miscellaneous)    1.0        0.1   \n",
       "\n",
       "     percentile  frequency  open_access  review_time  \n",
       "180         0.3        0.4          0.5          0.8  \n",
       "181         0.3        0.4          0.5          0.8  \n",
       "182         0.5        1.0          0.5          0.2  \n",
       "183         1.0        0.2          1.0          1.0  \n",
       "184         0.3        0.2          0.5          1.0  "
      ]
     },
     "execution_count": 12,
     "metadata": {},
     "output_type": "execute_result"
    }
   ],
   "source": [
    "journal.head()"
   ]
  },
  {
   "cell_type": "code",
   "execution_count": 13,
   "metadata": {},
   "outputs": [],
   "source": [
    "journal.to_csv(r'C:\\Users\\Gbubemi\\Documents\\#Project\\journal-ranking-system-dataset\\User Dataset.csv', index=False) "
   ]
  },
  {
   "cell_type": "code",
   "execution_count": null,
   "metadata": {},
   "outputs": [],
   "source": []
  }
 ],
 "metadata": {
  "kernelspec": {
   "display_name": "Python 3",
   "language": "python",
   "name": "python3"
  },
  "language_info": {
   "codemirror_mode": {
    "name": "ipython",
    "version": 3
   },
   "file_extension": ".py",
   "mimetype": "text/x-python",
   "name": "python",
   "nbconvert_exporter": "python",
   "pygments_lexer": "ipython3",
   "version": "3.7.3"
  }
 },
 "nbformat": 4,
 "nbformat_minor": 2
}
