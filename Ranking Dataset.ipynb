{
 "cells": [
  {
   "cell_type": "code",
   "execution_count": 1,
   "metadata": {},
   "outputs": [],
   "source": [
    "import numpy as np\n",
    "import pandas as pd\n",
    "import matplotlib.pyplot as plt\n",
    "import seaborn as sns\n",
    "%matplotlib inline"
   ]
  },
  {
   "cell_type": "code",
   "execution_count": 2,
   "metadata": {},
   "outputs": [
    {
     "data": {
      "text/html": [
       "<div>\n",
       "<style scoped>\n",
       "    .dataframe tbody tr th:only-of-type {\n",
       "        vertical-align: middle;\n",
       "    }\n",
       "\n",
       "    .dataframe tbody tr th {\n",
       "        vertical-align: top;\n",
       "    }\n",
       "\n",
       "    .dataframe thead th {\n",
       "        text-align: right;\n",
       "    }\n",
       "</style>\n",
       "<table border=\"1\" class=\"dataframe\">\n",
       "  <thead>\n",
       "    <tr style=\"text-align: right;\">\n",
       "      <th></th>\n",
       "      <th>Scopus Source ID</th>\n",
       "      <th>Subject Area</th>\n",
       "      <th>Index</th>\n",
       "      <th>Publisher</th>\n",
       "      <th>Percentile</th>\n",
       "      <th>Frequency</th>\n",
       "      <th>Open Access</th>\n",
       "      <th>Review Time</th>\n",
       "    </tr>\n",
       "  </thead>\n",
       "  <tbody>\n",
       "    <tr>\n",
       "      <th>0</th>\n",
       "      <td>11900154400</td>\n",
       "      <td>General Computer Science</td>\n",
       "      <td>Scopus</td>\n",
       "      <td>Others</td>\n",
       "      <td>60</td>\n",
       "      <td>Bi-monthly</td>\n",
       "      <td>NO</td>\n",
       "      <td>12 weeks</td>\n",
       "    </tr>\n",
       "    <tr>\n",
       "      <th>1</th>\n",
       "      <td>12100154817</td>\n",
       "      <td>General Computer Science</td>\n",
       "      <td>Scopus</td>\n",
       "      <td>Inderscience</td>\n",
       "      <td>22</td>\n",
       "      <td>Bi-monthly</td>\n",
       "      <td>NO</td>\n",
       "      <td>12 weeks</td>\n",
       "    </tr>\n",
       "  </tbody>\n",
       "</table>\n",
       "</div>"
      ],
      "text/plain": [
       "   Scopus Source ID              Subject Area   Index     Publisher  \\\n",
       "0       11900154400  General Computer Science  Scopus        Others   \n",
       "1       12100154817  General Computer Science  Scopus  Inderscience   \n",
       "\n",
       "   Percentile   Frequency Open Access Review Time  \n",
       "0          60  Bi-monthly          NO    12 weeks  \n",
       "1          22  Bi-monthly          NO    12 weeks  "
      ]
     },
     "execution_count": 2,
     "metadata": {},
     "output_type": "execute_result"
    }
   ],
   "source": [
    "journal = pd.read_csv('Ranking Dataset.csv')\n",
    "journal = journal.reindex(columns=['Scopus Source ID', 'Subject Area', 'Index', 'Publisher', 'Percentile',\n",
    "                                  'Frequency', 'Open Access', 'Review Time'])\n",
    "journal.head(2)"
   ]
  },
  {
   "cell_type": "markdown",
   "metadata": {},
   "source": [
    "# Ranking Time Everybody!!!!!"
   ]
  },
  {
   "cell_type": "markdown",
   "metadata": {},
   "source": [
    "# Subject Area"
   ]
  },
  {
   "cell_type": "code",
   "execution_count": 3,
   "metadata": {},
   "outputs": [
    {
     "name": "stdout",
     "output_type": "stream",
     "text": [
      "Please Enter a number which represent a computer science sub-subject area: 3\n",
      "Artificial Intelligence\n"
     ]
    }
   ],
   "source": [
    "def user_subject_area(arg):\n",
    "    switcher = {\n",
    "        1: \"General Computer Science\",\n",
    "        2: \"Computer Science (miscellaneous)\",\n",
    "        3: \"Artificial Intelligence\",\n",
    "        4: \"Computational Theory and Mathematics\",\n",
    "        5: \"Computer Graphics and Computer-Aided Design\",\n",
    "        6: \"Computer Networks and Communications\",\n",
    "        7: \"Computer Science Applications\",\n",
    "        8: \"Computer Vision and Pattern Recognition\",\n",
    "        9: \"Hardware and Architecture\",\n",
    "        10: \"Human-Computer Interaction\",\n",
    "        11: \"Information Systems\",\n",
    "        12: \"Signal Processing\",\n",
    "        13: \"Software\"\n",
    "    }\n",
    "    return switcher.get(arg, \"You entered an invalid input\")\n",
    "\n",
    "#fuction call\n",
    "user_input = int(input(\"Please Enter a number which represent a computer science sub-subject area: \"))\n",
    "subject_area = user_subject_area(user_input)\n",
    "print(subject_area)"
   ]
  },
  {
   "cell_type": "markdown",
   "metadata": {},
   "source": [
    "# Index"
   ]
  },
  {
   "cell_type": "code",
   "execution_count": 4,
   "metadata": {},
   "outputs": [
    {
     "name": "stdout",
     "output_type": "stream",
     "text": [
      "Kindly input rank: \n",
      "1 for Scopus journals \n",
      "2 for Others\n",
      "Enter the first journal index ranking number: 1\n",
      "Enter the second journal index ranking number: 2\n",
      "{'scopus': 1.0, 'others': 0.5}\n"
     ]
    }
   ],
   "source": [
    "def user_index():\n",
    "    print(\"Kindly input rank: \\n1 for Scopus journals \\n2 for Others\")\n",
    "    index = dict()\n",
    "    dict_index = { 1: \"scopus\", 2: \"others\" }\n",
    "    list_index = [\"first\", \"second\"]\n",
    "    rank_index = [1.0, 0.5]\n",
    "    \n",
    "    for (x, y) in zip(list_index, rank_index):   \n",
    "        user_text_index = \"Enter the {} journal index ranking number: \".format(x)\n",
    "        user_index = int(input(user_text_index))\n",
    "        for key in dict_index.keys():\n",
    "            if user_index == key:\n",
    "                index[dict_index[key]] = y\n",
    "               \n",
    "            elif user_index not in dict_index.keys():\n",
    "                return (\"Please enter either 1 or 2\")\n",
    "    return index\n",
    "\n",
    "print(user_index())"
   ]
  },
  {
   "cell_type": "markdown",
   "metadata": {},
   "source": [
    "# Publisher"
   ]
  },
  {
   "cell_type": "code",
   "execution_count": 6,
   "metadata": {},
   "outputs": [
    {
     "name": "stdout",
     "output_type": "stream",
     "text": [
      "Kindly input rank: \n",
      "1 for Springer \n",
      "2 for Elsevier \n",
      "3 for IEEE \n",
      "4 for Taylor and Francis \n",
      "5 for Inderscience         \n",
      "6 for ACM \n",
      "7 for Others\n",
      "Enter the first publisher ranking number: 1\n",
      "Enter the second publisher ranking number: 2\n",
      "Enter the third publisher ranking number: 3\n",
      "Enter the forth publisher ranking number: 4\n",
      "Enter the fifth publisher ranking number: 5\n",
      "Enter the sixth publisher ranking number: 6\n",
      "Enter the seventh publisher ranking number: 7\n",
      "{'springer': 1.0, 'elsevier': 0.85, 'ieee': 0.7, 'taylor_and_francis': 0.55, 'inderscience': 0.4, 'acm': 0.25, 'others': 0.1}\n"
     ]
    }
   ],
   "source": [
    "def user_publisher():\n",
    "    print(\"Kindly input rank: \\n1 for Springer \\n2 for Elsevier \\n3 for IEEE \\n4 for Taylor and Francis \\n5 for Inderscience\\\n",
    "         \\n6 for ACM \\n7 for Others\")\n",
    "    publisher = dict()\n",
    "    dict_publisher = { 1: \"springer\", 2: \"elsevier\", 3: \"ieee\", 4: \"taylor_and_francis\", 5: \"inderscience\", 6: \"acm\", \n",
    "                      7: \"others\" }\n",
    "    list_publisher = [\"first\", \"second\", \"third\", \"forth\", \"fifth\", \"sixth\", \"seventh\"]\n",
    "    rank_publisher = [1.0, 0.85, 0.7, 0.55, 0.4, 0.25, 0.1]\n",
    "    \n",
    "    for (x, y) in zip(list_publisher, rank_publisher):   \n",
    "        user_text_publisher = \"Enter the {} publisher ranking number: \".format(x)\n",
    "        user_publisher = int(input(user_text_publisher))\n",
    "        for key in dict_publisher.keys():\n",
    "            if user_publisher == key:\n",
    "                publisher[dict_publisher[key]] = y\n",
    "                \n",
    "            elif user_publisher not in dict_publisher.keys():\n",
    "                return (\"Please enter a number between 1 to 7\")\n",
    "    return publisher\n",
    "\n",
    "print(user_publisher())"
   ]
  },
  {
   "cell_type": "markdown",
   "metadata": {},
   "source": [
    "# Percentile"
   ]
  },
  {
   "cell_type": "code",
   "execution_count": 7,
   "metadata": {},
   "outputs": [
    {
     "name": "stdout",
     "output_type": "stream",
     "text": [
      "Kindly input rank: \n",
      "1 for 99 - 75 \n",
      "2 for 74 - 50 \n",
      "3 for 49 - 25 \n",
      "4 for 24 - 0\n",
      "Enter the first percentile ranking number: 1\n",
      "Enter the second percentile ranking number: 4\n",
      "Enter the third percentile ranking number: 3\n",
      "Enter the forth percentile ranking number: 2\n",
      "{'99-75': 1.0, '24-0': 0.7, '49-25': 0.5, '74-50': 0.3}\n"
     ]
    }
   ],
   "source": [
    "def user_percentile():\n",
    "    print(\"Kindly input rank: \\n1 for 99 - 75 \\n2 for 74 - 50 \\n3 for 49 - 25 \\n4 for 24 - 0\")\n",
    "    percentile = dict()\n",
    "    dict_percentile = { 1: \"99-75\", 2: \"74-50\", 3: \"49-25\", 4: \"24-0\" }\n",
    "    list_percentile = [\"first\", \"second\", \"third\", \"forth\"]\n",
    "    rank_percentile = [1.0, 0.7, 0.5, 0.3]\n",
    "    \n",
    "    for (x, y) in zip(list_percentile, rank_percentile):   \n",
    "        user_text_percentile = \"Enter the {} percentile ranking number: \".format(x)\n",
    "        user_percentile = int(input(user_text_percentile))\n",
    "        for key in dict_percentile.keys():\n",
    "            if user_percentile == key:\n",
    "                percentile[dict_percentile[key]] = y\n",
    "                \n",
    "            elif user_percentile not in dict_percentile.keys():\n",
    "                return (\"Please enter a number between 1 to 4\")\n",
    "    return percentile\n",
    "\n",
    "print(user_percentile())"
   ]
  },
  {
   "cell_type": "markdown",
   "metadata": {},
   "source": [
    "# Frequency"
   ]
  },
  {
   "cell_type": "code",
   "execution_count": 8,
   "metadata": {},
   "outputs": [
    {
     "name": "stdout",
     "output_type": "stream",
     "text": [
      "Kindly input rank: \n",
      "1 for Monthly \n",
      "2 for Bi-monthly \n",
      "3 for Quarterly \n",
      "4 for Bi-annually \n",
      "5 for Annually\n",
      "Enter the first frequency ranking number: 1\n",
      "Enter the second frequency ranking number: 2\n",
      "Enter the third frequency ranking number: 3\n",
      "Enter the forth frequency ranking number: 4\n",
      "Enter the fifth frequency ranking number: 5\n",
      "{'monthly': 1.0, 'bi-monthly': 0.8, 'quarterly': 0.6, 'bi-annually': 0.4, 'annually': 0.2}\n"
     ]
    }
   ],
   "source": [
    "def user_frequency():\n",
    "    print(\"Kindly input rank: \\n1 for Monthly \\n2 for Bi-monthly \\n3 for Quarterly \\n4 for Bi-annually \\n5 for Annually\")\n",
    "    frequency = dict()\n",
    "    dict_frequency = { 1: \"monthly\", 2: \"bi-monthly\", 3: \"quarterly\", 4: \"bi-annually\", 5: \"annually\" }\n",
    "    list_frequency = [\"first\", \"second\", \"third\", \"forth\", \"fifth\"]\n",
    "    rank_frequency = [1.0, 0.8, 0.6, 0.4, 0.2]\n",
    "    \n",
    "    for (x, y) in zip(list_frequency, rank_frequency):   \n",
    "        user_text_frequency = \"Enter the {} frequency ranking number: \".format(x)\n",
    "        user_frequency = int(input(user_text_frequency))\n",
    "        for key in dict_frequency.keys():\n",
    "            if user_frequency == key:\n",
    "                frequency[dict_frequency[key]] = y\n",
    "                \n",
    "            elif user_frequency not in dict_frequency.keys():\n",
    "                return (\"Please enter a number between 1 to 5\")\n",
    "    return frequency\n",
    "\n",
    "print(user_frequency())"
   ]
  },
  {
   "cell_type": "markdown",
   "metadata": {},
   "source": [
    "# Open Access"
   ]
  },
  {
   "cell_type": "code",
   "execution_count": 9,
   "metadata": {},
   "outputs": [
    {
     "name": "stdout",
     "output_type": "stream",
     "text": [
      "Do you want open access journal input: \n",
      "1 for Yes \n",
      "2 for No\n",
      "Enter the first open access ranking number: 1\n",
      "Enter the second open access ranking number: 2\n",
      "{'yes': 1.0, 'no': 0.5}\n"
     ]
    }
   ],
   "source": [
    "def user_open_access():\n",
    "    print(\"Do you want open access journal input: \\n1 for Yes \\n2 for No\")\n",
    "    open_access = dict()\n",
    "    dict_open_access = { 1: \"yes\", 2: \"no\" }\n",
    "    list_open_access = [\"first\", \"second\"]\n",
    "    rank_open_access = [1.0, 0.5]\n",
    "    \n",
    "    for (x, y) in zip(list_open_access, rank_open_access):   \n",
    "        user_text_open_access = \"Enter the {} open access ranking number: \".format(x)\n",
    "        user_open_access = int(input(user_text_open_access))\n",
    "        for key in dict_open_access.keys():\n",
    "            if user_open_access == key:\n",
    "                open_access[dict_open_access[key]] = y\n",
    "               \n",
    "            elif user_open_access not in dict_open_access.keys():\n",
    "                return (\"Please enter either 1 or 2\")\n",
    "    return open_access\n",
    "\n",
    "print(user_open_access())"
   ]
  },
  {
   "cell_type": "markdown",
   "metadata": {},
   "source": [
    "# Review Time"
   ]
  },
  {
   "cell_type": "code",
   "execution_count": 10,
   "metadata": {},
   "outputs": [
    {
     "name": "stdout",
     "output_type": "stream",
     "text": [
      "Kindly input rank: \n",
      "1 for 4 weeks \n",
      "2 for 6 weeks \n",
      "3 for 10 weeks \n",
      "4 for 12 weeks \n",
      "5 for 18 weeks\n",
      "Enter the first review time ranking number: 1\n",
      "Enter the second review time ranking number: 2\n",
      "Enter the third review time ranking number: 3\n",
      "Enter the forth review time ranking number: 4\n",
      "Enter the fifth review time ranking number: 5\n",
      "{'4 weeks': 1.0, '6 weeks': 0.8, '10 weeks': 0.6, '12 weeks': 0.4, '18 weeks': 0.2}\n"
     ]
    }
   ],
   "source": [
    "def user_review_time():\n",
    "    print(\"Kindly input rank: \\n1 for 4 weeks \\n2 for 6 weeks \\n3 for 10 weeks \\n4 for 12 weeks \\n5 for 18 weeks\")\n",
    "    review_time = dict()\n",
    "    dict_review_time = { 1: \"4 weeks\", 2: \"6 weeks\", 3: \"10 weeks\", 4: \"12 weeks\", 5: \"18 weeks\" }\n",
    "    list_review_time = [\"first\", \"second\", \"third\", \"forth\", \"fifth\"]\n",
    "    rank_review_time = [1.0, 0.8, 0.6, 0.4, 0.2]\n",
    "    \n",
    "    for (x, y) in zip(list_review_time, rank_review_time):   \n",
    "        user_text_review_time = \"Enter the {} review time ranking number: \".format(x)\n",
    "        user_review_time = int(input(user_text_review_time))\n",
    "        for key in dict_review_time.keys():\n",
    "            if user_review_time == key:\n",
    "                review_time[dict_review_time[key]] = y\n",
    "                \n",
    "            elif user_review_time not in dict_review_time.keys():\n",
    "                return (\"Please enter a number between 1 to 5\")\n",
    "    return review_time\n",
    "\n",
    "print(user_review_time())"
   ]
  },
  {
   "cell_type": "markdown",
   "metadata": {},
   "source": []
  }
 ],
 "metadata": {
  "kernelspec": {
   "display_name": "Python 3",
   "language": "python",
   "name": "python3"
  },
  "language_info": {
   "codemirror_mode": {
    "name": "ipython",
    "version": 3
   },
   "file_extension": ".py",
   "mimetype": "text/x-python",
   "name": "python",
   "nbconvert_exporter": "python",
   "pygments_lexer": "ipython3",
   "version": "3.7.3"
  }
 },
 "nbformat": 4,
 "nbformat_minor": 2
}
