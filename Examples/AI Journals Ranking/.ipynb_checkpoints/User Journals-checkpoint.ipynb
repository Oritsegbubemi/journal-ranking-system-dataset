{
 "cells": [
  {
   "cell_type": "markdown",
   "metadata": {},
   "source": [
    "# Import all the needed libraries"
   ]
  },
  {
   "cell_type": "code",
   "execution_count": 1,
   "metadata": {},
   "outputs": [],
   "source": [
    "import numpy as np\n",
    "import pandas as pd"
   ]
  },
  {
   "cell_type": "code",
   "execution_count": 2,
   "metadata": {},
   "outputs": [
    {
     "data": {
      "text/html": [
       "<div>\n",
       "<style scoped>\n",
       "    .dataframe tbody tr th:only-of-type {\n",
       "        vertical-align: middle;\n",
       "    }\n",
       "\n",
       "    .dataframe tbody tr th {\n",
       "        vertical-align: top;\n",
       "    }\n",
       "\n",
       "    .dataframe thead th {\n",
       "        text-align: right;\n",
       "    }\n",
       "</style>\n",
       "<table border=\"1\" class=\"dataframe\">\n",
       "  <thead>\n",
       "    <tr style=\"text-align: right;\">\n",
       "      <th></th>\n",
       "      <th>scopus_source_id</th>\n",
       "      <th>title</th>\n",
       "      <th>citescore</th>\n",
       "      <th>percentile</th>\n",
       "      <th>citation_count</th>\n",
       "      <th>scholarly_output</th>\n",
       "      <th>percent_cited</th>\n",
       "      <th>snip</th>\n",
       "      <th>sjr</th>\n",
       "      <th>rank</th>\n",
       "      <th>...</th>\n",
       "      <th>journal_website</th>\n",
       "      <th>review_time</th>\n",
       "      <th>open_access2</th>\n",
       "      <th>print_issn</th>\n",
       "      <th>e_issn</th>\n",
       "      <th>user_index</th>\n",
       "      <th>user_publisher</th>\n",
       "      <th>user_percentile</th>\n",
       "      <th>user_frequency</th>\n",
       "      <th>user_open_access</th>\n",
       "    </tr>\n",
       "  </thead>\n",
       "  <tbody>\n",
       "    <tr>\n",
       "      <th>0</th>\n",
       "      <td>24201</td>\n",
       "      <td>Expert Systems with Applications</td>\n",
       "      <td>6.36</td>\n",
       "      <td>92</td>\n",
       "      <td>13082</td>\n",
       "      <td>2056</td>\n",
       "      <td>91</td>\n",
       "      <td>2.696</td>\n",
       "      <td>1.190</td>\n",
       "      <td>14</td>\n",
       "      <td>...</td>\n",
       "      <td>http://www.elsevier.com/wps/find/journaldescri...</td>\n",
       "      <td>NaN</td>\n",
       "      <td>No</td>\n",
       "      <td>0957-4174</td>\n",
       "      <td>1873-6793</td>\n",
       "      <td>1.0</td>\n",
       "      <td>1.00</td>\n",
       "      <td>1.0</td>\n",
       "      <td>0.78</td>\n",
       "      <td>1.0</td>\n",
       "    </tr>\n",
       "    <tr>\n",
       "      <th>1</th>\n",
       "      <td>24800</td>\n",
       "      <td>Neural Computing and Applications</td>\n",
       "      <td>4.20</td>\n",
       "      <td>82</td>\n",
       "      <td>3124</td>\n",
       "      <td>744</td>\n",
       "      <td>80</td>\n",
       "      <td>1.481</td>\n",
       "      <td>0.637</td>\n",
       "      <td>34</td>\n",
       "      <td>...</td>\n",
       "      <td>http://www.springerlink.com/content/102827/</td>\n",
       "      <td>NaN</td>\n",
       "      <td>No</td>\n",
       "      <td>0941-0643</td>\n",
       "      <td>1433-3058</td>\n",
       "      <td>1.0</td>\n",
       "      <td>0.85</td>\n",
       "      <td>1.0</td>\n",
       "      <td>0.66</td>\n",
       "      <td>1.0</td>\n",
       "    </tr>\n",
       "    <tr>\n",
       "      <th>2</th>\n",
       "      <td>21100235616</td>\n",
       "      <td>IEEE Transactions on Neural Networks and Learn...</td>\n",
       "      <td>12.16</td>\n",
       "      <td>97</td>\n",
       "      <td>9306</td>\n",
       "      <td>765</td>\n",
       "      <td>94</td>\n",
       "      <td>4.062</td>\n",
       "      <td>3.658</td>\n",
       "      <td>5</td>\n",
       "      <td>...</td>\n",
       "      <td>http://ieeexplore.ieee.org/xpl/aboutJournal.js...</td>\n",
       "      <td>NaN</td>\n",
       "      <td>No</td>\n",
       "      <td>2162-237X</td>\n",
       "      <td>2162-2388</td>\n",
       "      <td>1.0</td>\n",
       "      <td>0.70</td>\n",
       "      <td>1.0</td>\n",
       "      <td>0.66</td>\n",
       "      <td>1.0</td>\n",
       "    </tr>\n",
       "    <tr>\n",
       "      <th>3</th>\n",
       "      <td>24357</td>\n",
       "      <td>Journal of Experimental and Theoretical Artifi...</td>\n",
       "      <td>2.20</td>\n",
       "      <td>63</td>\n",
       "      <td>383</td>\n",
       "      <td>174</td>\n",
       "      <td>56</td>\n",
       "      <td>0.999</td>\n",
       "      <td>0.392</td>\n",
       "      <td>70</td>\n",
       "      <td>...</td>\n",
       "      <td>http://www.tandfonline.com/loi/teta20</td>\n",
       "      <td>NaN</td>\n",
       "      <td>No</td>\n",
       "      <td>0952-813X</td>\n",
       "      <td>1362-3079</td>\n",
       "      <td>1.0</td>\n",
       "      <td>0.55</td>\n",
       "      <td>0.7</td>\n",
       "      <td>0.44</td>\n",
       "      <td>1.0</td>\n",
       "    </tr>\n",
       "    <tr>\n",
       "      <th>4</th>\n",
       "      <td>19700190323</td>\n",
       "      <td>ACM Transactions on Intelligent Systems and Te...</td>\n",
       "      <td>4.40</td>\n",
       "      <td>86</td>\n",
       "      <td>1073</td>\n",
       "      <td>244</td>\n",
       "      <td>74</td>\n",
       "      <td>2.177</td>\n",
       "      <td>0.708</td>\n",
       "      <td>27</td>\n",
       "      <td>...</td>\n",
       "      <td>https://tist.acm.org/</td>\n",
       "      <td>NaN</td>\n",
       "      <td>No</td>\n",
       "      <td>2157-6904</td>\n",
       "      <td>2157-6912</td>\n",
       "      <td>1.0</td>\n",
       "      <td>0.25</td>\n",
       "      <td>1.0</td>\n",
       "      <td>0.55</td>\n",
       "      <td>1.0</td>\n",
       "    </tr>\n",
       "  </tbody>\n",
       "</table>\n",
       "<p>5 rows × 33 columns</p>\n",
       "</div>"
      ],
      "text/plain": [
       "   scopus_source_id                                              title  \\\n",
       "0             24201                   Expert Systems with Applications   \n",
       "1             24800                  Neural Computing and Applications   \n",
       "2       21100235616  IEEE Transactions on Neural Networks and Learn...   \n",
       "3             24357  Journal of Experimental and Theoretical Artifi...   \n",
       "4       19700190323  ACM Transactions on Intelligent Systems and Te...   \n",
       "\n",
       "   citescore  percentile  citation_count  scholarly_output  percent_cited  \\\n",
       "0       6.36          92           13082              2056             91   \n",
       "1       4.20          82            3124               744             80   \n",
       "2      12.16          97            9306               765             94   \n",
       "3       2.20          63             383               174             56   \n",
       "4       4.40          86            1073               244             74   \n",
       "\n",
       "    snip    sjr  rank  ...                                    journal_website  \\\n",
       "0  2.696  1.190    14  ...  http://www.elsevier.com/wps/find/journaldescri...   \n",
       "1  1.481  0.637    34  ...        http://www.springerlink.com/content/102827/   \n",
       "2  4.062  3.658     5  ...  http://ieeexplore.ieee.org/xpl/aboutJournal.js...   \n",
       "3  0.999  0.392    70  ...              http://www.tandfonline.com/loi/teta20   \n",
       "4  2.177  0.708    27  ...                              https://tist.acm.org/   \n",
       "\n",
       "  review_time open_access2 print_issn     e_issn user_index user_publisher  \\\n",
       "0         NaN           No  0957-4174  1873-6793        1.0           1.00   \n",
       "1         NaN           No  0941-0643  1433-3058        1.0           0.85   \n",
       "2         NaN           No  2162-237X  2162-2388        1.0           0.70   \n",
       "3         NaN           No  0952-813X  1362-3079        1.0           0.55   \n",
       "4         NaN           No  2157-6904  2157-6912        1.0           0.25   \n",
       "\n",
       "  user_percentile user_frequency user_open_access  \n",
       "0             1.0           0.78              1.0  \n",
       "1             1.0           0.66              1.0  \n",
       "2             1.0           0.66              1.0  \n",
       "3             0.7           0.44              1.0  \n",
       "4             1.0           0.55              1.0  \n",
       "\n",
       "[5 rows x 33 columns]"
      ]
     },
     "execution_count": 2,
     "metadata": {},
     "output_type": "execute_result"
    }
   ],
   "source": [
    "journal = pd.read_csv('User Journals.csv')\n",
    "journal.head()"
   ]
  },
  {
   "cell_type": "code",
   "execution_count": 3,
   "metadata": {},
   "outputs": [],
   "source": [
    "number = len(journal)\n",
    "columns = journal.columns[28:33]"
   ]
  },
  {
   "cell_type": "code",
   "execution_count": 4,
   "metadata": {},
   "outputs": [
    {
     "name": "stdout",
     "output_type": "stream",
     "text": [
      "Index(['user_index', 'user_publisher', 'user_percentile', 'user_frequency',\n",
      "       'user_open_access'],\n",
      "      dtype='object')\n"
     ]
    }
   ],
   "source": [
    "print(columns)"
   ]
  },
  {
   "cell_type": "markdown",
   "metadata": {},
   "source": [
    "## Mean"
   ]
  },
  {
   "cell_type": "code",
   "execution_count": 5,
   "metadata": {},
   "outputs": [
    {
     "name": "stdout",
     "output_type": "stream",
     "text": [
      "[0.85, 0.575, 0.9, 0.5316666666666666, 0.85]\n"
     ]
    }
   ],
   "source": [
    "#Mean - 4\n",
    "mean = []\n",
    "for i in columns:\n",
    "    mean_criteria = np.mean(journal[i])\n",
    "    mean.append(mean_criteria)\n",
    "print(mean)"
   ]
  },
  {
   "cell_type": "markdown",
   "metadata": {},
   "source": [
    "## Variance"
   ]
  },
  {
   "cell_type": "code",
   "execution_count": 6,
   "metadata": {},
   "outputs": [
    {
     "name": "stdout",
     "output_type": "stream",
     "text": [
      "[0.675, 0.60375, 0.12000000000000002, 0.2896833333333334, 0.675]\n"
     ]
    }
   ],
   "source": [
    "#Variance - 5\n",
    "variance = []\n",
    "for i in columns:\n",
    "    variance_criteria = np.var(journal[i])*number\n",
    "    variance.append(variance_criteria)\n",
    "print(variance)"
   ]
  },
  {
   "cell_type": "markdown",
   "metadata": {},
   "source": [
    "## Deviation"
   ]
  },
  {
   "cell_type": "code",
   "execution_count": 7,
   "metadata": {},
   "outputs": [
    {
     "name": "stdout",
     "output_type": "stream",
     "text": [
      "[0.32499999999999996, 0.39625, 0.88, 0.7103166666666666, 0.32499999999999996]\n"
     ]
    }
   ],
   "source": [
    "#Deviation - 6\n",
    "deviation = []\n",
    "for (i, j) in zip(columns, variance):\n",
    "    deviation_criteria = 1 - j\n",
    "    deviation.append(deviation_criteria)\n",
    "print(deviation)"
   ]
  },
  {
   "cell_type": "markdown",
   "metadata": {},
   "source": [
    "## Finding Overall preference value "
   ]
  },
  {
   "cell_type": "code",
   "execution_count": 8,
   "metadata": {},
   "outputs": [
    {
     "name": "stdout",
     "output_type": "stream",
     "text": [
      "[0.1232663691416868, 0.15029015006890278, 0.3337673995221058, 0.26940971212561793, 0.1232663691416868]\n"
     ]
    }
   ],
   "source": [
    "#Finding Overall preference value - 7\n",
    "preference_value = []\n",
    "overall = sum(deviation)\n",
    "for (i, j) in zip(columns, deviation):\n",
    "    preference_criteria = j/overall\n",
    "    preference_value.append(preference_criteria)\n",
    "print(preference_value)\n",
    "sum_ = sum(preference_value)"
   ]
  },
  {
   "cell_type": "code",
   "execution_count": 9,
   "metadata": {},
   "outputs": [
    {
     "data": {
      "text/plain": [
       "1.0000000000000002"
      ]
     },
     "execution_count": 9,
     "metadata": {},
     "output_type": "execute_result"
    }
   ],
   "source": [
    "sum_"
   ]
  },
  {
   "cell_type": "markdown",
   "metadata": {},
   "source": [
    "## Calculating PSI"
   ]
  },
  {
   "cell_type": "code",
   "execution_count": 10,
   "metadata": {},
   "outputs": [],
   "source": [
    "#Calculating PSI - 8\n",
    "for (i,j) in zip(columns, preference_value): \n",
    "    journal[i] = journal.loc[:, i] * j"
   ]
  },
  {
   "cell_type": "code",
   "execution_count": 11,
   "metadata": {},
   "outputs": [],
   "source": [
    "#psi_rank = journal.drop(['scopus_source_id', 'subject_area'], axis=1)\n",
    "psi_rank = journal.iloc[:, 28:33]\n",
    "psi = []\n",
    "for i in range(number):\n",
    "    psi_sum = sum(psi_rank.loc[i])\n",
    "    psi.append(psi_sum)"
   ]
  },
  {
   "cell_type": "code",
   "execution_count": 12,
   "metadata": {},
   "outputs": [],
   "source": [
    "journal['PSI'] = psi"
   ]
  },
  {
   "cell_type": "code",
   "execution_count": 13,
   "metadata": {},
   "outputs": [],
   "source": [
    "ranked_journal = journal.sort_values('PSI', ascending=False)"
   ]
  },
  {
   "cell_type": "code",
   "execution_count": 14,
   "metadata": {},
   "outputs": [
    {
     "data": {
      "text/html": [
       "<div>\n",
       "<style scoped>\n",
       "    .dataframe tbody tr th:only-of-type {\n",
       "        vertical-align: middle;\n",
       "    }\n",
       "\n",
       "    .dataframe tbody tr th {\n",
       "        vertical-align: top;\n",
       "    }\n",
       "\n",
       "    .dataframe thead th {\n",
       "        text-align: right;\n",
       "    }\n",
       "</style>\n",
       "<table border=\"1\" class=\"dataframe\">\n",
       "  <thead>\n",
       "    <tr style=\"text-align: right;\">\n",
       "      <th></th>\n",
       "      <th>scopus_source_id</th>\n",
       "      <th>title</th>\n",
       "      <th>citescore</th>\n",
       "      <th>percentile</th>\n",
       "      <th>citation_count</th>\n",
       "      <th>scholarly_output</th>\n",
       "      <th>percent_cited</th>\n",
       "      <th>snip</th>\n",
       "      <th>sjr</th>\n",
       "      <th>rank</th>\n",
       "      <th>...</th>\n",
       "      <th>review_time</th>\n",
       "      <th>open_access2</th>\n",
       "      <th>print_issn</th>\n",
       "      <th>e_issn</th>\n",
       "      <th>user_index</th>\n",
       "      <th>user_publisher</th>\n",
       "      <th>user_percentile</th>\n",
       "      <th>user_frequency</th>\n",
       "      <th>user_open_access</th>\n",
       "      <th>PSI</th>\n",
       "    </tr>\n",
       "  </thead>\n",
       "  <tbody>\n",
       "    <tr>\n",
       "      <th>0</th>\n",
       "      <td>24201</td>\n",
       "      <td>Expert Systems with Applications</td>\n",
       "      <td>6.36</td>\n",
       "      <td>92</td>\n",
       "      <td>13082</td>\n",
       "      <td>2056</td>\n",
       "      <td>91</td>\n",
       "      <td>2.696</td>\n",
       "      <td>1.190</td>\n",
       "      <td>14</td>\n",
       "      <td>...</td>\n",
       "      <td>NaN</td>\n",
       "      <td>No</td>\n",
       "      <td>0957-4174</td>\n",
       "      <td>1873-6793</td>\n",
       "      <td>0.123266</td>\n",
       "      <td>0.150290</td>\n",
       "      <td>0.333767</td>\n",
       "      <td>0.210140</td>\n",
       "      <td>0.123266</td>\n",
       "      <td>0.940730</td>\n",
       "    </tr>\n",
       "    <tr>\n",
       "      <th>1</th>\n",
       "      <td>24800</td>\n",
       "      <td>Neural Computing and Applications</td>\n",
       "      <td>4.20</td>\n",
       "      <td>82</td>\n",
       "      <td>3124</td>\n",
       "      <td>744</td>\n",
       "      <td>80</td>\n",
       "      <td>1.481</td>\n",
       "      <td>0.637</td>\n",
       "      <td>34</td>\n",
       "      <td>...</td>\n",
       "      <td>NaN</td>\n",
       "      <td>No</td>\n",
       "      <td>0941-0643</td>\n",
       "      <td>1433-3058</td>\n",
       "      <td>0.123266</td>\n",
       "      <td>0.127747</td>\n",
       "      <td>0.333767</td>\n",
       "      <td>0.177810</td>\n",
       "      <td>0.123266</td>\n",
       "      <td>0.885857</td>\n",
       "    </tr>\n",
       "    <tr>\n",
       "      <th>2</th>\n",
       "      <td>21100235616</td>\n",
       "      <td>IEEE Transactions on Neural Networks and Learn...</td>\n",
       "      <td>12.16</td>\n",
       "      <td>97</td>\n",
       "      <td>9306</td>\n",
       "      <td>765</td>\n",
       "      <td>94</td>\n",
       "      <td>4.062</td>\n",
       "      <td>3.658</td>\n",
       "      <td>5</td>\n",
       "      <td>...</td>\n",
       "      <td>NaN</td>\n",
       "      <td>No</td>\n",
       "      <td>2162-237X</td>\n",
       "      <td>2162-2388</td>\n",
       "      <td>0.123266</td>\n",
       "      <td>0.105203</td>\n",
       "      <td>0.333767</td>\n",
       "      <td>0.177810</td>\n",
       "      <td>0.123266</td>\n",
       "      <td>0.863314</td>\n",
       "    </tr>\n",
       "    <tr>\n",
       "      <th>4</th>\n",
       "      <td>19700190323</td>\n",
       "      <td>ACM Transactions on Intelligent Systems and Te...</td>\n",
       "      <td>4.40</td>\n",
       "      <td>86</td>\n",
       "      <td>1073</td>\n",
       "      <td>244</td>\n",
       "      <td>74</td>\n",
       "      <td>2.177</td>\n",
       "      <td>0.708</td>\n",
       "      <td>27</td>\n",
       "      <td>...</td>\n",
       "      <td>NaN</td>\n",
       "      <td>No</td>\n",
       "      <td>2157-6904</td>\n",
       "      <td>2157-6912</td>\n",
       "      <td>0.123266</td>\n",
       "      <td>0.037573</td>\n",
       "      <td>0.333767</td>\n",
       "      <td>0.148175</td>\n",
       "      <td>0.123266</td>\n",
       "      <td>0.766048</td>\n",
       "    </tr>\n",
       "    <tr>\n",
       "      <th>3</th>\n",
       "      <td>24357</td>\n",
       "      <td>Journal of Experimental and Theoretical Artifi...</td>\n",
       "      <td>2.20</td>\n",
       "      <td>63</td>\n",
       "      <td>383</td>\n",
       "      <td>174</td>\n",
       "      <td>56</td>\n",
       "      <td>0.999</td>\n",
       "      <td>0.392</td>\n",
       "      <td>70</td>\n",
       "      <td>...</td>\n",
       "      <td>NaN</td>\n",
       "      <td>No</td>\n",
       "      <td>0952-813X</td>\n",
       "      <td>1362-3079</td>\n",
       "      <td>0.123266</td>\n",
       "      <td>0.082660</td>\n",
       "      <td>0.233637</td>\n",
       "      <td>0.118540</td>\n",
       "      <td>0.123266</td>\n",
       "      <td>0.681370</td>\n",
       "    </tr>\n",
       "  </tbody>\n",
       "</table>\n",
       "<p>5 rows × 34 columns</p>\n",
       "</div>"
      ],
      "text/plain": [
       "   scopus_source_id                                              title  \\\n",
       "0             24201                   Expert Systems with Applications   \n",
       "1             24800                  Neural Computing and Applications   \n",
       "2       21100235616  IEEE Transactions on Neural Networks and Learn...   \n",
       "4       19700190323  ACM Transactions on Intelligent Systems and Te...   \n",
       "3             24357  Journal of Experimental and Theoretical Artifi...   \n",
       "\n",
       "   citescore  percentile  citation_count  scholarly_output  percent_cited  \\\n",
       "0       6.36          92           13082              2056             91   \n",
       "1       4.20          82            3124               744             80   \n",
       "2      12.16          97            9306               765             94   \n",
       "4       4.40          86            1073               244             74   \n",
       "3       2.20          63             383               174             56   \n",
       "\n",
       "    snip    sjr  rank  ...  review_time open_access2 print_issn     e_issn  \\\n",
       "0  2.696  1.190    14  ...          NaN           No  0957-4174  1873-6793   \n",
       "1  1.481  0.637    34  ...          NaN           No  0941-0643  1433-3058   \n",
       "2  4.062  3.658     5  ...          NaN           No  2162-237X  2162-2388   \n",
       "4  2.177  0.708    27  ...          NaN           No  2157-6904  2157-6912   \n",
       "3  0.999  0.392    70  ...          NaN           No  0952-813X  1362-3079   \n",
       "\n",
       "   user_index user_publisher user_percentile user_frequency user_open_access  \\\n",
       "0    0.123266       0.150290        0.333767       0.210140         0.123266   \n",
       "1    0.123266       0.127747        0.333767       0.177810         0.123266   \n",
       "2    0.123266       0.105203        0.333767       0.177810         0.123266   \n",
       "4    0.123266       0.037573        0.333767       0.148175         0.123266   \n",
       "3    0.123266       0.082660        0.233637       0.118540         0.123266   \n",
       "\n",
       "        PSI  \n",
       "0  0.940730  \n",
       "1  0.885857  \n",
       "2  0.863314  \n",
       "4  0.766048  \n",
       "3  0.681370  \n",
       "\n",
       "[5 rows x 34 columns]"
      ]
     },
     "execution_count": 14,
     "metadata": {},
     "output_type": "execute_result"
    }
   ],
   "source": [
    "ranked_journal.head()"
   ]
  },
  {
   "cell_type": "code",
   "execution_count": 15,
   "metadata": {},
   "outputs": [],
   "source": [
    "ranked_journal.to_csv('Result Journals.csv', index=False) "
   ]
  },
  {
   "cell_type": "code",
   "execution_count": null,
   "metadata": {},
   "outputs": [],
   "source": []
  }
 ],
 "metadata": {
  "kernelspec": {
   "display_name": "Python 3",
   "language": "python",
   "name": "python3"
  },
  "language_info": {
   "codemirror_mode": {
    "name": "ipython",
    "version": 3
   },
   "file_extension": ".py",
   "mimetype": "text/x-python",
   "name": "python",
   "nbconvert_exporter": "python",
   "pygments_lexer": "ipython3",
   "version": "3.7.3"
  }
 },
 "nbformat": 4,
 "nbformat_minor": 2
}
