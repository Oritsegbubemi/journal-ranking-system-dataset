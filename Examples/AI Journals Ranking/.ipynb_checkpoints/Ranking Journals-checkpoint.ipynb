{
 "cells": [
  {
   "cell_type": "markdown",
   "metadata": {},
   "source": [
    "# Import all the needed libraries"
   ]
  },
  {
   "cell_type": "code",
   "execution_count": 1,
   "metadata": {},
   "outputs": [],
   "source": [
    "import numpy as np\n",
    "import pandas as pd\n",
    "import matplotlib.pyplot as plt\n",
    "import seaborn as sns\n",
    "%matplotlib inline"
   ]
  },
  {
   "cell_type": "code",
   "execution_count": 2,
   "metadata": {},
   "outputs": [
    {
     "data": {
      "text/html": [
       "<div>\n",
       "<style scoped>\n",
       "    .dataframe tbody tr th:only-of-type {\n",
       "        vertical-align: middle;\n",
       "    }\n",
       "\n",
       "    .dataframe tbody tr th {\n",
       "        vertical-align: top;\n",
       "    }\n",
       "\n",
       "    .dataframe thead th {\n",
       "        text-align: right;\n",
       "    }\n",
       "</style>\n",
       "<table border=\"1\" class=\"dataframe\">\n",
       "  <thead>\n",
       "    <tr style=\"text-align: right;\">\n",
       "      <th></th>\n",
       "      <th>scopus_source_id</th>\n",
       "      <th>title</th>\n",
       "      <th>citescore</th>\n",
       "      <th>percentile</th>\n",
       "      <th>citation_count</th>\n",
       "      <th>scholarly_output</th>\n",
       "      <th>percent_cited</th>\n",
       "      <th>snip</th>\n",
       "      <th>sjr</th>\n",
       "      <th>rank</th>\n",
       "      <th>...</th>\n",
       "      <th>scopus_link</th>\n",
       "      <th>index</th>\n",
       "      <th>publisher2</th>\n",
       "      <th>percentile2</th>\n",
       "      <th>frequency</th>\n",
       "      <th>journal_website</th>\n",
       "      <th>review_time</th>\n",
       "      <th>open_access2</th>\n",
       "      <th>print_issn</th>\n",
       "      <th>e_issn</th>\n",
       "    </tr>\n",
       "  </thead>\n",
       "  <tbody>\n",
       "    <tr>\n",
       "      <th>0</th>\n",
       "      <td>24201</td>\n",
       "      <td>Expert Systems with Applications</td>\n",
       "      <td>6.36</td>\n",
       "      <td>92</td>\n",
       "      <td>13082</td>\n",
       "      <td>2056</td>\n",
       "      <td>91</td>\n",
       "      <td>2.696</td>\n",
       "      <td>1.190</td>\n",
       "      <td>14</td>\n",
       "      <td>...</td>\n",
       "      <td>https://www.scopus.com/sourceid/24201</td>\n",
       "      <td>Scopus</td>\n",
       "      <td>Elsevier</td>\n",
       "      <td>100</td>\n",
       "      <td>Semi-monthly</td>\n",
       "      <td>http://www.elsevier.com/wps/find/journaldescri...</td>\n",
       "      <td>NaN</td>\n",
       "      <td>No</td>\n",
       "      <td>0957-4174</td>\n",
       "      <td>1873-6793</td>\n",
       "    </tr>\n",
       "    <tr>\n",
       "      <th>1</th>\n",
       "      <td>24800</td>\n",
       "      <td>Neural Computing and Applications</td>\n",
       "      <td>4.20</td>\n",
       "      <td>82</td>\n",
       "      <td>3124</td>\n",
       "      <td>744</td>\n",
       "      <td>80</td>\n",
       "      <td>1.481</td>\n",
       "      <td>0.637</td>\n",
       "      <td>34</td>\n",
       "      <td>...</td>\n",
       "      <td>https://www.scopus.com/sourceid/24800</td>\n",
       "      <td>Scopus</td>\n",
       "      <td>Springer</td>\n",
       "      <td>100</td>\n",
       "      <td>Monthly</td>\n",
       "      <td>http://www.springerlink.com/content/102827/</td>\n",
       "      <td>NaN</td>\n",
       "      <td>No</td>\n",
       "      <td>0941-0643</td>\n",
       "      <td>1433-3058</td>\n",
       "    </tr>\n",
       "  </tbody>\n",
       "</table>\n",
       "<p>2 rows × 28 columns</p>\n",
       "</div>"
      ],
      "text/plain": [
       "   scopus_source_id                              title  citescore  percentile  \\\n",
       "0             24201   Expert Systems with Applications       6.36          92   \n",
       "1             24800  Neural Computing and Applications       4.20          82   \n",
       "\n",
       "   citation_count  scholarly_output  percent_cited   snip    sjr  rank  ...  \\\n",
       "0           13082              2056             91  2.696  1.190    14  ...   \n",
       "1            3124               744             80  1.481  0.637    34  ...   \n",
       "\n",
       "                             scopus_link   index publisher2 percentile2  \\\n",
       "0  https://www.scopus.com/sourceid/24201  Scopus   Elsevier         100   \n",
       "1  https://www.scopus.com/sourceid/24800  Scopus   Springer         100   \n",
       "\n",
       "      frequency                                    journal_website  \\\n",
       "0  Semi-monthly  http://www.elsevier.com/wps/find/journaldescri...   \n",
       "1       Monthly        http://www.springerlink.com/content/102827/   \n",
       "\n",
       "  review_time open_access2 print_issn     e_issn  \n",
       "0         NaN           No  0957-4174  1873-6793  \n",
       "1         NaN           No  0941-0643  1433-3058  \n",
       "\n",
       "[2 rows x 28 columns]"
      ]
     },
     "execution_count": 2,
     "metadata": {},
     "output_type": "execute_result"
    }
   ],
   "source": [
    "journal = pd.read_csv('Ranking Journals.csv')\n",
    "#journal = pd.read_csv('Ranking Scopus Journals.csv')\n",
    "journal.head(2)"
   ]
  },
  {
   "cell_type": "code",
   "execution_count": 3,
   "metadata": {},
   "outputs": [
    {
     "data": {
      "text/plain": [
       "6"
      ]
     },
     "execution_count": 3,
     "metadata": {},
     "output_type": "execute_result"
    }
   ],
   "source": [
    "len(journal)"
   ]
  },
  {
   "cell_type": "markdown",
   "metadata": {},
   "source": [
    "## Creating new columns for ranking"
   ]
  },
  {
   "cell_type": "code",
   "execution_count": 4,
   "metadata": {},
   "outputs": [],
   "source": [
    "journal['user_index'] = journal['index']\n",
    "journal['user_publisher'] = journal['publisher2']\n",
    "journal['user_percentile'] = journal['percentile2']\n",
    "journal['user_frequency'] = journal['frequency']\n",
    "journal['user_open_access'] = journal['open_access2']"
   ]
  },
  {
   "cell_type": "code",
   "execution_count": 5,
   "metadata": {},
   "outputs": [
    {
     "data": {
      "text/plain": [
       "Index(['scopus_source_id', 'title', 'citescore', 'percentile',\n",
       "       'citation_count', 'scholarly_output', 'percent_cited', 'snip', 'sjr',\n",
       "       'rank', 'rank_outof', 'publisher', 'type', 'open_access',\n",
       "       'scopus_asjc_code', 'subject_area', 'quartile', 'top_10%',\n",
       "       'scopus_link', 'index', 'publisher2', 'percentile2', 'frequency',\n",
       "       'journal_website', 'review_time', 'open_access2', 'print_issn',\n",
       "       'e_issn', 'user_index', 'user_publisher', 'user_percentile',\n",
       "       'user_frequency', 'user_open_access'],\n",
       "      dtype='object')"
      ]
     },
     "execution_count": 5,
     "metadata": {},
     "output_type": "execute_result"
    }
   ],
   "source": [
    "journal.columns"
   ]
  },
  {
   "cell_type": "markdown",
   "metadata": {},
   "source": [
    "# Ranking Time Everybody!!!!!"
   ]
  },
  {
   "cell_type": "markdown",
   "metadata": {},
   "source": [
    "# Subject Area"
   ]
  },
  {
   "cell_type": "code",
   "execution_count": 6,
   "metadata": {},
   "outputs": [
    {
     "name": "stdout",
     "output_type": "stream",
     "text": [
      "Please Enter a number which represent a computer science sub-subject area: 3\n"
     ]
    }
   ],
   "source": [
    "def user__switch_subject_area(arg):\n",
    "    switcher = {\n",
    "        1: \"General Computer Science\",\n",
    "        2: \"Computer Science (miscellaneous)\",\n",
    "        3: \"Artificial Intelligence\",\n",
    "        4: \"Computational Theory and Mathematics\",\n",
    "        5: \"Computer Graphics and Computer-Aided Design\",\n",
    "        6: \"Computer Networks and Communications\",\n",
    "        7: \"Computer Science Applications\",\n",
    "        8: \"Computer Vision and Pattern Recognition\",\n",
    "        9: \"Hardware and Architecture\",\n",
    "        10: \"Human-Computer Interaction\",\n",
    "        11: \"Information Systems\",\n",
    "        12: \"Signal Processing\",\n",
    "        13: \"Software\"\n",
    "    }\n",
    "    return switcher.get(arg, \"You entered an invalid input\")\n",
    "\n",
    "user_subject_area = int(input(\"Please Enter a number which represent a computer science sub-subject area: \"))\n",
    "subject_area = user__switch_subject_area(user_subject_area)\n",
    "\n",
    "not_suject_area = journal.loc[journal['subject_area'] != subject_area]\n",
    "journal=journal.drop(not_suject_area.index, axis=0)"
   ]
  },
  {
   "cell_type": "markdown",
   "metadata": {},
   "source": [
    "## Index"
   ]
  },
  {
   "cell_type": "code",
   "execution_count": 7,
   "metadata": {},
   "outputs": [
    {
     "name": "stdout",
     "output_type": "stream",
     "text": [
      "Kindly input rank: \n",
      "1 for Scopus \n",
      "2 for SCIEISI\n",
      "Enter the first journal index ranking number: 1\n",
      "Enter the second journal index ranking number: 2\n"
     ]
    }
   ],
   "source": [
    "index = dict()\n",
    "def user_index():\n",
    "    \n",
    "    # print out text\n",
    "    print(\"Kindly input rank: \\n1 for Scopus \\n2 for SCIEISI\")\n",
    "    \n",
    "    # dictionary to come back to\n",
    "    dict_index = { 1: \"Scopus\", 2: \"SCIEISI\" }\n",
    "    \n",
    "    # list of the times of print out\n",
    "    list_index = [\"first\", \"second\"]\n",
    "    \n",
    "    # list of the rank values\n",
    "    rank_index = np.linspace(1, 0.1, 2).round(2).tolist()\n",
    "    \n",
    "    #Double for loop\n",
    "    for (x, y) in zip(list_index, rank_index):  \n",
    "        \n",
    "        # ask the user for input\n",
    "        user_text_index = \"Enter the {} journal index ranking number: \".format(x)\n",
    "        \n",
    "        # convert user input to interger and store in user_index\n",
    "        user_index = int(input(user_text_index))\n",
    "        \n",
    "        #loop through the dictionary (1, 2)\n",
    "        for key in dict_index.keys():\n",
    "            \n",
    "            #if user input is either 1 or 2\n",
    "            if user_index == key:\n",
    "                \n",
    "                # the value of the key eg. scopus will be gotten and used as key while the value willbe rank_index\n",
    "                # {'Scopus': 1.0}\n",
    "                index[dict_index[key]] = y\n",
    "                \n",
    "               \n",
    "            elif user_index not in dict_index.keys():\n",
    "                return (\"Please enter either 1 or 2\")\n",
    "    return index\n",
    "\n",
    "user_index()\n",
    "\n",
    "rank_index = journal['user_index']\n",
    "for i in rank_index:\n",
    "    for key in index.keys():\n",
    "        if (i == key):\n",
    "            a = rank_index.replace(i,index[key], inplace=True)"
   ]
  },
  {
   "cell_type": "markdown",
   "metadata": {},
   "source": [
    "# Publisher"
   ]
  },
  {
   "cell_type": "code",
   "execution_count": 8,
   "metadata": {},
   "outputs": [
    {
     "name": "stdout",
     "output_type": "stream",
     "text": [
      "Kindly input rank: \n",
      "1 for Springer \n",
      "2 for Elsevier \n",
      "3 for IEEE \n",
      "4 for Taylor and Francis \n",
      "5 for Inderscience         \n",
      "6 for ACM \n",
      "7 for Others\n",
      "Enter the first publisher ranking number: 2\n",
      "Enter the second publisher ranking number: 1\n",
      "Enter the third publisher ranking number: 3\n",
      "Enter the forth publisher ranking number: 4\n",
      "Enter the fifth publisher ranking number: 5\n",
      "Enter the sixth publisher ranking number: 6\n",
      "Enter the seventh publisher ranking number: 7\n"
     ]
    }
   ],
   "source": [
    "publisher = dict()\n",
    "def user_publisher():\n",
    "    print(\"Kindly input rank: \\n1 for Springer \\n2 for Elsevier \\n3 for IEEE \\n4 for Taylor and Francis \\n5 for Inderscience\\\n",
    "         \\n6 for ACM \\n7 for Others\")\n",
    "    dict_publisher = { 1: \"Springer\", 2: \"Elsevier\", 3: \"IEEE\", 4: \"Taylor and Francis\", 5: \"Inderscience\", 6: \"ACM\", \n",
    "                      7: \"Others\" }\n",
    "    list_publisher = [\"first\", \"second\", \"third\", \"forth\", \"fifth\", \"sixth\", \"seventh\"]\n",
    "    rank_publisher = np.linspace(1, 0.1, 7).round(2).tolist()\n",
    "    \n",
    "    for (x, y) in zip(list_publisher, rank_publisher):   \n",
    "        user_text_publisher = \"Enter the {} publisher ranking number: \".format(x)\n",
    "        user_publisher = int(input(user_text_publisher))\n",
    "        for key in dict_publisher.keys():\n",
    "            if user_publisher == key:\n",
    "                publisher[dict_publisher[key]] = y\n",
    "                \n",
    "            elif user_publisher not in dict_publisher.keys():\n",
    "                return (\"Please enter a number between 1 to 7\")\n",
    "    return publisher\n",
    "\n",
    "user_publisher()\n",
    "rank_publisher = journal['user_publisher']\n",
    "for i in rank_publisher:\n",
    "    for key in publisher.keys():\n",
    "        if (i == key):\n",
    "            a = rank_publisher.replace(i,publisher[key], inplace=True)"
   ]
  },
  {
   "cell_type": "markdown",
   "metadata": {},
   "source": [
    "# Percentile"
   ]
  },
  {
   "cell_type": "code",
   "execution_count": 9,
   "metadata": {},
   "outputs": [
    {
     "name": "stdout",
     "output_type": "stream",
     "text": [
      "Kindly input rank: \n",
      "1 for 99 - 75 \n",
      "2 for 74 - 50 \n",
      "3 for 49 - 25 \n",
      "4 for 24 - 0\n",
      "Enter the first percentile ranking number: 1\n",
      "Enter the second percentile ranking number: 2\n",
      "Enter the third percentile ranking number: 3\n",
      "Enter the forth percentile ranking number: 4\n"
     ]
    }
   ],
   "source": [
    "percentile = dict() \n",
    "def user_percentile(): \n",
    "    print(\"Kindly input rank: \\n1 for 99 - 75 \\n2 for 74 - 50 \\n3 for 49 - 25 \\n4 for 24 - 0\") \n",
    "    dict_percentile = { 1: 100, 2: 200, 3: 300, 4: 400} \n",
    "    list_percentile = [\"first\", \"second\", \"third\", \"forth\"] \n",
    "    rank_percentile = np.linspace(1, 0.1, 4).round(2).tolist()\n",
    "    \n",
    "    for (x, y) in zip(list_percentile, rank_percentile):   \n",
    "        user_text_percentile = \"Enter the {} percentile ranking number: \".format(x)\n",
    "        user_percentile = int(input(user_text_percentile))\n",
    "        for key in dict_percentile.keys():\n",
    "            if user_percentile == key:\n",
    "                percentile[dict_percentile[key]] = y\n",
    "\n",
    "            elif user_percentile not in dict_percentile.keys():\n",
    "                return (\"Please enter a number between 1 to 4\")\n",
    "    return percentile\n",
    "\n",
    "user_percentile()\n",
    "rank_percentile = journal['user_percentile']\n",
    "for i in rank_percentile:\n",
    "    for key in percentile.keys():\n",
    "        if (i == key):\n",
    "            a = rank_percentile.replace(i,percentile[key], inplace=True)"
   ]
  },
  {
   "cell_type": "markdown",
   "metadata": {},
   "source": [
    "# Frequency"
   ]
  },
  {
   "cell_type": "code",
   "execution_count": 10,
   "metadata": {},
   "outputs": [
    {
     "name": "stdout",
     "output_type": "stream",
     "text": [
      "Kindly input rank: \n",
      "1 for Weekly \n",
      "2 for Fortnightly \n",
      "3 for Semi-monthly \n",
      "4 for Monthly \n",
      "5 for Bi-monthly \n",
      "6 for Quarterly \n",
      "7 for Tri-annual \n",
      "8 for Semi-annual \n",
      "9 for Annual\n",
      "Enter the first frequency ranking number: 1\n",
      "Enter the second frequency ranking number: 2\n",
      "Enter the third frequency ranking number: 3\n",
      "Enter the forth frequency ranking number: 4\n",
      "Enter the fifth frequency ranking number: 5\n",
      "Enter the sixth frequency ranking number: 6\n",
      "Enter the seventh frequency ranking number: 7\n",
      "Enter the eighth frequency ranking number: 8\n",
      "Enter the ninth frequency ranking number: 9\n"
     ]
    }
   ],
   "source": [
    "frequency = dict()\n",
    "def user_frequency():\n",
    "    print(\"Kindly input rank: \\n1 for Weekly \\n2 for Fortnightly \\n3 for Semi-monthly \\n4 for Monthly \\n5 for Bi-monthly \\n6 for Quarterly \\n7 for Tri-annual \\n8 for Semi-annual \\n9 for Annual\")\n",
    "    dict_frequency = { 1: \"Weekly\", 2: \"Fortnightly\", 3: \"Semi-monthly\", 4: \"Monthly\", 5: \"Bi-monthly\", 6: \"Quarterly\", 7: \"Tri-annual\", 8: \"Semi-annual\", 9: \"Annual\" }\n",
    "    list_frequency = [\"first\", \"second\", \"third\", \"forth\", \"fifth\", \"sixth\", \"seventh\", \"eighth\", \"ninth\"]\n",
    "    rank_frequency = np.linspace(1, 0.1, 9).round(2).tolist()\n",
    "    \n",
    "    for (x, y) in zip(list_frequency, rank_frequency):   \n",
    "        user_text_frequency = \"Enter the {} frequency ranking number: \".format(x)\n",
    "        user_frequency = int(input(user_text_frequency))\n",
    "        for key in dict_frequency.keys():\n",
    "            if user_frequency == key:\n",
    "                frequency[dict_frequency[key]] = y\n",
    "                \n",
    "            elif user_frequency not in dict_frequency.keys():\n",
    "                return (\"Please enter a number between 1 to 9\")\n",
    "    return frequency\n",
    "\n",
    "user_frequency()\n",
    "rank_frequency = journal['user_frequency']\n",
    "for i in rank_frequency:\n",
    "    for key in frequency.keys():\n",
    "        if (i == key):\n",
    "            a = rank_frequency.replace(i,frequency[key], inplace=True)"
   ]
  },
  {
   "cell_type": "markdown",
   "metadata": {},
   "source": [
    "# Open Access"
   ]
  },
  {
   "cell_type": "code",
   "execution_count": 11,
   "metadata": {},
   "outputs": [
    {
     "name": "stdout",
     "output_type": "stream",
     "text": [
      "Do you want open access journal input: \n",
      "1 for Yes \n",
      "2 for No\n",
      "Enter the first open access ranking number: 2\n",
      "Enter the second open access ranking number: 1\n"
     ]
    }
   ],
   "source": [
    "open_access = dict()\n",
    "def user_open_access():\n",
    "    print(\"Do you want open access journal input: \\n1 for Yes \\n2 for No\")\n",
    "    dict_open_access = { 1: \"Yes\", 2: \"No\" }\n",
    "    list_open_access = [\"first\", \"second\"]\n",
    "    rank_open_access = np.linspace(1, 0.1, 2).round(2).tolist()\n",
    "    \n",
    "    for (x, y) in zip(list_open_access, rank_open_access):   \n",
    "        user_text_open_access = \"Enter the {} open access ranking number: \".format(x)\n",
    "        user_open_access = int(input(user_text_open_access))\n",
    "        for key in dict_open_access.keys():\n",
    "            if user_open_access == key:\n",
    "                open_access[dict_open_access[key]] = y\n",
    "               \n",
    "            elif user_open_access not in dict_open_access.keys():\n",
    "                return (\"Please enter either 1 or 2\")\n",
    "    return open_access\n",
    "\n",
    "user_open_access()\n",
    "rank_open_access = journal['user_open_access']\n",
    "for i in rank_open_access:\n",
    "    for key in open_access.keys():\n",
    "        if (i == key):\n",
    "            a = rank_open_access.replace(i,open_access[key], inplace=True)"
   ]
  },
  {
   "cell_type": "markdown",
   "metadata": {},
   "source": [
    "# View Dataset"
   ]
  },
  {
   "cell_type": "code",
   "execution_count": 12,
   "metadata": {},
   "outputs": [
    {
     "data": {
      "text/html": [
       "<div>\n",
       "<style scoped>\n",
       "    .dataframe tbody tr th:only-of-type {\n",
       "        vertical-align: middle;\n",
       "    }\n",
       "\n",
       "    .dataframe tbody tr th {\n",
       "        vertical-align: top;\n",
       "    }\n",
       "\n",
       "    .dataframe thead th {\n",
       "        text-align: right;\n",
       "    }\n",
       "</style>\n",
       "<table border=\"1\" class=\"dataframe\">\n",
       "  <thead>\n",
       "    <tr style=\"text-align: right;\">\n",
       "      <th></th>\n",
       "      <th>scopus_source_id</th>\n",
       "      <th>title</th>\n",
       "      <th>citescore</th>\n",
       "      <th>percentile</th>\n",
       "      <th>citation_count</th>\n",
       "      <th>scholarly_output</th>\n",
       "      <th>percent_cited</th>\n",
       "      <th>snip</th>\n",
       "      <th>sjr</th>\n",
       "      <th>rank</th>\n",
       "      <th>...</th>\n",
       "      <th>journal_website</th>\n",
       "      <th>review_time</th>\n",
       "      <th>open_access2</th>\n",
       "      <th>print_issn</th>\n",
       "      <th>e_issn</th>\n",
       "      <th>user_index</th>\n",
       "      <th>user_publisher</th>\n",
       "      <th>user_percentile</th>\n",
       "      <th>user_frequency</th>\n",
       "      <th>user_open_access</th>\n",
       "    </tr>\n",
       "  </thead>\n",
       "  <tbody>\n",
       "    <tr>\n",
       "      <th>0</th>\n",
       "      <td>24201</td>\n",
       "      <td>Expert Systems with Applications</td>\n",
       "      <td>6.36</td>\n",
       "      <td>92</td>\n",
       "      <td>13082</td>\n",
       "      <td>2056</td>\n",
       "      <td>91</td>\n",
       "      <td>2.696</td>\n",
       "      <td>1.190</td>\n",
       "      <td>14</td>\n",
       "      <td>...</td>\n",
       "      <td>http://www.elsevier.com/wps/find/journaldescri...</td>\n",
       "      <td>NaN</td>\n",
       "      <td>No</td>\n",
       "      <td>0957-4174</td>\n",
       "      <td>1873-6793</td>\n",
       "      <td>1.0</td>\n",
       "      <td>1.00</td>\n",
       "      <td>1.0</td>\n",
       "      <td>0.78</td>\n",
       "      <td>1.0</td>\n",
       "    </tr>\n",
       "    <tr>\n",
       "      <th>1</th>\n",
       "      <td>24800</td>\n",
       "      <td>Neural Computing and Applications</td>\n",
       "      <td>4.20</td>\n",
       "      <td>82</td>\n",
       "      <td>3124</td>\n",
       "      <td>744</td>\n",
       "      <td>80</td>\n",
       "      <td>1.481</td>\n",
       "      <td>0.637</td>\n",
       "      <td>34</td>\n",
       "      <td>...</td>\n",
       "      <td>http://www.springerlink.com/content/102827/</td>\n",
       "      <td>NaN</td>\n",
       "      <td>No</td>\n",
       "      <td>0941-0643</td>\n",
       "      <td>1433-3058</td>\n",
       "      <td>1.0</td>\n",
       "      <td>0.85</td>\n",
       "      <td>1.0</td>\n",
       "      <td>0.66</td>\n",
       "      <td>1.0</td>\n",
       "    </tr>\n",
       "    <tr>\n",
       "      <th>2</th>\n",
       "      <td>21100235616</td>\n",
       "      <td>IEEE Transactions on Neural Networks and Learn...</td>\n",
       "      <td>12.16</td>\n",
       "      <td>97</td>\n",
       "      <td>9306</td>\n",
       "      <td>765</td>\n",
       "      <td>94</td>\n",
       "      <td>4.062</td>\n",
       "      <td>3.658</td>\n",
       "      <td>5</td>\n",
       "      <td>...</td>\n",
       "      <td>http://ieeexplore.ieee.org/xpl/aboutJournal.js...</td>\n",
       "      <td>NaN</td>\n",
       "      <td>No</td>\n",
       "      <td>2162-237X</td>\n",
       "      <td>2162-2388</td>\n",
       "      <td>1.0</td>\n",
       "      <td>0.70</td>\n",
       "      <td>1.0</td>\n",
       "      <td>0.66</td>\n",
       "      <td>1.0</td>\n",
       "    </tr>\n",
       "    <tr>\n",
       "      <th>3</th>\n",
       "      <td>24357</td>\n",
       "      <td>Journal of Experimental and Theoretical Artifi...</td>\n",
       "      <td>2.20</td>\n",
       "      <td>63</td>\n",
       "      <td>383</td>\n",
       "      <td>174</td>\n",
       "      <td>56</td>\n",
       "      <td>0.999</td>\n",
       "      <td>0.392</td>\n",
       "      <td>70</td>\n",
       "      <td>...</td>\n",
       "      <td>http://www.tandfonline.com/loi/teta20</td>\n",
       "      <td>NaN</td>\n",
       "      <td>No</td>\n",
       "      <td>0952-813X</td>\n",
       "      <td>1362-3079</td>\n",
       "      <td>1.0</td>\n",
       "      <td>0.55</td>\n",
       "      <td>0.7</td>\n",
       "      <td>0.44</td>\n",
       "      <td>1.0</td>\n",
       "    </tr>\n",
       "    <tr>\n",
       "      <th>4</th>\n",
       "      <td>19700190323</td>\n",
       "      <td>ACM Transactions on Intelligent Systems and Te...</td>\n",
       "      <td>4.40</td>\n",
       "      <td>86</td>\n",
       "      <td>1073</td>\n",
       "      <td>244</td>\n",
       "      <td>74</td>\n",
       "      <td>2.177</td>\n",
       "      <td>0.708</td>\n",
       "      <td>27</td>\n",
       "      <td>...</td>\n",
       "      <td>https://tist.acm.org/</td>\n",
       "      <td>NaN</td>\n",
       "      <td>No</td>\n",
       "      <td>2157-6904</td>\n",
       "      <td>2157-6912</td>\n",
       "      <td>1.0</td>\n",
       "      <td>0.25</td>\n",
       "      <td>1.0</td>\n",
       "      <td>0.55</td>\n",
       "      <td>1.0</td>\n",
       "    </tr>\n",
       "  </tbody>\n",
       "</table>\n",
       "<p>5 rows × 33 columns</p>\n",
       "</div>"
      ],
      "text/plain": [
       "   scopus_source_id                                              title  \\\n",
       "0             24201                   Expert Systems with Applications   \n",
       "1             24800                  Neural Computing and Applications   \n",
       "2       21100235616  IEEE Transactions on Neural Networks and Learn...   \n",
       "3             24357  Journal of Experimental and Theoretical Artifi...   \n",
       "4       19700190323  ACM Transactions on Intelligent Systems and Te...   \n",
       "\n",
       "   citescore  percentile  citation_count  scholarly_output  percent_cited  \\\n",
       "0       6.36          92           13082              2056             91   \n",
       "1       4.20          82            3124               744             80   \n",
       "2      12.16          97            9306               765             94   \n",
       "3       2.20          63             383               174             56   \n",
       "4       4.40          86            1073               244             74   \n",
       "\n",
       "    snip    sjr  rank  ...                                    journal_website  \\\n",
       "0  2.696  1.190    14  ...  http://www.elsevier.com/wps/find/journaldescri...   \n",
       "1  1.481  0.637    34  ...        http://www.springerlink.com/content/102827/   \n",
       "2  4.062  3.658     5  ...  http://ieeexplore.ieee.org/xpl/aboutJournal.js...   \n",
       "3  0.999  0.392    70  ...              http://www.tandfonline.com/loi/teta20   \n",
       "4  2.177  0.708    27  ...                              https://tist.acm.org/   \n",
       "\n",
       "  review_time open_access2 print_issn     e_issn user_index user_publisher  \\\n",
       "0         NaN           No  0957-4174  1873-6793        1.0           1.00   \n",
       "1         NaN           No  0941-0643  1433-3058        1.0           0.85   \n",
       "2         NaN           No  2162-237X  2162-2388        1.0           0.70   \n",
       "3         NaN           No  0952-813X  1362-3079        1.0           0.55   \n",
       "4         NaN           No  2157-6904  2157-6912        1.0           0.25   \n",
       "\n",
       "  user_percentile user_frequency user_open_access  \n",
       "0             1.0           0.78              1.0  \n",
       "1             1.0           0.66              1.0  \n",
       "2             1.0           0.66              1.0  \n",
       "3             0.7           0.44              1.0  \n",
       "4             1.0           0.55              1.0  \n",
       "\n",
       "[5 rows x 33 columns]"
      ]
     },
     "execution_count": 12,
     "metadata": {},
     "output_type": "execute_result"
    }
   ],
   "source": [
    "journal.head()"
   ]
  },
  {
   "cell_type": "code",
   "execution_count": 13,
   "metadata": {},
   "outputs": [],
   "source": [
    "journal.to_csv('User Journals.csv', index=False) "
   ]
  },
  {
   "cell_type": "code",
   "execution_count": null,
   "metadata": {},
   "outputs": [],
   "source": []
  }
 ],
 "metadata": {
  "kernelspec": {
   "display_name": "Python 3",
   "language": "python",
   "name": "python3"
  },
  "language_info": {
   "codemirror_mode": {
    "name": "ipython",
    "version": 3
   },
   "file_extension": ".py",
   "mimetype": "text/x-python",
   "name": "python",
   "nbconvert_exporter": "python",
   "pygments_lexer": "ipython3",
   "version": "3.7.3"
  }
 },
 "nbformat": 4,
 "nbformat_minor": 2
}
