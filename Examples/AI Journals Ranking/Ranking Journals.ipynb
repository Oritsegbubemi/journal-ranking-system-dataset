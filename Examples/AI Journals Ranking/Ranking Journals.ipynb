{
 "cells": [
  {
   "cell_type": "markdown",
   "metadata": {},
   "source": [
    "# Import all the needed libraries"
   ]
  },
  {
   "cell_type": "code",
   "execution_count": 1,
   "metadata": {},
   "outputs": [],
   "source": [
    "import numpy as np\n",
    "import pandas as pd"
   ]
  },
  {
   "cell_type": "code",
   "execution_count": 2,
   "metadata": {},
   "outputs": [
    {
     "data": {
      "text/html": [
       "<div>\n",
       "<style scoped>\n",
       "    .dataframe tbody tr th:only-of-type {\n",
       "        vertical-align: middle;\n",
       "    }\n",
       "\n",
       "    .dataframe tbody tr th {\n",
       "        vertical-align: top;\n",
       "    }\n",
       "\n",
       "    .dataframe thead th {\n",
       "        text-align: right;\n",
       "    }\n",
       "</style>\n",
       "<table border=\"1\" class=\"dataframe\">\n",
       "  <thead>\n",
       "    <tr style=\"text-align: right;\">\n",
       "      <th></th>\n",
       "      <th>scopus_source_id</th>\n",
       "      <th>title</th>\n",
       "      <th>citescore</th>\n",
       "      <th>percentile</th>\n",
       "      <th>citation_count</th>\n",
       "      <th>scholarly_output</th>\n",
       "      <th>percent_cited</th>\n",
       "      <th>snip</th>\n",
       "      <th>sjr</th>\n",
       "      <th>rank</th>\n",
       "      <th>...</th>\n",
       "      <th>scopus_link</th>\n",
       "      <th>index</th>\n",
       "      <th>publisher2</th>\n",
       "      <th>percentile2</th>\n",
       "      <th>frequency</th>\n",
       "      <th>journal_website</th>\n",
       "      <th>review_time</th>\n",
       "      <th>open_access2</th>\n",
       "      <th>print_issn</th>\n",
       "      <th>e_issn</th>\n",
       "    </tr>\n",
       "  </thead>\n",
       "  <tbody>\n",
       "    <tr>\n",
       "      <th>0</th>\n",
       "      <td>24800</td>\n",
       "      <td>Neural Computing and Applications</td>\n",
       "      <td>4.2</td>\n",
       "      <td>82</td>\n",
       "      <td>3124</td>\n",
       "      <td>744</td>\n",
       "      <td>80</td>\n",
       "      <td>1.481</td>\n",
       "      <td>0.637</td>\n",
       "      <td>34</td>\n",
       "      <td>...</td>\n",
       "      <td>https://www.scopus.com/sourceid/24800</td>\n",
       "      <td>Scopus</td>\n",
       "      <td>Springer</td>\n",
       "      <td>100</td>\n",
       "      <td>Monthly</td>\n",
       "      <td>http://www.springerlink.com/content/102827/</td>\n",
       "      <td>NaN</td>\n",
       "      <td>No</td>\n",
       "      <td>0941-0643</td>\n",
       "      <td>1433-3058</td>\n",
       "    </tr>\n",
       "    <tr>\n",
       "      <th>1</th>\n",
       "      <td>24357</td>\n",
       "      <td>Journal of Experimental and Theoretical Artifi...</td>\n",
       "      <td>2.2</td>\n",
       "      <td>63</td>\n",
       "      <td>383</td>\n",
       "      <td>174</td>\n",
       "      <td>56</td>\n",
       "      <td>0.999</td>\n",
       "      <td>0.392</td>\n",
       "      <td>70</td>\n",
       "      <td>...</td>\n",
       "      <td>https://www.scopus.com/sourceid/24357</td>\n",
       "      <td>Scopus</td>\n",
       "      <td>Taylor and Francis</td>\n",
       "      <td>200</td>\n",
       "      <td>Quarterly</td>\n",
       "      <td>http://www.tandfonline.com/loi/teta20</td>\n",
       "      <td>NaN</td>\n",
       "      <td>No</td>\n",
       "      <td>0952-813X</td>\n",
       "      <td>1362-3079</td>\n",
       "    </tr>\n",
       "  </tbody>\n",
       "</table>\n",
       "<p>2 rows × 28 columns</p>\n",
       "</div>"
      ],
      "text/plain": [
       "   scopus_source_id                                              title  \\\n",
       "0             24800                  Neural Computing and Applications   \n",
       "1             24357  Journal of Experimental and Theoretical Artifi...   \n",
       "\n",
       "   citescore  percentile  citation_count  scholarly_output  percent_cited  \\\n",
       "0        4.2          82            3124               744             80   \n",
       "1        2.2          63             383               174             56   \n",
       "\n",
       "    snip    sjr  rank  ...                            scopus_link   index  \\\n",
       "0  1.481  0.637    34  ...  https://www.scopus.com/sourceid/24800  Scopus   \n",
       "1  0.999  0.392    70  ...  https://www.scopus.com/sourceid/24357  Scopus   \n",
       "\n",
       "           publisher2 percentile2  frequency  \\\n",
       "0            Springer         100    Monthly   \n",
       "1  Taylor and Francis         200  Quarterly   \n",
       "\n",
       "                               journal_website review_time open_access2  \\\n",
       "0  http://www.springerlink.com/content/102827/         NaN           No   \n",
       "1        http://www.tandfonline.com/loi/teta20         NaN           No   \n",
       "\n",
       "  print_issn     e_issn  \n",
       "0  0941-0643  1433-3058  \n",
       "1  0952-813X  1362-3079  \n",
       "\n",
       "[2 rows x 28 columns]"
      ]
     },
     "execution_count": 2,
     "metadata": {},
     "output_type": "execute_result"
    }
   ],
   "source": [
    "journal = pd.read_csv('Ranking Journals.csv')\n",
    "journal.head(2)"
   ]
  },
  {
   "cell_type": "code",
   "execution_count": 3,
   "metadata": {},
   "outputs": [
    {
     "data": {
      "text/plain": [
       "6"
      ]
     },
     "execution_count": 3,
     "metadata": {},
     "output_type": "execute_result"
    }
   ],
   "source": [
    "len(journal)"
   ]
  },
  {
   "cell_type": "markdown",
   "metadata": {},
   "source": [
    "## Creating new columns for ranking"
   ]
  },
  {
   "cell_type": "code",
   "execution_count": 4,
   "metadata": {},
   "outputs": [],
   "source": [
    "journal['user_index'] = journal['index']\n",
    "journal['user_publisher'] = journal['publisher2']\n",
    "journal['user_percentile'] = journal['percentile2']\n",
    "journal['user_frequency'] = journal['frequency']\n",
    "journal['user_open_access'] = journal['open_access2']"
   ]
  },
  {
   "cell_type": "code",
   "execution_count": 5,
   "metadata": {},
   "outputs": [
    {
     "data": {
      "text/plain": [
       "Index(['scopus_source_id', 'title', 'citescore', 'percentile',\n",
       "       'citation_count', 'scholarly_output', 'percent_cited', 'snip', 'sjr',\n",
       "       'rank', 'rank_outof', 'publisher', 'type', 'open_access',\n",
       "       'scopus_asjc_code', 'subject_area', 'quartile', 'top_10%',\n",
       "       'scopus_link', 'index', 'publisher2', 'percentile2', 'frequency',\n",
       "       'journal_website', 'review_time', 'open_access2', 'print_issn',\n",
       "       'e_issn', 'user_index', 'user_publisher', 'user_percentile',\n",
       "       'user_frequency', 'user_open_access'],\n",
       "      dtype='object')"
      ]
     },
     "execution_count": 5,
     "metadata": {},
     "output_type": "execute_result"
    }
   ],
   "source": [
    "journal.columns"
   ]
  },
  {
   "cell_type": "markdown",
   "metadata": {},
   "source": [
    "# Ranking Time Everybody!!!!!"
   ]
  },
  {
   "cell_type": "markdown",
   "metadata": {},
   "source": [
    "# Subject Area"
   ]
  },
  {
   "cell_type": "code",
   "execution_count": 6,
   "metadata": {},
   "outputs": [
    {
     "name": "stdout",
     "output_type": "stream",
     "text": [
      "Please Enter a number which represent a computer science sub-subject area: 3\n"
     ]
    }
   ],
   "source": [
    "def user__switch_subject_area(arg):\n",
    "    switcher = {\n",
    "        1: \"General Computer Science\",\n",
    "        2: \"Computer Science (miscellaneous)\",\n",
    "        3: \"Artificial Intelligence\",\n",
    "        4: \"Computational Theory and Mathematics\",\n",
    "        5: \"Computer Graphics and Computer-Aided Design\",\n",
    "        6: \"Computer Networks and Communications\",\n",
    "        7: \"Computer Science Applications\",\n",
    "        8: \"Computer Vision and Pattern Recognition\",\n",
    "        9: \"Hardware and Architecture\",\n",
    "        10: \"Human-Computer Interaction\",\n",
    "        11: \"Information Systems\",\n",
    "        12: \"Signal Processing\",\n",
    "        13: \"Software\"\n",
    "    }\n",
    "    return switcher.get(arg, \"You entered an invalid input\")\n",
    "\n",
    "user_subject_area = int(input(\"Please Enter a number which represent a computer science sub-subject area: \"))\n",
    "subject_area = user__switch_subject_area(user_subject_area)\n",
    "not_suject_area = journal.loc[journal['subject_area'] != subject_area]\n",
    "journal=journal.drop(not_suject_area.index, axis=0)"
   ]
  },
  {
   "cell_type": "markdown",
   "metadata": {},
   "source": [
    "## Index"
   ]
  },
  {
   "cell_type": "code",
   "execution_count": 7,
   "metadata": {},
   "outputs": [
    {
     "name": "stdout",
     "output_type": "stream",
     "text": [
      "Enter the Scopus index ranking number: 2\n",
      "Enter the SCIEISI index ranking number: 1\n",
      "{'Scopus': 1.0, 'SCIEISI': 0.5}\n"
     ]
    }
   ],
   "source": [
    "index = dict()\n",
    "def user_index():\n",
    "    list_index = [\"Scopus\", \"SCIEISI\"]\n",
    "    value_index = np.linspace(0.0, 1.0, 3).round(3).tolist()\n",
    "    len_index = len(list_index)\n",
    "    check_duplicate = []\n",
    "    for x in list_index:\n",
    "        while True:\n",
    "            try:\n",
    "                user_index = int(input(\"Enter the {} index ranking number: \".format(x)))\n",
    "                if(user_index in check_duplicate):\n",
    "                    print(\"Number Already taken\")\n",
    "                elif (user_index not in range(1, len_index+1)):\n",
    "                    print(\"Please enter a number between 1 to 2\") \n",
    "                else:\n",
    "                    index[x] = value_index[user_index]\n",
    "                    check_duplicate.append(user_index)\n",
    "                    break\n",
    "            except:\n",
    "                user_index = int(input(\"Enter the {} index ranking number: \".format(x)))\n",
    "                continue\n",
    "    return index\n",
    "\n",
    "print(user_index())\n",
    "rank_index = journal['user_index']\n",
    "for i in rank_index:\n",
    "    for key in index.keys():\n",
    "        if (i == key):\n",
    "            a = rank_index.replace(i,index[key], inplace=True)"
   ]
  },
  {
   "cell_type": "markdown",
   "metadata": {},
   "source": [
    "# Publisher"
   ]
  },
  {
   "cell_type": "code",
   "execution_count": 8,
   "metadata": {},
   "outputs": [
    {
     "name": "stdout",
     "output_type": "stream",
     "text": [
      "Enter the Springer publisher ranking number: 5\n",
      "Enter the Elsevier publisher ranking number: 7\n",
      "Enter the IEEE publisher ranking number: 3\n",
      "Enter the Taylor and Francis publisher ranking number: 6\n",
      "Enter the Inderscience publisher ranking number: 4\n",
      "Enter the ACM publisher ranking number: 2\n",
      "Enter the Others publisher ranking number: 1\n",
      "{'Springer': 0.714, 'Elsevier': 1.0, 'IEEE': 0.429, 'Taylor and Francis': 0.857, 'Inderscience': 0.571, 'ACM': 0.286, 'Others': 0.143}\n"
     ]
    }
   ],
   "source": [
    "publisher = dict()\n",
    "def user_publisher():\n",
    "    list_publisher = [\"Springer\", \"Elsevier\", \"IEEE\", \"Taylor and Francis\", \"Inderscience\", \"ACM\", \"Others\"]\n",
    "    value_publisher = np.linspace(0.0, 1.0, 8).round(3).tolist()\n",
    "    len_publisher = len(list_publisher)\n",
    "    check_duplicate = []\n",
    "    for x in list_publisher:\n",
    "        while True:\n",
    "            try:\n",
    "                user_publisher = int(input(\"Enter the {} publisher ranking number: \".format(x)))\n",
    "                if(user_publisher in check_duplicate):\n",
    "                    print(\"Number Already taken\")\n",
    "                elif (user_publisher not in range(1, len_publisher+1)):\n",
    "                    print(\"Please enter a number between 1 to 7\") \n",
    "                else:\n",
    "                    publisher[x] = value_publisher[user_publisher]\n",
    "                    check_duplicate.append(user_publisher)\n",
    "                    break\n",
    "            except:\n",
    "                user_publisher = int(input(\"Enter the {} publisher ranking number: \".format(x)))\n",
    "                continue\n",
    "    return publisher\n",
    "\n",
    "print(user_publisher())\n",
    "rank_publisher = journal['user_publisher']\n",
    "for i in rank_publisher:\n",
    "    for key in publisher.keys():\n",
    "        if (i == key):\n",
    "            a = rank_publisher.replace(i,publisher[key], inplace=True)"
   ]
  },
  {
   "cell_type": "markdown",
   "metadata": {},
   "source": [
    "# Percentile"
   ]
  },
  {
   "cell_type": "code",
   "execution_count": 9,
   "metadata": {},
   "outputs": [
    {
     "name": "stdout",
     "output_type": "stream",
     "text": [
      "Enter the 99 - 75 percentile ranking number: 3\n",
      "Enter the 74 - 50 percentile ranking number: 4\n",
      "Enter the 49 - 25 percentile ranking number: 2\n",
      "Enter the 24 - 0 percentile ranking number: 1\n",
      "{100: 0.75, 200: 1.0, 300: 0.5, 400: 0.25}\n"
     ]
    }
   ],
   "source": [
    "percentile = dict() \n",
    "def user_percentile():  \n",
    "    print_percentile = [\"99 - 75\", \"74 - 50\", \"49 - 25\", \"24 - 0\"] \n",
    "    list_percentile = [100, 200, 300, 400]\n",
    "    value_percentile = np.linspace(0.0, 1.0, 5).round(3).tolist()\n",
    "    len_percentile = len(list_percentile)\n",
    "    check_duplicate = []\n",
    "    for (x, y) in zip(list_percentile, print_percentile):\n",
    "        while True:\n",
    "            try:\n",
    "                user_percentile = int(input(\"Enter the {} percentile ranking number: \".format(y)))\n",
    "                if(user_percentile in check_duplicate):\n",
    "                    print(\"Number Already taken\")\n",
    "                elif (user_percentile not in range(1, len_percentile+1)):\n",
    "                    print(\"Please enter a number between 1 to 4\") \n",
    "                else:\n",
    "                    percentile[x] = value_percentile[user_percentile]\n",
    "                    check_duplicate.append(user_percentile)\n",
    "                    break\n",
    "            except:\n",
    "                user_percentile = int(input(\"Enter the {} percentile ranking number: \".format(x)))\n",
    "                continue\n",
    "    return percentile\n",
    "\n",
    "print(user_percentile())\n",
    "rank_percentile = journal['user_percentile']\n",
    "for i in rank_percentile:\n",
    "    for key in percentile.keys():\n",
    "        if (i == key):\n",
    "            a = rank_percentile.replace(i,percentile[key], inplace=True)"
   ]
  },
  {
   "cell_type": "markdown",
   "metadata": {},
   "source": [
    "# Frequency"
   ]
  },
  {
   "cell_type": "code",
   "execution_count": 10,
   "metadata": {},
   "outputs": [
    {
     "name": "stdout",
     "output_type": "stream",
     "text": [
      "Enter the Weekly frequency ranking number: 2\n",
      "Enter the Fortnightly frequency ranking number: 3\n",
      "Enter the Semi-monthly frequency ranking number: 5\n",
      "Enter the Monthly frequency ranking number: 6\n",
      "Enter the Bi-monthly frequency ranking number: 7\n",
      "Enter the Quarterly frequency ranking number: 9\n",
      "Enter the Tri-annual frequency ranking number: 8\n",
      "Enter the Semi-annual frequency ranking number: 4\n",
      "Enter the Annual frequency ranking number: 1\n",
      "{'Weekly': 0.222, 'Fortnightly': 0.333, 'Semi-monthly': 0.556, 'Monthly': 0.667, 'Bi-monthly': 0.778, 'Quarterly': 1.0, 'Tri-annual': 0.889, 'Semi-annual': 0.444, 'Annual': 0.111}\n"
     ]
    }
   ],
   "source": [
    "frequency = dict()\n",
    "def user_frequency():\n",
    "    list_frequency = [\"Weekly\", \"Fortnightly\", \"Semi-monthly\", \"Monthly\", \"Bi-monthly\", \"Quarterly\", \"Tri-annual\", \"Semi-annual\", \"Annual\"]\n",
    "    value_frequency = np.linspace(0.0, 1.0, 10).round(3).tolist()\n",
    "    len_frequency = len(list_frequency)\n",
    "    check_duplicate = []\n",
    "    for x in list_frequency:\n",
    "        while True:\n",
    "            try:\n",
    "                user_frequency = int(input(\"Enter the {} frequency ranking number: \".format(x)))\n",
    "                if(user_frequency in check_duplicate):\n",
    "                    print(\"Number Already taken\")\n",
    "                elif (user_frequency not in range(1, len_frequency+1)):\n",
    "                    print(\"Please enter a number between 1 to 9\") \n",
    "                else:\n",
    "                    frequency[x] = value_frequency[user_frequency]\n",
    "                    check_duplicate.append(user_frequency)\n",
    "                    break\n",
    "            except:\n",
    "                user_frequency = int(input(\"Enter the {} frequency ranking number: \".format(x)))\n",
    "                continue\n",
    "    return frequency\n",
    "\n",
    "print(user_frequency())\n",
    "rank_frequency = journal['user_frequency']\n",
    "for i in rank_frequency:\n",
    "    for key in frequency.keys():\n",
    "        if (i == key):\n",
    "            a = rank_frequency.replace(i,frequency[key], inplace=True)"
   ]
  },
  {
   "cell_type": "markdown",
   "metadata": {},
   "source": [
    "## Open Access"
   ]
  },
  {
   "cell_type": "code",
   "execution_count": 11,
   "metadata": {},
   "outputs": [
    {
     "name": "stdout",
     "output_type": "stream",
     "text": [
      "Enter the Yes open access ranking number: 1\n",
      "Enter the No open access ranking number: 2\n",
      "{'Yes': 0.5, 'No': 1.0}\n"
     ]
    }
   ],
   "source": [
    "open_access = dict()\n",
    "def user_open_access():\n",
    "    list_open_access = [\"Yes\", \"No\"]\n",
    "    value_open_access = np.linspace(0.0, 1.0, 3).round(3).tolist()\n",
    "    len_open_access = len(list_open_access)\n",
    "    check_duplicate = []\n",
    "    for x in list_open_access:\n",
    "        while True:\n",
    "            try:\n",
    "                user_open_access = int(input(\"Enter the {} open access ranking number: \".format(x)))\n",
    "                if(user_open_access in check_duplicate):\n",
    "                    print(\"Number Already taken\")\n",
    "                elif (user_open_access not in range(1, len_open_access+1)):\n",
    "                    print(\"Please enter a number between 1 to 2\") \n",
    "                else:\n",
    "                    open_access[x] = value_open_access[user_open_access]\n",
    "                    check_duplicate.append(user_open_access)\n",
    "                    break\n",
    "            except:\n",
    "                user_open_access = int(input(\"Enter the {} openaccess ranking number: \".format(x)))\n",
    "                continue\n",
    "    return open_access\n",
    "\n",
    "print(user_open_access())\n",
    "rank_open_access = journal['user_open_access']\n",
    "for i in rank_open_access:\n",
    "    for key in open_access.keys():\n",
    "        if (i == key):\n",
    "            a = rank_open_access.replace(i,open_access[key], inplace=True)"
   ]
  },
  {
   "cell_type": "markdown",
   "metadata": {},
   "source": [
    "# View Dataset"
   ]
  },
  {
   "cell_type": "code",
   "execution_count": 12,
   "metadata": {},
   "outputs": [
    {
     "data": {
      "text/html": [
       "<div>\n",
       "<style scoped>\n",
       "    .dataframe tbody tr th:only-of-type {\n",
       "        vertical-align: middle;\n",
       "    }\n",
       "\n",
       "    .dataframe tbody tr th {\n",
       "        vertical-align: top;\n",
       "    }\n",
       "\n",
       "    .dataframe thead th {\n",
       "        text-align: right;\n",
       "    }\n",
       "</style>\n",
       "<table border=\"1\" class=\"dataframe\">\n",
       "  <thead>\n",
       "    <tr style=\"text-align: right;\">\n",
       "      <th></th>\n",
       "      <th>scopus_source_id</th>\n",
       "      <th>title</th>\n",
       "      <th>citescore</th>\n",
       "      <th>percentile</th>\n",
       "      <th>citation_count</th>\n",
       "      <th>scholarly_output</th>\n",
       "      <th>percent_cited</th>\n",
       "      <th>snip</th>\n",
       "      <th>sjr</th>\n",
       "      <th>rank</th>\n",
       "      <th>...</th>\n",
       "      <th>journal_website</th>\n",
       "      <th>review_time</th>\n",
       "      <th>open_access2</th>\n",
       "      <th>print_issn</th>\n",
       "      <th>e_issn</th>\n",
       "      <th>user_index</th>\n",
       "      <th>user_publisher</th>\n",
       "      <th>user_percentile</th>\n",
       "      <th>user_frequency</th>\n",
       "      <th>user_open_access</th>\n",
       "    </tr>\n",
       "  </thead>\n",
       "  <tbody>\n",
       "    <tr>\n",
       "      <th>0</th>\n",
       "      <td>24800</td>\n",
       "      <td>Neural Computing and Applications</td>\n",
       "      <td>4.20</td>\n",
       "      <td>82</td>\n",
       "      <td>3124</td>\n",
       "      <td>744</td>\n",
       "      <td>80</td>\n",
       "      <td>1.481</td>\n",
       "      <td>0.637</td>\n",
       "      <td>34</td>\n",
       "      <td>...</td>\n",
       "      <td>http://www.springerlink.com/content/102827/</td>\n",
       "      <td>NaN</td>\n",
       "      <td>No</td>\n",
       "      <td>0941-0643</td>\n",
       "      <td>1433-3058</td>\n",
       "      <td>1.0</td>\n",
       "      <td>0.714</td>\n",
       "      <td>0.75</td>\n",
       "      <td>0.667</td>\n",
       "      <td>1.0</td>\n",
       "    </tr>\n",
       "    <tr>\n",
       "      <th>1</th>\n",
       "      <td>24357</td>\n",
       "      <td>Journal of Experimental and Theoretical Artifi...</td>\n",
       "      <td>2.20</td>\n",
       "      <td>63</td>\n",
       "      <td>383</td>\n",
       "      <td>174</td>\n",
       "      <td>56</td>\n",
       "      <td>0.999</td>\n",
       "      <td>0.392</td>\n",
       "      <td>70</td>\n",
       "      <td>...</td>\n",
       "      <td>http://www.tandfonline.com/loi/teta20</td>\n",
       "      <td>NaN</td>\n",
       "      <td>No</td>\n",
       "      <td>0952-813X</td>\n",
       "      <td>1362-3079</td>\n",
       "      <td>1.0</td>\n",
       "      <td>0.857</td>\n",
       "      <td>1.00</td>\n",
       "      <td>1.000</td>\n",
       "      <td>1.0</td>\n",
       "    </tr>\n",
       "    <tr>\n",
       "      <th>2</th>\n",
       "      <td>24201</td>\n",
       "      <td>Expert Systems with Applications</td>\n",
       "      <td>6.36</td>\n",
       "      <td>92</td>\n",
       "      <td>13082</td>\n",
       "      <td>2056</td>\n",
       "      <td>91</td>\n",
       "      <td>2.696</td>\n",
       "      <td>1.190</td>\n",
       "      <td>14</td>\n",
       "      <td>...</td>\n",
       "      <td>http://www.elsevier.com/wps/find/journaldescri...</td>\n",
       "      <td>NaN</td>\n",
       "      <td>No</td>\n",
       "      <td>0957-4174</td>\n",
       "      <td>1873-6793</td>\n",
       "      <td>1.0</td>\n",
       "      <td>1.000</td>\n",
       "      <td>0.75</td>\n",
       "      <td>0.556</td>\n",
       "      <td>1.0</td>\n",
       "    </tr>\n",
       "    <tr>\n",
       "      <th>3</th>\n",
       "      <td>21100235616</td>\n",
       "      <td>IEEE Transactions on Neural Networks and Learn...</td>\n",
       "      <td>12.16</td>\n",
       "      <td>97</td>\n",
       "      <td>9306</td>\n",
       "      <td>765</td>\n",
       "      <td>94</td>\n",
       "      <td>4.062</td>\n",
       "      <td>3.658</td>\n",
       "      <td>5</td>\n",
       "      <td>...</td>\n",
       "      <td>http://ieeexplore.ieee.org/xpl/aboutJournal.js...</td>\n",
       "      <td>NaN</td>\n",
       "      <td>No</td>\n",
       "      <td>2162-237X</td>\n",
       "      <td>2162-2388</td>\n",
       "      <td>1.0</td>\n",
       "      <td>0.429</td>\n",
       "      <td>0.75</td>\n",
       "      <td>0.667</td>\n",
       "      <td>1.0</td>\n",
       "    </tr>\n",
       "    <tr>\n",
       "      <th>4</th>\n",
       "      <td>24330</td>\n",
       "      <td>Journal of Artificial Intelligence Research</td>\n",
       "      <td>3.23</td>\n",
       "      <td>73</td>\n",
       "      <td>585</td>\n",
       "      <td>181</td>\n",
       "      <td>76</td>\n",
       "      <td>2.084</td>\n",
       "      <td>0.754</td>\n",
       "      <td>51</td>\n",
       "      <td>...</td>\n",
       "      <td>http://www.jair.org/</td>\n",
       "      <td>27 weeks</td>\n",
       "      <td>Yes</td>\n",
       "      <td>1076-9757</td>\n",
       "      <td>1943-5037</td>\n",
       "      <td>0.5</td>\n",
       "      <td>0.143</td>\n",
       "      <td>1.00</td>\n",
       "      <td>0.111</td>\n",
       "      <td>0.5</td>\n",
       "    </tr>\n",
       "    <tr>\n",
       "      <th>5</th>\n",
       "      <td>19700190323</td>\n",
       "      <td>ACM Transactions on Intelligent Systems and Te...</td>\n",
       "      <td>4.40</td>\n",
       "      <td>86</td>\n",
       "      <td>1073</td>\n",
       "      <td>244</td>\n",
       "      <td>74</td>\n",
       "      <td>2.177</td>\n",
       "      <td>0.708</td>\n",
       "      <td>27</td>\n",
       "      <td>...</td>\n",
       "      <td>https://tist.acm.org/</td>\n",
       "      <td>NaN</td>\n",
       "      <td>No</td>\n",
       "      <td>2157-6904</td>\n",
       "      <td>2157-6912</td>\n",
       "      <td>1.0</td>\n",
       "      <td>0.286</td>\n",
       "      <td>0.75</td>\n",
       "      <td>0.778</td>\n",
       "      <td>1.0</td>\n",
       "    </tr>\n",
       "  </tbody>\n",
       "</table>\n",
       "<p>6 rows × 33 columns</p>\n",
       "</div>"
      ],
      "text/plain": [
       "   scopus_source_id                                              title  \\\n",
       "0             24800                  Neural Computing and Applications   \n",
       "1             24357  Journal of Experimental and Theoretical Artifi...   \n",
       "2             24201                   Expert Systems with Applications   \n",
       "3       21100235616  IEEE Transactions on Neural Networks and Learn...   \n",
       "4             24330        Journal of Artificial Intelligence Research   \n",
       "5       19700190323  ACM Transactions on Intelligent Systems and Te...   \n",
       "\n",
       "   citescore  percentile  citation_count  scholarly_output  percent_cited  \\\n",
       "0       4.20          82            3124               744             80   \n",
       "1       2.20          63             383               174             56   \n",
       "2       6.36          92           13082              2056             91   \n",
       "3      12.16          97            9306               765             94   \n",
       "4       3.23          73             585               181             76   \n",
       "5       4.40          86            1073               244             74   \n",
       "\n",
       "    snip    sjr  rank  ...                                    journal_website  \\\n",
       "0  1.481  0.637    34  ...        http://www.springerlink.com/content/102827/   \n",
       "1  0.999  0.392    70  ...              http://www.tandfonline.com/loi/teta20   \n",
       "2  2.696  1.190    14  ...  http://www.elsevier.com/wps/find/journaldescri...   \n",
       "3  4.062  3.658     5  ...  http://ieeexplore.ieee.org/xpl/aboutJournal.js...   \n",
       "4  2.084  0.754    51  ...                               http://www.jair.org/   \n",
       "5  2.177  0.708    27  ...                              https://tist.acm.org/   \n",
       "\n",
       "  review_time open_access2 print_issn     e_issn user_index user_publisher  \\\n",
       "0         NaN           No  0941-0643  1433-3058        1.0          0.714   \n",
       "1         NaN           No  0952-813X  1362-3079        1.0          0.857   \n",
       "2         NaN           No  0957-4174  1873-6793        1.0          1.000   \n",
       "3         NaN           No  2162-237X  2162-2388        1.0          0.429   \n",
       "4    27 weeks          Yes  1076-9757  1943-5037        0.5          0.143   \n",
       "5         NaN           No  2157-6904  2157-6912        1.0          0.286   \n",
       "\n",
       "  user_percentile user_frequency user_open_access  \n",
       "0            0.75          0.667              1.0  \n",
       "1            1.00          1.000              1.0  \n",
       "2            0.75          0.556              1.0  \n",
       "3            0.75          0.667              1.0  \n",
       "4            1.00          0.111              0.5  \n",
       "5            0.75          0.778              1.0  \n",
       "\n",
       "[6 rows x 33 columns]"
      ]
     },
     "execution_count": 12,
     "metadata": {},
     "output_type": "execute_result"
    }
   ],
   "source": [
    "journal.head(6)"
   ]
  },
  {
   "cell_type": "code",
   "execution_count": 13,
   "metadata": {},
   "outputs": [],
   "source": [
    "journal.to_csv('User Journals.csv', index=False) "
   ]
  },
  {
   "cell_type": "code",
   "execution_count": null,
   "metadata": {},
   "outputs": [],
   "source": []
  }
 ],
 "metadata": {
  "kernelspec": {
   "display_name": "Python 3",
   "language": "python",
   "name": "python3"
  },
  "language_info": {
   "codemirror_mode": {
    "name": "ipython",
    "version": 3
   },
   "file_extension": ".py",
   "mimetype": "text/x-python",
   "name": "python",
   "nbconvert_exporter": "python",
   "pygments_lexer": "ipython3",
   "version": "3.7.3"
  }
 },
 "nbformat": 4,
 "nbformat_minor": 2
}
