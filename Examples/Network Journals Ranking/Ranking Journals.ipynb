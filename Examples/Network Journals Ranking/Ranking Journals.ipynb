{
 "cells": [
  {
   "cell_type": "markdown",
   "metadata": {},
   "source": [
    "# Import all the needed libraries"
   ]
  },
  {
   "cell_type": "code",
   "execution_count": 1,
   "metadata": {},
   "outputs": [],
   "source": [
    "import numpy as np\n",
    "import pandas as pd"
   ]
  },
  {
   "cell_type": "code",
   "execution_count": 2,
   "metadata": {},
   "outputs": [
    {
     "data": {
      "text/html": [
       "<div>\n",
       "<style scoped>\n",
       "    .dataframe tbody tr th:only-of-type {\n",
       "        vertical-align: middle;\n",
       "    }\n",
       "\n",
       "    .dataframe tbody tr th {\n",
       "        vertical-align: top;\n",
       "    }\n",
       "\n",
       "    .dataframe thead th {\n",
       "        text-align: right;\n",
       "    }\n",
       "</style>\n",
       "<table border=\"1\" class=\"dataframe\">\n",
       "  <thead>\n",
       "    <tr style=\"text-align: right;\">\n",
       "      <th></th>\n",
       "      <th>scopus_source_id</th>\n",
       "      <th>title</th>\n",
       "      <th>citescore</th>\n",
       "      <th>percentile</th>\n",
       "      <th>citation_count</th>\n",
       "      <th>scholarly_output</th>\n",
       "      <th>percent_cited</th>\n",
       "      <th>snip</th>\n",
       "      <th>sjr</th>\n",
       "      <th>rank</th>\n",
       "      <th>...</th>\n",
       "      <th>scopus_link</th>\n",
       "      <th>index</th>\n",
       "      <th>publisher2</th>\n",
       "      <th>percentile2</th>\n",
       "      <th>frequency</th>\n",
       "      <th>journal_website</th>\n",
       "      <th>review_time</th>\n",
       "      <th>open_access2</th>\n",
       "      <th>print_issn</th>\n",
       "      <th>e_issn</th>\n",
       "    </tr>\n",
       "  </thead>\n",
       "  <tbody>\n",
       "    <tr>\n",
       "      <th>0</th>\n",
       "      <td>18902</td>\n",
       "      <td>IEEE Journal on Selected Areas in Communications</td>\n",
       "      <td>10.91</td>\n",
       "      <td>98</td>\n",
       "      <td>8074</td>\n",
       "      <td>740</td>\n",
       "      <td>92</td>\n",
       "      <td>3.311</td>\n",
       "      <td>2.294</td>\n",
       "      <td>5</td>\n",
       "      <td>...</td>\n",
       "      <td>https://www.scopus.com/sourceid/18902</td>\n",
       "      <td>Scopus</td>\n",
       "      <td>IEEE</td>\n",
       "      <td>100</td>\n",
       "      <td>Monthly</td>\n",
       "      <td>http://ieeexplore.ieee.org/xpl/aboutJournal.js...</td>\n",
       "      <td>NaN</td>\n",
       "      <td>No</td>\n",
       "      <td>0733-8716</td>\n",
       "      <td>1558-0008</td>\n",
       "    </tr>\n",
       "    <tr>\n",
       "      <th>1</th>\n",
       "      <td>15773</td>\n",
       "      <td>ACM Transactions on Internet Technology</td>\n",
       "      <td>3.33</td>\n",
       "      <td>80</td>\n",
       "      <td>320</td>\n",
       "      <td>96</td>\n",
       "      <td>76</td>\n",
       "      <td>1.771</td>\n",
       "      <td>0.538</td>\n",
       "      <td>53</td>\n",
       "      <td>...</td>\n",
       "      <td>https://www.scopus.com/sourceid/15773</td>\n",
       "      <td>Scopus</td>\n",
       "      <td>ACM</td>\n",
       "      <td>100</td>\n",
       "      <td>Quarterly</td>\n",
       "      <td>http://toit.acm.org/</td>\n",
       "      <td>NaN</td>\n",
       "      <td>No</td>\n",
       "      <td>1533-5399</td>\n",
       "      <td>1557-6051</td>\n",
       "    </tr>\n",
       "  </tbody>\n",
       "</table>\n",
       "<p>2 rows × 28 columns</p>\n",
       "</div>"
      ],
      "text/plain": [
       "   scopus_source_id                                             title  \\\n",
       "0             18902  IEEE Journal on Selected Areas in Communications   \n",
       "1             15773           ACM Transactions on Internet Technology   \n",
       "\n",
       "   citescore  percentile  citation_count  scholarly_output  percent_cited  \\\n",
       "0      10.91          98            8074               740             92   \n",
       "1       3.33          80             320                96             76   \n",
       "\n",
       "    snip    sjr  rank  ...                            scopus_link   index  \\\n",
       "0  3.311  2.294     5  ...  https://www.scopus.com/sourceid/18902  Scopus   \n",
       "1  1.771  0.538    53  ...  https://www.scopus.com/sourceid/15773  Scopus   \n",
       "\n",
       "  publisher2 percentile2  frequency  \\\n",
       "0       IEEE         100    Monthly   \n",
       "1        ACM         100  Quarterly   \n",
       "\n",
       "                                     journal_website review_time open_access2  \\\n",
       "0  http://ieeexplore.ieee.org/xpl/aboutJournal.js...         NaN           No   \n",
       "1                               http://toit.acm.org/         NaN           No   \n",
       "\n",
       "  print_issn     e_issn  \n",
       "0  0733-8716  1558-0008  \n",
       "1  1533-5399  1557-6051  \n",
       "\n",
       "[2 rows x 28 columns]"
      ]
     },
     "execution_count": 2,
     "metadata": {},
     "output_type": "execute_result"
    }
   ],
   "source": [
    "journal = pd.read_csv('Ranking Journals.csv')\n",
    "journal.head(2)"
   ]
  },
  {
   "cell_type": "code",
   "execution_count": 3,
   "metadata": {},
   "outputs": [
    {
     "data": {
      "text/plain": [
       "6"
      ]
     },
     "execution_count": 3,
     "metadata": {},
     "output_type": "execute_result"
    }
   ],
   "source": [
    "len(journal)"
   ]
  },
  {
   "cell_type": "markdown",
   "metadata": {},
   "source": [
    "## Creating new columns for ranking"
   ]
  },
  {
   "cell_type": "code",
   "execution_count": 4,
   "metadata": {},
   "outputs": [],
   "source": [
    "journal['user_index'] = journal['index']\n",
    "journal['user_publisher'] = journal['publisher2']\n",
    "journal['user_percentile'] = journal['percentile2']\n",
    "journal['user_frequency'] = journal['frequency']\n",
    "journal['user_open_access'] = journal['open_access2']"
   ]
  },
  {
   "cell_type": "code",
   "execution_count": 5,
   "metadata": {},
   "outputs": [
    {
     "data": {
      "text/plain": [
       "Index(['scopus_source_id', 'title', 'citescore', 'percentile',\n",
       "       'citation_count', 'scholarly_output', 'percent_cited', 'snip', 'sjr',\n",
       "       'rank', 'rank_outof', 'publisher', 'type', 'open_access',\n",
       "       'scopus_asjc_code', 'subject_area', 'quartile', 'top_10%',\n",
       "       'scopus_link', 'index', 'publisher2', 'percentile2', 'frequency',\n",
       "       'journal_website', 'review_time', 'open_access2', 'print_issn',\n",
       "       'e_issn', 'user_index', 'user_publisher', 'user_percentile',\n",
       "       'user_frequency', 'user_open_access'],\n",
       "      dtype='object')"
      ]
     },
     "execution_count": 5,
     "metadata": {},
     "output_type": "execute_result"
    }
   ],
   "source": [
    "journal.columns"
   ]
  },
  {
   "cell_type": "markdown",
   "metadata": {},
   "source": [
    "# Ranking Time Everybody!!!!!"
   ]
  },
  {
   "cell_type": "markdown",
   "metadata": {},
   "source": [
    "# Subject Area"
   ]
  },
  {
   "cell_type": "code",
   "execution_count": 6,
   "metadata": {},
   "outputs": [
    {
     "name": "stdout",
     "output_type": "stream",
     "text": [
      "Please Enter a number which represent a computer science sub-subject area: 6\n"
     ]
    }
   ],
   "source": [
    "def user__switch_subject_area(arg):\n",
    "    switcher = {\n",
    "        1: \"General Computer Science\",\n",
    "        2: \"Computer Science (miscellaneous)\",\n",
    "        3: \"Artificial Intelligence\",\n",
    "        4: \"Computational Theory and Mathematics\",\n",
    "        5: \"Computer Graphics and Computer-Aided Design\",\n",
    "        6: \"Computer Networks and Communications\",\n",
    "        7: \"Computer Science Applications\",\n",
    "        8: \"Computer Vision and Pattern Recognition\",\n",
    "        9: \"Hardware and Architecture\",\n",
    "        10: \"Human-Computer Interaction\",\n",
    "        11: \"Information Systems\",\n",
    "        12: \"Signal Processing\",\n",
    "        13: \"Software\"\n",
    "    }\n",
    "    return switcher.get(arg, \"You entered an invalid input\")\n",
    "\n",
    "user_subject_area = int(input(\"Please Enter a number which represent a computer science sub-subject area: \"))\n",
    "subject_area = user__switch_subject_area(user_subject_area)\n",
    "not_suject_area = journal.loc[journal['subject_area'] != subject_area]\n",
    "journal=journal.drop(not_suject_area.index, axis=0)"
   ]
  },
  {
   "cell_type": "markdown",
   "metadata": {},
   "source": [
    "## Index"
   ]
  },
  {
   "cell_type": "code",
   "execution_count": 7,
   "metadata": {},
   "outputs": [
    {
     "name": "stdout",
     "output_type": "stream",
     "text": [
      "Enter the Scopus index ranking number: 2\n",
      "Enter the SCIEISI index ranking number: 1\n",
      "{'Scopus': 1.0, 'SCIEISI': 0.5}\n"
     ]
    }
   ],
   "source": [
    "index = dict()\n",
    "def user_index():\n",
    "    list_index = [\"Scopus\", \"SCIEISI\"]\n",
    "    value_index = np.linspace(0.0, 1.0, 3).round(3).tolist()\n",
    "    len_index = len(list_index)\n",
    "    check_duplicate = []\n",
    "    for x in list_index:\n",
    "        while True:\n",
    "            try:\n",
    "                user_index = int(input(\"Enter the {} index ranking number: \".format(x)))\n",
    "                if(user_index in check_duplicate):\n",
    "                    print(\"Number Already taken\")\n",
    "                elif (user_index not in range(1, len_index+1)):\n",
    "                    print(\"Please enter a number between 1 to 2\") \n",
    "                else:\n",
    "                    index[x] = value_index[user_index]\n",
    "                    check_duplicate.append(user_index)\n",
    "                    break\n",
    "            except:\n",
    "                user_index = int(input(\"Enter the {} index ranking number: \".format(x)))\n",
    "                continue\n",
    "    return index\n",
    "\n",
    "print(user_index())\n",
    "rank_index = journal['user_index']\n",
    "for i in rank_index:\n",
    "    for key in index.keys():\n",
    "        if (i == key):\n",
    "            a = rank_index.replace(i,index[key], inplace=True)"
   ]
  },
  {
   "cell_type": "markdown",
   "metadata": {},
   "source": [
    "# Publisher"
   ]
  },
  {
   "cell_type": "code",
   "execution_count": 8,
   "metadata": {},
   "outputs": [
    {
     "name": "stdout",
     "output_type": "stream",
     "text": [
      "Enter the Springer publisher ranking number: 6\n",
      "Enter the Elsevier publisher ranking number: 7\n",
      "Enter the IEEE publisher ranking number: 5\n",
      "Enter the Taylor and Francis publisher ranking number: 4\n",
      "Enter the Inderscience publisher ranking number: 3\n",
      "Enter the ACM publisher ranking number: 2\n",
      "Enter the Others publisher ranking number: 1\n",
      "{'Springer': 0.857, 'Elsevier': 1.0, 'IEEE': 0.714, 'Taylor and Francis': 0.571, 'Inderscience': 0.429, 'ACM': 0.286, 'Others': 0.143}\n"
     ]
    }
   ],
   "source": [
    "publisher = dict()\n",
    "def user_publisher():\n",
    "    list_publisher = [\"Springer\", \"Elsevier\", \"IEEE\", \"Taylor and Francis\", \"Inderscience\", \"ACM\", \"Others\"]\n",
    "    value_publisher = np.linspace(0.0, 1.0, 8).round(3).tolist()\n",
    "    len_publisher = len(list_publisher)\n",
    "    check_duplicate = []\n",
    "    for x in list_publisher:\n",
    "        while True:\n",
    "            try:\n",
    "                user_publisher = int(input(\"Enter the {} publisher ranking number: \".format(x)))\n",
    "                if(user_publisher in check_duplicate):\n",
    "                    print(\"Number Already taken\")\n",
    "                elif (user_publisher not in range(1, len_publisher+1)):\n",
    "                    print(\"Please enter a number between 1 to 7\") \n",
    "                else:\n",
    "                    publisher[x] = value_publisher[user_publisher]\n",
    "                    check_duplicate.append(user_publisher)\n",
    "                    break\n",
    "            except:\n",
    "                user_publisher = int(input(\"Enter the {} publisher ranking number: \".format(x)))\n",
    "                continue\n",
    "    return publisher\n",
    "\n",
    "print(user_publisher())\n",
    "rank_publisher = journal['user_publisher']\n",
    "for i in rank_publisher:\n",
    "    for key in publisher.keys():\n",
    "        if (i == key):\n",
    "            a = rank_publisher.replace(i,publisher[key], inplace=True)"
   ]
  },
  {
   "cell_type": "markdown",
   "metadata": {},
   "source": [
    "# Percentile"
   ]
  },
  {
   "cell_type": "code",
   "execution_count": 9,
   "metadata": {},
   "outputs": [
    {
     "name": "stdout",
     "output_type": "stream",
     "text": [
      "Enter the 99 - 75 percentile ranking number: 4\n",
      "Enter the 74 - 50 percentile ranking number: 3\n",
      "Enter the 49 - 25 percentile ranking number: 2\n",
      "Enter the 24 - 0 percentile ranking number: 1\n",
      "{100: 1.0, 200: 0.75, 300: 0.5, 400: 0.25}\n"
     ]
    }
   ],
   "source": [
    "percentile = dict() \n",
    "def user_percentile():  \n",
    "    print_percentile = [\"99 - 75\", \"74 - 50\", \"49 - 25\", \"24 - 0\"] \n",
    "    list_percentile = [100, 200, 300, 400]\n",
    "    value_percentile = np.linspace(0.0, 1.0, 5).round(3).tolist()\n",
    "    len_percentile = len(list_percentile)\n",
    "    check_duplicate = []\n",
    "    for (x, y) in zip(list_percentile, print_percentile):\n",
    "        while True:\n",
    "            try:\n",
    "                user_percentile = int(input(\"Enter the {} percentile ranking number: \".format(y)))\n",
    "                if(user_percentile in check_duplicate):\n",
    "                    print(\"Number Already taken\")\n",
    "                elif (user_percentile not in range(1, len_percentile+1)):\n",
    "                    print(\"Please enter a number between 1 to 4\") \n",
    "                else:\n",
    "                    percentile[x] = value_percentile[user_percentile]\n",
    "                    check_duplicate.append(user_percentile)\n",
    "                    break\n",
    "            except:\n",
    "                user_percentile = int(input(\"Enter the {} percentile ranking number: \".format(x)))\n",
    "                continue\n",
    "    return percentile\n",
    "\n",
    "print(user_percentile())\n",
    "rank_percentile = journal['user_percentile']\n",
    "for i in rank_percentile:\n",
    "    for key in percentile.keys():\n",
    "        if (i == key):\n",
    "            a = rank_percentile.replace(i,percentile[key], inplace=True)"
   ]
  },
  {
   "cell_type": "markdown",
   "metadata": {},
   "source": [
    "# Frequency"
   ]
  },
  {
   "cell_type": "code",
   "execution_count": 10,
   "metadata": {},
   "outputs": [
    {
     "name": "stdout",
     "output_type": "stream",
     "text": [
      "Enter the Weekly frequency ranking number: 9\n",
      "Enter the Fortnightly frequency ranking number: 8\n",
      "Enter the Semi-monthly frequency ranking number: 7\n",
      "Enter the Monthly frequency ranking number: 6\n",
      "Enter the Bi-monthly frequency ranking number: 5\n",
      "Enter the Quarterly frequency ranking number: 4\n",
      "Enter the Tri-annual frequency ranking number: 3\n",
      "Enter the Semi-annual frequency ranking number: 2\n",
      "Enter the Annual frequency ranking number: 1\n",
      "{'Weekly': 1.0, 'Fortnightly': 0.889, 'Semi-monthly': 0.778, 'Monthly': 0.667, 'Bi-monthly': 0.556, 'Quarterly': 0.444, 'Tri-annual': 0.333, 'Semi-annual': 0.222, 'Annual': 0.111}\n"
     ]
    }
   ],
   "source": [
    "frequency = dict()\n",
    "def user_frequency():\n",
    "    list_frequency = [\"Weekly\", \"Fortnightly\", \"Semi-monthly\", \"Monthly\", \"Bi-monthly\", \"Quarterly\", \"Tri-annual\", \"Semi-annual\", \"Annual\"]\n",
    "    value_frequency = np.linspace(0.0, 1.0, 10).round(3).tolist()\n",
    "    len_frequency = len(list_frequency)\n",
    "    check_duplicate = []\n",
    "    for x in list_frequency:\n",
    "        while True:\n",
    "            try:\n",
    "                user_frequency = int(input(\"Enter the {} frequency ranking number: \".format(x)))\n",
    "                if(user_frequency in check_duplicate):\n",
    "                    print(\"Number Already taken\")\n",
    "                elif (user_frequency not in range(1, len_frequency+1)):\n",
    "                    print(\"Please enter a number between 1 to 9\") \n",
    "                else:\n",
    "                    frequency[x] = value_frequency[user_frequency]\n",
    "                    check_duplicate.append(user_frequency)\n",
    "                    break\n",
    "            except:\n",
    "                user_frequency = int(input(\"Enter the {} frequency ranking number: \".format(x)))\n",
    "                continue\n",
    "    return frequency\n",
    "\n",
    "print(user_frequency())\n",
    "rank_frequency = journal['user_frequency']\n",
    "for i in rank_frequency:\n",
    "    for key in frequency.keys():\n",
    "        if (i == key):\n",
    "            a = rank_frequency.replace(i,frequency[key], inplace=True)"
   ]
  },
  {
   "cell_type": "markdown",
   "metadata": {},
   "source": [
    "## Open Access"
   ]
  },
  {
   "cell_type": "code",
   "execution_count": 11,
   "metadata": {},
   "outputs": [
    {
     "name": "stdout",
     "output_type": "stream",
     "text": [
      "Enter the Yes open access ranking number: 1\n",
      "Enter the No open access ranking number: 2\n",
      "{'Yes': 0.5, 'No': 1.0}\n"
     ]
    }
   ],
   "source": [
    "open_access = dict()\n",
    "def user_open_access():\n",
    "    list_open_access = [\"Yes\", \"No\"]\n",
    "    value_open_access = np.linspace(0.0, 1.0, 3).round(3).tolist()\n",
    "    len_open_access = len(list_open_access)\n",
    "    check_duplicate = []\n",
    "    for x in list_open_access:\n",
    "        while True:\n",
    "            try:\n",
    "                user_open_access = int(input(\"Enter the {} open access ranking number: \".format(x)))\n",
    "                if(user_open_access in check_duplicate):\n",
    "                    print(\"Number Already taken\")\n",
    "                elif (user_open_access not in range(1, len_open_access+1)):\n",
    "                    print(\"Please enter a number between 1 to 2\") \n",
    "                else:\n",
    "                    open_access[x] = value_open_access[user_open_access]\n",
    "                    check_duplicate.append(user_open_access)\n",
    "                    break\n",
    "            except:\n",
    "                user_open_access = int(input(\"Enter the {} openaccess ranking number: \".format(x)))\n",
    "                continue\n",
    "    return open_access\n",
    "\n",
    "print(user_open_access())\n",
    "rank_open_access = journal['user_open_access']\n",
    "for i in rank_open_access:\n",
    "    for key in open_access.keys():\n",
    "        if (i == key):\n",
    "            a = rank_open_access.replace(i,open_access[key], inplace=True)"
   ]
  },
  {
   "cell_type": "markdown",
   "metadata": {},
   "source": [
    "# View Dataset"
   ]
  },
  {
   "cell_type": "code",
   "execution_count": 12,
   "metadata": {},
   "outputs": [
    {
     "data": {
      "text/html": [
       "<div>\n",
       "<style scoped>\n",
       "    .dataframe tbody tr th:only-of-type {\n",
       "        vertical-align: middle;\n",
       "    }\n",
       "\n",
       "    .dataframe tbody tr th {\n",
       "        vertical-align: top;\n",
       "    }\n",
       "\n",
       "    .dataframe thead th {\n",
       "        text-align: right;\n",
       "    }\n",
       "</style>\n",
       "<table border=\"1\" class=\"dataframe\">\n",
       "  <thead>\n",
       "    <tr style=\"text-align: right;\">\n",
       "      <th></th>\n",
       "      <th>scopus_source_id</th>\n",
       "      <th>title</th>\n",
       "      <th>citescore</th>\n",
       "      <th>percentile</th>\n",
       "      <th>citation_count</th>\n",
       "      <th>scholarly_output</th>\n",
       "      <th>percent_cited</th>\n",
       "      <th>snip</th>\n",
       "      <th>sjr</th>\n",
       "      <th>rank</th>\n",
       "      <th>...</th>\n",
       "      <th>journal_website</th>\n",
       "      <th>review_time</th>\n",
       "      <th>open_access2</th>\n",
       "      <th>print_issn</th>\n",
       "      <th>e_issn</th>\n",
       "      <th>user_index</th>\n",
       "      <th>user_publisher</th>\n",
       "      <th>user_percentile</th>\n",
       "      <th>user_frequency</th>\n",
       "      <th>user_open_access</th>\n",
       "    </tr>\n",
       "  </thead>\n",
       "  <tbody>\n",
       "    <tr>\n",
       "      <th>0</th>\n",
       "      <td>18902</td>\n",
       "      <td>IEEE Journal on Selected Areas in Communications</td>\n",
       "      <td>10.91</td>\n",
       "      <td>98</td>\n",
       "      <td>8074</td>\n",
       "      <td>740</td>\n",
       "      <td>92</td>\n",
       "      <td>3.311</td>\n",
       "      <td>2.294</td>\n",
       "      <td>5</td>\n",
       "      <td>...</td>\n",
       "      <td>http://ieeexplore.ieee.org/xpl/aboutJournal.js...</td>\n",
       "      <td>NaN</td>\n",
       "      <td>No</td>\n",
       "      <td>0733-8716</td>\n",
       "      <td>1558-0008</td>\n",
       "      <td>1.0</td>\n",
       "      <td>0.714</td>\n",
       "      <td>1.00</td>\n",
       "      <td>0.667</td>\n",
       "      <td>1.0</td>\n",
       "    </tr>\n",
       "    <tr>\n",
       "      <th>1</th>\n",
       "      <td>15773</td>\n",
       "      <td>ACM Transactions on Internet Technology</td>\n",
       "      <td>3.33</td>\n",
       "      <td>80</td>\n",
       "      <td>320</td>\n",
       "      <td>96</td>\n",
       "      <td>76</td>\n",
       "      <td>1.771</td>\n",
       "      <td>0.538</td>\n",
       "      <td>53</td>\n",
       "      <td>...</td>\n",
       "      <td>http://toit.acm.org/</td>\n",
       "      <td>NaN</td>\n",
       "      <td>No</td>\n",
       "      <td>1533-5399</td>\n",
       "      <td>1557-6051</td>\n",
       "      <td>1.0</td>\n",
       "      <td>0.286</td>\n",
       "      <td>1.00</td>\n",
       "      <td>0.444</td>\n",
       "      <td>1.0</td>\n",
       "    </tr>\n",
       "    <tr>\n",
       "      <th>2</th>\n",
       "      <td>12373</td>\n",
       "      <td>Journal of Computer Information Systems</td>\n",
       "      <td>2.46</td>\n",
       "      <td>72</td>\n",
       "      <td>273</td>\n",
       "      <td>111</td>\n",
       "      <td>76</td>\n",
       "      <td>1.023</td>\n",
       "      <td>0.685</td>\n",
       "      <td>75</td>\n",
       "      <td>...</td>\n",
       "      <td>http://www.tandfonline.com/loi/ucis20</td>\n",
       "      <td>NaN</td>\n",
       "      <td>No</td>\n",
       "      <td>0887-4417</td>\n",
       "      <td>2380-2057</td>\n",
       "      <td>1.0</td>\n",
       "      <td>0.571</td>\n",
       "      <td>0.75</td>\n",
       "      <td>0.444</td>\n",
       "      <td>1.0</td>\n",
       "    </tr>\n",
       "    <tr>\n",
       "      <th>3</th>\n",
       "      <td>21100358105</td>\n",
       "      <td>IEEE Transactions on Control of Network Systems</td>\n",
       "      <td>5.80</td>\n",
       "      <td>91</td>\n",
       "      <td>911</td>\n",
       "      <td>157</td>\n",
       "      <td>82</td>\n",
       "      <td>2.241</td>\n",
       "      <td>2.098</td>\n",
       "      <td>23</td>\n",
       "      <td>...</td>\n",
       "      <td>http://ieeexplore.ieee.org/servlet/opac?punumb...</td>\n",
       "      <td>NaN</td>\n",
       "      <td>No</td>\n",
       "      <td>2325-5870</td>\n",
       "      <td>2372-2533</td>\n",
       "      <td>0.5</td>\n",
       "      <td>0.714</td>\n",
       "      <td>1.00</td>\n",
       "      <td>0.444</td>\n",
       "      <td>1.0</td>\n",
       "    </tr>\n",
       "    <tr>\n",
       "      <th>4</th>\n",
       "      <td>26811</td>\n",
       "      <td>Computer Networks</td>\n",
       "      <td>4.19</td>\n",
       "      <td>84</td>\n",
       "      <td>3778</td>\n",
       "      <td>901</td>\n",
       "      <td>77</td>\n",
       "      <td>1.600</td>\n",
       "      <td>0.592</td>\n",
       "      <td>42</td>\n",
       "      <td>...</td>\n",
       "      <td>http://www.journals.elsevier.com/computer-netw...</td>\n",
       "      <td>NaN</td>\n",
       "      <td>No</td>\n",
       "      <td>1389-1286</td>\n",
       "      <td>1872-7069</td>\n",
       "      <td>1.0</td>\n",
       "      <td>1.000</td>\n",
       "      <td>1.00</td>\n",
       "      <td>0.778</td>\n",
       "      <td>1.0</td>\n",
       "    </tr>\n",
       "  </tbody>\n",
       "</table>\n",
       "<p>5 rows × 33 columns</p>\n",
       "</div>"
      ],
      "text/plain": [
       "   scopus_source_id                                             title  \\\n",
       "0             18902  IEEE Journal on Selected Areas in Communications   \n",
       "1             15773           ACM Transactions on Internet Technology   \n",
       "2             12373           Journal of Computer Information Systems   \n",
       "3       21100358105   IEEE Transactions on Control of Network Systems   \n",
       "4             26811                                 Computer Networks   \n",
       "\n",
       "   citescore  percentile  citation_count  scholarly_output  percent_cited  \\\n",
       "0      10.91          98            8074               740             92   \n",
       "1       3.33          80             320                96             76   \n",
       "2       2.46          72             273               111             76   \n",
       "3       5.80          91             911               157             82   \n",
       "4       4.19          84            3778               901             77   \n",
       "\n",
       "    snip    sjr  rank  ...                                    journal_website  \\\n",
       "0  3.311  2.294     5  ...  http://ieeexplore.ieee.org/xpl/aboutJournal.js...   \n",
       "1  1.771  0.538    53  ...                               http://toit.acm.org/   \n",
       "2  1.023  0.685    75  ...              http://www.tandfonline.com/loi/ucis20   \n",
       "3  2.241  2.098    23  ...  http://ieeexplore.ieee.org/servlet/opac?punumb...   \n",
       "4  1.600  0.592    42  ...  http://www.journals.elsevier.com/computer-netw...   \n",
       "\n",
       "  review_time open_access2 print_issn     e_issn user_index user_publisher  \\\n",
       "0         NaN           No  0733-8716  1558-0008        1.0          0.714   \n",
       "1         NaN           No  1533-5399  1557-6051        1.0          0.286   \n",
       "2         NaN           No  0887-4417  2380-2057        1.0          0.571   \n",
       "3         NaN           No  2325-5870  2372-2533        0.5          0.714   \n",
       "4         NaN           No  1389-1286  1872-7069        1.0          1.000   \n",
       "\n",
       "  user_percentile user_frequency user_open_access  \n",
       "0            1.00          0.667              1.0  \n",
       "1            1.00          0.444              1.0  \n",
       "2            0.75          0.444              1.0  \n",
       "3            1.00          0.444              1.0  \n",
       "4            1.00          0.778              1.0  \n",
       "\n",
       "[5 rows x 33 columns]"
      ]
     },
     "execution_count": 12,
     "metadata": {},
     "output_type": "execute_result"
    }
   ],
   "source": [
    "journal.head()"
   ]
  },
  {
   "cell_type": "code",
   "execution_count": 13,
   "metadata": {},
   "outputs": [],
   "source": [
    "journal.to_csv('User Journals.csv', index=False) "
   ]
  },
  {
   "cell_type": "code",
   "execution_count": null,
   "metadata": {},
   "outputs": [],
   "source": []
  }
 ],
 "metadata": {
  "kernelspec": {
   "display_name": "Python 3",
   "language": "python",
   "name": "python3"
  },
  "language_info": {
   "codemirror_mode": {
    "name": "ipython",
    "version": 3
   },
   "file_extension": ".py",
   "mimetype": "text/x-python",
   "name": "python",
   "nbconvert_exporter": "python",
   "pygments_lexer": "ipython3",
   "version": "3.7.3"
  }
 },
 "nbformat": 4,
 "nbformat_minor": 2
}
