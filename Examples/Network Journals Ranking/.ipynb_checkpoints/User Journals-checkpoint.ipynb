{
 "cells": [
  {
   "cell_type": "markdown",
   "metadata": {},
   "source": [
    "# Import all the needed libraries"
   ]
  },
  {
   "cell_type": "code",
   "execution_count": 1,
   "metadata": {},
   "outputs": [],
   "source": [
    "import numpy as np\n",
    "import pandas as pd"
   ]
  },
  {
   "cell_type": "code",
   "execution_count": 2,
   "metadata": {},
   "outputs": [
    {
     "data": {
      "text/html": [
       "<div>\n",
       "<style scoped>\n",
       "    .dataframe tbody tr th:only-of-type {\n",
       "        vertical-align: middle;\n",
       "    }\n",
       "\n",
       "    .dataframe tbody tr th {\n",
       "        vertical-align: top;\n",
       "    }\n",
       "\n",
       "    .dataframe thead th {\n",
       "        text-align: right;\n",
       "    }\n",
       "</style>\n",
       "<table border=\"1\" class=\"dataframe\">\n",
       "  <thead>\n",
       "    <tr style=\"text-align: right;\">\n",
       "      <th></th>\n",
       "      <th>scopus_source_id</th>\n",
       "      <th>title</th>\n",
       "      <th>citescore</th>\n",
       "      <th>percentile</th>\n",
       "      <th>citation_count</th>\n",
       "      <th>scholarly_output</th>\n",
       "      <th>percent_cited</th>\n",
       "      <th>snip</th>\n",
       "      <th>sjr</th>\n",
       "      <th>rank</th>\n",
       "      <th>...</th>\n",
       "      <th>journal_website</th>\n",
       "      <th>review_time</th>\n",
       "      <th>open_access2</th>\n",
       "      <th>print_issn</th>\n",
       "      <th>e_issn</th>\n",
       "      <th>user_index</th>\n",
       "      <th>user_publisher</th>\n",
       "      <th>user_percentile</th>\n",
       "      <th>user_frequency</th>\n",
       "      <th>user_open_access</th>\n",
       "    </tr>\n",
       "  </thead>\n",
       "  <tbody>\n",
       "    <tr>\n",
       "      <th>0</th>\n",
       "      <td>100147332</td>\n",
       "      <td>International Journal of Parallel, Emergent an...</td>\n",
       "      <td>0.63</td>\n",
       "      <td>21</td>\n",
       "      <td>82</td>\n",
       "      <td>131</td>\n",
       "      <td>30</td>\n",
       "      <td>0.464</td>\n",
       "      <td>0.177</td>\n",
       "      <td>214</td>\n",
       "      <td>...</td>\n",
       "      <td>http://www.tandfonline.com/loi/gpaa20</td>\n",
       "      <td>NaN</td>\n",
       "      <td>No</td>\n",
       "      <td>1744-5760</td>\n",
       "      <td>1744-5779</td>\n",
       "      <td>1.0</td>\n",
       "      <td>0.55</td>\n",
       "      <td>0.1</td>\n",
       "      <td>0.55</td>\n",
       "      <td>1.0</td>\n",
       "    </tr>\n",
       "    <tr>\n",
       "      <th>1</th>\n",
       "      <td>110111</td>\n",
       "      <td>IEEE Intelligent Systems</td>\n",
       "      <td>4.35</td>\n",
       "      <td>85</td>\n",
       "      <td>900</td>\n",
       "      <td>207</td>\n",
       "      <td>76</td>\n",
       "      <td>2.137</td>\n",
       "      <td>0.941</td>\n",
       "      <td>41</td>\n",
       "      <td>...</td>\n",
       "      <td>http://www.computer.org/portal/web/computingno...</td>\n",
       "      <td>NaN</td>\n",
       "      <td>No</td>\n",
       "      <td>1541-1672</td>\n",
       "      <td>1941-1294</td>\n",
       "      <td>1.0</td>\n",
       "      <td>0.70</td>\n",
       "      <td>1.0</td>\n",
       "      <td>0.55</td>\n",
       "      <td>1.0</td>\n",
       "    </tr>\n",
       "    <tr>\n",
       "      <th>2</th>\n",
       "      <td>11300153734</td>\n",
       "      <td>IEEE Systems Journal</td>\n",
       "      <td>5.11</td>\n",
       "      <td>90</td>\n",
       "      <td>2576</td>\n",
       "      <td>504</td>\n",
       "      <td>82</td>\n",
       "      <td>2.374</td>\n",
       "      <td>0.824</td>\n",
       "      <td>27</td>\n",
       "      <td>...</td>\n",
       "      <td>http://ieeexplore.ieee.org/xpl/aboutJournal.js...</td>\n",
       "      <td>NaN</td>\n",
       "      <td>No</td>\n",
       "      <td>1932-8184</td>\n",
       "      <td>1937-9234</td>\n",
       "      <td>1.0</td>\n",
       "      <td>0.70</td>\n",
       "      <td>1.0</td>\n",
       "      <td>0.44</td>\n",
       "      <td>1.0</td>\n",
       "    </tr>\n",
       "    <tr>\n",
       "      <th>3</th>\n",
       "      <td>11700154336</td>\n",
       "      <td>Journal of Computer Science</td>\n",
       "      <td>0.69</td>\n",
       "      <td>25</td>\n",
       "      <td>173</td>\n",
       "      <td>251</td>\n",
       "      <td>34</td>\n",
       "      <td>0.635</td>\n",
       "      <td>0.162</td>\n",
       "      <td>202</td>\n",
       "      <td>...</td>\n",
       "      <td>NaN</td>\n",
       "      <td>NaN</td>\n",
       "      <td>Yes</td>\n",
       "      <td>1549-3636</td>\n",
       "      <td>1552-6607</td>\n",
       "      <td>1.0</td>\n",
       "      <td>0.10</td>\n",
       "      <td>0.4</td>\n",
       "      <td>0.55</td>\n",
       "      <td>0.1</td>\n",
       "    </tr>\n",
       "    <tr>\n",
       "      <th>4</th>\n",
       "      <td>11700154352</td>\n",
       "      <td>Journal of the Institute of Telecommunications...</td>\n",
       "      <td>0.02</td>\n",
       "      <td>0</td>\n",
       "      <td>2</td>\n",
       "      <td>87</td>\n",
       "      <td>2</td>\n",
       "      <td>0.025</td>\n",
       "      <td>0.103</td>\n",
       "      <td>271</td>\n",
       "      <td>...</td>\n",
       "      <td>NaN</td>\n",
       "      <td>NaN</td>\n",
       "      <td>No</td>\n",
       "      <td>1755-9278</td>\n",
       "      <td>NaN</td>\n",
       "      <td>1.0</td>\n",
       "      <td>0.10</td>\n",
       "      <td>0.1</td>\n",
       "      <td>0.55</td>\n",
       "      <td>1.0</td>\n",
       "    </tr>\n",
       "  </tbody>\n",
       "</table>\n",
       "<p>5 rows × 33 columns</p>\n",
       "</div>"
      ],
      "text/plain": [
       "   scopus_source_id                                              title  \\\n",
       "0         100147332  International Journal of Parallel, Emergent an...   \n",
       "1            110111                           IEEE Intelligent Systems   \n",
       "2       11300153734                               IEEE Systems Journal   \n",
       "3       11700154336                        Journal of Computer Science   \n",
       "4       11700154352  Journal of the Institute of Telecommunications...   \n",
       "\n",
       "   citescore  percentile  citation_count  scholarly_output  percent_cited  \\\n",
       "0       0.63          21              82               131             30   \n",
       "1       4.35          85             900               207             76   \n",
       "2       5.11          90            2576               504             82   \n",
       "3       0.69          25             173               251             34   \n",
       "4       0.02           0               2                87              2   \n",
       "\n",
       "    snip    sjr  rank  ...                                    journal_website  \\\n",
       "0  0.464  0.177   214  ...              http://www.tandfonline.com/loi/gpaa20   \n",
       "1  2.137  0.941    41  ...  http://www.computer.org/portal/web/computingno...   \n",
       "2  2.374  0.824    27  ...  http://ieeexplore.ieee.org/xpl/aboutJournal.js...   \n",
       "3  0.635  0.162   202  ...                                                NaN   \n",
       "4  0.025  0.103   271  ...                                                NaN   \n",
       "\n",
       "  review_time open_access2 print_issn     e_issn user_index user_publisher  \\\n",
       "0         NaN           No  1744-5760  1744-5779        1.0           0.55   \n",
       "1         NaN           No  1541-1672  1941-1294        1.0           0.70   \n",
       "2         NaN           No  1932-8184  1937-9234        1.0           0.70   \n",
       "3         NaN          Yes  1549-3636  1552-6607        1.0           0.10   \n",
       "4         NaN           No  1755-9278        NaN        1.0           0.10   \n",
       "\n",
       "  user_percentile user_frequency user_open_access  \n",
       "0             0.1           0.55              1.0  \n",
       "1             1.0           0.55              1.0  \n",
       "2             1.0           0.44              1.0  \n",
       "3             0.4           0.55              0.1  \n",
       "4             0.1           0.55              1.0  \n",
       "\n",
       "[5 rows x 33 columns]"
      ]
     },
     "execution_count": 2,
     "metadata": {},
     "output_type": "execute_result"
    }
   ],
   "source": [
    "journal = pd.read_csv('User Journals.csv')\n",
    "journal.head()"
   ]
  },
  {
   "cell_type": "code",
   "execution_count": 3,
   "metadata": {},
   "outputs": [],
   "source": [
    "number = len(journal)\n",
    "columns = journal.columns[28:33]"
   ]
  },
  {
   "cell_type": "code",
   "execution_count": 4,
   "metadata": {},
   "outputs": [
    {
     "name": "stdout",
     "output_type": "stream",
     "text": [
      "Index(['user_index', 'user_publisher', 'user_percentile', 'user_frequency',\n",
      "       'user_open_access'],\n",
      "      dtype='object')\n"
     ]
    }
   ],
   "source": [
    "print(columns)"
   ]
  },
  {
   "cell_type": "markdown",
   "metadata": {},
   "source": [
    "## Mean"
   ]
  },
  {
   "cell_type": "code",
   "execution_count": 5,
   "metadata": {},
   "outputs": [
    {
     "name": "stdout",
     "output_type": "stream",
     "text": [
      "[0.7709090909090894, 0.414545454545454, 0.6090909090909084, 0.5170606060606057, 0.8499999999999993]\n"
     ]
    }
   ],
   "source": [
    "#Mean - 4\n",
    "mean = []\n",
    "for i in columns:\n",
    "    mean_criteria = np.mean(journal[i])\n",
    "    mean.append(mean_criteria)\n",
    "print(mean)"
   ]
  },
  {
   "cell_type": "markdown",
   "metadata": {},
   "source": [
    "## Variance"
   ]
  },
  {
   "cell_type": "code",
   "execution_count": 6,
   "metadata": {},
   "outputs": [
    {
     "name": "stdout",
     "output_type": "stream",
     "text": [
      "[50.72072727272718, 40.835181818181695, 35.79272727272738, 4.385448787878763, 37.125000000000156]\n"
     ]
    }
   ],
   "source": [
    "#Variance - 5\n",
    "variance = []\n",
    "for i in columns:\n",
    "    variance_criteria = np.var(journal[i])*number\n",
    "    variance.append(variance_criteria)\n",
    "print(variance)"
   ]
  },
  {
   "cell_type": "markdown",
   "metadata": {},
   "source": [
    "## Deviation"
   ]
  },
  {
   "cell_type": "code",
   "execution_count": 7,
   "metadata": {},
   "outputs": [
    {
     "name": "stdout",
     "output_type": "stream",
     "text": [
      "[-49.72072727272718, -39.835181818181695, -34.79272727272738, -3.3854487878787634, -36.125000000000156]\n"
     ]
    }
   ],
   "source": [
    "#Deviation - 6\n",
    "deviation = []\n",
    "for (i, j) in zip(columns, variance):\n",
    "    deviation_criteria = 1 - j\n",
    "    deviation.append(deviation_criteria)\n",
    "print(deviation)"
   ]
  },
  {
   "cell_type": "markdown",
   "metadata": {},
   "source": [
    "## Finding Overall preference value "
   ]
  },
  {
   "cell_type": "code",
   "execution_count": 8,
   "metadata": {},
   "outputs": [
    {
     "name": "stdout",
     "output_type": "stream",
     "text": [
      "[0.30343588960448575, 0.24310633604079626, 0.21233322058740706, 0.0206607328775719, 0.22046382088973918]\n"
     ]
    }
   ],
   "source": [
    "#Finding Overall preference value - 7\n",
    "preference_value = []\n",
    "overall = sum(deviation)\n",
    "for (i, j) in zip(columns, deviation):\n",
    "    preference_criteria = j/overall\n",
    "    preference_value.append(preference_criteria)\n",
    "print(preference_value)\n",
    "sum_ = sum(preference_value)"
   ]
  },
  {
   "cell_type": "code",
   "execution_count": 9,
   "metadata": {},
   "outputs": [
    {
     "data": {
      "text/plain": [
       "1.0"
      ]
     },
     "execution_count": 9,
     "metadata": {},
     "output_type": "execute_result"
    }
   ],
   "source": [
    "sum_"
   ]
  },
  {
   "cell_type": "markdown",
   "metadata": {},
   "source": [
    "## Calculating PSI"
   ]
  },
  {
   "cell_type": "code",
   "execution_count": 10,
   "metadata": {},
   "outputs": [],
   "source": [
    "#Calculating PSI - 8\n",
    "for (i,j) in zip(columns, preference_value): \n",
    "    journal[i] = journal.loc[:, i] * j"
   ]
  },
  {
   "cell_type": "code",
   "execution_count": 11,
   "metadata": {},
   "outputs": [],
   "source": [
    "#psi_rank = journal.drop(['scopus_source_id', 'subject_area'], axis=1)\n",
    "psi_rank = journal.iloc[:, 28:33]\n",
    "psi = []\n",
    "for i in range(number):\n",
    "    psi_sum = sum(psi_rank.loc[i])\n",
    "    psi.append(psi_sum)"
   ]
  },
  {
   "cell_type": "code",
   "execution_count": 12,
   "metadata": {},
   "outputs": [],
   "source": [
    "journal['PSI'] = psi"
   ]
  },
  {
   "cell_type": "code",
   "execution_count": 13,
   "metadata": {},
   "outputs": [],
   "source": [
    "ranked_journal = journal.sort_values('PSI', ascending=False)"
   ]
  },
  {
   "cell_type": "code",
   "execution_count": 14,
   "metadata": {},
   "outputs": [
    {
     "data": {
      "text/html": [
       "<div>\n",
       "<style scoped>\n",
       "    .dataframe tbody tr th:only-of-type {\n",
       "        vertical-align: middle;\n",
       "    }\n",
       "\n",
       "    .dataframe tbody tr th {\n",
       "        vertical-align: top;\n",
       "    }\n",
       "\n",
       "    .dataframe thead th {\n",
       "        text-align: right;\n",
       "    }\n",
       "</style>\n",
       "<table border=\"1\" class=\"dataframe\">\n",
       "  <thead>\n",
       "    <tr style=\"text-align: right;\">\n",
       "      <th></th>\n",
       "      <th>scopus_source_id</th>\n",
       "      <th>title</th>\n",
       "      <th>citescore</th>\n",
       "      <th>percentile</th>\n",
       "      <th>citation_count</th>\n",
       "      <th>scholarly_output</th>\n",
       "      <th>percent_cited</th>\n",
       "      <th>snip</th>\n",
       "      <th>sjr</th>\n",
       "      <th>rank</th>\n",
       "      <th>...</th>\n",
       "      <th>review_time</th>\n",
       "      <th>open_access2</th>\n",
       "      <th>print_issn</th>\n",
       "      <th>e_issn</th>\n",
       "      <th>user_index</th>\n",
       "      <th>user_publisher</th>\n",
       "      <th>user_percentile</th>\n",
       "      <th>user_frequency</th>\n",
       "      <th>user_open_access</th>\n",
       "      <th>PSI</th>\n",
       "    </tr>\n",
       "  </thead>\n",
       "  <tbody>\n",
       "    <tr>\n",
       "      <th>201</th>\n",
       "      <td>26811</td>\n",
       "      <td>Computer Networks</td>\n",
       "      <td>4.19</td>\n",
       "      <td>84</td>\n",
       "      <td>3778</td>\n",
       "      <td>901</td>\n",
       "      <td>77</td>\n",
       "      <td>1.6</td>\n",
       "      <td>0.592</td>\n",
       "      <td>42</td>\n",
       "      <td>...</td>\n",
       "      <td>NaN</td>\n",
       "      <td>No</td>\n",
       "      <td>1389-1286</td>\n",
       "      <td>1872-7069</td>\n",
       "      <td>0.303436</td>\n",
       "      <td>0.243106</td>\n",
       "      <td>0.212333</td>\n",
       "      <td>0.016115</td>\n",
       "      <td>0.220464</td>\n",
       "      <td>0.995455</td>\n",
       "    </tr>\n",
       "    <tr>\n",
       "      <th>21</th>\n",
       "      <td>13681</td>\n",
       "      <td>Computer Communications</td>\n",
       "      <td>3.63</td>\n",
       "      <td>82</td>\n",
       "      <td>2114</td>\n",
       "      <td>583</td>\n",
       "      <td>80</td>\n",
       "      <td>1.547</td>\n",
       "      <td>0.5</td>\n",
       "      <td>49</td>\n",
       "      <td>...</td>\n",
       "      <td>NaN</td>\n",
       "      <td>No</td>\n",
       "      <td>0140-3664</td>\n",
       "      <td>1873-703X</td>\n",
       "      <td>0.303436</td>\n",
       "      <td>0.243106</td>\n",
       "      <td>0.212333</td>\n",
       "      <td>0.016115</td>\n",
       "      <td>0.220464</td>\n",
       "      <td>0.995455</td>\n",
       "    </tr>\n",
       "    <tr>\n",
       "      <th>212</th>\n",
       "      <td>27959</td>\n",
       "      <td>Journal of the Franklin Institute</td>\n",
       "      <td>4.41</td>\n",
       "      <td>85</td>\n",
       "      <td>4550</td>\n",
       "      <td>1032</td>\n",
       "      <td>86</td>\n",
       "      <td>1.359</td>\n",
       "      <td>1.288</td>\n",
       "      <td>40</td>\n",
       "      <td>...</td>\n",
       "      <td>NaN</td>\n",
       "      <td>No</td>\n",
       "      <td>0016-0032</td>\n",
       "      <td>1879-2693</td>\n",
       "      <td>0.303436</td>\n",
       "      <td>0.243106</td>\n",
       "      <td>0.212333</td>\n",
       "      <td>0.013636</td>\n",
       "      <td>0.220464</td>\n",
       "      <td>0.992975</td>\n",
       "    </tr>\n",
       "    <tr>\n",
       "      <th>11</th>\n",
       "      <td>12264</td>\n",
       "      <td>Future Generation Computer Systems</td>\n",
       "      <td>6.30</td>\n",
       "      <td>94</td>\n",
       "      <td>4447</td>\n",
       "      <td>706</td>\n",
       "      <td>86</td>\n",
       "      <td>2.464</td>\n",
       "      <td>0.835</td>\n",
       "      <td>15</td>\n",
       "      <td>...</td>\n",
       "      <td>NaN</td>\n",
       "      <td>No</td>\n",
       "      <td>0167-739X</td>\n",
       "      <td>1872-7115</td>\n",
       "      <td>0.303436</td>\n",
       "      <td>0.243106</td>\n",
       "      <td>0.212333</td>\n",
       "      <td>0.013636</td>\n",
       "      <td>0.220464</td>\n",
       "      <td>0.992975</td>\n",
       "    </tr>\n",
       "    <tr>\n",
       "      <th>109</th>\n",
       "      <td>21100332403</td>\n",
       "      <td>Journal of Information Security and Applications</td>\n",
       "      <td>3.17</td>\n",
       "      <td>78</td>\n",
       "      <td>476</td>\n",
       "      <td>150</td>\n",
       "      <td>68</td>\n",
       "      <td>1.567</td>\n",
       "      <td>0.387</td>\n",
       "      <td>58</td>\n",
       "      <td>...</td>\n",
       "      <td>NaN</td>\n",
       "      <td>No</td>\n",
       "      <td>2214-2126</td>\n",
       "      <td>2214-2134</td>\n",
       "      <td>0.303436</td>\n",
       "      <td>0.243106</td>\n",
       "      <td>0.212333</td>\n",
       "      <td>0.011363</td>\n",
       "      <td>0.220464</td>\n",
       "      <td>0.990703</td>\n",
       "    </tr>\n",
       "  </tbody>\n",
       "</table>\n",
       "<p>5 rows × 34 columns</p>\n",
       "</div>"
      ],
      "text/plain": [
       "     scopus_source_id                                             title  \\\n",
       "201             26811                                 Computer Networks   \n",
       "21              13681                           Computer Communications   \n",
       "212             27959                 Journal of the Franklin Institute   \n",
       "11              12264                Future Generation Computer Systems   \n",
       "109       21100332403  Journal of Information Security and Applications   \n",
       "\n",
       "     citescore  percentile  citation_count  scholarly_output  percent_cited  \\\n",
       "201       4.19          84            3778               901             77   \n",
       "21        3.63          82            2114               583             80   \n",
       "212       4.41          85            4550              1032             86   \n",
       "11        6.30          94            4447               706             86   \n",
       "109       3.17          78             476               150             68   \n",
       "\n",
       "      snip    sjr  rank  ...  review_time open_access2 print_issn     e_issn  \\\n",
       "201    1.6  0.592    42  ...          NaN           No  1389-1286  1872-7069   \n",
       "21   1.547    0.5    49  ...          NaN           No  0140-3664  1873-703X   \n",
       "212  1.359  1.288    40  ...          NaN           No  0016-0032  1879-2693   \n",
       "11   2.464  0.835    15  ...          NaN           No  0167-739X  1872-7115   \n",
       "109  1.567  0.387    58  ...          NaN           No  2214-2126  2214-2134   \n",
       "\n",
       "     user_index user_publisher user_percentile user_frequency  \\\n",
       "201    0.303436       0.243106        0.212333       0.016115   \n",
       "21     0.303436       0.243106        0.212333       0.016115   \n",
       "212    0.303436       0.243106        0.212333       0.013636   \n",
       "11     0.303436       0.243106        0.212333       0.013636   \n",
       "109    0.303436       0.243106        0.212333       0.011363   \n",
       "\n",
       "    user_open_access       PSI  \n",
       "201         0.220464  0.995455  \n",
       "21          0.220464  0.995455  \n",
       "212         0.220464  0.992975  \n",
       "11          0.220464  0.992975  \n",
       "109         0.220464  0.990703  \n",
       "\n",
       "[5 rows x 34 columns]"
      ]
     },
     "execution_count": 14,
     "metadata": {},
     "output_type": "execute_result"
    }
   ],
   "source": [
    "ranked_journal.head()"
   ]
  },
  {
   "cell_type": "code",
   "execution_count": 15,
   "metadata": {},
   "outputs": [],
   "source": [
    "ranked_journal.to_csv('Result Journals.csv', index=False) "
   ]
  },
  {
   "cell_type": "code",
   "execution_count": null,
   "metadata": {},
   "outputs": [],
   "source": []
  }
 ],
 "metadata": {
  "kernelspec": {
   "display_name": "Python 3",
   "language": "python",
   "name": "python3"
  },
  "language_info": {
   "codemirror_mode": {
    "name": "ipython",
    "version": 3
   },
   "file_extension": ".py",
   "mimetype": "text/x-python",
   "name": "python",
   "nbconvert_exporter": "python",
   "pygments_lexer": "ipython3",
   "version": "3.7.3"
  }
 },
 "nbformat": 4,
 "nbformat_minor": 2
}
