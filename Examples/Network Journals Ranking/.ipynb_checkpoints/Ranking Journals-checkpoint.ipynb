{
 "cells": [
  {
   "cell_type": "markdown",
   "metadata": {},
   "source": [
    "# Import all the needed libraries"
   ]
  },
  {
   "cell_type": "code",
   "execution_count": 1,
   "metadata": {},
   "outputs": [],
   "source": [
    "import numpy as np\n",
    "import pandas as pd\n",
    "import matplotlib.pyplot as plt\n",
    "import seaborn as sns\n",
    "%matplotlib inline"
   ]
  },
  {
   "cell_type": "code",
   "execution_count": 2,
   "metadata": {},
   "outputs": [
    {
     "data": {
      "text/html": [
       "<div>\n",
       "<style scoped>\n",
       "    .dataframe tbody tr th:only-of-type {\n",
       "        vertical-align: middle;\n",
       "    }\n",
       "\n",
       "    .dataframe tbody tr th {\n",
       "        vertical-align: top;\n",
       "    }\n",
       "\n",
       "    .dataframe thead th {\n",
       "        text-align: right;\n",
       "    }\n",
       "</style>\n",
       "<table border=\"1\" class=\"dataframe\">\n",
       "  <thead>\n",
       "    <tr style=\"text-align: right;\">\n",
       "      <th></th>\n",
       "      <th>scopus_source_id</th>\n",
       "      <th>title</th>\n",
       "      <th>citescore</th>\n",
       "      <th>percentile</th>\n",
       "      <th>citation_count</th>\n",
       "      <th>scholarly_output</th>\n",
       "      <th>percent_cited</th>\n",
       "      <th>snip</th>\n",
       "      <th>sjr</th>\n",
       "      <th>rank</th>\n",
       "      <th>...</th>\n",
       "      <th>scopus_link</th>\n",
       "      <th>index</th>\n",
       "      <th>publisher2</th>\n",
       "      <th>percentile2</th>\n",
       "      <th>frequency</th>\n",
       "      <th>journal_website</th>\n",
       "      <th>review_time</th>\n",
       "      <th>open_access2</th>\n",
       "      <th>print_issn</th>\n",
       "      <th>e_issn</th>\n",
       "    </tr>\n",
       "  </thead>\n",
       "  <tbody>\n",
       "    <tr>\n",
       "      <th>0</th>\n",
       "      <td>11900154400</td>\n",
       "      <td>International Journal of Information Technolog...</td>\n",
       "      <td>1.29</td>\n",
       "      <td>60</td>\n",
       "      <td>63</td>\n",
       "      <td>49</td>\n",
       "      <td>63</td>\n",
       "      <td>0.635</td>\n",
       "      <td>0.191</td>\n",
       "      <td>82</td>\n",
       "      <td>...</td>\n",
       "      <td>https://www.scopus.com/sourceid/11900154400</td>\n",
       "      <td>Scopus</td>\n",
       "      <td>Others</td>\n",
       "      <td>200</td>\n",
       "      <td>Quarterly</td>\n",
       "      <td>https://www.igi-global.com/gateway/journal/1093</td>\n",
       "      <td>NaN</td>\n",
       "      <td>No</td>\n",
       "      <td>1554-1045</td>\n",
       "      <td>1554-1053</td>\n",
       "    </tr>\n",
       "    <tr>\n",
       "      <th>1</th>\n",
       "      <td>12100154817</td>\n",
       "      <td>International Journal of Wireless and Mobile C...</td>\n",
       "      <td>0.49</td>\n",
       "      <td>22</td>\n",
       "      <td>137</td>\n",
       "      <td>280</td>\n",
       "      <td>30</td>\n",
       "      <td>0.252</td>\n",
       "      <td>0.168</td>\n",
       "      <td>160</td>\n",
       "      <td>...</td>\n",
       "      <td>https://www.scopus.com/sourceid/12100154817</td>\n",
       "      <td>Scopus</td>\n",
       "      <td>Inderscience</td>\n",
       "      <td>400</td>\n",
       "      <td>Bi-monthly</td>\n",
       "      <td>https://www.inderscience.com/jhome.php?jcode=i...</td>\n",
       "      <td>NaN</td>\n",
       "      <td>No</td>\n",
       "      <td>1741-1084</td>\n",
       "      <td>1741-1092</td>\n",
       "    </tr>\n",
       "  </tbody>\n",
       "</table>\n",
       "<p>2 rows × 28 columns</p>\n",
       "</div>"
      ],
      "text/plain": [
       "   scopus_source_id                                              title  \\\n",
       "0       11900154400  International Journal of Information Technolog...   \n",
       "1       12100154817  International Journal of Wireless and Mobile C...   \n",
       "\n",
       "   citescore  percentile  citation_count  scholarly_output  percent_cited  \\\n",
       "0       1.29          60              63                49             63   \n",
       "1       0.49          22             137               280             30   \n",
       "\n",
       "    snip    sjr  rank  ...                                  scopus_link  \\\n",
       "0  0.635  0.191    82  ...  https://www.scopus.com/sourceid/11900154400   \n",
       "1  0.252  0.168   160  ...  https://www.scopus.com/sourceid/12100154817   \n",
       "\n",
       "    index    publisher2 percentile2   frequency  \\\n",
       "0  Scopus        Others         200   Quarterly   \n",
       "1  Scopus  Inderscience         400  Bi-monthly   \n",
       "\n",
       "                                     journal_website review_time open_access2  \\\n",
       "0    https://www.igi-global.com/gateway/journal/1093         NaN           No   \n",
       "1  https://www.inderscience.com/jhome.php?jcode=i...         NaN           No   \n",
       "\n",
       "  print_issn     e_issn  \n",
       "0  1554-1045  1554-1053  \n",
       "1  1741-1084  1741-1092  \n",
       "\n",
       "[2 rows x 28 columns]"
      ]
     },
     "execution_count": 2,
     "metadata": {},
     "output_type": "execute_result"
    }
   ],
   "source": [
    "journal = pd.read_csv('Ranking Journals.csv')\n",
    "#journal = pd.read_csv('Ranking Scopus Journals.csv')\n",
    "journal.head(2)"
   ]
  },
  {
   "cell_type": "code",
   "execution_count": 3,
   "metadata": {},
   "outputs": [
    {
     "data": {
      "text/plain": [
       "3139"
      ]
     },
     "execution_count": 3,
     "metadata": {},
     "output_type": "execute_result"
    }
   ],
   "source": [
    "len(journal)"
   ]
  },
  {
   "cell_type": "markdown",
   "metadata": {},
   "source": [
    "## Creating new columns for ranking"
   ]
  },
  {
   "cell_type": "code",
   "execution_count": 4,
   "metadata": {},
   "outputs": [],
   "source": [
    "journal['user_index'] = journal['index']\n",
    "journal['user_publisher'] = journal['publisher2']\n",
    "journal['user_percentile'] = journal['percentile2']\n",
    "journal['user_frequency'] = journal['frequency']\n",
    "journal['user_open_access'] = journal['open_access2']"
   ]
  },
  {
   "cell_type": "code",
   "execution_count": 5,
   "metadata": {},
   "outputs": [
    {
     "data": {
      "text/plain": [
       "Index(['scopus_source_id', 'title', 'citescore', 'percentile',\n",
       "       'citation_count', 'scholarly_output', 'percent_cited', 'snip', 'sjr',\n",
       "       'rank', 'rank_outof', 'publisher', 'type', 'open_access',\n",
       "       'scopus_asjc_code', 'subject_area', 'quartile', 'top_10%',\n",
       "       'scopus_link', 'index', 'publisher2', 'percentile2', 'frequency',\n",
       "       'journal_website', 'review_time', 'open_access2', 'print_issn',\n",
       "       'e_issn', 'user_index', 'user_publisher', 'user_percentile',\n",
       "       'user_frequency', 'user_open_access'],\n",
       "      dtype='object')"
      ]
     },
     "execution_count": 5,
     "metadata": {},
     "output_type": "execute_result"
    }
   ],
   "source": [
    "journal.columns"
   ]
  },
  {
   "cell_type": "markdown",
   "metadata": {},
   "source": [
    "# Ranking Time Everybody!!!!!"
   ]
  },
  {
   "cell_type": "markdown",
   "metadata": {},
   "source": [
    "# Subject Area"
   ]
  },
  {
   "cell_type": "code",
   "execution_count": 6,
   "metadata": {},
   "outputs": [
    {
     "name": "stdout",
     "output_type": "stream",
     "text": [
      "Please Enter a number which represent a computer science sub-subject area: 6\n"
     ]
    }
   ],
   "source": [
    "def user__switch_subject_area(arg):\n",
    "    switcher = {\n",
    "        1: \"General Computer Science\",\n",
    "        2: \"Computer Science (miscellaneous)\",\n",
    "        3: \"Artificial Intelligence\",\n",
    "        4: \"Computational Theory and Mathematics\",\n",
    "        5: \"Computer Graphics and Computer-Aided Design\",\n",
    "        6: \"Computer Networks and Communications\",\n",
    "        7: \"Computer Science Applications\",\n",
    "        8: \"Computer Vision and Pattern Recognition\",\n",
    "        9: \"Hardware and Architecture\",\n",
    "        10: \"Human-Computer Interaction\",\n",
    "        11: \"Information Systems\",\n",
    "        12: \"Signal Processing\",\n",
    "        13: \"Software\"\n",
    "    }\n",
    "    return switcher.get(arg, \"You entered an invalid input\")\n",
    "\n",
    "user_subject_area = int(input(\"Please Enter a number which represent a computer science sub-subject area: \"))\n",
    "subject_area = user__switch_subject_area(user_subject_area)\n",
    "\n",
    "not_suject_area = journal.loc[journal['subject_area'] != subject_area]\n",
    "journal=journal.drop(not_suject_area.index, axis=0)"
   ]
  },
  {
   "cell_type": "markdown",
   "metadata": {},
   "source": [
    "## Index"
   ]
  },
  {
   "cell_type": "code",
   "execution_count": 7,
   "metadata": {},
   "outputs": [
    {
     "name": "stdout",
     "output_type": "stream",
     "text": [
      "Kindly input rank: \n",
      "1 for Scopus \n",
      "2 for SCIEISI\n",
      "Enter the first journal index ranking number: 1\n",
      "Enter the second journal index ranking number: 2\n"
     ]
    }
   ],
   "source": [
    "index = dict()\n",
    "def user_index():\n",
    "    \n",
    "    # print out text\n",
    "    print(\"Kindly input rank: \\n1 for Scopus \\n2 for SCIEISI\")\n",
    "    \n",
    "    # dictionary to come back to\n",
    "    dict_index = { 1: \"Scopus\", 2: \"SCIEISI\" }\n",
    "    \n",
    "    # list of the times of print out\n",
    "    list_index = [\"first\", \"second\"]\n",
    "    \n",
    "    # list of the rank values\n",
    "    rank_index = np.linspace(1, 0.1, 2).round(2).tolist()\n",
    "    \n",
    "    #Double for loop\n",
    "    for (x, y) in zip(list_index, rank_index):  \n",
    "        \n",
    "        # ask the user for input\n",
    "        user_text_index = \"Enter the {} journal index ranking number: \".format(x)\n",
    "        \n",
    "        # convert user input to interger and store in user_index\n",
    "        user_index = int(input(user_text_index))\n",
    "        \n",
    "        #loop through the dictionary (1, 2)\n",
    "        for key in dict_index.keys():\n",
    "            \n",
    "            #if user input is either 1 or 2\n",
    "            if user_index == key:\n",
    "                \n",
    "                # the value of the key eg. scopus will be gotten and used as key while the value willbe rank_index\n",
    "                # {'Scopus': 1.0}\n",
    "                index[dict_index[key]] = y\n",
    "                \n",
    "               \n",
    "            elif user_index not in dict_index.keys():\n",
    "                return (\"Please enter either 1 or 2\")\n",
    "    return index\n",
    "\n",
    "user_index()\n",
    "\n",
    "rank_index = journal['user_index']\n",
    "for i in rank_index:\n",
    "    for key in index.keys():\n",
    "        if (i == key):\n",
    "            a = rank_index.replace(i,index[key], inplace=True)"
   ]
  },
  {
   "cell_type": "markdown",
   "metadata": {},
   "source": [
    "# Publisher"
   ]
  },
  {
   "cell_type": "code",
   "execution_count": 8,
   "metadata": {},
   "outputs": [
    {
     "name": "stdout",
     "output_type": "stream",
     "text": [
      "Kindly input rank: \n",
      "1 for Springer \n",
      "2 for Elsevier \n",
      "3 for IEEE \n",
      "4 for Taylor and Francis \n",
      "5 for Inderscience         \n",
      "6 for ACM \n",
      "7 for Others\n",
      "Enter the first publisher ranking number: 2\n",
      "Enter the second publisher ranking number: 1\n",
      "Enter the third publisher ranking number: 3\n",
      "Enter the forth publisher ranking number: 4\n",
      "Enter the fifth publisher ranking number: 5\n",
      "Enter the sixth publisher ranking number: 6\n",
      "Enter the seventh publisher ranking number: 7\n"
     ]
    }
   ],
   "source": [
    "publisher = dict()\n",
    "def user_publisher():\n",
    "    print(\"Kindly input rank: \\n1 for Springer \\n2 for Elsevier \\n3 for IEEE \\n4 for Taylor and Francis \\n5 for Inderscience\\\n",
    "         \\n6 for ACM \\n7 for Others\")\n",
    "    dict_publisher = { 1: \"Springer\", 2: \"Elsevier\", 3: \"IEEE\", 4: \"Taylor and Francis\", 5: \"Inderscience\", 6: \"ACM\", \n",
    "                      7: \"Others\" }\n",
    "    list_publisher = [\"first\", \"second\", \"third\", \"forth\", \"fifth\", \"sixth\", \"seventh\"]\n",
    "    rank_publisher = np.linspace(1, 0.1, 7).round(2).tolist()\n",
    "    \n",
    "    for (x, y) in zip(list_publisher, rank_publisher):   \n",
    "        user_text_publisher = \"Enter the {} publisher ranking number: \".format(x)\n",
    "        user_publisher = int(input(user_text_publisher))\n",
    "        for key in dict_publisher.keys():\n",
    "            if user_publisher == key:\n",
    "                publisher[dict_publisher[key]] = y\n",
    "                \n",
    "            elif user_publisher not in dict_publisher.keys():\n",
    "                return (\"Please enter a number between 1 to 7\")\n",
    "    return publisher\n",
    "\n",
    "user_publisher()\n",
    "rank_publisher = journal['user_publisher']\n",
    "for i in rank_publisher:\n",
    "    for key in publisher.keys():\n",
    "        if (i == key):\n",
    "            a = rank_publisher.replace(i,publisher[key], inplace=True)"
   ]
  },
  {
   "cell_type": "markdown",
   "metadata": {},
   "source": [
    "# Percentile"
   ]
  },
  {
   "cell_type": "code",
   "execution_count": 9,
   "metadata": {},
   "outputs": [
    {
     "name": "stdout",
     "output_type": "stream",
     "text": [
      "Kindly input rank: \n",
      "1 for 99 - 75 \n",
      "2 for 74 - 50 \n",
      "3 for 49 - 25 \n",
      "4 for 24 - 0\n",
      "Enter the first percentile ranking number: 1\n",
      "Enter the second percentile ranking number: 2\n",
      "Enter the third percentile ranking number: 3\n",
      "Enter the forth percentile ranking number: 4\n"
     ]
    }
   ],
   "source": [
    "percentile = dict() \n",
    "def user_percentile(): \n",
    "    print(\"Kindly input rank: \\n1 for 99 - 75 \\n2 for 74 - 50 \\n3 for 49 - 25 \\n4 for 24 - 0\") \n",
    "    dict_percentile = { 1: 100, 2: 200, 3: 300, 4: 400} \n",
    "    list_percentile = [\"first\", \"second\", \"third\", \"forth\"] \n",
    "    rank_percentile = np.linspace(1, 0.1, 4).round(2).tolist()\n",
    "    \n",
    "    for (x, y) in zip(list_percentile, rank_percentile):   \n",
    "        user_text_percentile = \"Enter the {} percentile ranking number: \".format(x)\n",
    "        user_percentile = int(input(user_text_percentile))\n",
    "        for key in dict_percentile.keys():\n",
    "            if user_percentile == key:\n",
    "                percentile[dict_percentile[key]] = y\n",
    "\n",
    "            elif user_percentile not in dict_percentile.keys():\n",
    "                return (\"Please enter a number between 1 to 4\")\n",
    "    return percentile\n",
    "\n",
    "user_percentile()\n",
    "rank_percentile = journal['user_percentile']\n",
    "for i in rank_percentile:\n",
    "    for key in percentile.keys():\n",
    "        if (i == key):\n",
    "            a = rank_percentile.replace(i,percentile[key], inplace=True)"
   ]
  },
  {
   "cell_type": "markdown",
   "metadata": {},
   "source": [
    "# Frequency"
   ]
  },
  {
   "cell_type": "code",
   "execution_count": 10,
   "metadata": {},
   "outputs": [
    {
     "name": "stdout",
     "output_type": "stream",
     "text": [
      "Kindly input rank: \n",
      "1 for Weekly \n",
      "2 for Fortnightly \n",
      "3 for Semi-monthly \n",
      "4 for Monthly \n",
      "5 for Bi-monthly \n",
      "6 for Quarterly \n",
      "7 for Tri-annual \n",
      "8 for Semi-annual \n",
      "9 for Annual\n",
      "Enter the first frequency ranking number: 1\n",
      "Enter the second frequency ranking number: 2\n",
      "Enter the third frequency ranking number: 3\n",
      "Enter the forth frequency ranking number: 4\n",
      "Enter the fifth frequency ranking number: 5\n",
      "Enter the sixth frequency ranking number: 6\n",
      "Enter the seventh frequency ranking number: 7\n",
      "Enter the eighth frequency ranking number: 8\n",
      "Enter the ninth frequency ranking number: 9\n"
     ]
    }
   ],
   "source": [
    "frequency = dict()\n",
    "def user_frequency():\n",
    "    print(\"Kindly input rank: \\n1 for Weekly \\n2 for Fortnightly \\n3 for Semi-monthly \\n4 for Monthly \\n5 for Bi-monthly \\n6 for Quarterly \\n7 for Tri-annual \\n8 for Semi-annual \\n9 for Annual\")\n",
    "    dict_frequency = { 1: \"Weekly\", 2: \"Fortnightly\", 3: \"Semi-monthly\", 4: \"Monthly\", 5: \"Bi-monthly\", 6: \"Quarterly\", 7: \"Tri-annual\", 8: \"Semi-annual\", 9: \"Annual\" }\n",
    "    list_frequency = [\"first\", \"second\", \"third\", \"forth\", \"fifth\", \"sixth\", \"seventh\", \"eighth\", \"ninth\"]\n",
    "    rank_frequency = np.linspace(1, 0.1, 9).round(2).tolist()\n",
    "    \n",
    "    for (x, y) in zip(list_frequency, rank_frequency):   \n",
    "        user_text_frequency = \"Enter the {} frequency ranking number: \".format(x)\n",
    "        user_frequency = int(input(user_text_frequency))\n",
    "        for key in dict_frequency.keys():\n",
    "            if user_frequency == key:\n",
    "                frequency[dict_frequency[key]] = y\n",
    "                \n",
    "            elif user_frequency not in dict_frequency.keys():\n",
    "                return (\"Please enter a number between 1 to 9\")\n",
    "    return frequency\n",
    "\n",
    "user_frequency()\n",
    "rank_frequency = journal['user_frequency']\n",
    "for i in rank_frequency:\n",
    "    for key in frequency.keys():\n",
    "        if (i == key):\n",
    "            a = rank_frequency.replace(i,frequency[key], inplace=True)"
   ]
  },
  {
   "cell_type": "markdown",
   "metadata": {},
   "source": [
    "# Open Access"
   ]
  },
  {
   "cell_type": "code",
   "execution_count": 11,
   "metadata": {},
   "outputs": [
    {
     "name": "stdout",
     "output_type": "stream",
     "text": [
      "Do you want open access journal input: \n",
      "1 for Yes \n",
      "2 for No\n",
      "Enter the first open access ranking number: 2\n",
      "Enter the second open access ranking number: 1\n"
     ]
    }
   ],
   "source": [
    "open_access = dict()\n",
    "def user_open_access():\n",
    "    print(\"Do you want open access journal input: \\n1 for Yes \\n2 for No\")\n",
    "    dict_open_access = { 1: \"Yes\", 2: \"No\" }\n",
    "    list_open_access = [\"first\", \"second\"]\n",
    "    rank_open_access = np.linspace(1, 0.1, 2).round(2).tolist()\n",
    "    \n",
    "    for (x, y) in zip(list_open_access, rank_open_access):   \n",
    "        user_text_open_access = \"Enter the {} open access ranking number: \".format(x)\n",
    "        user_open_access = int(input(user_text_open_access))\n",
    "        for key in dict_open_access.keys():\n",
    "            if user_open_access == key:\n",
    "                open_access[dict_open_access[key]] = y\n",
    "               \n",
    "            elif user_open_access not in dict_open_access.keys():\n",
    "                return (\"Please enter either 1 or 2\")\n",
    "    return open_access\n",
    "\n",
    "user_open_access()\n",
    "rank_open_access = journal['user_open_access']\n",
    "for i in rank_open_access:\n",
    "    for key in open_access.keys():\n",
    "        if (i == key):\n",
    "            a = rank_open_access.replace(i,open_access[key], inplace=True)"
   ]
  },
  {
   "cell_type": "markdown",
   "metadata": {},
   "source": [
    "# View Dataset"
   ]
  },
  {
   "cell_type": "code",
   "execution_count": 12,
   "metadata": {},
   "outputs": [
    {
     "data": {
      "text/html": [
       "<div>\n",
       "<style scoped>\n",
       "    .dataframe tbody tr th:only-of-type {\n",
       "        vertical-align: middle;\n",
       "    }\n",
       "\n",
       "    .dataframe tbody tr th {\n",
       "        vertical-align: top;\n",
       "    }\n",
       "\n",
       "    .dataframe thead th {\n",
       "        text-align: right;\n",
       "    }\n",
       "</style>\n",
       "<table border=\"1\" class=\"dataframe\">\n",
       "  <thead>\n",
       "    <tr style=\"text-align: right;\">\n",
       "      <th></th>\n",
       "      <th>scopus_source_id</th>\n",
       "      <th>title</th>\n",
       "      <th>citescore</th>\n",
       "      <th>percentile</th>\n",
       "      <th>citation_count</th>\n",
       "      <th>scholarly_output</th>\n",
       "      <th>percent_cited</th>\n",
       "      <th>snip</th>\n",
       "      <th>sjr</th>\n",
       "      <th>rank</th>\n",
       "      <th>...</th>\n",
       "      <th>journal_website</th>\n",
       "      <th>review_time</th>\n",
       "      <th>open_access2</th>\n",
       "      <th>print_issn</th>\n",
       "      <th>e_issn</th>\n",
       "      <th>user_index</th>\n",
       "      <th>user_publisher</th>\n",
       "      <th>user_percentile</th>\n",
       "      <th>user_frequency</th>\n",
       "      <th>user_open_access</th>\n",
       "    </tr>\n",
       "  </thead>\n",
       "  <tbody>\n",
       "    <tr>\n",
       "      <th>571</th>\n",
       "      <td>100147332</td>\n",
       "      <td>International Journal of Parallel, Emergent an...</td>\n",
       "      <td>0.63</td>\n",
       "      <td>21</td>\n",
       "      <td>82</td>\n",
       "      <td>131</td>\n",
       "      <td>30</td>\n",
       "      <td>0.464</td>\n",
       "      <td>0.177</td>\n",
       "      <td>214</td>\n",
       "      <td>...</td>\n",
       "      <td>http://www.tandfonline.com/loi/gpaa20</td>\n",
       "      <td>NaN</td>\n",
       "      <td>No</td>\n",
       "      <td>1744-5760</td>\n",
       "      <td>1744-5779</td>\n",
       "      <td>1.0</td>\n",
       "      <td>0.55</td>\n",
       "      <td>0.1</td>\n",
       "      <td>0.55</td>\n",
       "      <td>1.0</td>\n",
       "    </tr>\n",
       "    <tr>\n",
       "      <th>572</th>\n",
       "      <td>110111</td>\n",
       "      <td>IEEE Intelligent Systems</td>\n",
       "      <td>4.35</td>\n",
       "      <td>85</td>\n",
       "      <td>900</td>\n",
       "      <td>207</td>\n",
       "      <td>76</td>\n",
       "      <td>2.137</td>\n",
       "      <td>0.941</td>\n",
       "      <td>41</td>\n",
       "      <td>...</td>\n",
       "      <td>http://www.computer.org/portal/web/computingno...</td>\n",
       "      <td>NaN</td>\n",
       "      <td>No</td>\n",
       "      <td>1541-1672</td>\n",
       "      <td>1941-1294</td>\n",
       "      <td>1.0</td>\n",
       "      <td>0.70</td>\n",
       "      <td>1.0</td>\n",
       "      <td>0.55</td>\n",
       "      <td>1.0</td>\n",
       "    </tr>\n",
       "    <tr>\n",
       "      <th>573</th>\n",
       "      <td>11300153734</td>\n",
       "      <td>IEEE Systems Journal</td>\n",
       "      <td>5.11</td>\n",
       "      <td>90</td>\n",
       "      <td>2576</td>\n",
       "      <td>504</td>\n",
       "      <td>82</td>\n",
       "      <td>2.374</td>\n",
       "      <td>0.824</td>\n",
       "      <td>27</td>\n",
       "      <td>...</td>\n",
       "      <td>http://ieeexplore.ieee.org/xpl/aboutJournal.js...</td>\n",
       "      <td>NaN</td>\n",
       "      <td>No</td>\n",
       "      <td>1932-8184</td>\n",
       "      <td>1937-9234</td>\n",
       "      <td>1.0</td>\n",
       "      <td>0.70</td>\n",
       "      <td>1.0</td>\n",
       "      <td>0.44</td>\n",
       "      <td>1.0</td>\n",
       "    </tr>\n",
       "    <tr>\n",
       "      <th>574</th>\n",
       "      <td>11700154336</td>\n",
       "      <td>Journal of Computer Science</td>\n",
       "      <td>0.69</td>\n",
       "      <td>25</td>\n",
       "      <td>173</td>\n",
       "      <td>251</td>\n",
       "      <td>34</td>\n",
       "      <td>0.635</td>\n",
       "      <td>0.162</td>\n",
       "      <td>202</td>\n",
       "      <td>...</td>\n",
       "      <td>NaN</td>\n",
       "      <td>NaN</td>\n",
       "      <td>Yes</td>\n",
       "      <td>1549-3636</td>\n",
       "      <td>1552-6607</td>\n",
       "      <td>1.0</td>\n",
       "      <td>0.10</td>\n",
       "      <td>0.4</td>\n",
       "      <td>0.55</td>\n",
       "      <td>0.1</td>\n",
       "    </tr>\n",
       "    <tr>\n",
       "      <th>575</th>\n",
       "      <td>11700154352</td>\n",
       "      <td>Journal of the Institute of Telecommunications...</td>\n",
       "      <td>0.02</td>\n",
       "      <td>0</td>\n",
       "      <td>2</td>\n",
       "      <td>87</td>\n",
       "      <td>2</td>\n",
       "      <td>0.025</td>\n",
       "      <td>0.103</td>\n",
       "      <td>271</td>\n",
       "      <td>...</td>\n",
       "      <td>NaN</td>\n",
       "      <td>NaN</td>\n",
       "      <td>No</td>\n",
       "      <td>1755-9278</td>\n",
       "      <td>NaN</td>\n",
       "      <td>1.0</td>\n",
       "      <td>0.10</td>\n",
       "      <td>0.1</td>\n",
       "      <td>0.55</td>\n",
       "      <td>1.0</td>\n",
       "    </tr>\n",
       "  </tbody>\n",
       "</table>\n",
       "<p>5 rows × 33 columns</p>\n",
       "</div>"
      ],
      "text/plain": [
       "     scopus_source_id                                              title  \\\n",
       "571         100147332  International Journal of Parallel, Emergent an...   \n",
       "572            110111                           IEEE Intelligent Systems   \n",
       "573       11300153734                               IEEE Systems Journal   \n",
       "574       11700154336                        Journal of Computer Science   \n",
       "575       11700154352  Journal of the Institute of Telecommunications...   \n",
       "\n",
       "     citescore  percentile  citation_count  scholarly_output  percent_cited  \\\n",
       "571       0.63          21              82               131             30   \n",
       "572       4.35          85             900               207             76   \n",
       "573       5.11          90            2576               504             82   \n",
       "574       0.69          25             173               251             34   \n",
       "575       0.02           0               2                87              2   \n",
       "\n",
       "      snip    sjr  rank  ...  \\\n",
       "571  0.464  0.177   214  ...   \n",
       "572  2.137  0.941    41  ...   \n",
       "573  2.374  0.824    27  ...   \n",
       "574  0.635  0.162   202  ...   \n",
       "575  0.025  0.103   271  ...   \n",
       "\n",
       "                                       journal_website review_time  \\\n",
       "571              http://www.tandfonline.com/loi/gpaa20         NaN   \n",
       "572  http://www.computer.org/portal/web/computingno...         NaN   \n",
       "573  http://ieeexplore.ieee.org/xpl/aboutJournal.js...         NaN   \n",
       "574                                                NaN         NaN   \n",
       "575                                                NaN         NaN   \n",
       "\n",
       "    open_access2 print_issn     e_issn user_index user_publisher  \\\n",
       "571           No  1744-5760  1744-5779        1.0           0.55   \n",
       "572           No  1541-1672  1941-1294        1.0           0.70   \n",
       "573           No  1932-8184  1937-9234        1.0           0.70   \n",
       "574          Yes  1549-3636  1552-6607        1.0           0.10   \n",
       "575           No  1755-9278        NaN        1.0           0.10   \n",
       "\n",
       "    user_percentile user_frequency user_open_access  \n",
       "571             0.1           0.55              1.0  \n",
       "572             1.0           0.55              1.0  \n",
       "573             1.0           0.44              1.0  \n",
       "574             0.4           0.55              0.1  \n",
       "575             0.1           0.55              1.0  \n",
       "\n",
       "[5 rows x 33 columns]"
      ]
     },
     "execution_count": 12,
     "metadata": {},
     "output_type": "execute_result"
    }
   ],
   "source": [
    "journal.head()"
   ]
  },
  {
   "cell_type": "code",
   "execution_count": 13,
   "metadata": {},
   "outputs": [],
   "source": [
    "journal.to_csv('User Journals.csv', index=False) "
   ]
  },
  {
   "cell_type": "code",
   "execution_count": null,
   "metadata": {},
   "outputs": [],
   "source": []
  }
 ],
 "metadata": {
  "kernelspec": {
   "display_name": "Python 3",
   "language": "python",
   "name": "python3"
  },
  "language_info": {
   "codemirror_mode": {
    "name": "ipython",
    "version": 3
   },
   "file_extension": ".py",
   "mimetype": "text/x-python",
   "name": "python",
   "nbconvert_exporter": "python",
   "pygments_lexer": "ipython3",
   "version": "3.7.3"
  }
 },
 "nbformat": 4,
 "nbformat_minor": 2
}
