{
 "cells": [
  {
   "cell_type": "markdown",
   "metadata": {},
   "source": [
    "\n",
    "# Import all the needed libraries"
   ]
  },
  {
   "cell_type": "code",
   "execution_count": 1,
   "metadata": {},
   "outputs": [],
   "source": [
    "import numpy as np\n",
    "import pandas as pd\n",
    "import matplotlib.pyplot as plt\n",
    "import seaborn as sns\n",
    "%matplotlib inline\n",
    "sns.set_style('whitegrid')"
   ]
  },
  {
   "cell_type": "markdown",
   "metadata": {},
   "source": [
    "# Import Datasets"
   ]
  },
  {
   "cell_type": "code",
   "execution_count": 2,
   "metadata": {},
   "outputs": [],
   "source": [
    "scopus = pd.read_csv('Scopus Journals.csv') \n",
    "scieisi = pd.read_csv('SCIEISI Journals.csv')\n",
    "scrap_journal = pd.read_csv('Scraping Journals.csv')"
   ]
  },
  {
   "cell_type": "markdown",
   "metadata": {},
   "source": [
    "# Scopus Dataset"
   ]
  },
  {
   "cell_type": "code",
   "execution_count": 3,
   "metadata": {},
   "outputs": [
    {
     "data": {
      "text/html": [
       "<div>\n",
       "<style scoped>\n",
       "    .dataframe tbody tr th:only-of-type {\n",
       "        vertical-align: middle;\n",
       "    }\n",
       "\n",
       "    .dataframe tbody tr th {\n",
       "        vertical-align: top;\n",
       "    }\n",
       "\n",
       "    .dataframe thead th {\n",
       "        text-align: right;\n",
       "    }\n",
       "</style>\n",
       "<table border=\"1\" class=\"dataframe\">\n",
       "  <thead>\n",
       "    <tr style=\"text-align: right;\">\n",
       "      <th></th>\n",
       "      <th>Scopus Source ID</th>\n",
       "      <th>Title</th>\n",
       "      <th>CiteScore</th>\n",
       "      <th>Percentile</th>\n",
       "      <th>Citation\\nCount</th>\n",
       "      <th>Scholarly\\nOutput</th>\n",
       "      <th>Percent\\nCited</th>\n",
       "      <th>SNIP</th>\n",
       "      <th>SJR</th>\n",
       "      <th>RANK</th>\n",
       "      <th>...</th>\n",
       "      <th>Scopus Sub-Subject Area</th>\n",
       "      <th>Quartile</th>\n",
       "      <th>Top 10% (CiteScore Percentile)</th>\n",
       "      <th>Scopus Source ID.1</th>\n",
       "      <th>frequency</th>\n",
       "      <th>review_time</th>\n",
       "      <th>journal_website</th>\n",
       "      <th>Print ISSN</th>\n",
       "      <th>E-ISSN</th>\n",
       "      <th>Index</th>\n",
       "    </tr>\n",
       "  </thead>\n",
       "  <tbody>\n",
       "    <tr>\n",
       "      <th>0</th>\n",
       "      <td>11900154400</td>\n",
       "      <td>International Journal of Information Technolog...</td>\n",
       "      <td>1.29</td>\n",
       "      <td>60</td>\n",
       "      <td>63</td>\n",
       "      <td>49</td>\n",
       "      <td>63</td>\n",
       "      <td>0.635</td>\n",
       "      <td>0.191</td>\n",
       "      <td>82</td>\n",
       "      <td>...</td>\n",
       "      <td>General Computer Science</td>\n",
       "      <td>Quartile2</td>\n",
       "      <td>NaN</td>\n",
       "      <td>https://www.scopus.com/sourceid/11900154400</td>\n",
       "      <td>Quarterly</td>\n",
       "      <td>NaN</td>\n",
       "      <td>https://www.igi-global.com/gateway/journal/1093</td>\n",
       "      <td>1554-1045</td>\n",
       "      <td>1554-1053</td>\n",
       "      <td>Scopus</td>\n",
       "    </tr>\n",
       "    <tr>\n",
       "      <th>1</th>\n",
       "      <td>12100154817</td>\n",
       "      <td>International Journal of Wireless and Mobile C...</td>\n",
       "      <td>0.49</td>\n",
       "      <td>22</td>\n",
       "      <td>137</td>\n",
       "      <td>280</td>\n",
       "      <td>30</td>\n",
       "      <td>0.252</td>\n",
       "      <td>0.168</td>\n",
       "      <td>160</td>\n",
       "      <td>...</td>\n",
       "      <td>General Computer Science</td>\n",
       "      <td>Quartile4</td>\n",
       "      <td>NaN</td>\n",
       "      <td>https://www.scopus.com/sourceid/12100154817</td>\n",
       "      <td>Bi-monthly</td>\n",
       "      <td>NaN</td>\n",
       "      <td>https://www.inderscience.com/jhome.php?jcode=i...</td>\n",
       "      <td>1741-1084</td>\n",
       "      <td>1741-1092</td>\n",
       "      <td>Scopus</td>\n",
       "    </tr>\n",
       "  </tbody>\n",
       "</table>\n",
       "<p>2 rows × 25 columns</p>\n",
       "</div>"
      ],
      "text/plain": [
       "   Scopus Source ID                                              Title  \\\n",
       "0       11900154400  International Journal of Information Technolog...   \n",
       "1       12100154817  International Journal of Wireless and Mobile C...   \n",
       "\n",
       "   CiteScore  Percentile  Citation\\nCount  Scholarly\\nOutput  Percent\\nCited  \\\n",
       "0       1.29          60               63                 49              63   \n",
       "1       0.49          22              137                280              30   \n",
       "\n",
       "    SNIP    SJR  RANK  ...   Scopus Sub-Subject Area   Quartile  \\\n",
       "0  0.635  0.191    82  ...  General Computer Science  Quartile2   \n",
       "1  0.252  0.168   160  ...  General Computer Science  Quartile4   \n",
       "\n",
       "  Top 10% (CiteScore Percentile)                           Scopus Source ID.1  \\\n",
       "0                            NaN  https://www.scopus.com/sourceid/11900154400   \n",
       "1                            NaN  https://www.scopus.com/sourceid/12100154817   \n",
       "\n",
       "    frequency review_time                                    journal_website  \\\n",
       "0   Quarterly         NaN    https://www.igi-global.com/gateway/journal/1093   \n",
       "1  Bi-monthly         NaN  https://www.inderscience.com/jhome.php?jcode=i...   \n",
       "\n",
       "  Print ISSN     E-ISSN   Index  \n",
       "0  1554-1045  1554-1053  Scopus  \n",
       "1  1741-1084  1741-1092  Scopus  \n",
       "\n",
       "[2 rows x 25 columns]"
      ]
     },
     "execution_count": 3,
     "metadata": {},
     "output_type": "execute_result"
    }
   ],
   "source": [
    "#Select Computer Science Subject Area\n",
    "asjc_code = scopus['Scopus ASJC Code'].apply(str) \n",
    "scopus = scopus[asjc_code.apply(lambda x: x[:2]) == '17'] \n",
    "\n",
    "#Select Computer Science Journals\n",
    "not_scopus_journal = scopus.loc[scopus['Type'] != 'Journal']\n",
    "scopus = scopus.drop(not_scopus_journal.index, axis=0)\n",
    "\n",
    "#Renumbering the index\n",
    "scopus.index=range(len(scopus))\n",
    "\n",
    "#Joining Scrapped Data\n",
    "scopus = scopus.join(scrap_journal)\n",
    "scopus = scopus.drop(['Print ISSN','E-ISSN','scopus_source_id'], axis=1)\n",
    "\n",
    "#Working on the Print ISSN Column\n",
    "scopus['Print ISSN'] = scopus['print_issn']\n",
    "issn = scopus['Print ISSN']\n",
    "issn_len = 8\n",
    "for i in issn:\n",
    "    if pd.isnull(i):\n",
    "        new_issn = i\n",
    "    elif len(i) != issn_len:\n",
    "        z = issn_len - len(i)\n",
    "        new_issn = str(\"0\"*z)+(i)\n",
    "        value = issn.replace(i, new_issn, inplace=True)\n",
    "    else:\n",
    "        new_issn = i\n",
    "for i in issn:\n",
    "    if pd.isnull(i):\n",
    "        new_issn = i\n",
    "    elif len(i) == 8:\n",
    "        hyphen = i[:4] + '-' + i[4:]\n",
    "        value = issn.replace(i, hyphen, inplace=True)  \n",
    "        \n",
    "\n",
    "# Working on the E-ISSN Column\n",
    "scopus['E-ISSN'] = scopus['e_issn']\n",
    "eissn = scopus['E-ISSN']\n",
    "eissn_len = 8\n",
    "for i in eissn:\n",
    "    if pd.isnull(i):\n",
    "        new_eissn = i\n",
    "    elif len(i) != eissn_len:\n",
    "        z = eissn_len - len(i)\n",
    "        new_eissn = str(\"0\"*z)+(i)\n",
    "        value = eissn.replace(i, new_eissn, inplace=True)\n",
    "    else:\n",
    "        new_eissn = i\n",
    "for i in eissn:\n",
    "    if pd.isnull(i):\n",
    "        new_eissn = i\n",
    "    elif len(i) == 8:\n",
    "        hyphen = i[:4] + '-' + i[4:]\n",
    "        value = eissn.replace(i, hyphen, inplace=True) \n",
    "\n",
    "scopus = scopus.drop(['print_issn','e_issn'], axis=1)\n",
    "\n",
    "#Adding the Index Column\n",
    "scopus['Index'] = ['Scopus']*len(scopus)\n",
    "\n",
    "scopus.head(2)"
   ]
  },
  {
   "cell_type": "markdown",
   "metadata": {},
   "source": [
    "# SCIEISI Dataset"
   ]
  },
  {
   "cell_type": "code",
   "execution_count": 4,
   "metadata": {},
   "outputs": [
    {
     "data": {
      "text/html": [
       "<div>\n",
       "<style scoped>\n",
       "    .dataframe tbody tr th:only-of-type {\n",
       "        vertical-align: middle;\n",
       "    }\n",
       "\n",
       "    .dataframe tbody tr th {\n",
       "        vertical-align: top;\n",
       "    }\n",
       "\n",
       "    .dataframe thead th {\n",
       "        text-align: right;\n",
       "    }\n",
       "</style>\n",
       "<table border=\"1\" class=\"dataframe\">\n",
       "  <thead>\n",
       "    <tr style=\"text-align: right;\">\n",
       "      <th></th>\n",
       "      <th>Title</th>\n",
       "      <th>Print ISSN</th>\n",
       "      <th>E-ISSN</th>\n",
       "      <th>Publisher</th>\n",
       "      <th>Web of Science Categories</th>\n",
       "      <th>Index</th>\n",
       "    </tr>\n",
       "  </thead>\n",
       "  <tbody>\n",
       "    <tr>\n",
       "      <th>0</th>\n",
       "      <td>ACM COMPUTING SURVEYS</td>\n",
       "      <td>0360-0300</td>\n",
       "      <td>1557-7341</td>\n",
       "      <td>ASSOC COMPUTING MACHINERY</td>\n",
       "      <td>Computer Science, Theory &amp; Methods</td>\n",
       "      <td>SCIEISI</td>\n",
       "    </tr>\n",
       "    <tr>\n",
       "      <th>1</th>\n",
       "      <td>ACM JOURNAL ON COMPUTING AND CULTURAL HERITAGE</td>\n",
       "      <td>1556-4673</td>\n",
       "      <td>1556-4711</td>\n",
       "      <td>ASSOC COMPUTING MACHINERY</td>\n",
       "      <td>Computer Science, Interdisciplinary Applications</td>\n",
       "      <td>SCIEISI</td>\n",
       "    </tr>\n",
       "  </tbody>\n",
       "</table>\n",
       "</div>"
      ],
      "text/plain": [
       "                                            Title Print ISSN     E-ISSN  \\\n",
       "0                           ACM COMPUTING SURVEYS  0360-0300  1557-7341   \n",
       "1  ACM JOURNAL ON COMPUTING AND CULTURAL HERITAGE  1556-4673  1556-4711   \n",
       "\n",
       "                   Publisher  \\\n",
       "0  ASSOC COMPUTING MACHINERY   \n",
       "1  ASSOC COMPUTING MACHINERY   \n",
       "\n",
       "                          Web of Science Categories    Index  \n",
       "0                Computer Science, Theory & Methods  SCIEISI  \n",
       "1  Computer Science, Interdisciplinary Applications  SCIEISI  "
      ]
     },
     "execution_count": 4,
     "metadata": {},
     "output_type": "execute_result"
    }
   ],
   "source": [
    "#Remove null catergories rows\n",
    "null_categories = scieisi.loc[scieisi['Web of Science Categories'].isnull()]\n",
    "scieisi = scieisi.drop(null_categories.index, axis=0)\n",
    "\n",
    "#Remove null print_issn rows\n",
    "null_issn = scieisi.loc[scieisi['ISSN'].isnull()]\n",
    "scieisi = scieisi.drop(null_issn.index, axis=0)\n",
    "\n",
    "#Filter Computer Science Journals\n",
    "scieisi['Catergories'] = [catergories.replace(' | ', ', ').split(', ') for catergories in scieisi['Web of Science Categories']]\n",
    "scieisi = scieisi[scieisi['Catergories'].apply(lambda x: \"Computer Science\" in x)] \n",
    "\n",
    "#Renumbering the index\n",
    "scieisi.index=range(len(scieisi))\n",
    "\n",
    "#Drop unwanted columns\n",
    "scieisi = scieisi.drop(['Publisher address', 'Languages', 'Catergories'], axis=1)\n",
    "\n",
    "#Renaming columns\n",
    "scieisi.rename(columns = {'Journal title': 'Title', 'ISSN': 'Print ISSN', 'eISSN': 'E-ISSN', 'Publisher name': 'Publisher'}, \n",
    "               inplace=True)\n",
    "\n",
    "#Adding the Index Column\n",
    "scieisi['Index'] = ['SCIEISI']*len(scieisi)\n",
    "\n",
    "scieisi.head(2)"
   ]
  },
  {
   "cell_type": "markdown",
   "metadata": {},
   "source": [
    "# Merge Dataset"
   ]
  },
  {
   "cell_type": "code",
   "execution_count": 5,
   "metadata": {},
   "outputs": [],
   "source": [
    "scopus_issn = scopus['Print ISSN']\n",
    "scieisi_issn = scieisi['Print ISSN']\n",
    "\n",
    "present_journals = []\n",
    "for i in scieisi_issn:\n",
    "    if i in scopus_issn.unique().tolist():\n",
    "        present_journals.append(i)\n",
    "        \n",
    "merge_journals = []\n",
    "for i in present_journals:\n",
    "    merge = scopus.loc[(scopus['Print ISSN'] == i)].copy()\n",
    "    merge.loc[scopus_issn == i, 'Index']= \"SCIEISI\"\n",
    "    merge_journals.append(merge)\n",
    "    \n",
    "journal = scopus.append(merge_journals, ignore_index=True)"
   ]
  },
  {
   "cell_type": "markdown",
   "metadata": {},
   "source": [
    "# Working on the Publisher Column"
   ]
  },
  {
   "cell_type": "code",
   "execution_count": 6,
   "metadata": {},
   "outputs": [],
   "source": [
    "journal['Publisher2'] = journal['Publisher']\n",
    "publisher = journal['Publisher2']\n",
    "\n",
    "#Taylor and Francis\n",
    "pub_taylor = publisher[publisher.apply(lambda x: x[:6]) == 'Taylor'].unique().tolist()\n",
    "for i in publisher:\n",
    "    if i in pub_taylor:\n",
    "        a = publisher.replace(i,\"Taylor and Francis\", inplace=True)\n",
    "    \n",
    "#Inderscience\n",
    "pub_indersci = publisher[publisher.apply(lambda x: x[:12]) == 'Inderscience'].unique().tolist()\n",
    "for i in publisher:\n",
    "    if i in pub_indersci:\n",
    "        a = publisher.replace(i,\"Inderscience\", inplace=True)\n",
    "\n",
    "#ACM\n",
    "pub_acm = publisher[publisher.apply(lambda x: x[:41]) == 'Association for Computing Machinery (ACM)'].unique().tolist()\n",
    "for i in publisher:\n",
    "    if i in pub_acm:\n",
    "        a = publisher.replace(i,\"ACM\", inplace=True)\n",
    "        \n",
    "#Elsevier\n",
    "pub_elsevier = publisher[publisher.apply(lambda x: x[:8]) == 'Elsevier'].unique().tolist()\n",
    "for i in publisher:\n",
    "    if i in pub_elsevier:\n",
    "        a = publisher.replace(i,\"Elsevier\", inplace=True)\n",
    "        \n",
    "#Springer\n",
    "pub_springer = publisher[publisher.apply(lambda x: x[:8]) == 'Springer'].unique().tolist()\n",
    "for i in publisher:\n",
    "    if i in pub_springer:\n",
    "        a = publisher.replace(i,\"Springer\", inplace=True)\n",
    "        \n",
    "#IEEE1\n",
    "pub_ieee1 = publisher[publisher.apply(lambda x: x[:4]) == 'IEEE'].unique().tolist()\n",
    "for i in publisher:\n",
    "    if i in pub_ieee1:\n",
    "        a = publisher.replace(i,\"IEEE\", inplace=True)\n",
    "\n",
    "#IEEE2\n",
    "pub_ieee2 = publisher[publisher.apply(lambda x: x[:49]) == 'Institute of Electrical and Electronics Engineers'].unique().tolist()\n",
    "for i in publisher:\n",
    "    if i in pub_ieee2:\n",
    "        a = publisher.replace(i,\"IEEE\", inplace=True)\n",
    "\n",
    "#Others\n",
    "main_publiser = publisher.value_counts().head(6)\n",
    "main_publiser = main_publiser.index.tolist()\n",
    "for i in publisher:\n",
    "    if i not in main_publiser:\n",
    "        a = publisher.replace(i, \"Others\", inplace=True)"
   ]
  },
  {
   "cell_type": "markdown",
   "metadata": {},
   "source": [
    "# Working on the Percentile Column"
   ]
  },
  {
   "cell_type": "code",
   "execution_count": 7,
   "metadata": {},
   "outputs": [
    {
     "name": "stdout",
     "output_type": "stream",
     "text": [
      "0    200\n",
      "1    400\n",
      "2    100\n",
      "3    200\n",
      "4    100\n",
      "Name: Percentile2, dtype: int64\n"
     ]
    }
   ],
   "source": [
    "journal['Percentile2'] = journal['Percentile']\n",
    "percent = journal['Percentile2']\n",
    "\n",
    "for i in percent:\n",
    "    if(i>=0 and i<=24):\n",
    "        a = percent.replace(i, 400, inplace=True)\n",
    "\n",
    "for i in percent:\n",
    "    if(i>=25 and i<=49):\n",
    "        a = percent.replace(i, 300, inplace=True)\n",
    "        \n",
    "for i in percent:\n",
    "    if(i>=50 and i<=74):\n",
    "        a = percent.replace(i, 200, inplace=True)\n",
    "\n",
    "for i in percent:\n",
    "    if(i>=75 and i<=99):\n",
    "        a = percent.replace(i, 100, inplace=True)"
   ]
  },
  {
   "cell_type": "markdown",
   "metadata": {},
   "source": [
    "# Working on the Frequency Column"
   ]
  },
  {
   "cell_type": "code",
   "execution_count": 8,
   "metadata": {},
   "outputs": [],
   "source": [
    "journal['Frequency2'] = journal['frequency'].fillna(value='Bi-monthly')"
   ]
  },
  {
   "cell_type": "markdown",
   "metadata": {},
   "source": [
    "# Working on the Open Access Column"
   ]
  },
  {
   "cell_type": "code",
   "execution_count": 9,
   "metadata": {},
   "outputs": [],
   "source": [
    "journal['Open Access2'] = journal['Open Access']\n",
    "open_access = journal['Open Access2']\n",
    "\n",
    "for i in open_access:\n",
    "    if(i==\"YES\"):\n",
    "        a = open_access.replace(i, \"Yes\", inplace=True)\n",
    "\n",
    "for i in open_access:\n",
    "    if(i==\"NO\"):\n",
    "        a = open_access.replace(i, \"No\", inplace=True)"
   ]
  },
  {
   "cell_type": "code",
   "execution_count": 10,
   "metadata": {},
   "outputs": [
    {
     "data": {
      "text/plain": [
       "Index(['Scopus Source ID', 'Title', 'CiteScore', 'Percentile',\n",
       "       'Citation\\nCount', 'Scholarly\\nOutput', 'Percent\\nCited', 'SNIP', 'SJR',\n",
       "       'RANK', 'Rank\\nOut Of', 'Publisher', 'Type', 'Open Access',\n",
       "       'Scopus ASJC Code', 'Scopus Sub-Subject Area', 'Quartile',\n",
       "       'Top 10% (CiteScore Percentile)', 'Scopus Source ID.1', 'frequency',\n",
       "       'review_time', 'journal_website', 'Print ISSN', 'E-ISSN', 'Index',\n",
       "       'Publisher2', 'Percentile2', 'Frequency2', 'Open Access2'],\n",
       "      dtype='object')"
      ]
     },
     "execution_count": 10,
     "metadata": {},
     "output_type": "execute_result"
    }
   ],
   "source": [
    "journal.columns"
   ]
  },
  {
   "cell_type": "code",
   "execution_count": 11,
   "metadata": {},
   "outputs": [],
   "source": [
    "journal = journal.drop(['frequency'], axis=1)"
   ]
  },
  {
   "cell_type": "code",
   "execution_count": 12,
   "metadata": {},
   "outputs": [],
   "source": [
    "journal.rename(columns = {'Scopus Source ID': 'scopus_source_id', \n",
    "                          'Title': 'title',\n",
    "                          'CiteScore': 'citescore',\n",
    "                          'Percentile': 'percentile',\n",
    "                          'Citation\\nCount': 'citation_count',\n",
    "                          'Scholarly\\nOutput': 'scholarly_output', \n",
    "                          'Percent\\nCited': 'percent_cited',\n",
    "                          'SNIP': 'snip',\n",
    "                          'SJR': 'sjr',\n",
    "                          'RANK': 'rank',\n",
    "                          'Rank\\nOut Of': 'rank_outof',\n",
    "                          'Publisher': 'publisher',\n",
    "                          'Type': 'type',\n",
    "                          'Open Access': 'open_access',\n",
    "                          'Scopus ASJC Code': 'scopus_asjc_code',\n",
    "                          'Scopus Sub-Subject Area': 'subject_area', \n",
    "                          'Quartile': 'quartile',\n",
    "                          'Top 10% (CiteScore Percentile)': 'top_10%',\n",
    "                          'Scopus Source ID.1': 'scopus_link',\n",
    "                          'Index': 'index',\n",
    "                          'Print ISSN': 'print_issn',\n",
    "                          'E-ISSN': 'e_issn',\n",
    "                          'Publisher2': 'publisher2',\n",
    "                          'Percentile2': 'percentile2',\n",
    "                          'Frequency2': 'frequency',\n",
    "                          'Open Access2': 'open_access2',\n",
    "                         }, \n",
    "               inplace=True)"
   ]
  },
  {
   "cell_type": "code",
   "execution_count": 13,
   "metadata": {},
   "outputs": [
    {
     "data": {
      "text/plain": [
       "Index(['scopus_source_id', 'title', 'citescore', 'percentile',\n",
       "       'citation_count', 'scholarly_output', 'percent_cited', 'snip', 'sjr',\n",
       "       'rank', 'rank_outof', 'publisher', 'type', 'open_access',\n",
       "       'scopus_asjc_code', 'subject_area', 'quartile', 'top_10%',\n",
       "       'scopus_link', 'review_time', 'journal_website', 'print_issn', 'e_issn',\n",
       "       'index', 'publisher2', 'percentile2', 'frequency', 'open_access2'],\n",
       "      dtype='object')"
      ]
     },
     "execution_count": 13,
     "metadata": {},
     "output_type": "execute_result"
    }
   ],
   "source": [
    "journal.columns"
   ]
  },
  {
   "cell_type": "code",
   "execution_count": 14,
   "metadata": {},
   "outputs": [],
   "source": [
    "column_name = ['scopus_source_id', 'title', 'citescore', 'percentile','citation_count', 'scholarly_output', \n",
    "               'percent_cited', 'snip', 'sjr', 'rank', 'rank_outof', 'publisher', 'type', 'open_access',\n",
    "               'scopus_asjc_code', 'subject_area', 'quartile', 'top_10%','scopus_link', 'index', 'publisher2', \n",
    "               'percentile2', 'frequency', 'journal_website', 'review_time', 'open_access2', 'print_issn', 'e_issn']"
   ]
  },
  {
   "cell_type": "code",
   "execution_count": 15,
   "metadata": {},
   "outputs": [],
   "source": [
    "journal = journal.reindex(columns=column_name)"
   ]
  },
  {
   "cell_type": "code",
   "execution_count": 16,
   "metadata": {},
   "outputs": [],
   "source": [
    "#create a new csv file to save the new dataset\n",
    "journal.to_csv('Ranking Journals.csv', index=False)"
   ]
  },
  {
   "cell_type": "code",
   "execution_count": null,
   "metadata": {},
   "outputs": [],
   "source": []
  }
 ],
 "metadata": {
  "kernelspec": {
   "display_name": "Python 3",
   "language": "python",
   "name": "python3"
  },
  "language_info": {
   "codemirror_mode": {
    "name": "ipython",
    "version": 3
   },
   "file_extension": ".py",
   "mimetype": "text/x-python",
   "name": "python",
   "nbconvert_exporter": "python",
   "pygments_lexer": "ipython3",
   "version": "3.7.3"
  }
 },
 "nbformat": 4,
 "nbformat_minor": 2
}
