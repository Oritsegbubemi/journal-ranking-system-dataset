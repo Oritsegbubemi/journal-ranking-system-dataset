{
 "cells": [
  {
   "cell_type": "markdown",
   "metadata": {},
   "source": [
    "# Import all the needed libraries"
   ]
  },
  {
   "cell_type": "code",
   "execution_count": 1,
   "metadata": {},
   "outputs": [],
   "source": [
    "import numpy as np\n",
    "import pandas as pd\n",
    "import matplotlib.pyplot as plt"
   ]
  },
  {
   "cell_type": "markdown",
   "metadata": {},
   "source": [
    "# SCOPUS Dataset"
   ]
  },
  {
   "cell_type": "markdown",
   "metadata": {},
   "source": [
    "### Import Dataset"
   ]
  },
  {
   "cell_type": "code",
   "execution_count": 2,
   "metadata": {},
   "outputs": [],
   "source": [
    "scopus = pd.read_csv('SCOPUS Journals.csv') "
   ]
  },
  {
   "cell_type": "markdown",
   "metadata": {},
   "source": [
    "### Select Computer Science Subject Area"
   ]
  },
  {
   "cell_type": "code",
   "execution_count": 3,
   "metadata": {},
   "outputs": [],
   "source": [
    "asjc_code = scopus['Scopus ASJC Code (Sub-subject Area)'].apply(str) \n",
    "scopus = scopus[asjc_code.apply(lambda x: x[:2]) == '17'] "
   ]
  },
  {
   "cell_type": "markdown",
   "metadata": {},
   "source": [
    "### Select Computer Science Journals"
   ]
  },
  {
   "cell_type": "code",
   "execution_count": 4,
   "metadata": {},
   "outputs": [],
   "source": [
    "not_scopus_journal = scopus.loc[scopus['Type'] != 'j']\n",
    "scopus = scopus.drop(not_scopus_journal.index, axis=0)"
   ]
  },
  {
   "cell_type": "markdown",
   "metadata": {},
   "source": [
    "### Renumbering the index"
   ]
  },
  {
   "cell_type": "code",
   "execution_count": 5,
   "metadata": {},
   "outputs": [],
   "source": [
    "scopus.index=range(len(scopus))"
   ]
  },
  {
   "cell_type": "markdown",
   "metadata": {},
   "source": [
    "### Drop Unwanted Columns"
   ]
  },
  {
   "cell_type": "code",
   "execution_count": 6,
   "metadata": {},
   "outputs": [],
   "source": [
    "scopus = scopus.drop(['Scopus Source ID', 'Scopus ASJC Code (Sub-subject Area)', 'Type', 'Top 10% (CiteScore Percentile)'], \n",
    "                     axis=1)"
   ]
  },
  {
   "cell_type": "markdown",
   "metadata": {},
   "source": [
    "### Renaming Columns"
   ]
  },
  {
   "cell_type": "code",
   "execution_count": 7,
   "metadata": {},
   "outputs": [],
   "source": [
    "scopus.rename(columns = {'Scopus Sub-Subject Area' : 'subject_area'}, inplace=True)"
   ]
  },
  {
   "cell_type": "markdown",
   "metadata": {},
   "source": [
    "### Working on the Index Column"
   ]
  },
  {
   "cell_type": "code",
   "execution_count": 8,
   "metadata": {},
   "outputs": [],
   "source": [
    "scopus['Index'] = ['Scopus']*len(scopus)"
   ]
  },
  {
   "cell_type": "markdown",
   "metadata": {},
   "source": [
    "### Working on the Publisher Column"
   ]
  },
  {
   "cell_type": "code",
   "execution_count": 9,
   "metadata": {},
   "outputs": [],
   "source": [
    "scopus['Publisher2'] = scopus['Publisher']\n",
    "publisher = scopus['Publisher2']\n",
    "\n",
    "#Springer\n",
    "pub_springer = publisher[publisher.apply(lambda x: x[:8]) == 'Springer'].unique().tolist()\n",
    "for i in publisher:\n",
    "    if i in pub_springer:\n",
    "        a = publisher.replace(i,\"Springer\", inplace=True)\n",
    "        \n",
    "#Elsevier\n",
    "pub_elsevier = publisher[publisher.apply(lambda x: x[:8]) == 'Elsevier'].unique().tolist()\n",
    "for i in publisher:\n",
    "    if i in pub_elsevier:\n",
    "        a = publisher.replace(i,\"Elsevier\", inplace=True)\n",
    "        \n",
    "#IEEE1\n",
    "pub_ieee1 = publisher[publisher.apply(lambda x: x[:4]) == 'IEEE'].unique().tolist()\n",
    "for i in publisher:\n",
    "    if i in pub_ieee1:\n",
    "        a = publisher.replace(i,\"IEEE\", inplace=True)\n",
    "\n",
    "#IEEE2\n",
    "pub_ieee2 = publisher[publisher.apply(lambda x: x[:49]) == 'Institute of Electrical and Electronics Engineers'].unique().tolist()\n",
    "for i in publisher:\n",
    "    if i in pub_ieee2:\n",
    "        a = publisher.replace(i,\"IEEE\", inplace=True)\n",
    "\n",
    "#Taylor and Francis\n",
    "pub_taylor = publisher[publisher.apply(lambda x: x[:6]) == 'Taylor'].unique().tolist()\n",
    "for i in publisher:\n",
    "    if i in pub_taylor:\n",
    "        a = publisher.replace(i,\"Taylor and Francis\", inplace=True)\n",
    "    \n",
    "#Inderscience\n",
    "pub_indersci = publisher[publisher.apply(lambda x: x[:12]) == 'Inderscience'].unique().tolist()\n",
    "for i in publisher:\n",
    "    if i in pub_indersci:\n",
    "        a = publisher.replace(i,\"Inderscience\", inplace=True)\n",
    "        \n",
    "#IGI\n",
    "pub_igi = publisher[publisher.apply(lambda x: x[:3]) == 'IGI'].unique().tolist()\n",
    "for i in publisher:\n",
    "    if i in pub_igi:\n",
    "        a = publisher.replace(i,\"IGI Global\", inplace=True)\n",
    "\n",
    "#ACM\n",
    "pub_acm = publisher[publisher.apply(lambda x: x[:41]) == 'Association for Computing Machinery (ACM)'].unique().tolist()\n",
    "for i in publisher:\n",
    "    if i in pub_acm:\n",
    "        a = publisher.replace(i,\"ACM\", inplace=True)\n",
    "\n",
    "#Others\n",
    "main_publiser = publisher.value_counts().head(7)\n",
    "main_publiser = main_publiser.index.tolist()\n",
    "for i in publisher:\n",
    "    if i not in main_publiser:\n",
    "        a = publisher.replace(i, \"Others\", inplace=True)"
   ]
  },
  {
   "cell_type": "markdown",
   "metadata": {},
   "source": [
    "### Working on the Percentile Column"
   ]
  },
  {
   "cell_type": "code",
   "execution_count": 10,
   "metadata": {},
   "outputs": [],
   "source": [
    "scopus['Percentile2'] = scopus['Percentile']\n",
    "percent = scopus['Percentile2']\n",
    "\n",
    "for i in percent:\n",
    "    if(i>=0 and i<=24):\n",
    "        a = percent.replace(i, 400, inplace=True)\n",
    "\n",
    "for i in percent:\n",
    "    if(i>=25 and i<=49):\n",
    "        a = percent.replace(i, 300, inplace=True)\n",
    "        \n",
    "for i in percent:\n",
    "    if(i>=50 and i<=74):\n",
    "        a = percent.replace(i, 200, inplace=True)\n",
    "\n",
    "for i in percent:\n",
    "    if(i>=75 and i<=99):\n",
    "        a = percent.replace(i, 100, inplace=True)"
   ]
  },
  {
   "cell_type": "markdown",
   "metadata": {},
   "source": [
    "### Working on the Open Access Column"
   ]
  },
  {
   "cell_type": "code",
   "execution_count": 11,
   "metadata": {},
   "outputs": [],
   "source": [
    "scopus['Open Access2'] = scopus['Open Access']\n",
    "open_access = scopus['Open Access2']\n",
    "\n",
    "for i in open_access:\n",
    "    if(i==\"YES\"):\n",
    "        a = open_access.replace(i, \"Yes\", inplace=True)\n",
    "\n",
    "for i in open_access:\n",
    "    if(i==\"NO\"):\n",
    "        a = open_access.replace(i, \"No\", inplace=True)"
   ]
  },
  {
   "cell_type": "markdown",
   "metadata": {},
   "source": [
    "### Working on the Print ISSN Column"
   ]
  },
  {
   "cell_type": "code",
   "execution_count": 12,
   "metadata": {},
   "outputs": [],
   "source": [
    "issn = scopus['Print ISSN']\n",
    "issn_len = 8\n",
    "for i in issn:\n",
    "    if pd.isnull(i):\n",
    "        new_issn = i\n",
    "    elif len(i) != issn_len:\n",
    "        z = issn_len - len(i)\n",
    "        new_issn = str(\"0\"*z)+(i)\n",
    "        value = issn.replace(i, new_issn, inplace=True)\n",
    "    else:\n",
    "        new_issn = i\n",
    "for i in issn:\n",
    "    if pd.isnull(i):\n",
    "        new_issn = i\n",
    "    elif len(i) == 8:\n",
    "        hyphen = i[:4] + '-' + i[4:]\n",
    "        value = issn.replace(i, hyphen, inplace=True) "
   ]
  },
  {
   "cell_type": "markdown",
   "metadata": {},
   "source": [
    "### Working on the E-ISSN Column"
   ]
  },
  {
   "cell_type": "code",
   "execution_count": 13,
   "metadata": {},
   "outputs": [],
   "source": [
    "eissn = scopus['E-ISSN']\n",
    "eissn_len = 8\n",
    "for i in eissn:\n",
    "    if pd.isnull(i):\n",
    "        new_eissn = i\n",
    "    elif len(i) != eissn_len:\n",
    "        z = eissn_len - len(i)\n",
    "        new_eissn = str(\"0\"*z)+(i)\n",
    "        value = eissn.replace(i, new_eissn, inplace=True)\n",
    "    else:\n",
    "        new_eissn = i\n",
    "for i in eissn:\n",
    "    if pd.isnull(i):\n",
    "        new_eissn = i\n",
    "    elif len(i) == 8:\n",
    "        hyphen = i[:4] + '-' + i[4:]\n",
    "        value = eissn.replace(i, hyphen, inplace=True) "
   ]
  },
  {
   "cell_type": "markdown",
   "metadata": {},
   "source": [
    "### View Dataset"
   ]
  },
  {
   "cell_type": "code",
   "execution_count": 14,
   "metadata": {},
   "outputs": [
    {
     "data": {
      "text/html": [
       "<div>\n",
       "<style scoped>\n",
       "    .dataframe tbody tr th:only-of-type {\n",
       "        vertical-align: middle;\n",
       "    }\n",
       "\n",
       "    .dataframe tbody tr th {\n",
       "        vertical-align: top;\n",
       "    }\n",
       "\n",
       "    .dataframe thead th {\n",
       "        text-align: right;\n",
       "    }\n",
       "</style>\n",
       "<table border=\"1\" class=\"dataframe\">\n",
       "  <thead>\n",
       "    <tr style=\"text-align: right;\">\n",
       "      <th></th>\n",
       "      <th>Title</th>\n",
       "      <th>Citation Count</th>\n",
       "      <th>Scholarly Output</th>\n",
       "      <th>Percent Cited</th>\n",
       "      <th>CiteScore</th>\n",
       "      <th>SNIP</th>\n",
       "      <th>SJR</th>\n",
       "      <th>subject_area</th>\n",
       "      <th>Percentile</th>\n",
       "      <th>RANK</th>\n",
       "      <th>...</th>\n",
       "      <th>Publisher</th>\n",
       "      <th>Open Access</th>\n",
       "      <th>Quartile</th>\n",
       "      <th>URL Scopus Source ID</th>\n",
       "      <th>Print ISSN</th>\n",
       "      <th>E-ISSN</th>\n",
       "      <th>Index</th>\n",
       "      <th>Publisher2</th>\n",
       "      <th>Percentile2</th>\n",
       "      <th>Open Access2</th>\n",
       "    </tr>\n",
       "  </thead>\n",
       "  <tbody>\n",
       "    <tr>\n",
       "      <th>0</th>\n",
       "      <td>Computers in Education Journal</td>\n",
       "      <td>75</td>\n",
       "      <td>88</td>\n",
       "      <td>31.8</td>\n",
       "      <td>0.9</td>\n",
       "      <td>0.524</td>\n",
       "      <td>0.258</td>\n",
       "      <td>General Computer Science</td>\n",
       "      <td>24.0</td>\n",
       "      <td>168.0</td>\n",
       "      <td>...</td>\n",
       "      <td>American Society for Engineering Education</td>\n",
       "      <td>NO</td>\n",
       "      <td>4.0</td>\n",
       "      <td>https://www.scopus.com/sourceid/18388</td>\n",
       "      <td>1069-3769</td>\n",
       "      <td>NaN</td>\n",
       "      <td>Scopus</td>\n",
       "      <td>Others</td>\n",
       "      <td>400.0</td>\n",
       "      <td>No</td>\n",
       "    </tr>\n",
       "    <tr>\n",
       "      <th>1</th>\n",
       "      <td>Eurasip Journal on Embedded Systems</td>\n",
       "      <td>110</td>\n",
       "      <td>65</td>\n",
       "      <td>67.7</td>\n",
       "      <td>1.7</td>\n",
       "      <td>0.837</td>\n",
       "      <td>0.154</td>\n",
       "      <td>General Computer Science</td>\n",
       "      <td>50.0</td>\n",
       "      <td>111.0</td>\n",
       "      <td>...</td>\n",
       "      <td>Springer Nature</td>\n",
       "      <td>YES</td>\n",
       "      <td>2.0</td>\n",
       "      <td>https://www.scopus.com/sourceid/4000151614</td>\n",
       "      <td>1687-3955</td>\n",
       "      <td>1687-3963</td>\n",
       "      <td>Scopus</td>\n",
       "      <td>Springer</td>\n",
       "      <td>200.0</td>\n",
       "      <td>Yes</td>\n",
       "    </tr>\n",
       "  </tbody>\n",
       "</table>\n",
       "<p>2 rows × 21 columns</p>\n",
       "</div>"
      ],
      "text/plain": [
       "                                 Title  Citation Count  Scholarly Output  \\\n",
       "0       Computers in Education Journal              75                88   \n",
       "1  Eurasip Journal on Embedded Systems             110                65   \n",
       "\n",
       "   Percent Cited  CiteScore   SNIP    SJR              subject_area  \\\n",
       "0           31.8        0.9  0.524  0.258  General Computer Science   \n",
       "1           67.7        1.7  0.837  0.154  General Computer Science   \n",
       "\n",
       "   Percentile   RANK  ...                                   Publisher  \\\n",
       "0        24.0  168.0  ...  American Society for Engineering Education   \n",
       "1        50.0  111.0  ...                             Springer Nature   \n",
       "\n",
       "  Open Access Quartile                        URL Scopus Source ID Print ISSN  \\\n",
       "0          NO      4.0       https://www.scopus.com/sourceid/18388  1069-3769   \n",
       "1         YES      2.0  https://www.scopus.com/sourceid/4000151614  1687-3955   \n",
       "\n",
       "      E-ISSN   Index Publisher2 Percentile2  Open Access2  \n",
       "0        NaN  Scopus     Others       400.0            No  \n",
       "1  1687-3963  Scopus   Springer       200.0           Yes  \n",
       "\n",
       "[2 rows x 21 columns]"
      ]
     },
     "execution_count": 14,
     "metadata": {},
     "output_type": "execute_result"
    }
   ],
   "source": [
    "scopus.head(2)"
   ]
  },
  {
   "cell_type": "code",
   "execution_count": null,
   "metadata": {},
   "outputs": [],
   "source": []
  },
  {
   "cell_type": "markdown",
   "metadata": {},
   "source": [
    "# SCIEISI Dataset"
   ]
  },
  {
   "cell_type": "markdown",
   "metadata": {},
   "source": [
    "### Import Dataset"
   ]
  },
  {
   "cell_type": "code",
   "execution_count": 15,
   "metadata": {},
   "outputs": [],
   "source": [
    "scieisi = pd.read_csv('SCIEISI Journals.csv')"
   ]
  },
  {
   "cell_type": "markdown",
   "metadata": {},
   "source": [
    "### Remove null catergories rows"
   ]
  },
  {
   "cell_type": "code",
   "execution_count": 16,
   "metadata": {},
   "outputs": [],
   "source": [
    "null_categories = scieisi.loc[scieisi['Web of Science Categories'].isnull()]\n",
    "scieisi = scieisi.drop(null_categories.index, axis=0)"
   ]
  },
  {
   "cell_type": "markdown",
   "metadata": {},
   "source": [
    "### Remove null print_issn rows"
   ]
  },
  {
   "cell_type": "code",
   "execution_count": 17,
   "metadata": {},
   "outputs": [],
   "source": [
    "null_issn = scieisi.loc[scieisi['ISSN'].isnull()]\n",
    "scieisi = scieisi.drop(null_issn.index, axis=0)"
   ]
  },
  {
   "cell_type": "markdown",
   "metadata": {},
   "source": [
    "### Filter Computer Science Journals"
   ]
  },
  {
   "cell_type": "code",
   "execution_count": 18,
   "metadata": {},
   "outputs": [],
   "source": [
    "scieisi['Catergories'] = [catergories.replace(' | ', ', ').split(', ') for catergories in scieisi['Web of Science Categories']]\n",
    "scieisi = scieisi[scieisi['Catergories'].apply(lambda x: \"Computer Science\" in x)] "
   ]
  },
  {
   "cell_type": "markdown",
   "metadata": {},
   "source": [
    "### Renumbering the index"
   ]
  },
  {
   "cell_type": "code",
   "execution_count": 19,
   "metadata": {},
   "outputs": [],
   "source": [
    "scieisi.index=range(len(scieisi))"
   ]
  },
  {
   "cell_type": "markdown",
   "metadata": {},
   "source": [
    "### Drop unwanted columns"
   ]
  },
  {
   "cell_type": "code",
   "execution_count": 20,
   "metadata": {},
   "outputs": [],
   "source": [
    "scieisi = scieisi.drop(['Publisher address', 'Languages', 'Catergories'], axis=1)"
   ]
  },
  {
   "cell_type": "markdown",
   "metadata": {},
   "source": [
    "### Renaming columns"
   ]
  },
  {
   "cell_type": "code",
   "execution_count": 21,
   "metadata": {},
   "outputs": [],
   "source": [
    "scieisi.rename(columns = {'Journal title': 'Title', 'ISSN': 'Print ISSN', 'eISSN': 'E-ISSN', 'Publisher name': 'Publisher',\n",
    "                         'Web of Science Categories' : 'Subject Area'}, inplace=True)"
   ]
  },
  {
   "cell_type": "markdown",
   "metadata": {},
   "source": [
    "### Working on the Index Column"
   ]
  },
  {
   "cell_type": "code",
   "execution_count": 22,
   "metadata": {},
   "outputs": [],
   "source": [
    "scieisi['Index'] = ['SCIEISI']*len(scieisi)"
   ]
  },
  {
   "cell_type": "markdown",
   "metadata": {},
   "source": [
    "### Working on the Publisher Column"
   ]
  },
  {
   "cell_type": "code",
   "execution_count": 23,
   "metadata": {},
   "outputs": [],
   "source": [
    "scieisi['Publisher2'] = scieisi['Publisher'].str.lower()\n",
    "publisher = scieisi['Publisher2'] \n",
    "\n",
    "#Springer\n",
    "pub_springer = publisher[publisher.apply(lambda x: x[:8]) == 'springer'].unique().tolist()\n",
    "for i in publisher:\n",
    "    if i in pub_springer:\n",
    "        a = publisher.replace(i,\"Springer\", inplace=True)\n",
    "        \n",
    "#Elsevier\n",
    "pub_elsevier = publisher[publisher.apply(lambda x: x[:8]) == 'elsevier'].unique().tolist()\n",
    "for i in publisher:\n",
    "    if i in pub_elsevier:\n",
    "        a = publisher.replace(i,\"Elsevier\", inplace=True)\n",
    "        \n",
    "#IEEE\n",
    "pub_ieee1 = publisher[publisher.apply(lambda x: x[:4]) == 'ieee'].unique().tolist()\n",
    "for i in publisher:\n",
    "    if i in pub_ieee1:\n",
    "        a = publisher.replace(i,\"IEEE\", inplace=True)\n",
    "\n",
    "#Taylor and Francis\n",
    "pub_taylor = publisher[publisher.apply(lambda x: x[:6]) == 'taylor'].unique().tolist()\n",
    "for i in publisher:\n",
    "    if i in pub_taylor:\n",
    "        a = publisher.replace(i,\"Taylor and Francis\", inplace=True)\n",
    "    \n",
    "#Inderscience\n",
    "pub_indersci = publisher[publisher.apply(lambda x: x[:12]) == 'inderscience'].unique().tolist()\n",
    "for i in publisher:\n",
    "    if i in pub_indersci:\n",
    "        a = publisher.replace(i,\"Inderscience\", inplace=True)\n",
    "        \n",
    "#IGI\n",
    "pub_igi = publisher[publisher.apply(lambda x: x[:3]) == 'igi'].unique().tolist()\n",
    "for i in publisher:\n",
    "    if i in pub_igi:\n",
    "        a = publisher.replace(i,\"IGI Global\", inplace=True)\n",
    "\n",
    "#ACM\n",
    "pub_acm = publisher[publisher.apply(lambda x: x[:25]) == 'assoc computing machinery'].unique().tolist()\n",
    "for i in publisher:\n",
    "    if i in pub_acm:\n",
    "        a = publisher.replace(i,\"ACM\", inplace=True)\n",
    "\n",
    "#Others\n",
    "main_publiser = publisher.value_counts().head(5)\n",
    "main_publiser = main_publiser.index.tolist()\n",
    "for i in publisher: \n",
    "    if i == \"Inderscience\":\n",
    "        main_publiser.append(i)\n",
    "    elif i == \"IGI Global\":\n",
    "        main_publiser.append(i)\n",
    "    elif i not in main_publiser:\n",
    "        a = publisher.replace(i, \"Others\", inplace=True)"
   ]
  },
  {
   "cell_type": "markdown",
   "metadata": {},
   "source": [
    "### Working on Subject Area Column"
   ]
  },
  {
   "cell_type": "code",
   "execution_count": 24,
   "metadata": {},
   "outputs": [],
   "source": [
    "scieisi['Subject Area2'] = scieisi['Subject Area']\n",
    "subject_area = scieisi['Subject Area2']\n",
    "\n",
    "#Artificial Intelligence\n",
    "sub_ai = subject_area[subject_area.apply(lambda x: \"Artificial Intelligence\" in x)].unique().tolist()\n",
    "for i in subject_area:\n",
    "    if i in sub_ai:\n",
    "        a = subject_area.replace(i,\"Artificial Intelligence\", inplace=True)\n",
    "        \n",
    "#Information Systems\n",
    "sub_is = subject_area[subject_area.apply(lambda x: \"Information Systems\" in x)].unique().tolist()\n",
    "for i in subject_area:\n",
    "    if i in sub_is:\n",
    "        a = subject_area.replace(i,\"Information Systems\", inplace=True)\n",
    "\n",
    "#Theory & Methods\n",
    "sub_theory = subject_area[subject_area.apply(lambda x: \"Theory & Methods\" in x)].unique().tolist()\n",
    "for i in subject_area:\n",
    "    if i in sub_theory:\n",
    "        a = subject_area.replace(i,\"Computational Theory and Mathematics\", inplace=True)\n",
    "        \n",
    "#Hardware & Architecture\n",
    "sub_hardware = subject_area[subject_area.apply(lambda x: \"Hardware & Architecture\" in x)].unique().tolist()\n",
    "for i in subject_area:\n",
    "    if i in sub_hardware:\n",
    "        a = subject_area.replace(i,\"Hardware and Architecture\", inplace=True)\n",
    "\n",
    "#Software Engineering\n",
    "sub_software = subject_area[subject_area.apply(lambda x: \"Software Engineering\" in x)].unique().tolist()\n",
    "for i in subject_area:\n",
    "    if i in sub_software:\n",
    "        a = subject_area.replace(i,\"Software\", inplace=True)\n",
    "\n",
    "#Cybernetics\n",
    "sub_cyber = subject_area[subject_area.apply(lambda x: \"Cybernetics\" in x)].unique().tolist()\n",
    "for i in subject_area:\n",
    "    if i in sub_cyber:\n",
    "        a = subject_area.replace(i,\"Computer Science Applications\", inplace=True)\n",
    "        \n",
    "#Interdisciplinary Applications \n",
    "sub_inter = subject_area[subject_area.apply(lambda x: \"Interdisciplinary Applications\" in x)].unique().tolist()\n",
    "for i in subject_area:\n",
    "    if i in sub_inter:\n",
    "        a = subject_area.replace(i,\"Computer Science Applications\", inplace=True)"
   ]
  },
  {
   "cell_type": "markdown",
   "metadata": {},
   "source": [
    "### View Dataset"
   ]
  },
  {
   "cell_type": "code",
   "execution_count": 25,
   "metadata": {},
   "outputs": [
    {
     "data": {
      "text/html": [
       "<div>\n",
       "<style scoped>\n",
       "    .dataframe tbody tr th:only-of-type {\n",
       "        vertical-align: middle;\n",
       "    }\n",
       "\n",
       "    .dataframe tbody tr th {\n",
       "        vertical-align: top;\n",
       "    }\n",
       "\n",
       "    .dataframe thead th {\n",
       "        text-align: right;\n",
       "    }\n",
       "</style>\n",
       "<table border=\"1\" class=\"dataframe\">\n",
       "  <thead>\n",
       "    <tr style=\"text-align: right;\">\n",
       "      <th></th>\n",
       "      <th>Title</th>\n",
       "      <th>Print ISSN</th>\n",
       "      <th>E-ISSN</th>\n",
       "      <th>Publisher</th>\n",
       "      <th>Subject Area</th>\n",
       "      <th>Index</th>\n",
       "      <th>Publisher2</th>\n",
       "      <th>Subject Area2</th>\n",
       "    </tr>\n",
       "  </thead>\n",
       "  <tbody>\n",
       "    <tr>\n",
       "      <th>0</th>\n",
       "      <td>ACM COMPUTING SURVEYS</td>\n",
       "      <td>0360-0300</td>\n",
       "      <td>1557-7341</td>\n",
       "      <td>ASSOC COMPUTING MACHINERY</td>\n",
       "      <td>Computer Science, Theory &amp; Methods</td>\n",
       "      <td>SCIEISI</td>\n",
       "      <td>ACM</td>\n",
       "      <td>Computational Theory and Mathematics</td>\n",
       "    </tr>\n",
       "    <tr>\n",
       "      <th>1</th>\n",
       "      <td>ACM JOURNAL ON COMPUTING AND CULTURAL HERITAGE</td>\n",
       "      <td>1556-4673</td>\n",
       "      <td>1556-4711</td>\n",
       "      <td>ASSOC COMPUTING MACHINERY</td>\n",
       "      <td>Computer Science, Interdisciplinary Applications</td>\n",
       "      <td>SCIEISI</td>\n",
       "      <td>ACM</td>\n",
       "      <td>Computer Science Applications</td>\n",
       "    </tr>\n",
       "  </tbody>\n",
       "</table>\n",
       "</div>"
      ],
      "text/plain": [
       "                                            Title Print ISSN     E-ISSN  \\\n",
       "0                           ACM COMPUTING SURVEYS  0360-0300  1557-7341   \n",
       "1  ACM JOURNAL ON COMPUTING AND CULTURAL HERITAGE  1556-4673  1556-4711   \n",
       "\n",
       "                   Publisher  \\\n",
       "0  ASSOC COMPUTING MACHINERY   \n",
       "1  ASSOC COMPUTING MACHINERY   \n",
       "\n",
       "                                       Subject Area    Index Publisher2  \\\n",
       "0                Computer Science, Theory & Methods  SCIEISI        ACM   \n",
       "1  Computer Science, Interdisciplinary Applications  SCIEISI        ACM   \n",
       "\n",
       "                          Subject Area2  \n",
       "0  Computational Theory and Mathematics  \n",
       "1         Computer Science Applications  "
      ]
     },
     "execution_count": 25,
     "metadata": {},
     "output_type": "execute_result"
    }
   ],
   "source": [
    "scieisi.head(2)"
   ]
  },
  {
   "cell_type": "code",
   "execution_count": null,
   "metadata": {},
   "outputs": [],
   "source": []
  },
  {
   "cell_type": "markdown",
   "metadata": {},
   "source": [
    "# Merging Dataset"
   ]
  },
  {
   "cell_type": "code",
   "execution_count": 26,
   "metadata": {},
   "outputs": [],
   "source": [
    "scopus_issn = scopus['Print ISSN']\n",
    "scieisi_issn = scieisi['Print ISSN']\n",
    "\n",
    "present_journals = []\n",
    "for i in scieisi_issn:\n",
    "    if i in scopus_issn.unique().tolist():\n",
    "        present_journals.append(i)\n",
    "        scieisi.drop(scieisi[scieisi['Print ISSN'] == i].index, inplace=True)\n",
    "        scopus.loc[scopus_issn == i, 'Index'] = \"Scopus & SCIEISI\"     "
   ]
  },
  {
   "cell_type": "code",
   "execution_count": 27,
   "metadata": {},
   "outputs": [
    {
     "data": {
      "text/html": [
       "<div>\n",
       "<style scoped>\n",
       "    .dataframe tbody tr th:only-of-type {\n",
       "        vertical-align: middle;\n",
       "    }\n",
       "\n",
       "    .dataframe tbody tr th {\n",
       "        vertical-align: top;\n",
       "    }\n",
       "\n",
       "    .dataframe thead th {\n",
       "        text-align: right;\n",
       "    }\n",
       "</style>\n",
       "<table border=\"1\" class=\"dataframe\">\n",
       "  <thead>\n",
       "    <tr style=\"text-align: right;\">\n",
       "      <th></th>\n",
       "      <th>Title</th>\n",
       "      <th>Citation Count</th>\n",
       "      <th>Scholarly Output</th>\n",
       "      <th>Percent Cited</th>\n",
       "      <th>CiteScore</th>\n",
       "      <th>SNIP</th>\n",
       "      <th>SJR</th>\n",
       "      <th>subject_area</th>\n",
       "      <th>Percentile</th>\n",
       "      <th>RANK</th>\n",
       "      <th>...</th>\n",
       "      <th>Publisher</th>\n",
       "      <th>Open Access</th>\n",
       "      <th>Quartile</th>\n",
       "      <th>URL Scopus Source ID</th>\n",
       "      <th>Print ISSN</th>\n",
       "      <th>E-ISSN</th>\n",
       "      <th>Index</th>\n",
       "      <th>Publisher2</th>\n",
       "      <th>Percentile2</th>\n",
       "      <th>Open Access2</th>\n",
       "    </tr>\n",
       "  </thead>\n",
       "  <tbody>\n",
       "    <tr>\n",
       "      <th>0</th>\n",
       "      <td>Computers in Education Journal</td>\n",
       "      <td>75</td>\n",
       "      <td>88</td>\n",
       "      <td>31.8</td>\n",
       "      <td>0.9</td>\n",
       "      <td>0.524</td>\n",
       "      <td>0.258</td>\n",
       "      <td>General Computer Science</td>\n",
       "      <td>24.0</td>\n",
       "      <td>168.0</td>\n",
       "      <td>...</td>\n",
       "      <td>American Society for Engineering Education</td>\n",
       "      <td>NO</td>\n",
       "      <td>4.0</td>\n",
       "      <td>https://www.scopus.com/sourceid/18388</td>\n",
       "      <td>1069-3769</td>\n",
       "      <td>NaN</td>\n",
       "      <td>Scopus</td>\n",
       "      <td>Others</td>\n",
       "      <td>400.0</td>\n",
       "      <td>No</td>\n",
       "    </tr>\n",
       "    <tr>\n",
       "      <th>1</th>\n",
       "      <td>Eurasip Journal on Embedded Systems</td>\n",
       "      <td>110</td>\n",
       "      <td>65</td>\n",
       "      <td>67.7</td>\n",
       "      <td>1.7</td>\n",
       "      <td>0.837</td>\n",
       "      <td>0.154</td>\n",
       "      <td>General Computer Science</td>\n",
       "      <td>50.0</td>\n",
       "      <td>111.0</td>\n",
       "      <td>...</td>\n",
       "      <td>Springer Nature</td>\n",
       "      <td>YES</td>\n",
       "      <td>2.0</td>\n",
       "      <td>https://www.scopus.com/sourceid/4000151614</td>\n",
       "      <td>1687-3955</td>\n",
       "      <td>1687-3963</td>\n",
       "      <td>Scopus</td>\n",
       "      <td>Springer</td>\n",
       "      <td>200.0</td>\n",
       "      <td>Yes</td>\n",
       "    </tr>\n",
       "    <tr>\n",
       "      <th>2</th>\n",
       "      <td>International Journal of Information Technolog...</td>\n",
       "      <td>43</td>\n",
       "      <td>40</td>\n",
       "      <td>42.5</td>\n",
       "      <td>1.1</td>\n",
       "      <td>0.290</td>\n",
       "      <td>0.118</td>\n",
       "      <td>General Computer Science</td>\n",
       "      <td>31.0</td>\n",
       "      <td>152.0</td>\n",
       "      <td>...</td>\n",
       "      <td>IGI Global Publishing</td>\n",
       "      <td>NO</td>\n",
       "      <td>3.0</td>\n",
       "      <td>https://www.scopus.com/sourceid/21100241217</td>\n",
       "      <td>1935-570X</td>\n",
       "      <td>1935-5718</td>\n",
       "      <td>Scopus</td>\n",
       "      <td>IGI Global</td>\n",
       "      <td>300.0</td>\n",
       "      <td>No</td>\n",
       "    </tr>\n",
       "  </tbody>\n",
       "</table>\n",
       "<p>3 rows × 21 columns</p>\n",
       "</div>"
      ],
      "text/plain": [
       "                                               Title  Citation Count  \\\n",
       "0                     Computers in Education Journal              75   \n",
       "1                Eurasip Journal on Embedded Systems             110   \n",
       "2  International Journal of Information Technolog...              43   \n",
       "\n",
       "   Scholarly Output  Percent Cited  CiteScore   SNIP    SJR  \\\n",
       "0                88           31.8        0.9  0.524  0.258   \n",
       "1                65           67.7        1.7  0.837  0.154   \n",
       "2                40           42.5        1.1  0.290  0.118   \n",
       "\n",
       "               subject_area  Percentile   RANK  ...  \\\n",
       "0  General Computer Science        24.0  168.0  ...   \n",
       "1  General Computer Science        50.0  111.0  ...   \n",
       "2  General Computer Science        31.0  152.0  ...   \n",
       "\n",
       "                                    Publisher Open Access Quartile  \\\n",
       "0  American Society for Engineering Education          NO      4.0   \n",
       "1                             Springer Nature         YES      2.0   \n",
       "2                       IGI Global Publishing          NO      3.0   \n",
       "\n",
       "                          URL Scopus Source ID Print ISSN     E-ISSN   Index  \\\n",
       "0        https://www.scopus.com/sourceid/18388  1069-3769        NaN  Scopus   \n",
       "1   https://www.scopus.com/sourceid/4000151614  1687-3955  1687-3963  Scopus   \n",
       "2  https://www.scopus.com/sourceid/21100241217  1935-570X  1935-5718  Scopus   \n",
       "\n",
       "   Publisher2 Percentile2  Open Access2  \n",
       "0      Others       400.0            No  \n",
       "1    Springer       200.0           Yes  \n",
       "2  IGI Global       300.0            No  \n",
       "\n",
       "[3 rows x 21 columns]"
      ]
     },
     "execution_count": 27,
     "metadata": {},
     "output_type": "execute_result"
    }
   ],
   "source": [
    "scopus.head(3)"
   ]
  },
  {
   "cell_type": "code",
   "execution_count": 28,
   "metadata": {},
   "outputs": [
    {
     "data": {
      "text/html": [
       "<div>\n",
       "<style scoped>\n",
       "    .dataframe tbody tr th:only-of-type {\n",
       "        vertical-align: middle;\n",
       "    }\n",
       "\n",
       "    .dataframe tbody tr th {\n",
       "        vertical-align: top;\n",
       "    }\n",
       "\n",
       "    .dataframe thead th {\n",
       "        text-align: right;\n",
       "    }\n",
       "</style>\n",
       "<table border=\"1\" class=\"dataframe\">\n",
       "  <thead>\n",
       "    <tr style=\"text-align: right;\">\n",
       "      <th></th>\n",
       "      <th>Title</th>\n",
       "      <th>Print ISSN</th>\n",
       "      <th>E-ISSN</th>\n",
       "      <th>Publisher</th>\n",
       "      <th>Subject Area</th>\n",
       "      <th>Index</th>\n",
       "      <th>Publisher2</th>\n",
       "      <th>Subject Area2</th>\n",
       "    </tr>\n",
       "  </thead>\n",
       "  <tbody>\n",
       "    <tr>\n",
       "      <th>4</th>\n",
       "      <td>ACM TRANSACTIONS ON ALGORITHMS</td>\n",
       "      <td>1549-6325</td>\n",
       "      <td>1549-6333</td>\n",
       "      <td>ASSOC COMPUTING MACHINERY</td>\n",
       "      <td>Mathematics, Applied | Computer Science, Theor...</td>\n",
       "      <td>SCIEISI</td>\n",
       "      <td>ACM</td>\n",
       "      <td>Computational Theory and Mathematics</td>\n",
       "    </tr>\n",
       "    <tr>\n",
       "      <th>36</th>\n",
       "      <td>ADVANCES IN COMPUTERS</td>\n",
       "      <td>0065-2458</td>\n",
       "      <td>NaN</td>\n",
       "      <td>ELSEVIER ACADEMIC PRESS INC</td>\n",
       "      <td>Computer Science, Hardware &amp; Architecture | Co...</td>\n",
       "      <td>SCIEISI</td>\n",
       "      <td>Elsevier</td>\n",
       "      <td>Hardware and Architecture</td>\n",
       "    </tr>\n",
       "    <tr>\n",
       "      <th>46</th>\n",
       "      <td>APPLICABLE ALGEBRA IN ENGINEERING COMMUNICATIO...</td>\n",
       "      <td>0938-1279</td>\n",
       "      <td>1432-0622</td>\n",
       "      <td>SPRINGER</td>\n",
       "      <td>Computer Science, Interdisciplinary Applicatio...</td>\n",
       "      <td>SCIEISI</td>\n",
       "      <td>Springer</td>\n",
       "      <td>Computational Theory and Mathematics</td>\n",
       "    </tr>\n",
       "  </tbody>\n",
       "</table>\n",
       "</div>"
      ],
      "text/plain": [
       "                                                Title Print ISSN     E-ISSN  \\\n",
       "4                      ACM TRANSACTIONS ON ALGORITHMS  1549-6325  1549-6333   \n",
       "36                              ADVANCES IN COMPUTERS  0065-2458        NaN   \n",
       "46  APPLICABLE ALGEBRA IN ENGINEERING COMMUNICATIO...  0938-1279  1432-0622   \n",
       "\n",
       "                      Publisher  \\\n",
       "4     ASSOC COMPUTING MACHINERY   \n",
       "36  ELSEVIER ACADEMIC PRESS INC   \n",
       "46                     SPRINGER   \n",
       "\n",
       "                                         Subject Area    Index Publisher2  \\\n",
       "4   Mathematics, Applied | Computer Science, Theor...  SCIEISI        ACM   \n",
       "36  Computer Science, Hardware & Architecture | Co...  SCIEISI   Elsevier   \n",
       "46  Computer Science, Interdisciplinary Applicatio...  SCIEISI   Springer   \n",
       "\n",
       "                           Subject Area2  \n",
       "4   Computational Theory and Mathematics  \n",
       "36             Hardware and Architecture  \n",
       "46  Computational Theory and Mathematics  "
      ]
     },
     "execution_count": 28,
     "metadata": {},
     "output_type": "execute_result"
    }
   ],
   "source": [
    "scieisi.head(3)"
   ]
  },
  {
   "cell_type": "markdown",
   "metadata": {},
   "source": [
    "### Export Dataset"
   ]
  },
  {
   "cell_type": "code",
   "execution_count": 29,
   "metadata": {},
   "outputs": [],
   "source": [
    "scopus.to_csv('Ranking Journals.csv', index=False)"
   ]
  },
  {
   "cell_type": "code",
   "execution_count": null,
   "metadata": {},
   "outputs": [],
   "source": []
  }
 ],
 "metadata": {
  "kernelspec": {
   "display_name": "Python 3",
   "language": "python",
   "name": "python3"
  },
  "language_info": {
   "codemirror_mode": {
    "name": "ipython",
    "version": 3
   },
   "file_extension": ".py",
   "mimetype": "text/x-python",
   "name": "python",
   "nbconvert_exporter": "python",
   "pygments_lexer": "ipython3",
   "version": "3.7.3"
  }
 },
 "nbformat": 4,
 "nbformat_minor": 2
}
