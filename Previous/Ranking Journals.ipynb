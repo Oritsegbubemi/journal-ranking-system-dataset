{
 "cells": [
  {
   "cell_type": "markdown",
   "metadata": {},
   "source": [
    "# Import all the needed libraries"
   ]
  },
  {
   "cell_type": "code",
   "execution_count": 1,
   "metadata": {},
   "outputs": [],
   "source": [
    "import numpy as np\n",
    "import pandas as pd"
   ]
  },
  {
   "cell_type": "code",
   "execution_count": 2,
   "metadata": {},
   "outputs": [
    {
     "data": {
      "text/html": [
       "<div>\n",
       "<style scoped>\n",
       "    .dataframe tbody tr th:only-of-type {\n",
       "        vertical-align: middle;\n",
       "    }\n",
       "\n",
       "    .dataframe tbody tr th {\n",
       "        vertical-align: top;\n",
       "    }\n",
       "\n",
       "    .dataframe thead th {\n",
       "        text-align: right;\n",
       "    }\n",
       "</style>\n",
       "<table border=\"1\" class=\"dataframe\">\n",
       "  <thead>\n",
       "    <tr style=\"text-align: right;\">\n",
       "      <th></th>\n",
       "      <th>scopus_source_id</th>\n",
       "      <th>title</th>\n",
       "      <th>citescore</th>\n",
       "      <th>percentile</th>\n",
       "      <th>citation_count</th>\n",
       "      <th>scholarly_output</th>\n",
       "      <th>percent_cited</th>\n",
       "      <th>snip</th>\n",
       "      <th>sjr</th>\n",
       "      <th>rank</th>\n",
       "      <th>...</th>\n",
       "      <th>scopus_link</th>\n",
       "      <th>index</th>\n",
       "      <th>publisher2</th>\n",
       "      <th>percentile2</th>\n",
       "      <th>frequency</th>\n",
       "      <th>journal_website</th>\n",
       "      <th>review_time</th>\n",
       "      <th>open_access2</th>\n",
       "      <th>print_issn</th>\n",
       "      <th>e_issn</th>\n",
       "    </tr>\n",
       "  </thead>\n",
       "  <tbody>\n",
       "    <tr>\n",
       "      <th>0</th>\n",
       "      <td>11900154400</td>\n",
       "      <td>International Journal of Information Technolog...</td>\n",
       "      <td>1.29</td>\n",
       "      <td>60</td>\n",
       "      <td>63</td>\n",
       "      <td>49</td>\n",
       "      <td>63</td>\n",
       "      <td>0.635</td>\n",
       "      <td>0.191</td>\n",
       "      <td>82</td>\n",
       "      <td>...</td>\n",
       "      <td>https://www.scopus.com/sourceid/11900154400</td>\n",
       "      <td>Scopus</td>\n",
       "      <td>Others</td>\n",
       "      <td>200</td>\n",
       "      <td>Quarterly</td>\n",
       "      <td>https://www.igi-global.com/gateway/journal/1093</td>\n",
       "      <td>NaN</td>\n",
       "      <td>No</td>\n",
       "      <td>1554-1045</td>\n",
       "      <td>1554-1053</td>\n",
       "    </tr>\n",
       "    <tr>\n",
       "      <th>1</th>\n",
       "      <td>12100154817</td>\n",
       "      <td>International Journal of Wireless and Mobile C...</td>\n",
       "      <td>0.49</td>\n",
       "      <td>22</td>\n",
       "      <td>137</td>\n",
       "      <td>280</td>\n",
       "      <td>30</td>\n",
       "      <td>0.252</td>\n",
       "      <td>0.168</td>\n",
       "      <td>160</td>\n",
       "      <td>...</td>\n",
       "      <td>https://www.scopus.com/sourceid/12100154817</td>\n",
       "      <td>Scopus</td>\n",
       "      <td>Inderscience</td>\n",
       "      <td>400</td>\n",
       "      <td>Bi-monthly</td>\n",
       "      <td>https://www.inderscience.com/jhome.php?jcode=i...</td>\n",
       "      <td>NaN</td>\n",
       "      <td>No</td>\n",
       "      <td>1741-1084</td>\n",
       "      <td>1741-1092</td>\n",
       "    </tr>\n",
       "  </tbody>\n",
       "</table>\n",
       "<p>2 rows × 28 columns</p>\n",
       "</div>"
      ],
      "text/plain": [
       "   scopus_source_id                                              title  \\\n",
       "0       11900154400  International Journal of Information Technolog...   \n",
       "1       12100154817  International Journal of Wireless and Mobile C...   \n",
       "\n",
       "   citescore  percentile  citation_count  scholarly_output  percent_cited  \\\n",
       "0       1.29          60              63                49             63   \n",
       "1       0.49          22             137               280             30   \n",
       "\n",
       "    snip    sjr  rank  ...                                  scopus_link  \\\n",
       "0  0.635  0.191    82  ...  https://www.scopus.com/sourceid/11900154400   \n",
       "1  0.252  0.168   160  ...  https://www.scopus.com/sourceid/12100154817   \n",
       "\n",
       "    index    publisher2 percentile2   frequency  \\\n",
       "0  Scopus        Others         200   Quarterly   \n",
       "1  Scopus  Inderscience         400  Bi-monthly   \n",
       "\n",
       "                                     journal_website review_time open_access2  \\\n",
       "0    https://www.igi-global.com/gateway/journal/1093         NaN           No   \n",
       "1  https://www.inderscience.com/jhome.php?jcode=i...         NaN           No   \n",
       "\n",
       "  print_issn     e_issn  \n",
       "0  1554-1045  1554-1053  \n",
       "1  1741-1084  1741-1092  \n",
       "\n",
       "[2 rows x 28 columns]"
      ]
     },
     "execution_count": 2,
     "metadata": {},
     "output_type": "execute_result"
    }
   ],
   "source": [
    "journal = pd.read_csv('Ranking Journals.csv')\n",
    "journal.head(2)"
   ]
  },
  {
   "cell_type": "code",
   "execution_count": 3,
   "metadata": {},
   "outputs": [
    {
     "data": {
      "text/plain": [
       "3139"
      ]
     },
     "execution_count": 3,
     "metadata": {},
     "output_type": "execute_result"
    }
   ],
   "source": [
    "len(journal)"
   ]
  },
  {
   "cell_type": "markdown",
   "metadata": {},
   "source": [
    "## Creating new columns for ranking"
   ]
  },
  {
   "cell_type": "code",
   "execution_count": 4,
   "metadata": {},
   "outputs": [],
   "source": [
    "journal['user_index'] = journal['index']\n",
    "journal['user_publisher'] = journal['publisher2']\n",
    "journal['user_percentile'] = journal['percentile2']\n",
    "journal['user_frequency'] = journal['frequency']\n",
    "journal['user_open_access'] = journal['open_access2']"
   ]
  },
  {
   "cell_type": "code",
   "execution_count": 5,
   "metadata": {},
   "outputs": [
    {
     "data": {
      "text/plain": [
       "Index(['scopus_source_id', 'title', 'citescore', 'percentile',\n",
       "       'citation_count', 'scholarly_output', 'percent_cited', 'snip', 'sjr',\n",
       "       'rank', 'rank_outof', 'publisher', 'type', 'open_access',\n",
       "       'scopus_asjc_code', 'subject_area', 'quartile', 'top_10%',\n",
       "       'scopus_link', 'index', 'publisher2', 'percentile2', 'frequency',\n",
       "       'journal_website', 'review_time', 'open_access2', 'print_issn',\n",
       "       'e_issn', 'user_index', 'user_publisher', 'user_percentile',\n",
       "       'user_frequency', 'user_open_access'],\n",
       "      dtype='object')"
      ]
     },
     "execution_count": 5,
     "metadata": {},
     "output_type": "execute_result"
    }
   ],
   "source": [
    "journal.columns"
   ]
  },
  {
   "cell_type": "markdown",
   "metadata": {},
   "source": [
    "# Ranking Time Everybody!!!!!"
   ]
  },
  {
   "cell_type": "markdown",
   "metadata": {},
   "source": [
    "# Subject Area"
   ]
  },
  {
   "cell_type": "code",
   "execution_count": 6,
   "metadata": {},
   "outputs": [
    {
     "name": "stdout",
     "output_type": "stream",
     "text": [
      "Please Enter a number which represent a computer science sub-subject area: 2\n"
     ]
    }
   ],
   "source": [
    "def user__switch_subject_area(arg):\n",
    "    switcher = {\n",
    "        1: \"General Computer Science\",\n",
    "        2: \"Computer Science (miscellaneous)\",\n",
    "        3: \"Artificial Intelligence\",\n",
    "        4: \"Computational Theory and Mathematics\",\n",
    "        5: \"Computer Graphics and Computer-Aided Design\",\n",
    "        6: \"Computer Networks and Communications\",\n",
    "        7: \"Computer Science Applications\",\n",
    "        8: \"Computer Vision and Pattern Recognition\",\n",
    "        9: \"Hardware and Architecture\",\n",
    "        10: \"Human-Computer Interaction\",\n",
    "        11: \"Information Systems\",\n",
    "        12: \"Signal Processing\",\n",
    "        13: \"Software\"\n",
    "    }\n",
    "    return switcher.get(arg, \"You entered an invalid input\")\n",
    "\n",
    "user_subject_area = int(input(\"Please Enter a number which represent a computer science sub-subject area: \"))\n",
    "subject_area = user__switch_subject_area(user_subject_area)\n",
    "not_suject_area = journal.loc[journal['subject_area'] != subject_area]\n",
    "journal=journal.drop(not_suject_area.index, axis=0)"
   ]
  },
  {
   "cell_type": "markdown",
   "metadata": {},
   "source": [
    "## Index"
   ]
  },
  {
   "cell_type": "code",
   "execution_count": 7,
   "metadata": {},
   "outputs": [
    {
     "name": "stdout",
     "output_type": "stream",
     "text": [
      "Enter the Scopus index ranking number: 1\n",
      "Enter the SCIEISI index ranking number: 2\n",
      "{'Scopus': 0.5, 'SCIEISI': 1.0}\n"
     ]
    }
   ],
   "source": [
    "index = dict()\n",
    "def user_index():\n",
    "    list_index = [\"Scopus\", \"SCIEISI\"]\n",
    "    value_index = np.linspace(0.0, 1.0, 3).round(3).tolist()\n",
    "    len_index = len(list_index)\n",
    "    check_duplicate = []\n",
    "    for x in list_index:\n",
    "        while True:\n",
    "            try:\n",
    "                user_index = int(input(\"Enter the {} index ranking number: \".format(x)))\n",
    "                if(user_index in check_duplicate):\n",
    "                    print(\"Number Already taken\")\n",
    "                elif (user_index not in range(1, len_index+1)):\n",
    "                    print(\"Please enter a number between 1 to 2\") \n",
    "                else:\n",
    "                    index[x] = value_index[user_index]\n",
    "                    check_duplicate.append(user_index)\n",
    "                    break\n",
    "            except:\n",
    "                user_index = int(input(\"Enter the {} index ranking number: \".format(x)))\n",
    "                continue\n",
    "    return index\n",
    "\n",
    "print(user_index())\n",
    "rank_index = journal['user_index']\n",
    "for i in rank_index:\n",
    "    for key in index.keys():\n",
    "        if (i == key):\n",
    "            a = rank_index.replace(i,index[key], inplace=True)"
   ]
  },
  {
   "cell_type": "markdown",
   "metadata": {},
   "source": [
    "# Publisher"
   ]
  },
  {
   "cell_type": "code",
   "execution_count": 8,
   "metadata": {},
   "outputs": [
    {
     "name": "stdout",
     "output_type": "stream",
     "text": [
      "Enter the Springer publisher ranking number: 1\n",
      "Enter the Elsevier publisher ranking number: 2\n",
      "Enter the IEEE publisher ranking number: 3\n",
      "Enter the Taylor and Francis publisher ranking number: 4\n",
      "Enter the Inderscience publisher ranking number: 5\n",
      "Enter the ACM publisher ranking number: 6\n",
      "Enter the Others publisher ranking number: 7\n",
      "{'Springer': 0.143, 'Elsevier': 0.286, 'IEEE': 0.429, 'Taylor and Francis': 0.571, 'Inderscience': 0.714, 'ACM': 0.857, 'Others': 1.0}\n"
     ]
    }
   ],
   "source": [
    "publisher = dict()\n",
    "def user_publisher():\n",
    "    list_publisher = [\"Springer\", \"Elsevier\", \"IEEE\", \"Taylor and Francis\", \"Inderscience\", \"ACM\", \"Others\"]\n",
    "    value_publisher = np.linspace(0.0, 1.0, 8).round(3).tolist()\n",
    "    len_publisher = len(list_publisher)\n",
    "    check_duplicate = []\n",
    "    for x in list_publisher:\n",
    "        while True:\n",
    "            try:\n",
    "                user_publisher = int(input(\"Enter the {} publisher ranking number: \".format(x)))\n",
    "                if(user_publisher in check_duplicate):\n",
    "                    print(\"Number Already taken\")\n",
    "                elif (user_publisher not in range(1, len_publisher+1)):\n",
    "                    print(\"Please enter a number between 1 to 7\") \n",
    "                else:\n",
    "                    publisher[x] = value_publisher[user_publisher]\n",
    "                    check_duplicate.append(user_publisher)\n",
    "                    break\n",
    "            except:\n",
    "                user_publisher = int(input(\"Enter the {} publisher ranking number: \".format(x)))\n",
    "                continue\n",
    "    return publisher\n",
    "\n",
    "print(user_publisher())\n",
    "rank_publisher = journal['user_publisher']\n",
    "for i in rank_publisher:\n",
    "    for key in publisher.keys():\n",
    "        if (i == key):\n",
    "            a = rank_publisher.replace(i,publisher[key], inplace=True)"
   ]
  },
  {
   "cell_type": "markdown",
   "metadata": {},
   "source": [
    "# Percentile"
   ]
  },
  {
   "cell_type": "code",
   "execution_count": 9,
   "metadata": {},
   "outputs": [
    {
     "name": "stdout",
     "output_type": "stream",
     "text": [
      "Enter the 99 - 75 percentile ranking number: 1\n",
      "Enter the 74 - 50 percentile ranking number: 2\n",
      "Enter the 49 - 25 percentile ranking number: 3\n",
      "Enter the 24 - 0 percentile ranking number: 4\n",
      "{100: 0.25, 200: 0.5, 300: 0.75, 400: 1.0}\n"
     ]
    }
   ],
   "source": [
    "percentile = dict() \n",
    "def user_percentile():  \n",
    "    print_percentile = [\"99 - 75\", \"74 - 50\", \"49 - 25\", \"24 - 0\"] \n",
    "    list_percentile = [100, 200, 300, 400]\n",
    "    value_percentile = np.linspace(0.0, 1.0, 5).round(3).tolist()\n",
    "    len_percentile = len(list_percentile)\n",
    "    check_duplicate = []\n",
    "    for (x, y) in zip(list_percentile, print_percentile):\n",
    "        while True:\n",
    "            try:\n",
    "                user_percentile = int(input(\"Enter the {} percentile ranking number: \".format(y)))\n",
    "                if(user_percentile in check_duplicate):\n",
    "                    print(\"Number Already taken\")\n",
    "                elif (user_percentile not in range(1, len_percentile+1)):\n",
    "                    print(\"Please enter a number between 1 to 4\") \n",
    "                else:\n",
    "                    percentile[x] = value_percentile[user_percentile]\n",
    "                    check_duplicate.append(user_percentile)\n",
    "                    break\n",
    "            except:\n",
    "                user_percentile = int(input(\"Enter the {} percentile ranking number: \".format(x)))\n",
    "                continue\n",
    "    return percentile\n",
    "\n",
    "print(user_percentile())\n",
    "rank_percentile = journal['user_percentile']\n",
    "for i in rank_percentile:\n",
    "    for key in percentile.keys():\n",
    "        if (i == key):\n",
    "            a = rank_percentile.replace(i,percentile[key], inplace=True)"
   ]
  },
  {
   "cell_type": "markdown",
   "metadata": {},
   "source": [
    "# Frequency"
   ]
  },
  {
   "cell_type": "code",
   "execution_count": 10,
   "metadata": {},
   "outputs": [
    {
     "name": "stdout",
     "output_type": "stream",
     "text": [
      "Enter the Weekly frequency ranking number: 1\n",
      "Enter the Bi-weekly frequency ranking number: 2\n",
      "Enter the Monthly frequency ranking number: 3\n",
      "Enter the Bi-monthly frequency ranking number: 4\n",
      "Enter the Quarterly frequency ranking number: 5\n",
      "Enter the Tri-annual frequency ranking number: 6\n",
      "Enter the Semi-annual frequency ranking number: 7\n",
      "Enter the Annual frequency ranking number: 8\n",
      "{'Weekly': 0.125, 'Bi-weekly': 0.25, 'Monthly': 0.375, 'Bi-monthly': 0.5, 'Quarterly': 0.625, 'Tri-annual': 0.75, 'Semi-annual': 0.875, 'Annual': 1.0}\n"
     ]
    }
   ],
   "source": [
    "frequency = dict()\n",
    "def user_frequency():\n",
    "    list_frequency = [\"Weekly\", \"Bi-weekly\", \"Monthly\", \"Bi-monthly\", \"Quarterly\", \"Tri-annual\", \"Semi-annual\", \"Annual\"]\n",
    "    value_frequency = np.linspace(0.0, 1.0, 9).round(3).tolist()\n",
    "    len_frequency = len(list_frequency)\n",
    "    check_duplicate = []\n",
    "    for x in list_frequency:\n",
    "        while True:\n",
    "            try:\n",
    "                user_frequency = int(input(\"Enter the {} frequency ranking number: \".format(x)))\n",
    "                if(user_frequency in check_duplicate):\n",
    "                    print(\"Number Already taken\")\n",
    "                elif (user_frequency not in range(1, len_frequency+1)):\n",
    "                    print(\"Please enter a number between 1 to 9\") \n",
    "                else:\n",
    "                    frequency[x] = value_frequency[user_frequency]\n",
    "                    check_duplicate.append(user_frequency)\n",
    "                    break\n",
    "            except:\n",
    "                user_frequency = int(input(\"Enter the {} frequency ranking number: \".format(x)))\n",
    "                continue\n",
    "    return frequency\n",
    "\n",
    "print(user_frequency())\n",
    "rank_frequency = journal['user_frequency']\n",
    "for i in rank_frequency:\n",
    "    for key in frequency.keys():\n",
    "        if (i == key):\n",
    "            a = rank_frequency.replace(i,frequency[key], inplace=True)"
   ]
  },
  {
   "cell_type": "markdown",
   "metadata": {},
   "source": [
    "## Open Access"
   ]
  },
  {
   "cell_type": "code",
   "execution_count": 11,
   "metadata": {},
   "outputs": [
    {
     "name": "stdout",
     "output_type": "stream",
     "text": [
      "Enter the Yes open access ranking number: 1\n",
      "Enter the No open access ranking number: 2\n",
      "{'Yes': 0.5, 'No': 1.0}\n"
     ]
    }
   ],
   "source": [
    "open_access = dict()\n",
    "def user_open_access():\n",
    "    list_open_access = [\"Yes\", \"No\"]\n",
    "    value_open_access = np.linspace(0.0, 1.0, 3).round(3).tolist()\n",
    "    len_open_access = len(list_open_access)\n",
    "    check_duplicate = []\n",
    "    for x in list_open_access:\n",
    "        while True:\n",
    "            try:\n",
    "                user_open_access = int(input(\"Enter the {} open access ranking number: \".format(x)))\n",
    "                if(user_open_access in check_duplicate):\n",
    "                    print(\"Number Already taken\")\n",
    "                elif (user_open_access not in range(1, len_open_access+1)):\n",
    "                    print(\"Please enter a number between 1 to 2\") \n",
    "                else:\n",
    "                    open_access[x] = value_open_access[user_open_access]\n",
    "                    check_duplicate.append(user_open_access)\n",
    "                    break\n",
    "            except:\n",
    "                user_open_access = int(input(\"Enter the {} openaccess ranking number: \".format(x)))\n",
    "                continue\n",
    "    return open_access\n",
    "\n",
    "print(user_open_access())\n",
    "rank_open_access = journal['user_open_access']\n",
    "for i in rank_open_access:\n",
    "    for key in open_access.keys():\n",
    "        if (i == key):\n",
    "            a = rank_open_access.replace(i,open_access[key], inplace=True)"
   ]
  },
  {
   "cell_type": "markdown",
   "metadata": {},
   "source": [
    "# View Dataset"
   ]
  },
  {
   "cell_type": "code",
   "execution_count": 12,
   "metadata": {},
   "outputs": [
    {
     "data": {
      "text/html": [
       "<div>\n",
       "<style scoped>\n",
       "    .dataframe tbody tr th:only-of-type {\n",
       "        vertical-align: middle;\n",
       "    }\n",
       "\n",
       "    .dataframe tbody tr th {\n",
       "        vertical-align: top;\n",
       "    }\n",
       "\n",
       "    .dataframe thead th {\n",
       "        text-align: right;\n",
       "    }\n",
       "</style>\n",
       "<table border=\"1\" class=\"dataframe\">\n",
       "  <thead>\n",
       "    <tr style=\"text-align: right;\">\n",
       "      <th></th>\n",
       "      <th>scopus_source_id</th>\n",
       "      <th>title</th>\n",
       "      <th>citescore</th>\n",
       "      <th>percentile</th>\n",
       "      <th>citation_count</th>\n",
       "      <th>scholarly_output</th>\n",
       "      <th>percent_cited</th>\n",
       "      <th>snip</th>\n",
       "      <th>sjr</th>\n",
       "      <th>rank</th>\n",
       "      <th>...</th>\n",
       "      <th>journal_website</th>\n",
       "      <th>review_time</th>\n",
       "      <th>open_access2</th>\n",
       "      <th>print_issn</th>\n",
       "      <th>e_issn</th>\n",
       "      <th>user_index</th>\n",
       "      <th>user_publisher</th>\n",
       "      <th>user_percentile</th>\n",
       "      <th>user_frequency</th>\n",
       "      <th>user_open_access</th>\n",
       "    </tr>\n",
       "  </thead>\n",
       "  <tbody>\n",
       "    <tr>\n",
       "      <th>180</th>\n",
       "      <td>13024</td>\n",
       "      <td>Acta Cybernetica</td>\n",
       "      <td>0.37</td>\n",
       "      <td>19</td>\n",
       "      <td>30</td>\n",
       "      <td>81</td>\n",
       "      <td>23</td>\n",
       "      <td>0.373</td>\n",
       "      <td>0.138</td>\n",
       "      <td>41</td>\n",
       "      <td>...</td>\n",
       "      <td>http://www.inf.u-szeged.hu/actacybernetica/edb...</td>\n",
       "      <td>NaN</td>\n",
       "      <td>No</td>\n",
       "      <td>0324-721X</td>\n",
       "      <td>NaN</td>\n",
       "      <td>0.5</td>\n",
       "      <td>1.000</td>\n",
       "      <td>1.00</td>\n",
       "      <td>0.875</td>\n",
       "      <td>1.0</td>\n",
       "    </tr>\n",
       "    <tr>\n",
       "      <th>181</th>\n",
       "      <td>144674</td>\n",
       "      <td>Journal of Geomatics</td>\n",
       "      <td>0.10</td>\n",
       "      <td>6</td>\n",
       "      <td>41</td>\n",
       "      <td>413</td>\n",
       "      <td>7</td>\n",
       "      <td>0.074</td>\n",
       "      <td>0.111</td>\n",
       "      <td>47</td>\n",
       "      <td>...</td>\n",
       "      <td>https://ores.su/en/journals/journal-of-geomatics/</td>\n",
       "      <td>NaN</td>\n",
       "      <td>No</td>\n",
       "      <td>2095-6045</td>\n",
       "      <td>NaN</td>\n",
       "      <td>0.5</td>\n",
       "      <td>1.000</td>\n",
       "      <td>1.00</td>\n",
       "      <td>0.500</td>\n",
       "      <td>1.0</td>\n",
       "    </tr>\n",
       "    <tr>\n",
       "      <th>182</th>\n",
       "      <td>145095</td>\n",
       "      <td>Journal of Logic, Language and Information</td>\n",
       "      <td>0.91</td>\n",
       "      <td>37</td>\n",
       "      <td>40</td>\n",
       "      <td>44</td>\n",
       "      <td>50</td>\n",
       "      <td>1.514</td>\n",
       "      <td>0.342</td>\n",
       "      <td>32</td>\n",
       "      <td>...</td>\n",
       "      <td>http://www.springer.com/philosophy/logic+and+p...</td>\n",
       "      <td>NaN</td>\n",
       "      <td>No</td>\n",
       "      <td>0925-8531</td>\n",
       "      <td>1572-9583</td>\n",
       "      <td>0.5</td>\n",
       "      <td>0.143</td>\n",
       "      <td>0.75</td>\n",
       "      <td>0.625</td>\n",
       "      <td>1.0</td>\n",
       "    </tr>\n",
       "    <tr>\n",
       "      <th>183</th>\n",
       "      <td>15591</td>\n",
       "      <td>Journal of Artificial Societies and Social Sim...</td>\n",
       "      <td>2.42</td>\n",
       "      <td>79</td>\n",
       "      <td>404</td>\n",
       "      <td>167</td>\n",
       "      <td>69</td>\n",
       "      <td>1.493</td>\n",
       "      <td>1.097</td>\n",
       "      <td>11</td>\n",
       "      <td>...</td>\n",
       "      <td>http://jasss.soc.surrey.ac.uk/JASSS.html</td>\n",
       "      <td>21 weeks</td>\n",
       "      <td>Yes</td>\n",
       "      <td>1460-7425</td>\n",
       "      <td>NaN</td>\n",
       "      <td>0.5</td>\n",
       "      <td>1.000</td>\n",
       "      <td>0.25</td>\n",
       "      <td>0.625</td>\n",
       "      <td>0.5</td>\n",
       "    </tr>\n",
       "    <tr>\n",
       "      <th>184</th>\n",
       "      <td>17700155307</td>\n",
       "      <td>Chongqing Daxue Xuebao/Journal of Chongqing Un...</td>\n",
       "      <td>0.33</td>\n",
       "      <td>14</td>\n",
       "      <td>129</td>\n",
       "      <td>389</td>\n",
       "      <td>24</td>\n",
       "      <td>0.301</td>\n",
       "      <td>0.203</td>\n",
       "      <td>43</td>\n",
       "      <td>...</td>\n",
       "      <td>NaN</td>\n",
       "      <td>NaN</td>\n",
       "      <td>No</td>\n",
       "      <td>1000-582X</td>\n",
       "      <td>NaN</td>\n",
       "      <td>0.5</td>\n",
       "      <td>1.000</td>\n",
       "      <td>1.00</td>\n",
       "      <td>0.500</td>\n",
       "      <td>1.0</td>\n",
       "    </tr>\n",
       "  </tbody>\n",
       "</table>\n",
       "<p>5 rows × 33 columns</p>\n",
       "</div>"
      ],
      "text/plain": [
       "     scopus_source_id                                              title  \\\n",
       "180             13024                                   Acta Cybernetica   \n",
       "181            144674                               Journal of Geomatics   \n",
       "182            145095         Journal of Logic, Language and Information   \n",
       "183             15591  Journal of Artificial Societies and Social Sim...   \n",
       "184       17700155307  Chongqing Daxue Xuebao/Journal of Chongqing Un...   \n",
       "\n",
       "     citescore  percentile  citation_count  scholarly_output  percent_cited  \\\n",
       "180       0.37          19              30                81             23   \n",
       "181       0.10           6              41               413              7   \n",
       "182       0.91          37              40                44             50   \n",
       "183       2.42          79             404               167             69   \n",
       "184       0.33          14             129               389             24   \n",
       "\n",
       "      snip    sjr  rank  ...  \\\n",
       "180  0.373  0.138    41  ...   \n",
       "181  0.074  0.111    47  ...   \n",
       "182  1.514  0.342    32  ...   \n",
       "183  1.493  1.097    11  ...   \n",
       "184  0.301  0.203    43  ...   \n",
       "\n",
       "                                       journal_website review_time  \\\n",
       "180  http://www.inf.u-szeged.hu/actacybernetica/edb...         NaN   \n",
       "181  https://ores.su/en/journals/journal-of-geomatics/         NaN   \n",
       "182  http://www.springer.com/philosophy/logic+and+p...         NaN   \n",
       "183           http://jasss.soc.surrey.ac.uk/JASSS.html    21 weeks   \n",
       "184                                                NaN         NaN   \n",
       "\n",
       "    open_access2 print_issn     e_issn user_index user_publisher  \\\n",
       "180           No  0324-721X        NaN        0.5          1.000   \n",
       "181           No  2095-6045        NaN        0.5          1.000   \n",
       "182           No  0925-8531  1572-9583        0.5          0.143   \n",
       "183          Yes  1460-7425        NaN        0.5          1.000   \n",
       "184           No  1000-582X        NaN        0.5          1.000   \n",
       "\n",
       "    user_percentile user_frequency user_open_access  \n",
       "180            1.00          0.875              1.0  \n",
       "181            1.00          0.500              1.0  \n",
       "182            0.75          0.625              1.0  \n",
       "183            0.25          0.625              0.5  \n",
       "184            1.00          0.500              1.0  \n",
       "\n",
       "[5 rows x 33 columns]"
      ]
     },
     "execution_count": 12,
     "metadata": {},
     "output_type": "execute_result"
    }
   ],
   "source": [
    "journal.head()"
   ]
  },
  {
   "cell_type": "code",
   "execution_count": 13,
   "metadata": {},
   "outputs": [],
   "source": [
    "journal.to_csv('User Journals.csv', index=False) "
   ]
  },
  {
   "cell_type": "code",
   "execution_count": null,
   "metadata": {},
   "outputs": [],
   "source": []
  }
 ],
 "metadata": {
  "kernelspec": {
   "display_name": "Python 3",
   "language": "python",
   "name": "python3"
  },
  "language_info": {
   "codemirror_mode": {
    "name": "ipython",
    "version": 3
   },
   "file_extension": ".py",
   "mimetype": "text/x-python",
   "name": "python",
   "nbconvert_exporter": "python",
   "pygments_lexer": "ipython3",
   "version": "3.7.3"
  }
 },
 "nbformat": 4,
 "nbformat_minor": 2
}
