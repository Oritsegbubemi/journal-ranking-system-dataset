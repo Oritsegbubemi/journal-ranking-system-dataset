{
 "cells": [
  {
   "cell_type": "code",
   "execution_count": null,
   "metadata": {},
   "outputs": [],
   "source": []
  },
  {
   "cell_type": "code",
   "execution_count": 8,
   "metadata": {},
   "outputs": [],
   "source": [
    "import time\n",
    "import os\n",
    "import json\n",
    "import re\n",
    "from selenium import webdriver\n",
    "from selenium.webdriver.common.keys import Keys\n",
    "from bs4 import BeautifulSoup\n",
    "from selenium.common.exceptions import UnexpectedAlertPresentException\n",
    "from selenium.webdriver.common.by import By\n",
    "from selenium.webdriver.support.ui import WebDriverWait\n",
    "from selenium.webdriver.support import expected_conditions as EC\n",
    "\n",
    "driver = webdriver.Chrome(r'C:\\Users\\Gbubemi\\Downloads\\Setup\\Downloads\\chromedriver.exe')"
   ]
  },
  {
   "cell_type": "code",
   "execution_count": 9,
   "metadata": {},
   "outputs": [],
   "source": [
    "login_link = \"https://mjl.clarivate.com/login;createAccount=false;referrer=%2Fhome\"\n",
    "\n",
    "driver.get(login_link)\n",
    "\n",
    "try:\n",
    "    element = WebDriverWait(driver, 10).until(EC.presence_of_element_located((By.CLASS, \"mat-form-field-infix\")))\n",
    "    print(\"in\")\n",
    "#     element.find_element_by_name(\"email\").clear()\n",
    "#     element.find_element_by_name(\"email\").send_keys(\"gbubemimakpokpomi@gmail.com\")\n",
    "#     element.find_element_by_name(\"password\").clear()\n",
    "#     element.find_element_by_name(\"password\").send_keys(\"Passionate1!\")\n",
    "except:\n",
    "    time.sleep(8)\n",
    "    driver.quit()"
   ]
  },
  {
   "cell_type": "code",
   "execution_count": 1,
   "metadata": {},
   "outputs": [
    {
     "ename": "SyntaxError",
     "evalue": "EOL while scanning string literal (<ipython-input-1-a69cbe46ad33>, line 4)",
     "output_type": "error",
     "traceback": [
      "\u001b[1;36m  File \u001b[1;32m\"<ipython-input-1-a69cbe46ad33>\"\u001b[1;36m, line \u001b[1;32m4\u001b[0m\n\u001b[1;33m    driver.find_element_by_id(mat-input-0\")\u001b[0m\n\u001b[1;37m                                           ^\u001b[0m\n\u001b[1;31mSyntaxError\u001b[0m\u001b[1;31m:\u001b[0m EOL while scanning string literal\n"
     ]
    }
   ],
   "source": [
    "login_link = \"https://mjl.clarivate.com/login;createAccount=false;referrer=%2Fhome\"\n",
    "\n",
    "driver.get(login_link)\n",
    "hello = driver.find_element_by_id(\"mat-input-0\")\n",
    "\n",
    "\n",
    "try:\n",
    "    element = WebDriverWait(driver, 10).until(EC.presence_of_element_located((By.CLASS, \"mat-form-field-infix)))\n",
    "    print(\"in\")\n",
    "#     element.find_element_by_name(\"email\").clear()\n",
    "#     element.find_element_by_name(\"email\").send_keys(\"gbubemimakpokpomi@gmail.com\")\n",
    "#     element.find_element_by_name(\"password\").clear()\n",
    "#     element.find_element_by_name(\"password\").send_keys(\"Passionate1!\")\n",
    "except:\n",
    "    time.sleep(8)\n",
    "    driver.quit()"
   ]
  },
  {
   "cell_type": "code",
   "execution_count": null,
   "metadata": {},
   "outputs": [],
   "source": []
  }
 ],
 "metadata": {
  "kernelspec": {
   "display_name": "Python 3",
   "language": "python",
   "name": "python3"
  },
  "language_info": {
   "codemirror_mode": {
    "name": "ipython",
    "version": 3
   },
   "file_extension": ".py",
   "mimetype": "text/x-python",
   "name": "python",
   "nbconvert_exporter": "python",
   "pygments_lexer": "ipython3",
   "version": "3.7.3"
  }
 },
 "nbformat": 4,
 "nbformat_minor": 2
}
