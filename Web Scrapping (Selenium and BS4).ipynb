{
 "cells": [
  {
   "cell_type": "markdown",
   "metadata": {},
   "source": [
    "# Import all the needed libraries"
   ]
  },
  {
   "cell_type": "code",
   "execution_count": 1,
   "metadata": {},
   "outputs": [],
   "source": [
    "import numpy as np\n",
    "import pandas as pd\n",
    "import matplotlib.pyplot as plt\n",
    "import seaborn as sns\n",
    "%matplotlib inline"
   ]
  },
  {
   "cell_type": "code",
   "execution_count": 2,
   "metadata": {},
   "outputs": [],
   "source": [
    "import time\n",
    "from selenium import webdriver\n",
    "from selenium.webdriver.common.keys import Keys\n",
    "from bs4 import BeautifulSoup"
   ]
  },
  {
   "cell_type": "code",
   "execution_count": 3,
   "metadata": {},
   "outputs": [],
   "source": [
    "journal = pd.read_csv('The Dataset.csv')"
   ]
  },
  {
   "cell_type": "code",
   "execution_count": 4,
   "metadata": {},
   "outputs": [
    {
     "data": {
      "text/html": [
       "<div>\n",
       "<style scoped>\n",
       "    .dataframe tbody tr th:only-of-type {\n",
       "        vertical-align: middle;\n",
       "    }\n",
       "\n",
       "    .dataframe tbody tr th {\n",
       "        vertical-align: top;\n",
       "    }\n",
       "\n",
       "    .dataframe thead th {\n",
       "        text-align: right;\n",
       "    }\n",
       "</style>\n",
       "<table border=\"1\" class=\"dataframe\">\n",
       "  <thead>\n",
       "    <tr style=\"text-align: right;\">\n",
       "      <th></th>\n",
       "      <th>Title</th>\n",
       "      <th>Percentile</th>\n",
       "      <th>Publisher</th>\n",
       "      <th>Open Access</th>\n",
       "      <th>Subject Area</th>\n",
       "      <th>Scopus Link</th>\n",
       "      <th>Index</th>\n",
       "      <th>Frequency_Fake</th>\n",
       "      <th>Review Time_Fake</th>\n",
       "    </tr>\n",
       "  </thead>\n",
       "  <tbody>\n",
       "    <tr>\n",
       "      <th>0</th>\n",
       "      <td>International Journal of Information Technolog...</td>\n",
       "      <td>60</td>\n",
       "      <td>Others</td>\n",
       "      <td>NO</td>\n",
       "      <td>General Computer Science</td>\n",
       "      <td>https://www.scopus.com/sourceid/11900154400</td>\n",
       "      <td>Scopus</td>\n",
       "      <td>Bi-monthly</td>\n",
       "      <td>12 weeks</td>\n",
       "    </tr>\n",
       "    <tr>\n",
       "      <th>1</th>\n",
       "      <td>International Journal of Wireless and Mobile C...</td>\n",
       "      <td>22</td>\n",
       "      <td>Inderscience</td>\n",
       "      <td>NO</td>\n",
       "      <td>General Computer Science</td>\n",
       "      <td>https://www.scopus.com/sourceid/12100154817</td>\n",
       "      <td>Scopus</td>\n",
       "      <td>Bi-monthly</td>\n",
       "      <td>12 weeks</td>\n",
       "    </tr>\n",
       "    <tr>\n",
       "      <th>2</th>\n",
       "      <td>ACM Transactions on Applied Perception</td>\n",
       "      <td>75</td>\n",
       "      <td>ACM</td>\n",
       "      <td>NO</td>\n",
       "      <td>General Computer Science</td>\n",
       "      <td>https://www.scopus.com/sourceid/12100154833</td>\n",
       "      <td>Scopus</td>\n",
       "      <td>Bi-Annually</td>\n",
       "      <td>6 weeks</td>\n",
       "    </tr>\n",
       "    <tr>\n",
       "      <th>3</th>\n",
       "      <td>Mathematics and Computers in Simulation</td>\n",
       "      <td>73</td>\n",
       "      <td>Elsevier</td>\n",
       "      <td>NO</td>\n",
       "      <td>General Computer Science</td>\n",
       "      <td>https://www.scopus.com/sourceid/12166</td>\n",
       "      <td>Scopus</td>\n",
       "      <td>Quarterly</td>\n",
       "      <td>10 weeks</td>\n",
       "    </tr>\n",
       "    <tr>\n",
       "      <th>4</th>\n",
       "      <td>ACM Transactions on Computer Systems</td>\n",
       "      <td>90</td>\n",
       "      <td>ACM</td>\n",
       "      <td>NO</td>\n",
       "      <td>General Computer Science</td>\n",
       "      <td>https://www.scopus.com/sourceid/12213</td>\n",
       "      <td>Scopus</td>\n",
       "      <td>Bi-monthly</td>\n",
       "      <td>12 weeks</td>\n",
       "    </tr>\n",
       "  </tbody>\n",
       "</table>\n",
       "</div>"
      ],
      "text/plain": [
       "                                               Title  Percentile  \\\n",
       "0  International Journal of Information Technolog...          60   \n",
       "1  International Journal of Wireless and Mobile C...          22   \n",
       "2             ACM Transactions on Applied Perception          75   \n",
       "3            Mathematics and Computers in Simulation          73   \n",
       "4               ACM Transactions on Computer Systems          90   \n",
       "\n",
       "      Publisher Open Access              Subject Area  \\\n",
       "0        Others          NO  General Computer Science   \n",
       "1  Inderscience          NO  General Computer Science   \n",
       "2           ACM          NO  General Computer Science   \n",
       "3      Elsevier          NO  General Computer Science   \n",
       "4           ACM          NO  General Computer Science   \n",
       "\n",
       "                                   Scopus Link   Index Frequency_Fake  \\\n",
       "0  https://www.scopus.com/sourceid/11900154400  Scopus     Bi-monthly   \n",
       "1  https://www.scopus.com/sourceid/12100154817  Scopus     Bi-monthly   \n",
       "2  https://www.scopus.com/sourceid/12100154833  Scopus    Bi-Annually   \n",
       "3        https://www.scopus.com/sourceid/12166  Scopus      Quarterly   \n",
       "4        https://www.scopus.com/sourceid/12213  Scopus     Bi-monthly   \n",
       "\n",
       "  Review Time_Fake  \n",
       "0         12 weeks  \n",
       "1         12 weeks  \n",
       "2          6 weeks  \n",
       "3         10 weeks  \n",
       "4         12 weeks  "
      ]
     },
     "execution_count": 4,
     "metadata": {},
     "output_type": "execute_result"
    }
   ],
   "source": [
    "journal.head()"
   ]
  },
  {
   "cell_type": "markdown",
   "metadata": {},
   "source": [
    "# Working on the Scopus Link column"
   ]
  },
  {
   "cell_type": "code",
   "execution_count": 5,
   "metadata": {},
   "outputs": [],
   "source": [
    "link = journal['Scopus Link']"
   ]
  },
  {
   "cell_type": "markdown",
   "metadata": {},
   "source": [
    "driver = webdriver.Chrome(r'C:\\Users\\Gbubemi\\Downloads\\Setup\\Downloads\\chromedriver.exe')\n",
    "result = []\n",
    "for i in link:\n",
    "    driver.get(i)\n",
    "    soup = BeautifulSoup(driver.page_source, 'lxml')\n",
    "    item_list = soup.find_all(class_=\"JNLUL list-unstyled fontMedium lineHeight2 noPadding marginBottom1\")\n",
    "    if item_list!=None: \n",
    "        all_items=item_list\n",
    "        lst=all_items\n",
    "        for i in range(len(all_items)):\n",
    "            years = lst[i].find(attrs={\"class\":\"right\"}).find(text=True)\n",
    "        result.append([years])\n",
    "print(result)"
   ]
  },
  {
   "cell_type": "code",
   "execution_count": 19,
   "metadata": {},
   "outputs": [],
   "source": [
    "link1 = journal['Scopus Link'][0:10]\n",
    "link2 = journal['Scopus Link'][10:50]\n",
    "link3 = journal['Scopus Link'][50:100]\n",
    "link4 = journal['Scopus Link'][100:150]\n",
    "link5 = journal['Scopus Link'][150:200]\n",
    "link6 = journal['Scopus Link'][200:300]\n",
    "link7 = journal['Scopus Link'][300:400]\n",
    "link8 = journal['Scopus Link'][400:500]"
   ]
  },
  {
   "cell_type": "code",
   "execution_count": 15,
   "metadata": {},
   "outputs": [
    {
     "name": "stdout",
     "output_type": "stream",
     "text": [
      "[['Updated monthly'], ['Updated monthly'], ['Updated monthly'], ['Updated monthly'], ['Updated monthly'], ['Updated monthly'], ['Updated monthly'], ['Updated monthly'], ['Updated monthly'], ['Updated monthly']]\n"
     ]
    }
   ],
   "source": [
    "#First 10\n",
    "driver = webdriver.Chrome(r'C:\\Users\\Gbubemi\\Downloads\\Setup\\Downloads\\chromedriver.exe')\n",
    "result1 = []\n",
    "for i in link1:\n",
    "    driver.get(i)\n",
    "    soup = BeautifulSoup(driver.page_source, 'lxml')\n",
    "    item_list = soup.find_all(class_=\"darkGrayBg csTrMain wrapperNoMarginInsidePadding whiteText\")\n",
    "    if item_list!=None: \n",
    "        all_items=item_list\n",
    "        lst=all_items\n",
    "        for i in range(len(all_items)):\n",
    "            freq = lst[i].find(attrs={\"class\":\"updateFreq\"}).find(text=True)\n",
    "        result1.append([freq])\n",
    "print(result1)"
   ]
  },
  {
   "cell_type": "code",
   "execution_count": 16,
   "metadata": {},
   "outputs": [
    {
     "data": {
      "text/plain": [
       "[['Updated monthly'],\n",
       " ['Updated monthly'],\n",
       " ['Updated monthly'],\n",
       " ['Updated monthly'],\n",
       " ['Updated monthly'],\n",
       " ['Updated monthly'],\n",
       " ['Updated monthly'],\n",
       " ['Updated monthly'],\n",
       " ['Updated monthly'],\n",
       " ['Updated monthly']]"
      ]
     },
     "execution_count": 16,
     "metadata": {},
     "output_type": "execute_result"
    }
   ],
   "source": [
    "result1"
   ]
  },
  {
   "cell_type": "code",
   "execution_count": 28,
   "metadata": {},
   "outputs": [
    {
     "ename": "WebDriverException",
     "evalue": "Message: unknown error: cannot determine loading status\nfrom disconnected: received Inspector.detached event\n  (Session info: chrome=80.0.3987.163)\n",
     "output_type": "error",
     "traceback": [
      "\u001b[1;31m---------------------------------------------------------------------------\u001b[0m",
      "\u001b[1;31mWebDriverException\u001b[0m                        Traceback (most recent call last)",
      "\u001b[1;32m<ipython-input-28-fce899353225>\u001b[0m in \u001b[0;36m<module>\u001b[1;34m\u001b[0m\n\u001b[0;32m      3\u001b[0m \u001b[0mresult2\u001b[0m \u001b[1;33m=\u001b[0m \u001b[1;33m[\u001b[0m\u001b[1;33m]\u001b[0m\u001b[1;33m\u001b[0m\u001b[1;33m\u001b[0m\u001b[0m\n\u001b[0;32m      4\u001b[0m \u001b[1;32mfor\u001b[0m \u001b[0mi\u001b[0m \u001b[1;32min\u001b[0m \u001b[0mlink2\u001b[0m\u001b[1;33m:\u001b[0m\u001b[1;33m\u001b[0m\u001b[1;33m\u001b[0m\u001b[0m\n\u001b[1;32m----> 5\u001b[1;33m     \u001b[0mdriver\u001b[0m\u001b[1;33m.\u001b[0m\u001b[0mget\u001b[0m\u001b[1;33m(\u001b[0m\u001b[0mi\u001b[0m\u001b[1;33m)\u001b[0m\u001b[1;33m\u001b[0m\u001b[1;33m\u001b[0m\u001b[0m\n\u001b[0m\u001b[0;32m      6\u001b[0m     \u001b[0msoup\u001b[0m \u001b[1;33m=\u001b[0m \u001b[0mBeautifulSoup\u001b[0m\u001b[1;33m(\u001b[0m\u001b[0mdriver\u001b[0m\u001b[1;33m.\u001b[0m\u001b[0mpage_source\u001b[0m\u001b[1;33m,\u001b[0m \u001b[1;34m'lxml'\u001b[0m\u001b[1;33m)\u001b[0m\u001b[1;33m\u001b[0m\u001b[1;33m\u001b[0m\u001b[0m\n\u001b[0;32m      7\u001b[0m     \u001b[0mitem_list\u001b[0m \u001b[1;33m=\u001b[0m \u001b[0msoup\u001b[0m\u001b[1;33m.\u001b[0m\u001b[0mfind_all\u001b[0m\u001b[1;33m(\u001b[0m\u001b[0mclass_\u001b[0m\u001b[1;33m=\u001b[0m\u001b[1;34m\"darkGrayBg csTrMain wrapperNoMarginInsidePadding whiteText\"\u001b[0m\u001b[1;33m)\u001b[0m\u001b[1;33m\u001b[0m\u001b[1;33m\u001b[0m\u001b[0m\n",
      "\u001b[1;32mC:\\ProgramData\\Anaconda3\\lib\\site-packages\\selenium\\webdriver\\remote\\webdriver.py\u001b[0m in \u001b[0;36mget\u001b[1;34m(self, url)\u001b[0m\n\u001b[0;32m    331\u001b[0m         \u001b[0mLoads\u001b[0m \u001b[0ma\u001b[0m \u001b[0mweb\u001b[0m \u001b[0mpage\u001b[0m \u001b[1;32min\u001b[0m \u001b[0mthe\u001b[0m \u001b[0mcurrent\u001b[0m \u001b[0mbrowser\u001b[0m \u001b[0msession\u001b[0m\u001b[1;33m.\u001b[0m\u001b[1;33m\u001b[0m\u001b[1;33m\u001b[0m\u001b[0m\n\u001b[0;32m    332\u001b[0m         \"\"\"\n\u001b[1;32m--> 333\u001b[1;33m         \u001b[0mself\u001b[0m\u001b[1;33m.\u001b[0m\u001b[0mexecute\u001b[0m\u001b[1;33m(\u001b[0m\u001b[0mCommand\u001b[0m\u001b[1;33m.\u001b[0m\u001b[0mGET\u001b[0m\u001b[1;33m,\u001b[0m \u001b[1;33m{\u001b[0m\u001b[1;34m'url'\u001b[0m\u001b[1;33m:\u001b[0m \u001b[0murl\u001b[0m\u001b[1;33m}\u001b[0m\u001b[1;33m)\u001b[0m\u001b[1;33m\u001b[0m\u001b[1;33m\u001b[0m\u001b[0m\n\u001b[0m\u001b[0;32m    334\u001b[0m \u001b[1;33m\u001b[0m\u001b[0m\n\u001b[0;32m    335\u001b[0m     \u001b[1;33m@\u001b[0m\u001b[0mproperty\u001b[0m\u001b[1;33m\u001b[0m\u001b[1;33m\u001b[0m\u001b[0m\n",
      "\u001b[1;32mC:\\ProgramData\\Anaconda3\\lib\\site-packages\\selenium\\webdriver\\remote\\webdriver.py\u001b[0m in \u001b[0;36mexecute\u001b[1;34m(self, driver_command, params)\u001b[0m\n\u001b[0;32m    319\u001b[0m         \u001b[0mresponse\u001b[0m \u001b[1;33m=\u001b[0m \u001b[0mself\u001b[0m\u001b[1;33m.\u001b[0m\u001b[0mcommand_executor\u001b[0m\u001b[1;33m.\u001b[0m\u001b[0mexecute\u001b[0m\u001b[1;33m(\u001b[0m\u001b[0mdriver_command\u001b[0m\u001b[1;33m,\u001b[0m \u001b[0mparams\u001b[0m\u001b[1;33m)\u001b[0m\u001b[1;33m\u001b[0m\u001b[1;33m\u001b[0m\u001b[0m\n\u001b[0;32m    320\u001b[0m         \u001b[1;32mif\u001b[0m \u001b[0mresponse\u001b[0m\u001b[1;33m:\u001b[0m\u001b[1;33m\u001b[0m\u001b[1;33m\u001b[0m\u001b[0m\n\u001b[1;32m--> 321\u001b[1;33m             \u001b[0mself\u001b[0m\u001b[1;33m.\u001b[0m\u001b[0merror_handler\u001b[0m\u001b[1;33m.\u001b[0m\u001b[0mcheck_response\u001b[0m\u001b[1;33m(\u001b[0m\u001b[0mresponse\u001b[0m\u001b[1;33m)\u001b[0m\u001b[1;33m\u001b[0m\u001b[1;33m\u001b[0m\u001b[0m\n\u001b[0m\u001b[0;32m    322\u001b[0m             response['value'] = self._unwrap_value(\n\u001b[0;32m    323\u001b[0m                 response.get('value', None))\n",
      "\u001b[1;32mC:\\ProgramData\\Anaconda3\\lib\\site-packages\\selenium\\webdriver\\remote\\errorhandler.py\u001b[0m in \u001b[0;36mcheck_response\u001b[1;34m(self, response)\u001b[0m\n\u001b[0;32m    240\u001b[0m                 \u001b[0malert_text\u001b[0m \u001b[1;33m=\u001b[0m \u001b[0mvalue\u001b[0m\u001b[1;33m[\u001b[0m\u001b[1;34m'alert'\u001b[0m\u001b[1;33m]\u001b[0m\u001b[1;33m.\u001b[0m\u001b[0mget\u001b[0m\u001b[1;33m(\u001b[0m\u001b[1;34m'text'\u001b[0m\u001b[1;33m)\u001b[0m\u001b[1;33m\u001b[0m\u001b[1;33m\u001b[0m\u001b[0m\n\u001b[0;32m    241\u001b[0m             \u001b[1;32mraise\u001b[0m \u001b[0mexception_class\u001b[0m\u001b[1;33m(\u001b[0m\u001b[0mmessage\u001b[0m\u001b[1;33m,\u001b[0m \u001b[0mscreen\u001b[0m\u001b[1;33m,\u001b[0m \u001b[0mstacktrace\u001b[0m\u001b[1;33m,\u001b[0m \u001b[0malert_text\u001b[0m\u001b[1;33m)\u001b[0m\u001b[1;33m\u001b[0m\u001b[1;33m\u001b[0m\u001b[0m\n\u001b[1;32m--> 242\u001b[1;33m         \u001b[1;32mraise\u001b[0m \u001b[0mexception_class\u001b[0m\u001b[1;33m(\u001b[0m\u001b[0mmessage\u001b[0m\u001b[1;33m,\u001b[0m \u001b[0mscreen\u001b[0m\u001b[1;33m,\u001b[0m \u001b[0mstacktrace\u001b[0m\u001b[1;33m)\u001b[0m\u001b[1;33m\u001b[0m\u001b[1;33m\u001b[0m\u001b[0m\n\u001b[0m\u001b[0;32m    243\u001b[0m \u001b[1;33m\u001b[0m\u001b[0m\n\u001b[0;32m    244\u001b[0m     \u001b[1;32mdef\u001b[0m \u001b[0m_value_or_default\u001b[0m\u001b[1;33m(\u001b[0m\u001b[0mself\u001b[0m\u001b[1;33m,\u001b[0m \u001b[0mobj\u001b[0m\u001b[1;33m,\u001b[0m \u001b[0mkey\u001b[0m\u001b[1;33m,\u001b[0m \u001b[0mdefault\u001b[0m\u001b[1;33m)\u001b[0m\u001b[1;33m:\u001b[0m\u001b[1;33m\u001b[0m\u001b[1;33m\u001b[0m\u001b[0m\n",
      "\u001b[1;31mWebDriverException\u001b[0m: Message: unknown error: cannot determine loading status\nfrom disconnected: received Inspector.detached event\n  (Session info: chrome=80.0.3987.163)\n"
     ]
    }
   ],
   "source": [
    "#First 10 - 50\n",
    "driver = webdriver.Chrome(r'C:\\Users\\Gbubemi\\Downloads\\Setup\\Downloads\\chromedriver.exe')\n",
    "result2 = []\n",
    "for i in link2:\n",
    "    driver.get(i)\n",
    "    soup = BeautifulSoup(driver.page_source, 'lxml')\n",
    "    item_list = soup.find_all(class_=\"darkGrayBg csTrMain wrapperNoMarginInsidePadding whiteText\")\n",
    "    if item_list!=None: \n",
    "        all_items=item_list\n",
    "        lst=all_items\n",
    "        for i in range(len(all_items)):\n",
    "            freq = lst[i].find(attrs={\"class\":\"updateFreq\"}).find(text=True)\n",
    "        result2.append([freq])\n",
    "print(result2)"
   ]
  },
  {
   "cell_type": "code",
   "execution_count": null,
   "metadata": {},
   "outputs": [],
   "source": [
    "#First 50 - 100\n",
    "driver = webdriver.Chrome(r'C:\\Users\\Gbubemi\\Downloads\\Setup\\Downloads\\chromedriver.exe')\n",
    "result3 = []\n",
    "for i in link3:\n",
    "    driver.get(i)\n",
    "    soup = BeautifulSoup(driver.page_source, 'lxml')\n",
    "    item_list = soup.find_all(class_=\"darkGrayBg csTrMain wrapperNoMarginInsidePadding whiteText\")\n",
    "    if item_list!=None: \n",
    "        all_items=item_list\n",
    "        lst=all_items\n",
    "        for i in range(len(all_items)):\n",
    "            freq = lst[i].find(attrs={\"class\":\"updateFreq\"}).find(text=True)\n",
    "        result3.append([freq])\n",
    "print(result3)"
   ]
  },
  {
   "cell_type": "code",
   "execution_count": null,
   "metadata": {},
   "outputs": [],
   "source": [
    "#First 100 - 150\n",
    "driver = webdriver.Chrome(r'C:\\Users\\Gbubemi\\Downloads\\Setup\\Downloads\\chromedriver.exe')\n",
    "result4 = []\n",
    "for i in link4:\n",
    "    driver.get(i)\n",
    "    soup = BeautifulSoup(driver.page_source, 'lxml')\n",
    "    item_list = soup.find_all(class_=\"darkGrayBg csTrMain wrapperNoMarginInsidePadding whiteText\")\n",
    "    if item_list!=None: \n",
    "        all_items=item_list\n",
    "        lst=all_items\n",
    "        for i in range(len(all_items)):\n",
    "            freq = lst[i].find(attrs={\"class\":\"updateFreq\"}).find(text=True)\n",
    "        result4.append([freq])\n",
    "print(result4)"
   ]
  },
  {
   "cell_type": "code",
   "execution_count": null,
   "metadata": {},
   "outputs": [],
   "source": [
    "#First 150 - 200\n",
    "driver = webdriver.Chrome(r'C:\\Users\\Gbubemi\\Downloads\\Setup\\Downloads\\chromedriver.exe')\n",
    "result5 = []\n",
    "for i in link5:\n",
    "    driver.get(i)\n",
    "    soup = BeautifulSoup(driver.page_source, 'lxml')\n",
    "    item_list = soup.find_all(class_=\"darkGrayBg csTrMain wrapperNoMarginInsidePadding whiteText\")\n",
    "    if item_list!=None: \n",
    "        all_items=item_list\n",
    "        lst=all_items\n",
    "        for i in range(len(all_items)):\n",
    "            freq = lst[i].find(attrs={\"class\":\"updateFreq\"}).find(text=True)\n",
    "        result5.append([freq])\n",
    "print(result5)"
   ]
  },
  {
   "cell_type": "code",
   "execution_count": null,
   "metadata": {},
   "outputs": [],
   "source": [
    "#First 200 - 300\n",
    "driver = webdriver.Chrome(r'C:\\Users\\Gbubemi\\Downloads\\Setup\\Downloads\\chromedriver.exe')\n",
    "result6 = []\n",
    "for i in link2:\n",
    "    driver.get(i)\n",
    "    soup = BeautifulSoup(driver.page_source, 'lxml')\n",
    "    item_list = soup.find_all(class_=\"darkGrayBg csTrMain wrapperNoMarginInsidePadding whiteText\")\n",
    "    if item_list!=None: \n",
    "        all_items=item_list\n",
    "        lst=all_items\n",
    "        for i in range(len(all_items)):\n",
    "            freq = lst[i].find(attrs={\"class\":\"updateFreq\"}).find(text=True)\n",
    "        result6.append([freq])\n",
    "print(result6)"
   ]
  },
  {
   "cell_type": "code",
   "execution_count": null,
   "metadata": {},
   "outputs": [],
   "source": [
    "#First 300 - 400\n",
    "driver = webdriver.Chrome(r'C:\\Users\\Gbubemi\\Downloads\\Setup\\Downloads\\chromedriver.exe')\n",
    "result7 = []\n",
    "for i in link7:\n",
    "    driver.get(i)\n",
    "    soup = BeautifulSoup(driver.page_source, 'lxml')\n",
    "    item_list = soup.find_all(class_=\"darkGrayBg csTrMain wrapperNoMarginInsidePadding whiteText\")\n",
    "    if item_list!=None: \n",
    "        all_items=item_list\n",
    "        lst=all_items\n",
    "        for i in range(len(all_items)):\n",
    "            freq = lst[i].find(attrs={\"class\":\"updateFreq\"}).find(text=True)\n",
    "        result7.append([freq])\n",
    "print(result7)"
   ]
  },
  {
   "cell_type": "code",
   "execution_count": null,
   "metadata": {},
   "outputs": [],
   "source": [
    "#First 400 - 500\n",
    "driver = webdriver.Chrome(r'C:\\Users\\Gbubemi\\Downloads\\Setup\\Downloads\\chromedriver.exe')\n",
    "result8 = []\n",
    "for i in link8:\n",
    "    driver.get(i)\n",
    "    soup = BeautifulSoup(driver.page_source, 'lxml')\n",
    "    item_list = soup.find_all(class_=\"darkGrayBg csTrMain wrapperNoMarginInsidePadding whiteText\")\n",
    "    if item_list!=None: \n",
    "        all_items=item_list\n",
    "        lst=all_items\n",
    "        for i in range(len(all_items)):\n",
    "            freq = lst[i].find(attrs={\"class\":\"updateFreq\"}).find(text=True)\n",
    "        result8.append([freq])\n",
    "print(result8)"
   ]
  },
  {
   "cell_type": "code",
   "execution_count": null,
   "metadata": {},
   "outputs": [],
   "source": []
  }
 ],
 "metadata": {
  "kernelspec": {
   "display_name": "Python 3",
   "language": "python",
   "name": "python3"
  },
  "language_info": {
   "codemirror_mode": {
    "name": "ipython",
    "version": 3
   },
   "file_extension": ".py",
   "mimetype": "text/x-python",
   "name": "python",
   "nbconvert_exporter": "python",
   "pygments_lexer": "ipython3",
   "version": "3.7.3"
  }
 },
 "nbformat": 4,
 "nbformat_minor": 2
}
