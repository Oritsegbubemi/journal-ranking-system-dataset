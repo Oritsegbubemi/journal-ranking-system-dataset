{
 "cells": [
  {
   "cell_type": "code",
   "execution_count": 1,
   "metadata": {},
   "outputs": [
    {
     "ename": "SyntaxError",
     "evalue": "invalid syntax (<ipython-input-1-b583b4ef11e5>, line 1)",
     "output_type": "error",
     "traceback": [
      "\u001b[1;36m  File \u001b[1;32m\"<ipython-input-1-b583b4ef11e5>\"\u001b[1;36m, line \u001b[1;32m1\u001b[0m\n\u001b[1;33m    <span id=\"citescoreTrackLastUpTs\">Last updated on <i>09 April, 2020</i> </span>\u001b[0m\n\u001b[1;37m    ^\u001b[0m\n\u001b[1;31mSyntaxError\u001b[0m\u001b[1;31m:\u001b[0m invalid syntax\n"
     ]
    }
   ],
   "source": [
    "<span id=\"citescoreTrackLastUpTs\">Last updated on <i>09 April, 2020</i> </span>"
   ]
  },
  {
   "cell_type": "code",
   "execution_count": 2,
   "metadata": {},
   "outputs": [],
   "source": [
    "import numpy as np\n",
    "import pandas as pd\n",
    "import matplotlib.pyplot as plt\n",
    "import seaborn as sns\n",
    "%matplotlib inline"
   ]
  },
  {
   "cell_type": "code",
   "execution_count": 4,
   "metadata": {},
   "outputs": [],
   "source": [
    "import time\n",
    "from selenium import webdriver\n",
    "from selenium.webdriver.common.keys import Keys\n",
    "from bs4 import BeautifulSoup"
   ]
  },
  {
   "cell_type": "code",
   "execution_count": 5,
   "metadata": {},
   "outputs": [],
   "source": [
    "link = ['https://www.scopus.com/sourceid/11900154400', 'https://www.scopus.com/sourceid/12100154817']\n"
   ]
  },
  {
   "cell_type": "code",
   "execution_count": null,
   "metadata": {},
   "outputs": [],
   "source": [
    "driver = webdriver.Chrome(r'C:\\Users\\Gbubemi\\Downloads\\Setup\\Downloads\\chromedriver.exe')\n",
    "result = []\n",
    "number = 0\n",
    "length = len(link)\n",
    "for i in link:\n",
    "    driver.get(i)\n",
    "    soup = BeautifulSoup(driver.page_source, 'lxml')\n",
    "    item_list = soup.find_all(class_=\"darkGrayBg csTrMain wrapperNoMarginInsidePadding whiteText\")\n",
    "    if item_list!=None: \n",
    "        all_items=item_list\n",
    "        lst=all_items\n",
    "        for i in range(len(all_items)):\n",
    "            freq = lst[i].find(attrs={\"class\":\"updateFreq\"}).find(text=True)\n",
    "        print(number,\"of\",length,freq)\n",
    "        number = number + 1\n",
    "        result.append([freq])\n",
    "print(\"All:\",result)"
   ]
  }
 ],
 "metadata": {
  "kernelspec": {
   "display_name": "Python 3",
   "language": "python",
   "name": "python3"
  }
 },
 "nbformat": 4,
 "nbformat_minor": 2
}
