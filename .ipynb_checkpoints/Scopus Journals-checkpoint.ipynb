{
 "cells": [
  {
   "cell_type": "markdown",
   "metadata": {},
   "source": [
    "# Import all the needed libraries"
   ]
  },
  {
   "cell_type": "code",
   "execution_count": 1,
   "metadata": {},
   "outputs": [],
   "source": [
    "import numpy as np\n",
    "import pandas as pd\n",
    "import matplotlib.pyplot as plt\n",
    "import seaborn as sns\n",
    "%matplotlib inline\n",
    "sns.set_style('whitegrid')"
   ]
  },
  {
   "cell_type": "markdown",
   "metadata": {},
   "source": [
    "# Import Dataset "
   ]
  },
  {
   "cell_type": "code",
   "execution_count": 2,
   "metadata": {},
   "outputs": [],
   "source": [
    "journal = pd.read_csv('Scopus Journals.csv') "
   ]
  },
  {
   "cell_type": "markdown",
   "metadata": {},
   "source": [
    "journal.head(2)  "
   ]
  },
  {
   "cell_type": "markdown",
   "metadata": {},
   "source": [
    "# Exploratory Data Analysis"
   ]
  },
  {
   "cell_type": "markdown",
   "metadata": {},
   "source": [
    "## Check the Correlation between the features of the dataset"
   ]
  },
  {
   "cell_type": "markdown",
   "metadata": {},
   "source": [
    "plt.figure(figsize=(10,6))\n",
    "sns.heatmap(journal.corr(),cmap='coolwarm', annot=True, vmin=0.25)"
   ]
  },
  {
   "cell_type": "raw",
   "metadata": {},
   "source": [
    "Correlation in Features include\n",
    "1. Percentile and Percent Cited (0.81)\n",
    "2. Rank and Rank Out Of (0.73)\n",
    "3. Citation Count and Scholarly Output (0.69)\n",
    "4. CiteScore and Percent Cited (0.60)\n",
    "5. CiteScore and Percentile (0.56)\n",
    "\n",
    "Other Correlation include\n",
    "Percentile and Percent Cited and CiteScore \n",
    "Rank and Rank Out Of and Subject Area\n",
    "CiteScore and SNIP and SJR\n",
    "CiteScore and Percentile and Quartile"
   ]
  },
  {
   "cell_type": "markdown",
   "metadata": {},
   "source": [
    "# Select Computer Science Subject Area"
   ]
  },
  {
   "cell_type": "code",
   "execution_count": 3,
   "metadata": {},
   "outputs": [],
   "source": [
    "asjc_code = journal['Scopus ASJC Code'].apply(str) \n",
    "journal = journal[asjc_code.apply(lambda x: x[:2]) == '17'] "
   ]
  },
  {
   "cell_type": "markdown",
   "metadata": {},
   "source": [
    "# Select Computer Science Journal"
   ]
  },
  {
   "cell_type": "code",
   "execution_count": 4,
   "metadata": {},
   "outputs": [],
   "source": [
    "not_journal = journal.loc[journal['Type'] != 'Journal']\n",
    "journal = journal.drop(not_journal.index, axis=0)\n",
    "journal.index=range(len(journal))"
   ]
  },
  {
   "cell_type": "markdown",
   "metadata": {},
   "source": [
    "journal.head(2)"
   ]
  },
  {
   "cell_type": "markdown",
   "metadata": {},
   "source": [
    "# Check for empty/null cells in the dataset"
   ]
  },
  {
   "cell_type": "markdown",
   "metadata": {},
   "source": [
    "sns.heatmap(journal.isnull(),yticklabels=False,cbar=False,cmap='viridis')\n",
    "plt.tight_layout"
   ]
  },
  {
   "cell_type": "markdown",
   "metadata": {},
   "source": [
    "# Working on the Index Column"
   ]
  },
  {
   "cell_type": "code",
   "execution_count": 5,
   "metadata": {},
   "outputs": [],
   "source": [
    "journal['Index'] = ['Scopus']*len(journal)"
   ]
  },
  {
   "cell_type": "markdown",
   "metadata": {},
   "source": [
    "# Working on the Publisher Column"
   ]
  },
  {
   "cell_type": "code",
   "execution_count": 6,
   "metadata": {},
   "outputs": [],
   "source": [
    "journal['Publisher2'] = journal['Publisher']\n",
    "publisher = journal['Publisher2']\n",
    "\n",
    "#Taylor and Francis\n",
    "pub_taylor = publisher[publisher.apply(lambda x: x[:6]) == 'Taylor'].unique().tolist()\n",
    "for i in publisher:\n",
    "    if i in pub_taylor:\n",
    "        a = publisher.replace(i,\"Taylor and Francis\", inplace=True)\n",
    "    \n",
    "#Inderscience\n",
    "pub_indersci = publisher[publisher.apply(lambda x: x[:12]) == 'Inderscience'].unique().tolist()\n",
    "for i in publisher:\n",
    "    if i in pub_indersci:\n",
    "        a = publisher.replace(i,\"Inderscience\", inplace=True)\n",
    "\n",
    "#ACM\n",
    "pub_acm = publisher[publisher.apply(lambda x: x[:41]) == 'Association for Computing Machinery (ACM)'].unique().tolist()\n",
    "for i in publisher:\n",
    "    if i in pub_acm:\n",
    "        a = publisher.replace(i,\"ACM\", inplace=True)\n",
    "        \n",
    "#Elsevier\n",
    "pub_elsevier = publisher[publisher.apply(lambda x: x[:8]) == 'Elsevier'].unique().tolist()\n",
    "for i in publisher:\n",
    "    if i in pub_elsevier:\n",
    "        a = publisher.replace(i,\"Elsevier\", inplace=True)\n",
    "        \n",
    "#Springer\n",
    "pub_springer = publisher[publisher.apply(lambda x: x[:8]) == 'Springer'].unique().tolist()\n",
    "for i in publisher:\n",
    "    if i in pub_springer:\n",
    "        a = publisher.replace(i,\"Springer\", inplace=True)\n",
    "        \n",
    "#IEEE1\n",
    "pub_ieee1 = publisher[publisher.apply(lambda x: x[:4]) == 'IEEE'].unique().tolist()\n",
    "for i in publisher:\n",
    "    if i in pub_ieee1:\n",
    "        a = publisher.replace(i,\"IEEE\", inplace=True)\n",
    "\n",
    "#IEEE2\n",
    "pub_ieee2 = publisher[publisher.apply(lambda x: x[:49]) == 'Institute of Electrical and Electronics Engineers'].unique().tolist()\n",
    "for i in publisher:\n",
    "    if i in pub_ieee2:\n",
    "        a = publisher.replace(i,\"IEEE\", inplace=True)\n",
    "\n",
    "#Others\n",
    "main_publiser = publisher.value_counts().head(6)\n",
    "main_publiser = main_publiser.index.tolist()\n",
    "for i in publisher:\n",
    "    if i not in main_publiser:\n",
    "        a = publisher.replace(i, \"Others\", inplace=True)"
   ]
  },
  {
   "cell_type": "markdown",
   "metadata": {},
   "source": [
    "# Working on the Percentile Column"
   ]
  },
  {
   "cell_type": "code",
   "execution_count": 7,
   "metadata": {},
   "outputs": [],
   "source": [
    "journal['Percentile2'] = journal['Percentile']\n",
    "percent = journal['Percentile2']\n",
    "\n",
    "for i in percent:\n",
    "    if(i>=0 and i<=24):\n",
    "        a = percent.replace(i, 4, inplace=True)\n",
    "\n",
    "for i in percent:\n",
    "    if(i>=25 and i<=49):\n",
    "        a = percent.replace(i, 3, inplace=True)\n",
    "        \n",
    "for i in percent:\n",
    "    if(i>=50 and i<=74):\n",
    "        a = percent.replace(i, 2, inplace=True)\n",
    "\n",
    "for i in percent:\n",
    "    if(i>=75 and i<=99):\n",
    "        a = percent.replace(i, 1, inplace=True)"
   ]
  },
  {
   "cell_type": "markdown",
   "metadata": {},
   "source": [
    "# Joining the Scraping Data Journals"
   ]
  },
  {
   "cell_type": "code",
   "execution_count": 8,
   "metadata": {},
   "outputs": [],
   "source": [
    "scrap_journal = pd.read_csv('Scraping Journals.csv')\n",
    "journal = journal.join(scrap_journal)"
   ]
  },
  {
   "cell_type": "markdown",
   "metadata": {},
   "source": [
    "journal.head(2)"
   ]
  },
  {
   "cell_type": "markdown",
   "metadata": {},
   "source": [
    "# Working on the Frequency Column"
   ]
  },
  {
   "cell_type": "code",
   "execution_count": 9,
   "metadata": {},
   "outputs": [],
   "source": [
    "journal['frequency'] = journal['frequency'].fillna(value='Bi-monthly')"
   ]
  },
  {
   "cell_type": "markdown",
   "metadata": {},
   "source": [
    "# Working on the Open Access Column"
   ]
  },
  {
   "cell_type": "code",
   "execution_count": 10,
   "metadata": {},
   "outputs": [],
   "source": [
    "journal['Open Access2'] = journal['Open Access']\n",
    "open_access = journal['Open Access2']\n",
    "\n",
    "for i in open_access:\n",
    "    if(i==\"YES\"):\n",
    "        a = open_access.replace(i, \"Yes\", inplace=True)\n",
    "\n",
    "for i in open_access:\n",
    "    if(i==\"NO\"):\n",
    "        a = open_access.replace(i, \"No\", inplace=True)"
   ]
  },
  {
   "cell_type": "markdown",
   "metadata": {},
   "source": [
    "# Working on the Print ISSN Column"
   ]
  },
  {
   "cell_type": "code",
   "execution_count": 11,
   "metadata": {},
   "outputs": [],
   "source": [
    "journal['print_issn2'] = journal['print_issn']\n",
    "issn = journal['print_issn2']\n",
    "\n",
    "# Make the length up to 8\n",
    "issn_len = 8\n",
    "for i in issn:\n",
    "    if pd.isnull(i):\n",
    "        new_issn = i\n",
    "    elif len(i) != issn_len:\n",
    "        z = issn_len - len(i)\n",
    "        new_issn = str(\"0\"*z)+(i)\n",
    "        value = issn.replace(i, new_issn, inplace=True)\n",
    "    else:\n",
    "        new_issn = i\n",
    "        \n",
    "        \n",
    "# Include the dash\n",
    "for i in issn:\n",
    "    if pd.isnull(i):\n",
    "        new_issn = i\n",
    "    elif len(i) == 8:\n",
    "        hyphen = i[:4] + '-' + i[4:]\n",
    "        value = issn.replace(i, hyphen, inplace=True)  "
   ]
  },
  {
   "cell_type": "markdown",
   "metadata": {},
   "source": [
    "# Working on the E-ISSN Column"
   ]
  },
  {
   "cell_type": "code",
   "execution_count": 12,
   "metadata": {},
   "outputs": [],
   "source": [
    "journal['e_issn2'] = journal['e_issn']\n",
    "eissn = journal['e_issn2']\n",
    "\n",
    "# Make the length up to 8\n",
    "eissn_len = 8\n",
    "for i in eissn:\n",
    "    if pd.isnull(i):\n",
    "        new_eissn = i\n",
    "    elif len(i) != eissn_len:\n",
    "        z = eissn_len - len(i)\n",
    "        new_eissn = str(\"0\"*z)+(i)\n",
    "        value = eissn.replace(i, new_eissn, inplace=True)\n",
    "    else:\n",
    "        new_eissn = i\n",
    "        \n",
    "        \n",
    "# Include the dash\n",
    "for i in eissn:\n",
    "    if pd.isnull(i):\n",
    "        new_eissn = i\n",
    "    elif len(i) == 8:\n",
    "        hyphen = i[:4] + '-' + i[4:]\n",
    "        value = eissn.replace(i, hyphen, inplace=True)  "
   ]
  },
  {
   "cell_type": "code",
   "execution_count": 13,
   "metadata": {},
   "outputs": [
    {
     "data": {
      "text/html": [
       "<div>\n",
       "<style scoped>\n",
       "    .dataframe tbody tr th:only-of-type {\n",
       "        vertical-align: middle;\n",
       "    }\n",
       "\n",
       "    .dataframe tbody tr th {\n",
       "        vertical-align: top;\n",
       "    }\n",
       "\n",
       "    .dataframe thead th {\n",
       "        text-align: right;\n",
       "    }\n",
       "</style>\n",
       "<table border=\"1\" class=\"dataframe\">\n",
       "  <thead>\n",
       "    <tr style=\"text-align: right;\">\n",
       "      <th></th>\n",
       "      <th>Scopus Source ID</th>\n",
       "      <th>Title</th>\n",
       "      <th>CiteScore</th>\n",
       "      <th>Percentile</th>\n",
       "      <th>Citation\\nCount</th>\n",
       "      <th>Scholarly\\nOutput</th>\n",
       "      <th>Percent\\nCited</th>\n",
       "      <th>SNIP</th>\n",
       "      <th>SJR</th>\n",
       "      <th>RANK</th>\n",
       "      <th>...</th>\n",
       "      <th>Percentile2</th>\n",
       "      <th>scopus_source_id</th>\n",
       "      <th>print_issn</th>\n",
       "      <th>e_issn</th>\n",
       "      <th>frequency</th>\n",
       "      <th>review_time</th>\n",
       "      <th>journal_website</th>\n",
       "      <th>Open Access2</th>\n",
       "      <th>print_issn2</th>\n",
       "      <th>e_issn2</th>\n",
       "    </tr>\n",
       "  </thead>\n",
       "  <tbody>\n",
       "    <tr>\n",
       "      <th>0</th>\n",
       "      <td>11900154400</td>\n",
       "      <td>International Journal of Information Technolog...</td>\n",
       "      <td>1.29</td>\n",
       "      <td>60</td>\n",
       "      <td>63</td>\n",
       "      <td>49</td>\n",
       "      <td>63</td>\n",
       "      <td>0.635</td>\n",
       "      <td>0.191</td>\n",
       "      <td>82</td>\n",
       "      <td>...</td>\n",
       "      <td>2</td>\n",
       "      <td>11900154400</td>\n",
       "      <td>15541045</td>\n",
       "      <td>15541053</td>\n",
       "      <td>Quarterly</td>\n",
       "      <td>NaN</td>\n",
       "      <td>https://www.igi-global.com/gateway/journal/1093</td>\n",
       "      <td>No</td>\n",
       "      <td>1554-1045</td>\n",
       "      <td>1554-1053</td>\n",
       "    </tr>\n",
       "    <tr>\n",
       "      <th>1</th>\n",
       "      <td>12100154817</td>\n",
       "      <td>International Journal of Wireless and Mobile C...</td>\n",
       "      <td>0.49</td>\n",
       "      <td>22</td>\n",
       "      <td>137</td>\n",
       "      <td>280</td>\n",
       "      <td>30</td>\n",
       "      <td>0.252</td>\n",
       "      <td>0.168</td>\n",
       "      <td>160</td>\n",
       "      <td>...</td>\n",
       "      <td>4</td>\n",
       "      <td>12100154817</td>\n",
       "      <td>17411084</td>\n",
       "      <td>17411092</td>\n",
       "      <td>Bi-monthly</td>\n",
       "      <td>NaN</td>\n",
       "      <td>https://www.inderscience.com/jhome.php?jcode=i...</td>\n",
       "      <td>No</td>\n",
       "      <td>1741-1084</td>\n",
       "      <td>1741-1092</td>\n",
       "    </tr>\n",
       "  </tbody>\n",
       "</table>\n",
       "<p>2 rows × 33 columns</p>\n",
       "</div>"
      ],
      "text/plain": [
       "   Scopus Source ID                                              Title  \\\n",
       "0       11900154400  International Journal of Information Technolog...   \n",
       "1       12100154817  International Journal of Wireless and Mobile C...   \n",
       "\n",
       "   CiteScore  Percentile  Citation\\nCount  Scholarly\\nOutput  Percent\\nCited  \\\n",
       "0       1.29          60               63                 49              63   \n",
       "1       0.49          22              137                280              30   \n",
       "\n",
       "    SNIP    SJR  RANK  ...  Percentile2 scopus_source_id print_issn    e_issn  \\\n",
       "0  0.635  0.191    82  ...            2      11900154400   15541045  15541053   \n",
       "1  0.252  0.168   160  ...            4      12100154817   17411084  17411092   \n",
       "\n",
       "    frequency review_time                                    journal_website  \\\n",
       "0   Quarterly         NaN    https://www.igi-global.com/gateway/journal/1093   \n",
       "1  Bi-monthly         NaN  https://www.inderscience.com/jhome.php?jcode=i...   \n",
       "\n",
       "  Open Access2 print_issn2    e_issn2  \n",
       "0           No   1554-1045  1554-1053  \n",
       "1           No   1741-1084  1741-1092  \n",
       "\n",
       "[2 rows x 33 columns]"
      ]
     },
     "execution_count": 13,
     "metadata": {},
     "output_type": "execute_result"
    }
   ],
   "source": [
    "journal.head(2)"
   ]
  },
  {
   "cell_type": "code",
   "execution_count": 14,
   "metadata": {},
   "outputs": [
    {
     "data": {
      "text/plain": [
       "Index(['Scopus Source ID', 'Title', 'CiteScore', 'Percentile',\n",
       "       'Citation\\nCount', 'Scholarly\\nOutput', 'Percent\\nCited', 'SNIP', 'SJR',\n",
       "       'RANK', 'Rank\\nOut Of', 'Publisher', 'Type', 'Open Access',\n",
       "       'Scopus ASJC Code', 'Scopus Sub-Subject Area', 'Quartile',\n",
       "       'Top 10% (CiteScore Percentile)', 'Scopus Source ID.1', 'Print ISSN',\n",
       "       'E-ISSN', 'Index', 'Publisher2', 'Percentile2', 'scopus_source_id',\n",
       "       'print_issn', 'e_issn', 'frequency', 'review_time', 'journal_website',\n",
       "       'Open Access2', 'print_issn2', 'e_issn2'],\n",
       "      dtype='object')"
      ]
     },
     "execution_count": 14,
     "metadata": {},
     "output_type": "execute_result"
    }
   ],
   "source": [
    "journal.columns"
   ]
  },
  {
   "cell_type": "code",
   "execution_count": 15,
   "metadata": {},
   "outputs": [],
   "source": [
    "journal = journal.drop(['Print ISSN','E-ISSN','print_issn','e_issn','scopus_source_id'], axis=1)"
   ]
  },
  {
   "cell_type": "code",
   "execution_count": 16,
   "metadata": {},
   "outputs": [],
   "source": [
    "journal.rename(columns = {'Scopus Source ID': 'scopus_source_id', \n",
    "                          'Title': 'title',\n",
    "                          'CiteScore': 'citescore',\n",
    "                          'Percentile': 'percentile',\n",
    "                          'Citation\\nCount': 'citation_count',\n",
    "                          'Scholarly\\nOutput': 'scholarly_output', \n",
    "                          'Percent\\nCited': 'percent_cited',\n",
    "                          'SNIP': 'snip',\n",
    "                          'SJR': 'sjr',\n",
    "                          'RANK': 'rank',\n",
    "                          'Rank\\nOut Of': 'rank_outof',\n",
    "                          'Publisher': 'publisher',\n",
    "                          'Type': 'type',\n",
    "                          'Open Access': 'open_access',\n",
    "                          'Scopus ASJC Code': 'scopus_asjc_code',\n",
    "                          'Scopus Sub-Subject Area': 'subject_area', \n",
    "                          'Quartile': 'quartile',\n",
    "                          'Top 10% (CiteScore Percentile)': 'top_10%',\n",
    "                          'Scopus Source ID.1': 'scopus_link',\n",
    "                          'Index': 'index',\n",
    "                          'Publisher2': 'publisher2',\n",
    "                          'Percentile2': 'percentile2',\n",
    "                          'Frequency': 'frequency',\n",
    "                          'Open Access2': 'open_access2',\n",
    "                          'print_issn2': 'print_issn',\n",
    "                          'e_issn2': 'e_issn',\n",
    "                         }, \n",
    "               inplace=True)"
   ]
  },
  {
   "cell_type": "code",
   "execution_count": 17,
   "metadata": {},
   "outputs": [],
   "source": [
    "#create a new csv file to save the new dataset\n",
    "journal.to_csv('Ranking Scopus Journals.csv', index=False)"
   ]
  },
  {
   "cell_type": "code",
   "execution_count": null,
   "metadata": {},
   "outputs": [],
   "source": []
  }
 ],
 "metadata": {
  "kernelspec": {
   "display_name": "Python 3",
   "language": "python",
   "name": "python3"
  },
  "language_info": {
   "codemirror_mode": {
    "name": "ipython",
    "version": 3
   },
   "file_extension": ".py",
   "mimetype": "text/x-python",
   "name": "python",
   "nbconvert_exporter": "python",
   "pygments_lexer": "ipython3",
   "version": "3.7.3"
  }
 },
 "nbformat": 4,
 "nbformat_minor": 2
}
