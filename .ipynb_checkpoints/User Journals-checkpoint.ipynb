{
 "cells": [
  {
   "cell_type": "markdown",
   "metadata": {},
   "source": [
    "# Import all the needed libraries"
   ]
  },
  {
   "cell_type": "code",
   "execution_count": 1,
   "metadata": {},
   "outputs": [],
   "source": [
    "import numpy as np\n",
    "import pandas as pd"
   ]
  },
  {
   "cell_type": "code",
   "execution_count": 2,
   "metadata": {},
   "outputs": [
    {
     "data": {
      "text/html": [
       "<div>\n",
       "<style scoped>\n",
       "    .dataframe tbody tr th:only-of-type {\n",
       "        vertical-align: middle;\n",
       "    }\n",
       "\n",
       "    .dataframe tbody tr th {\n",
       "        vertical-align: top;\n",
       "    }\n",
       "\n",
       "    .dataframe thead th {\n",
       "        text-align: right;\n",
       "    }\n",
       "</style>\n",
       "<table border=\"1\" class=\"dataframe\">\n",
       "  <thead>\n",
       "    <tr style=\"text-align: right;\">\n",
       "      <th></th>\n",
       "      <th>scopus_source_id</th>\n",
       "      <th>title</th>\n",
       "      <th>citescore</th>\n",
       "      <th>percentile</th>\n",
       "      <th>citation_count</th>\n",
       "      <th>scholarly_output</th>\n",
       "      <th>percent_cited</th>\n",
       "      <th>snip</th>\n",
       "      <th>sjr</th>\n",
       "      <th>rank</th>\n",
       "      <th>...</th>\n",
       "      <th>e_issn</th>\n",
       "      <th>index</th>\n",
       "      <th>frequency</th>\n",
       "      <th>review_time</th>\n",
       "      <th>user_index</th>\n",
       "      <th>user_publisher</th>\n",
       "      <th>user_percentile</th>\n",
       "      <th>user_frequency</th>\n",
       "      <th>user_open_access</th>\n",
       "      <th>user_review_time</th>\n",
       "    </tr>\n",
       "  </thead>\n",
       "  <tbody>\n",
       "    <tr>\n",
       "      <th>0</th>\n",
       "      <td>11900154400</td>\n",
       "      <td>International Journal of Information Technolog...</td>\n",
       "      <td>1.29</td>\n",
       "      <td>60</td>\n",
       "      <td>63</td>\n",
       "      <td>49</td>\n",
       "      <td>63</td>\n",
       "      <td>0.635</td>\n",
       "      <td>0.191</td>\n",
       "      <td>82</td>\n",
       "      <td>...</td>\n",
       "      <td>15541053</td>\n",
       "      <td>Scopus</td>\n",
       "      <td>Bi-monthly</td>\n",
       "      <td>12 weeks</td>\n",
       "      <td>1.0</td>\n",
       "      <td>0.10</td>\n",
       "      <td>0.7</td>\n",
       "      <td>0.8</td>\n",
       "      <td>0.5</td>\n",
       "      <td>0.4</td>\n",
       "    </tr>\n",
       "    <tr>\n",
       "      <th>1</th>\n",
       "      <td>12100154817</td>\n",
       "      <td>International Journal of Wireless and Mobile C...</td>\n",
       "      <td>0.49</td>\n",
       "      <td>22</td>\n",
       "      <td>137</td>\n",
       "      <td>280</td>\n",
       "      <td>30</td>\n",
       "      <td>0.252</td>\n",
       "      <td>0.168</td>\n",
       "      <td>160</td>\n",
       "      <td>...</td>\n",
       "      <td>17411092</td>\n",
       "      <td>Scopus</td>\n",
       "      <td>Bi-monthly</td>\n",
       "      <td>12 weeks</td>\n",
       "      <td>1.0</td>\n",
       "      <td>0.40</td>\n",
       "      <td>0.3</td>\n",
       "      <td>0.8</td>\n",
       "      <td>0.5</td>\n",
       "      <td>0.4</td>\n",
       "    </tr>\n",
       "    <tr>\n",
       "      <th>2</th>\n",
       "      <td>12100154833</td>\n",
       "      <td>ACM Transactions on Applied Perception</td>\n",
       "      <td>1.93</td>\n",
       "      <td>75</td>\n",
       "      <td>145</td>\n",
       "      <td>75</td>\n",
       "      <td>59</td>\n",
       "      <td>1.244</td>\n",
       "      <td>0.381</td>\n",
       "      <td>52</td>\n",
       "      <td>...</td>\n",
       "      <td>15443965</td>\n",
       "      <td>Scopus</td>\n",
       "      <td>Bi-annually</td>\n",
       "      <td>6 weeks</td>\n",
       "      <td>1.0</td>\n",
       "      <td>0.25</td>\n",
       "      <td>1.0</td>\n",
       "      <td>0.4</td>\n",
       "      <td>0.5</td>\n",
       "      <td>0.8</td>\n",
       "    </tr>\n",
       "    <tr>\n",
       "      <th>3</th>\n",
       "      <td>12166</td>\n",
       "      <td>Mathematics and Computers in Simulation</td>\n",
       "      <td>1.88</td>\n",
       "      <td>73</td>\n",
       "      <td>733</td>\n",
       "      <td>389</td>\n",
       "      <td>59</td>\n",
       "      <td>0.981</td>\n",
       "      <td>0.526</td>\n",
       "      <td>54</td>\n",
       "      <td>...</td>\n",
       "      <td>NaN</td>\n",
       "      <td>Scopus</td>\n",
       "      <td>Quarterly</td>\n",
       "      <td>10 weeks</td>\n",
       "      <td>1.0</td>\n",
       "      <td>0.85</td>\n",
       "      <td>0.7</td>\n",
       "      <td>0.6</td>\n",
       "      <td>0.5</td>\n",
       "      <td>0.6</td>\n",
       "    </tr>\n",
       "    <tr>\n",
       "      <th>4</th>\n",
       "      <td>12213</td>\n",
       "      <td>ACM Transactions on Computer Systems</td>\n",
       "      <td>3.84</td>\n",
       "      <td>90</td>\n",
       "      <td>146</td>\n",
       "      <td>38</td>\n",
       "      <td>71</td>\n",
       "      <td>2.746</td>\n",
       "      <td>0.537</td>\n",
       "      <td>20</td>\n",
       "      <td>...</td>\n",
       "      <td>NaN</td>\n",
       "      <td>Scopus</td>\n",
       "      <td>Bi-monthly</td>\n",
       "      <td>12 weeks</td>\n",
       "      <td>1.0</td>\n",
       "      <td>0.25</td>\n",
       "      <td>1.0</td>\n",
       "      <td>0.8</td>\n",
       "      <td>0.5</td>\n",
       "      <td>0.4</td>\n",
       "    </tr>\n",
       "  </tbody>\n",
       "</table>\n",
       "<p>5 rows × 30 columns</p>\n",
       "</div>"
      ],
      "text/plain": [
       "   scopus_source_id                                              title  \\\n",
       "0       11900154400  International Journal of Information Technolog...   \n",
       "1       12100154817  International Journal of Wireless and Mobile C...   \n",
       "2       12100154833             ACM Transactions on Applied Perception   \n",
       "3             12166            Mathematics and Computers in Simulation   \n",
       "4             12213               ACM Transactions on Computer Systems   \n",
       "\n",
       "   citescore  percentile  citation_count  scholarly_output  percent_cited  \\\n",
       "0       1.29          60              63                49             63   \n",
       "1       0.49          22             137               280             30   \n",
       "2       1.93          75             145                75             59   \n",
       "3       1.88          73             733               389             59   \n",
       "4       3.84          90             146                38             71   \n",
       "\n",
       "    snip    sjr  rank  ...    e_issn   index    frequency review_time  \\\n",
       "0  0.635  0.191    82  ...  15541053  Scopus   Bi-monthly    12 weeks   \n",
       "1  0.252  0.168   160  ...  17411092  Scopus   Bi-monthly    12 weeks   \n",
       "2  1.244  0.381    52  ...  15443965  Scopus  Bi-annually     6 weeks   \n",
       "3  0.981  0.526    54  ...       NaN  Scopus    Quarterly    10 weeks   \n",
       "4  2.746  0.537    20  ...       NaN  Scopus   Bi-monthly    12 weeks   \n",
       "\n",
       "   user_index user_publisher user_percentile user_frequency user_open_access  \\\n",
       "0         1.0           0.10             0.7            0.8              0.5   \n",
       "1         1.0           0.40             0.3            0.8              0.5   \n",
       "2         1.0           0.25             1.0            0.4              0.5   \n",
       "3         1.0           0.85             0.7            0.6              0.5   \n",
       "4         1.0           0.25             1.0            0.8              0.5   \n",
       "\n",
       "  user_review_time  \n",
       "0              0.4  \n",
       "1              0.4  \n",
       "2              0.8  \n",
       "3              0.6  \n",
       "4              0.4  \n",
       "\n",
       "[5 rows x 30 columns]"
      ]
     },
     "execution_count": 2,
     "metadata": {},
     "output_type": "execute_result"
    }
   ],
   "source": [
    "journal = pd.read_csv('User Journals.csv')\n",
    "journal.head()"
   ]
  },
  {
   "cell_type": "code",
   "execution_count": 3,
   "metadata": {},
   "outputs": [],
   "source": [
    "number = len(journal)\n",
    "columns = journal.columns[24:30]"
   ]
  },
  {
   "cell_type": "code",
   "execution_count": 4,
   "metadata": {},
   "outputs": [
    {
     "name": "stdout",
     "output_type": "stream",
     "text": [
      "Index(['user_index', 'user_publisher', 'user_percentile', 'user_frequency',\n",
      "       'user_open_access', 'user_review_time'],\n",
      "      dtype='object')\n"
     ]
    }
   ],
   "source": [
    "print(columns)"
   ]
  },
  {
   "cell_type": "code",
   "execution_count": 5,
   "metadata": {},
   "outputs": [
    {
     "name": "stdout",
     "output_type": "stream",
     "text": [
      "[1.0, 0.31666666666666743, 0.6411111111111112, 0.6244444444444444, 0.65, 0.5755555555555555]\n"
     ]
    }
   ],
   "source": [
    "#Mean - 4\n",
    "mean = []\n",
    "for i in columns:\n",
    "    mean_criteria = np.mean(journal[i])\n",
    "    mean.append(mean_criteria)\n",
    "print(mean)"
   ]
  },
  {
   "cell_type": "code",
   "execution_count": 6,
   "metadata": {},
   "outputs": [
    {
     "name": "stdout",
     "output_type": "stream",
     "text": [
      "[0.0, 19.76500000000005, 11.895777777777758, 14.372444444444454, 9.450000000000006, 14.372444444444454]\n"
     ]
    }
   ],
   "source": [
    "#Variance - 5\n",
    "variance = []\n",
    "for i in columns:\n",
    "    variance_criteria = np.var(journal[i])*number\n",
    "    variance.append(variance_criteria)\n",
    "print(variance)"
   ]
  },
  {
   "cell_type": "code",
   "execution_count": 7,
   "metadata": {},
   "outputs": [
    {
     "name": "stdout",
     "output_type": "stream",
     "text": [
      "[1.0, -18.76500000000005, -10.895777777777758, -13.372444444444454, -8.450000000000006, -13.372444444444454]\n"
     ]
    }
   ],
   "source": [
    "#Deviation - 6\n",
    "deviation = []\n",
    "for (i, j) in zip(columns, variance):\n",
    "    deviation_criteria = 1 - j\n",
    "    deviation.append(deviation_criteria)\n",
    "print(deviation)"
   ]
  },
  {
   "cell_type": "code",
   "execution_count": 8,
   "metadata": {},
   "outputs": [
    {
     "name": "stdout",
     "output_type": "stream",
     "text": [
      "[-0.015660317278028038, 0.2938658537221969, 0.17063133699088698, 0.20941672278280354, 0.13232968099933703, 0.20941672278280354]\n"
     ]
    }
   ],
   "source": [
    "# Finding Overall preference value - 7\n",
    "preference_value = []\n",
    "overall = sum(deviation)\n",
    "for (i, j) in zip(columns, deviation):\n",
    "    preference_criteria = j/overall\n",
    "    preference_value.append(preference_criteria)\n",
    "print(preference_value)\n",
    "sum_ = sum(preference_value)"
   ]
  },
  {
   "cell_type": "code",
   "execution_count": 9,
   "metadata": {},
   "outputs": [
    {
     "data": {
      "text/plain": [
       "1.0"
      ]
     },
     "execution_count": 9,
     "metadata": {},
     "output_type": "execute_result"
    }
   ],
   "source": [
    "sum_"
   ]
  },
  {
   "cell_type": "code",
   "execution_count": 10,
   "metadata": {},
   "outputs": [],
   "source": [
    "#Calculating PSI - 8\n",
    "for (i,j) in zip(columns, preference_value): \n",
    "    journal[i] = journal.loc[:, i] * j"
   ]
  },
  {
   "cell_type": "code",
   "execution_count": 11,
   "metadata": {},
   "outputs": [],
   "source": [
    "#psi_rank = journal.drop(['scopus_source_id', 'subject_area'], axis=1)\n",
    "psi_rank = journal.iloc[:, 24:30]\n",
    "psi = []\n",
    "for i in range(number):\n",
    "    psi_sum = sum(psi_rank.loc[i])\n",
    "    psi.append(psi_sum)"
   ]
  },
  {
   "cell_type": "code",
   "execution_count": 12,
   "metadata": {},
   "outputs": [],
   "source": [
    "journal['PSI'] = psi"
   ]
  },
  {
   "cell_type": "code",
   "execution_count": 13,
   "metadata": {},
   "outputs": [],
   "source": [
    "ranked_journal = journal.sort_values('PSI', ascending=False)"
   ]
  },
  {
   "cell_type": "code",
   "execution_count": 14,
   "metadata": {},
   "outputs": [
    {
     "data": {
      "text/html": [
       "<div>\n",
       "<style scoped>\n",
       "    .dataframe tbody tr th:only-of-type {\n",
       "        vertical-align: middle;\n",
       "    }\n",
       "\n",
       "    .dataframe tbody tr th {\n",
       "        vertical-align: top;\n",
       "    }\n",
       "\n",
       "    .dataframe thead th {\n",
       "        text-align: right;\n",
       "    }\n",
       "</style>\n",
       "<table border=\"1\" class=\"dataframe\">\n",
       "  <thead>\n",
       "    <tr style=\"text-align: right;\">\n",
       "      <th></th>\n",
       "      <th>scopus_source_id</th>\n",
       "      <th>title</th>\n",
       "      <th>citescore</th>\n",
       "      <th>percentile</th>\n",
       "      <th>citation_count</th>\n",
       "      <th>scholarly_output</th>\n",
       "      <th>percent_cited</th>\n",
       "      <th>snip</th>\n",
       "      <th>sjr</th>\n",
       "      <th>rank</th>\n",
       "      <th>...</th>\n",
       "      <th>index</th>\n",
       "      <th>frequency</th>\n",
       "      <th>review_time</th>\n",
       "      <th>user_index</th>\n",
       "      <th>user_publisher</th>\n",
       "      <th>user_percentile</th>\n",
       "      <th>user_frequency</th>\n",
       "      <th>user_open_access</th>\n",
       "      <th>user_review_time</th>\n",
       "      <th>PSI</th>\n",
       "    </tr>\n",
       "  </thead>\n",
       "  <tbody>\n",
       "    <tr>\n",
       "      <th>123</th>\n",
       "      <td>21100358314</td>\n",
       "      <td>Human-centric Computing and Information Sciences</td>\n",
       "      <td>4.27</td>\n",
       "      <td>92</td>\n",
       "      <td>440</td>\n",
       "      <td>103</td>\n",
       "      <td>79</td>\n",
       "      <td>2.661</td>\n",
       "      <td>0.461</td>\n",
       "      <td>16</td>\n",
       "      <td>...</td>\n",
       "      <td>Scopus</td>\n",
       "      <td>Quarterly</td>\n",
       "      <td>10 weeks</td>\n",
       "      <td>-0.01566</td>\n",
       "      <td>0.293866</td>\n",
       "      <td>0.170631</td>\n",
       "      <td>0.125650</td>\n",
       "      <td>0.132330</td>\n",
       "      <td>0.125650</td>\n",
       "      <td>0.832467</td>\n",
       "    </tr>\n",
       "    <tr>\n",
       "      <th>131</th>\n",
       "      <td>21100780794</td>\n",
       "      <td>Engineering</td>\n",
       "      <td>4.05</td>\n",
       "      <td>91</td>\n",
       "      <td>1086</td>\n",
       "      <td>268</td>\n",
       "      <td>72</td>\n",
       "      <td>2.189</td>\n",
       "      <td>0.838</td>\n",
       "      <td>17</td>\n",
       "      <td>...</td>\n",
       "      <td>Scopus</td>\n",
       "      <td>Monthly</td>\n",
       "      <td>18 weeks</td>\n",
       "      <td>-0.01566</td>\n",
       "      <td>0.249786</td>\n",
       "      <td>0.170631</td>\n",
       "      <td>0.209417</td>\n",
       "      <td>0.132330</td>\n",
       "      <td>0.041883</td>\n",
       "      <td>0.788387</td>\n",
       "    </tr>\n",
       "    <tr>\n",
       "      <th>15</th>\n",
       "      <td>145262</td>\n",
       "      <td>Journal of the Brazilian Computer Society</td>\n",
       "      <td>1.11</td>\n",
       "      <td>55</td>\n",
       "      <td>50</td>\n",
       "      <td>45</td>\n",
       "      <td>58</td>\n",
       "      <td>0.934</td>\n",
       "      <td>0.208</td>\n",
       "      <td>92</td>\n",
       "      <td>...</td>\n",
       "      <td>Scopus</td>\n",
       "      <td>Annually</td>\n",
       "      <td>4 weeks</td>\n",
       "      <td>-0.01566</td>\n",
       "      <td>0.293866</td>\n",
       "      <td>0.119442</td>\n",
       "      <td>0.041883</td>\n",
       "      <td>0.132330</td>\n",
       "      <td>0.209417</td>\n",
       "      <td>0.781277</td>\n",
       "    </tr>\n",
       "    <tr>\n",
       "      <th>38</th>\n",
       "      <td>19400158593</td>\n",
       "      <td>Journal of Ambient Intelligence and Humanized ...</td>\n",
       "      <td>2.70</td>\n",
       "      <td>82</td>\n",
       "      <td>580</td>\n",
       "      <td>215</td>\n",
       "      <td>78</td>\n",
       "      <td>1.128</td>\n",
       "      <td>0.35</td>\n",
       "      <td>37</td>\n",
       "      <td>...</td>\n",
       "      <td>Scopus</td>\n",
       "      <td>Bi-annually</td>\n",
       "      <td>6 weeks</td>\n",
       "      <td>-0.01566</td>\n",
       "      <td>0.293866</td>\n",
       "      <td>0.170631</td>\n",
       "      <td>0.083767</td>\n",
       "      <td>0.066165</td>\n",
       "      <td>0.167533</td>\n",
       "      <td>0.766302</td>\n",
       "    </tr>\n",
       "    <tr>\n",
       "      <th>159</th>\n",
       "      <td>24304</td>\n",
       "      <td>Computer Supported Cooperative Work</td>\n",
       "      <td>2.85</td>\n",
       "      <td>84</td>\n",
       "      <td>211</td>\n",
       "      <td>74</td>\n",
       "      <td>77</td>\n",
       "      <td>1.223</td>\n",
       "      <td>0.286</td>\n",
       "      <td>33</td>\n",
       "      <td>...</td>\n",
       "      <td>Scopus</td>\n",
       "      <td>Annually</td>\n",
       "      <td>4 weeks</td>\n",
       "      <td>-0.01566</td>\n",
       "      <td>0.293866</td>\n",
       "      <td>0.170631</td>\n",
       "      <td>0.041883</td>\n",
       "      <td>0.066165</td>\n",
       "      <td>0.209417</td>\n",
       "      <td>0.766302</td>\n",
       "    </tr>\n",
       "  </tbody>\n",
       "</table>\n",
       "<p>5 rows × 31 columns</p>\n",
       "</div>"
      ],
      "text/plain": [
       "     scopus_source_id                                              title  \\\n",
       "123       21100358314   Human-centric Computing and Information Sciences   \n",
       "131       21100780794                                        Engineering   \n",
       "15             145262          Journal of the Brazilian Computer Society   \n",
       "38        19400158593  Journal of Ambient Intelligence and Humanized ...   \n",
       "159             24304                Computer Supported Cooperative Work   \n",
       "\n",
       "     citescore  percentile  citation_count  scholarly_output  percent_cited  \\\n",
       "123       4.27          92             440               103             79   \n",
       "131       4.05          91            1086               268             72   \n",
       "15        1.11          55              50                45             58   \n",
       "38        2.70          82             580               215             78   \n",
       "159       2.85          84             211                74             77   \n",
       "\n",
       "      snip    sjr  rank  ...   index    frequency review_time user_index  \\\n",
       "123  2.661  0.461    16  ...  Scopus    Quarterly    10 weeks   -0.01566   \n",
       "131  2.189  0.838    17  ...  Scopus      Monthly    18 weeks   -0.01566   \n",
       "15   0.934  0.208    92  ...  Scopus     Annually     4 weeks   -0.01566   \n",
       "38   1.128   0.35    37  ...  Scopus  Bi-annually     6 weeks   -0.01566   \n",
       "159  1.223  0.286    33  ...  Scopus     Annually     4 weeks   -0.01566   \n",
       "\n",
       "     user_publisher user_percentile user_frequency user_open_access  \\\n",
       "123        0.293866        0.170631       0.125650         0.132330   \n",
       "131        0.249786        0.170631       0.209417         0.132330   \n",
       "15         0.293866        0.119442       0.041883         0.132330   \n",
       "38         0.293866        0.170631       0.083767         0.066165   \n",
       "159        0.293866        0.170631       0.041883         0.066165   \n",
       "\n",
       "    user_review_time       PSI  \n",
       "123         0.125650  0.832467  \n",
       "131         0.041883  0.788387  \n",
       "15          0.209417  0.781277  \n",
       "38          0.167533  0.766302  \n",
       "159         0.209417  0.766302  \n",
       "\n",
       "[5 rows x 31 columns]"
      ]
     },
     "execution_count": 14,
     "metadata": {},
     "output_type": "execute_result"
    }
   ],
   "source": [
    "ranked_journal.head()"
   ]
  },
  {
   "cell_type": "code",
   "execution_count": 15,
   "metadata": {},
   "outputs": [],
   "source": [
    "ranked_journal.to_csv(r'C:\\Users\\Gbubemi\\Documents\\#Project\\journal-ranking-system-dataset\\Result Journals.csv', index=False) "
   ]
  },
  {
   "cell_type": "code",
   "execution_count": null,
   "metadata": {},
   "outputs": [],
   "source": []
  }
 ],
 "metadata": {
  "kernelspec": {
   "display_name": "Python 3",
   "language": "python",
   "name": "python3"
  },
  "language_info": {
   "codemirror_mode": {
    "name": "ipython",
    "version": 3
   },
   "file_extension": ".py",
   "mimetype": "text/x-python",
   "name": "python",
   "nbconvert_exporter": "python",
   "pygments_lexer": "ipython3",
   "version": "3.7.3"
  }
 },
 "nbformat": 4,
 "nbformat_minor": 2
}
