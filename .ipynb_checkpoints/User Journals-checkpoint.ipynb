{
 "cells": [
  {
   "cell_type": "markdown",
   "metadata": {},
   "source": [
    "# Import all the needed libraries"
   ]
  },
  {
   "cell_type": "code",
   "execution_count": 1,
   "metadata": {},
   "outputs": [],
   "source": [
    "import numpy as np\n",
    "import pandas as pd"
   ]
  },
  {
   "cell_type": "code",
   "execution_count": 2,
   "metadata": {},
   "outputs": [
    {
     "data": {
      "text/html": [
       "<div>\n",
       "<style scoped>\n",
       "    .dataframe tbody tr th:only-of-type {\n",
       "        vertical-align: middle;\n",
       "    }\n",
       "\n",
       "    .dataframe tbody tr th {\n",
       "        vertical-align: top;\n",
       "    }\n",
       "\n",
       "    .dataframe thead th {\n",
       "        text-align: right;\n",
       "    }\n",
       "</style>\n",
       "<table border=\"1\" class=\"dataframe\">\n",
       "  <thead>\n",
       "    <tr style=\"text-align: right;\">\n",
       "      <th></th>\n",
       "      <th>scopus_source_id</th>\n",
       "      <th>title</th>\n",
       "      <th>citescore</th>\n",
       "      <th>percentile</th>\n",
       "      <th>citation_count</th>\n",
       "      <th>scholarly_output</th>\n",
       "      <th>percent_cited</th>\n",
       "      <th>snip</th>\n",
       "      <th>sjr</th>\n",
       "      <th>rank</th>\n",
       "      <th>...</th>\n",
       "      <th>review_time</th>\n",
       "      <th>journal_website</th>\n",
       "      <th>open_access2</th>\n",
       "      <th>print_issn</th>\n",
       "      <th>e_issn</th>\n",
       "      <th>user_index</th>\n",
       "      <th>user_publisher</th>\n",
       "      <th>user_percentile</th>\n",
       "      <th>user_frequency</th>\n",
       "      <th>user_open_access</th>\n",
       "    </tr>\n",
       "  </thead>\n",
       "  <tbody>\n",
       "    <tr>\n",
       "      <th>0</th>\n",
       "      <td>13024</td>\n",
       "      <td>Acta Cybernetica</td>\n",
       "      <td>0.37</td>\n",
       "      <td>19</td>\n",
       "      <td>30</td>\n",
       "      <td>81</td>\n",
       "      <td>23</td>\n",
       "      <td>0.373</td>\n",
       "      <td>0.138</td>\n",
       "      <td>41</td>\n",
       "      <td>...</td>\n",
       "      <td>NaN</td>\n",
       "      <td>http://www.inf.u-szeged.hu/actacybernetica/edb...</td>\n",
       "      <td>No</td>\n",
       "      <td>0324-721X</td>\n",
       "      <td>NaN</td>\n",
       "      <td>1.0</td>\n",
       "      <td>0.1</td>\n",
       "      <td>0.1</td>\n",
       "      <td>0.21</td>\n",
       "      <td>0.1</td>\n",
       "    </tr>\n",
       "    <tr>\n",
       "      <th>1</th>\n",
       "      <td>144674</td>\n",
       "      <td>Journal of Geomatics</td>\n",
       "      <td>0.10</td>\n",
       "      <td>6</td>\n",
       "      <td>41</td>\n",
       "      <td>413</td>\n",
       "      <td>7</td>\n",
       "      <td>0.074</td>\n",
       "      <td>0.111</td>\n",
       "      <td>47</td>\n",
       "      <td>...</td>\n",
       "      <td>NaN</td>\n",
       "      <td>https://ores.su/en/journals/journal-of-geomatics/</td>\n",
       "      <td>No</td>\n",
       "      <td>2095-6045</td>\n",
       "      <td>NaN</td>\n",
       "      <td>1.0</td>\n",
       "      <td>0.1</td>\n",
       "      <td>0.1</td>\n",
       "      <td>0.55</td>\n",
       "      <td>0.1</td>\n",
       "    </tr>\n",
       "    <tr>\n",
       "      <th>2</th>\n",
       "      <td>145095</td>\n",
       "      <td>Journal of Logic, Language and Information</td>\n",
       "      <td>0.91</td>\n",
       "      <td>37</td>\n",
       "      <td>40</td>\n",
       "      <td>44</td>\n",
       "      <td>50</td>\n",
       "      <td>1.514</td>\n",
       "      <td>0.342</td>\n",
       "      <td>32</td>\n",
       "      <td>...</td>\n",
       "      <td>NaN</td>\n",
       "      <td>http://www.springer.com/philosophy/logic+and+p...</td>\n",
       "      <td>No</td>\n",
       "      <td>0925-8531</td>\n",
       "      <td>1572-9583</td>\n",
       "      <td>1.0</td>\n",
       "      <td>1.0</td>\n",
       "      <td>0.4</td>\n",
       "      <td>0.44</td>\n",
       "      <td>0.1</td>\n",
       "    </tr>\n",
       "    <tr>\n",
       "      <th>3</th>\n",
       "      <td>15591</td>\n",
       "      <td>Journal of Artificial Societies and Social Sim...</td>\n",
       "      <td>2.42</td>\n",
       "      <td>79</td>\n",
       "      <td>404</td>\n",
       "      <td>167</td>\n",
       "      <td>69</td>\n",
       "      <td>1.493</td>\n",
       "      <td>1.097</td>\n",
       "      <td>11</td>\n",
       "      <td>...</td>\n",
       "      <td>21 weeks</td>\n",
       "      <td>http://jasss.soc.surrey.ac.uk/JASSS.html</td>\n",
       "      <td>Yes</td>\n",
       "      <td>1460-7425</td>\n",
       "      <td>NaN</td>\n",
       "      <td>1.0</td>\n",
       "      <td>0.1</td>\n",
       "      <td>1.0</td>\n",
       "      <td>0.44</td>\n",
       "      <td>1.0</td>\n",
       "    </tr>\n",
       "    <tr>\n",
       "      <th>4</th>\n",
       "      <td>17700155307</td>\n",
       "      <td>Chongqing Daxue Xuebao/Journal of Chongqing Un...</td>\n",
       "      <td>0.33</td>\n",
       "      <td>14</td>\n",
       "      <td>129</td>\n",
       "      <td>389</td>\n",
       "      <td>24</td>\n",
       "      <td>0.301</td>\n",
       "      <td>0.203</td>\n",
       "      <td>43</td>\n",
       "      <td>...</td>\n",
       "      <td>NaN</td>\n",
       "      <td>NaN</td>\n",
       "      <td>No</td>\n",
       "      <td>1000-582X</td>\n",
       "      <td>NaN</td>\n",
       "      <td>1.0</td>\n",
       "      <td>0.1</td>\n",
       "      <td>0.1</td>\n",
       "      <td>0.55</td>\n",
       "      <td>0.1</td>\n",
       "    </tr>\n",
       "  </tbody>\n",
       "</table>\n",
       "<p>5 rows × 33 columns</p>\n",
       "</div>"
      ],
      "text/plain": [
       "   scopus_source_id                                              title  \\\n",
       "0             13024                                   Acta Cybernetica   \n",
       "1            144674                               Journal of Geomatics   \n",
       "2            145095         Journal of Logic, Language and Information   \n",
       "3             15591  Journal of Artificial Societies and Social Sim...   \n",
       "4       17700155307  Chongqing Daxue Xuebao/Journal of Chongqing Un...   \n",
       "\n",
       "   citescore  percentile  citation_count  scholarly_output  percent_cited  \\\n",
       "0       0.37          19              30                81             23   \n",
       "1       0.10           6              41               413              7   \n",
       "2       0.91          37              40                44             50   \n",
       "3       2.42          79             404               167             69   \n",
       "4       0.33          14             129               389             24   \n",
       "\n",
       "    snip    sjr  rank  ...  review_time  \\\n",
       "0  0.373  0.138    41  ...          NaN   \n",
       "1  0.074  0.111    47  ...          NaN   \n",
       "2  1.514  0.342    32  ...          NaN   \n",
       "3  1.493  1.097    11  ...     21 weeks   \n",
       "4  0.301  0.203    43  ...          NaN   \n",
       "\n",
       "                                     journal_website open_access2 print_issn  \\\n",
       "0  http://www.inf.u-szeged.hu/actacybernetica/edb...           No  0324-721X   \n",
       "1  https://ores.su/en/journals/journal-of-geomatics/           No  2095-6045   \n",
       "2  http://www.springer.com/philosophy/logic+and+p...           No  0925-8531   \n",
       "3           http://jasss.soc.surrey.ac.uk/JASSS.html          Yes  1460-7425   \n",
       "4                                                NaN           No  1000-582X   \n",
       "\n",
       "      e_issn user_index user_publisher user_percentile user_frequency  \\\n",
       "0        NaN        1.0            0.1             0.1           0.21   \n",
       "1        NaN        1.0            0.1             0.1           0.55   \n",
       "2  1572-9583        1.0            1.0             0.4           0.44   \n",
       "3        NaN        1.0            0.1             1.0           0.44   \n",
       "4        NaN        1.0            0.1             0.1           0.55   \n",
       "\n",
       "  user_open_access  \n",
       "0              0.1  \n",
       "1              0.1  \n",
       "2              0.1  \n",
       "3              1.0  \n",
       "4              0.1  \n",
       "\n",
       "[5 rows x 33 columns]"
      ]
     },
     "execution_count": 2,
     "metadata": {},
     "output_type": "execute_result"
    }
   ],
   "source": [
    "journal = pd.read_csv('User Journals.csv')\n",
    "journal.head()"
   ]
  },
  {
   "cell_type": "code",
   "execution_count": 3,
   "metadata": {},
   "outputs": [],
   "source": [
    "number = len(journal)\n",
    "columns = journal.columns[28:33]"
   ]
  },
  {
   "cell_type": "code",
   "execution_count": 4,
   "metadata": {},
   "outputs": [
    {
     "name": "stdout",
     "output_type": "stream",
     "text": [
      "Index(['user_index', 'user_publisher', 'user_percentile', 'user_frequency',\n",
      "       'user_open_access'],\n",
      "      dtype='object')\n"
     ]
    }
   ],
   "source": [
    "print(columns)"
   ]
  },
  {
   "cell_type": "markdown",
   "metadata": {},
   "source": [
    "## Mean"
   ]
  },
  {
   "cell_type": "code",
   "execution_count": 5,
   "metadata": {},
   "outputs": [
    {
     "name": "stdout",
     "output_type": "stream",
     "text": [
      "[1.0, 0.23333333333333317, 0.5533333333333331, 0.47266666666666696, 0.38]\n"
     ]
    }
   ],
   "source": [
    "#Mean - 4\n",
    "mean = []\n",
    "for i in columns:\n",
    "    mean_criteria = np.mean(journal[i])\n",
    "    mean.append(mean_criteria)\n",
    "print(mean)"
   ]
  },
  {
   "cell_type": "markdown",
   "metadata": {},
   "source": [
    "## Variance"
   ]
  },
  {
   "cell_type": "code",
   "execution_count": 6,
   "metadata": {},
   "outputs": [
    {
     "name": "stdout",
     "output_type": "stream",
     "text": [
      "[0.0, 3.340000000000002, 4.972, 1.0328800000000014, 7.812000000000003]\n"
     ]
    }
   ],
   "source": [
    "#Variance - 5\n",
    "variance = []\n",
    "for i in columns:\n",
    "    variance_criteria = np.var(journal[i])*number\n",
    "    variance.append(variance_criteria)\n",
    "print(variance)"
   ]
  },
  {
   "cell_type": "markdown",
   "metadata": {},
   "source": [
    "## Deviation"
   ]
  },
  {
   "cell_type": "code",
   "execution_count": 7,
   "metadata": {},
   "outputs": [
    {
     "name": "stdout",
     "output_type": "stream",
     "text": [
      "[1.0, -2.340000000000002, -3.9720000000000004, -0.03288000000000135, -6.812000000000003]\n"
     ]
    }
   ],
   "source": [
    "#Deviation - 6\n",
    "deviation = []\n",
    "for (i, j) in zip(columns, variance):\n",
    "    deviation_criteria = 1 - j\n",
    "    deviation.append(deviation_criteria)\n",
    "print(deviation)"
   ]
  },
  {
   "cell_type": "markdown",
   "metadata": {},
   "source": [
    "## Finding Overall preference value "
   ]
  },
  {
   "cell_type": "code",
   "execution_count": 8,
   "metadata": {},
   "outputs": [
    {
     "name": "stdout",
     "output_type": "stream",
     "text": [
      "[-0.0822579477629128, 0.19248359776521612, 0.32672856851428966, 0.002704641322444684, 0.5603411401609623]\n"
     ]
    }
   ],
   "source": [
    "#Finding Overall preference value - 7\n",
    "preference_value = []\n",
    "overall = sum(deviation)\n",
    "for (i, j) in zip(columns, deviation):\n",
    "    preference_criteria = j/overall\n",
    "    preference_value.append(preference_criteria)\n",
    "print(preference_value)\n",
    "sum_ = sum(preference_value)"
   ]
  },
  {
   "cell_type": "code",
   "execution_count": 9,
   "metadata": {},
   "outputs": [
    {
     "data": {
      "text/plain": [
       "1.0"
      ]
     },
     "execution_count": 9,
     "metadata": {},
     "output_type": "execute_result"
    }
   ],
   "source": [
    "sum_"
   ]
  },
  {
   "cell_type": "markdown",
   "metadata": {},
   "source": [
    "## Calculating PSI"
   ]
  },
  {
   "cell_type": "code",
   "execution_count": 10,
   "metadata": {},
   "outputs": [],
   "source": [
    "#Calculating PSI - 8\n",
    "for (i,j) in zip(columns, preference_value): \n",
    "    journal[i] = journal.loc[:, i] * j"
   ]
  },
  {
   "cell_type": "code",
   "execution_count": 11,
   "metadata": {},
   "outputs": [],
   "source": [
    "#psi_rank = journal.drop(['scopus_source_id', 'subject_area'], axis=1)\n",
    "psi_rank = journal.iloc[:, 28:33]\n",
    "psi = []\n",
    "for i in range(number):\n",
    "    psi_sum = sum(psi_rank.loc[i])\n",
    "    psi.append(psi_sum)"
   ]
  },
  {
   "cell_type": "code",
   "execution_count": 12,
   "metadata": {},
   "outputs": [],
   "source": [
    "journal['PSI'] = psi"
   ]
  },
  {
   "cell_type": "code",
   "execution_count": 13,
   "metadata": {},
   "outputs": [],
   "source": [
    "ranked_journal = journal.sort_values('PSI', ascending=False)"
   ]
  },
  {
   "cell_type": "code",
   "execution_count": 14,
   "metadata": {},
   "outputs": [
    {
     "data": {
      "text/html": [
       "<div>\n",
       "<style scoped>\n",
       "    .dataframe tbody tr th:only-of-type {\n",
       "        vertical-align: middle;\n",
       "    }\n",
       "\n",
       "    .dataframe tbody tr th {\n",
       "        vertical-align: top;\n",
       "    }\n",
       "\n",
       "    .dataframe thead th {\n",
       "        text-align: right;\n",
       "    }\n",
       "</style>\n",
       "<table border=\"1\" class=\"dataframe\">\n",
       "  <thead>\n",
       "    <tr style=\"text-align: right;\">\n",
       "      <th></th>\n",
       "      <th>scopus_source_id</th>\n",
       "      <th>title</th>\n",
       "      <th>citescore</th>\n",
       "      <th>percentile</th>\n",
       "      <th>citation_count</th>\n",
       "      <th>scholarly_output</th>\n",
       "      <th>percent_cited</th>\n",
       "      <th>snip</th>\n",
       "      <th>sjr</th>\n",
       "      <th>rank</th>\n",
       "      <th>...</th>\n",
       "      <th>journal_website</th>\n",
       "      <th>open_access2</th>\n",
       "      <th>print_issn</th>\n",
       "      <th>e_issn</th>\n",
       "      <th>user_index</th>\n",
       "      <th>user_publisher</th>\n",
       "      <th>user_percentile</th>\n",
       "      <th>user_frequency</th>\n",
       "      <th>user_open_access</th>\n",
       "      <th>PSI</th>\n",
       "    </tr>\n",
       "  </thead>\n",
       "  <tbody>\n",
       "    <tr>\n",
       "      <th>7</th>\n",
       "      <td>21100201542</td>\n",
       "      <td>Symmetry</td>\n",
       "      <td>2.28</td>\n",
       "      <td>75</td>\n",
       "      <td>1140</td>\n",
       "      <td>501</td>\n",
       "      <td>69</td>\n",
       "      <td>1.046</td>\n",
       "      <td>0.287</td>\n",
       "      <td>13</td>\n",
       "      <td>...</td>\n",
       "      <td>http://www.mdpi.com/journal/symmetry/</td>\n",
       "      <td>Yes</td>\n",
       "      <td>2073-8994</td>\n",
       "      <td>NaN</td>\n",
       "      <td>-0.082258</td>\n",
       "      <td>0.019248</td>\n",
       "      <td>0.326729</td>\n",
       "      <td>0.001785</td>\n",
       "      <td>0.560341</td>\n",
       "      <td>0.825845</td>\n",
       "    </tr>\n",
       "    <tr>\n",
       "      <th>26</th>\n",
       "      <td>21100827946</td>\n",
       "      <td>npj Quantum Information</td>\n",
       "      <td>8.53</td>\n",
       "      <td>99</td>\n",
       "      <td>503</td>\n",
       "      <td>59</td>\n",
       "      <td>95</td>\n",
       "      <td>2.500</td>\n",
       "      <td>3.929</td>\n",
       "      <td>1</td>\n",
       "      <td>...</td>\n",
       "      <td>NaN</td>\n",
       "      <td>Yes</td>\n",
       "      <td>NaN</td>\n",
       "      <td>2056-6387</td>\n",
       "      <td>-0.082258</td>\n",
       "      <td>0.019248</td>\n",
       "      <td>0.326729</td>\n",
       "      <td>0.001488</td>\n",
       "      <td>0.560341</td>\n",
       "      <td>0.825548</td>\n",
       "    </tr>\n",
       "    <tr>\n",
       "      <th>32</th>\n",
       "      <td>21100855505</td>\n",
       "      <td>Journal of Cybersecurity</td>\n",
       "      <td>2.30</td>\n",
       "      <td>77</td>\n",
       "      <td>92</td>\n",
       "      <td>40</td>\n",
       "      <td>65</td>\n",
       "      <td>1.712</td>\n",
       "      <td>0.469</td>\n",
       "      <td>12</td>\n",
       "      <td>...</td>\n",
       "      <td>NaN</td>\n",
       "      <td>Yes</td>\n",
       "      <td>NaN</td>\n",
       "      <td>2057-2093</td>\n",
       "      <td>-0.082258</td>\n",
       "      <td>0.019248</td>\n",
       "      <td>0.326729</td>\n",
       "      <td>0.001488</td>\n",
       "      <td>0.560341</td>\n",
       "      <td>0.825548</td>\n",
       "    </tr>\n",
       "    <tr>\n",
       "      <th>3</th>\n",
       "      <td>15591</td>\n",
       "      <td>Journal of Artificial Societies and Social Sim...</td>\n",
       "      <td>2.42</td>\n",
       "      <td>79</td>\n",
       "      <td>404</td>\n",
       "      <td>167</td>\n",
       "      <td>69</td>\n",
       "      <td>1.493</td>\n",
       "      <td>1.097</td>\n",
       "      <td>11</td>\n",
       "      <td>...</td>\n",
       "      <td>http://jasss.soc.surrey.ac.uk/JASSS.html</td>\n",
       "      <td>Yes</td>\n",
       "      <td>1460-7425</td>\n",
       "      <td>NaN</td>\n",
       "      <td>-0.082258</td>\n",
       "      <td>0.019248</td>\n",
       "      <td>0.326729</td>\n",
       "      <td>0.001190</td>\n",
       "      <td>0.560341</td>\n",
       "      <td>0.825250</td>\n",
       "    </tr>\n",
       "    <tr>\n",
       "      <th>28</th>\n",
       "      <td>21100838145</td>\n",
       "      <td>Machines</td>\n",
       "      <td>1.63</td>\n",
       "      <td>61</td>\n",
       "      <td>119</td>\n",
       "      <td>73</td>\n",
       "      <td>55</td>\n",
       "      <td>0.769</td>\n",
       "      <td>0.315</td>\n",
       "      <td>20</td>\n",
       "      <td>...</td>\n",
       "      <td>NaN</td>\n",
       "      <td>Yes</td>\n",
       "      <td>NaN</td>\n",
       "      <td>2075-1702</td>\n",
       "      <td>-0.082258</td>\n",
       "      <td>0.019248</td>\n",
       "      <td>0.228710</td>\n",
       "      <td>0.001488</td>\n",
       "      <td>0.560341</td>\n",
       "      <td>0.727529</td>\n",
       "    </tr>\n",
       "  </tbody>\n",
       "</table>\n",
       "<p>5 rows × 34 columns</p>\n",
       "</div>"
      ],
      "text/plain": [
       "    scopus_source_id                                              title  \\\n",
       "7        21100201542                                           Symmetry   \n",
       "26       21100827946                            npj Quantum Information   \n",
       "32       21100855505                           Journal of Cybersecurity   \n",
       "3              15591  Journal of Artificial Societies and Social Sim...   \n",
       "28       21100838145                                           Machines   \n",
       "\n",
       "    citescore  percentile  citation_count  scholarly_output  percent_cited  \\\n",
       "7        2.28          75            1140               501             69   \n",
       "26       8.53          99             503                59             95   \n",
       "32       2.30          77              92                40             65   \n",
       "3        2.42          79             404               167             69   \n",
       "28       1.63          61             119                73             55   \n",
       "\n",
       "     snip    sjr  rank  ...                           journal_website  \\\n",
       "7   1.046  0.287    13  ...     http://www.mdpi.com/journal/symmetry/   \n",
       "26  2.500  3.929     1  ...                                       NaN   \n",
       "32  1.712  0.469    12  ...                                       NaN   \n",
       "3   1.493  1.097    11  ...  http://jasss.soc.surrey.ac.uk/JASSS.html   \n",
       "28  0.769  0.315    20  ...                                       NaN   \n",
       "\n",
       "   open_access2 print_issn     e_issn  user_index user_publisher  \\\n",
       "7           Yes  2073-8994        NaN   -0.082258       0.019248   \n",
       "26          Yes        NaN  2056-6387   -0.082258       0.019248   \n",
       "32          Yes        NaN  2057-2093   -0.082258       0.019248   \n",
       "3           Yes  1460-7425        NaN   -0.082258       0.019248   \n",
       "28          Yes        NaN  2075-1702   -0.082258       0.019248   \n",
       "\n",
       "   user_percentile user_frequency user_open_access       PSI  \n",
       "7         0.326729       0.001785         0.560341  0.825845  \n",
       "26        0.326729       0.001488         0.560341  0.825548  \n",
       "32        0.326729       0.001488         0.560341  0.825548  \n",
       "3         0.326729       0.001190         0.560341  0.825250  \n",
       "28        0.228710       0.001488         0.560341  0.727529  \n",
       "\n",
       "[5 rows x 34 columns]"
      ]
     },
     "execution_count": 14,
     "metadata": {},
     "output_type": "execute_result"
    }
   ],
   "source": [
    "ranked_journal.head()"
   ]
  },
  {
   "cell_type": "code",
   "execution_count": 15,
   "metadata": {},
   "outputs": [],
   "source": [
    "ranked_journal.to_csv('Result Journals.csv', index=False) "
   ]
  },
  {
   "cell_type": "code",
   "execution_count": null,
   "metadata": {},
   "outputs": [],
   "source": []
  }
 ],
 "metadata": {
  "kernelspec": {
   "display_name": "Python 3",
   "language": "python",
   "name": "python3"
  },
  "language_info": {
   "codemirror_mode": {
    "name": "ipython",
    "version": 3
   },
   "file_extension": ".py",
   "mimetype": "text/x-python",
   "name": "python",
   "nbconvert_exporter": "python",
   "pygments_lexer": "ipython3",
   "version": "3.7.3"
  }
 },
 "nbformat": 4,
 "nbformat_minor": 2
}
