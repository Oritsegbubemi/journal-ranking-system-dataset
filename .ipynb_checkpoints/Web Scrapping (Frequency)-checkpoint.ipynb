{
 "cells": [
  {
   "cell_type": "markdown",
   "metadata": {},
   "source": [
    "# Import all the needed libraries"
   ]
  },
  {
   "cell_type": "code",
   "execution_count": 1,
   "metadata": {},
   "outputs": [],
   "source": [
    "import numpy as np\n",
    "import pandas as pd\n",
    "import matplotlib.pyplot as plt\n",
    "import seaborn as sns\n",
    "%matplotlib inline"
   ]
  },
  {
   "cell_type": "code",
   "execution_count": 2,
   "metadata": {},
   "outputs": [],
   "source": [
    "import time\n",
    "from selenium import webdriver\n",
    "from selenium.webdriver.common.keys import Keys\n",
    "from bs4 import BeautifulSoup"
   ]
  },
  {
   "cell_type": "code",
   "execution_count": 3,
   "metadata": {},
   "outputs": [],
   "source": [
    "journal = pd.read_csv('Ranking Journals.csv')"
   ]
  },
  {
   "cell_type": "markdown",
   "metadata": {},
   "source": [
    "# Working on the Frequency column"
   ]
  },
  {
   "cell_type": "markdown",
   "metadata": {},
   "source": [
    "## X_Path"
   ]
  },
  {
   "cell_type": "raw",
   "metadata": {},
   "source": [
    "link = journal['scopus_link']\n",
    "result = []\n",
    "number = 0\n",
    "length = len(link)\n",
    "\n",
    "driver = webdriver.Chrome(r'C:\\Users\\Gbubemi\\Downloads\\Setup\\Downloads\\chromedriver.exe')\n",
    "for i in link:\n",
    "    driver.get(i)\n",
    "    try:\n",
    "        p_issn = driver.find_element_by_xpath('//*[@id=\"issn\"]/span[2]')\n",
    "        p_issn = ''.join((p_issn.text).split('-'))\n",
    "    except:\n",
    "        p_issn = \"\"\n",
    "        \n",
    "    try:\n",
    "        e_issn = driver.find_element_by_xpath('//*[@id=\"issn\"]/span[4]')\n",
    "        e_issn = ''.join((e_issn.text).split('-'))\n",
    "    except: \n",
    "        e_isnn = \"\"\n",
    "    print(number, \"P-ISSN: \",p_issn, \"\\t E-ISSN: \",e_issn)\n",
    "    number = number + 1\n",
    "    result.append([p_issn, e_issn])\n"
   ]
  },
  {
   "cell_type": "raw",
   "metadata": {},
   "source": [
    "result"
   ]
  },
  {
   "cell_type": "markdown",
   "metadata": {},
   "source": [
    "## CSS Selector"
   ]
  },
  {
   "cell_type": "raw",
   "metadata": {},
   "source": [
    "link = journal['scopus_link']\n",
    "result = []\n",
    "number = 0\n",
    "length = len(link)\n",
    "\n",
    "driver = webdriver.Chrome(r'C:\\Users\\Gbubemi\\Downloads\\Setup\\Downloads\\chromedriver.exe')\n",
    "for i in link:\n",
    "    driver.get(i)\n",
    "    try:\n",
    "        p_issn = driver.find_element_by_css_selector('#issn > span:nth-child(2)')\n",
    "        p_issn = ''.join((p_issn.text).split('-'))\n",
    "    except:\n",
    "        p_issn = \"\"\n",
    "        \n",
    "    try:\n",
    "        e_issn = driver.find_element_by_css_selector('#issn > span.marginLeft1.right')\n",
    "        e_issn = ''.join((e_issn.text).split('-'))\n",
    "    except: \n",
    "        e_isnn = \"\"\n",
    "    print(number, \"P-ISSN: \",p_issn, \"\\t E-ISSN: \",e_issn)\n",
    "    number = number + 1\n",
    "    result.append([p_issn, e_issn])\n"
   ]
  },
  {
   "cell_type": "raw",
   "metadata": {},
   "source": [
    "result"
   ]
  },
  {
   "cell_type": "raw",
   "metadata": {},
   "source": [
    "print df['feedback_id'].fillna(df['_id'])\n",
    "0    568a8c25cac4991645c287ac\n",
    "1    568df45b177e30c6487d3603\n",
    "2    568df434832b090048f34974\n",
    "3    568cd22e9e82dfc166d7dff1\n",
    "4    568df3f0832b090048f34711\n",
    "5    568e5a38b4a797c664143dda\n",
    "Name: feedback_id, dtype: object"
   ]
  },
  {
   "cell_type": "markdown",
   "metadata": {},
   "source": [
    "## Beautiful Soup"
   ]
  },
  {
   "cell_type": "code",
   "execution_count": null,
   "metadata": {},
   "outputs": [
    {
     "name": "stdout",
     "output_type": "stream",
     "text": [
      "0 of 2284 P-ISSN: 15541045 E-ISSN: 15541053\n",
      "1 of 2284 P-ISSN: 17411084 E-ISSN: 17411092\n",
      "2 of 2284 P-ISSN: 15443558 E-ISSN: 15443965\n",
      "3 of 2284 P-ISSN: 03784754 E-ISSN: \n",
      "4 of 2284 P-ISSN: 07342071 E-ISSN: 15577333\n",
      "5 of 2284 P-ISSN: 15430537 E-ISSN: \n",
      "6 of 2284 P-ISSN: 15430537 E-ISSN: \n",
      "7 of 2284 P-ISSN: 02676192 E-ISSN: \n",
      "8 of 2284 P-ISSN: 02185393 E-ISSN: 17936446\n",
      "9 of 2284 P-ISSN: 02191989 E-ISSN: 17936675\n",
      "10 of 2284 P-ISSN: 10600396 E-ISSN: 15738337\n",
      "11 of 2284 P-ISSN: 15219615 E-ISSN: \n",
      "12 of 2284 P-ISSN: 10407413 E-ISSN: 15326969\n",
      "13 of 2284 P-ISSN: 00010782 E-ISSN: 15577317\n",
      "14 of 2284 P-ISSN: 18652034 E-ISSN: 18652042\n",
      "15 of 2284 P-ISSN: 01046500 E-ISSN: 16784804\n",
      "16 of 2284 P-ISSN: 0948695X E-ISSN: 09486968\n",
      "17 of 2284 P-ISSN: 09290907 E-ISSN: 15699943\n",
      "18 of 2284 P-ISSN: 1381298X E-ISSN: \n",
      "19 of 2284 P-ISSN: 1381298X E-ISSN: \n",
      "20 of 2284 P-ISSN: 1381298X E-ISSN: \n",
      "21 of 2284 P-ISSN: 1819656X E-ISSN: 18199224\n",
      "22 of 2284 P-ISSN: 1881803X E-ISSN: \n",
      "23 of 2284 P-ISSN: 18659284 E-ISSN: 18659292\n",
      "24 of 2284 P-ISSN: 1060992X E-ISSN: 19347898\n",
      "25 of 2284 P-ISSN: 03601315 E-ISSN: \n",
      "26 of 2284 P-ISSN: 18756891 E-ISSN: 18756883\n",
      "27 of 2284 P-ISSN: 03401200 E-ISSN: 14320770\n",
      "28 of 2284 P-ISSN: 15827445 E-ISSN: 18447600\n",
      "29 of 2284 P-ISSN: 10613773 E-ISSN: 10990542\n",
      "30 of 2284 P-ISSN: 00457906 E-ISSN: \n",
      "31 of 2284 P-ISSN: 00457930 E-ISSN: \n",
      "32 of 2284 P-ISSN: 03608352 E-ISSN: \n",
      "33 of 2284 P-ISSN: 18062563 E-ISSN: 18078664\n",
      "34 of 2284 P-ISSN: 10693769 E-ISSN: \n",
      "35 of 2284 P-ISSN: 01663615 E-ISSN: \n",
      "36 of 2284 P-ISSN: 13423819 E-ISSN: \n",
      "37 of 2284 P-ISSN: 18200214 E-ISSN: 24061018\n",
      "38 of 2284 P-ISSN: 18685137 E-ISSN: 18685145\n",
      "39 of 2284 P-ISSN: 18754791 E-ISSN: 18754805\n",
      "40 of 2284 P-ISSN: 16833198 E-ISSN: 23094524\n",
      "41 of 2284 P-ISSN: 17875021 E-ISSN: 17876117\n",
      "42 of 2284 P-ISSN: 18438121 E-ISSN: 22482695\n",
      "43 of 2284 P-ISSN: 1674733X E-ISSN: 18691919\n",
      "44 of 2284 P-ISSN: 1674733X E-ISSN: 18691919\n",
      "45 of 2284 P-ISSN: 1674733X E-ISSN: 18691919\n",
      "46 of 2284 P-ISSN: 1674733X E-ISSN: 18691919\n",
      "47 of 2284 P-ISSN: 15575969 E-ISSN: 15575977\n",
      "48 of 2284 P-ISSN: 15487199 E-ISSN: 15487202\n",
      "49 of 2284 P-ISSN: 18777503 E-ISSN: \n",
      "50 of 2284 P-ISSN: 00051144 E-ISSN: \n",
      "51 of 2284 P-ISSN: 18605974 E-ISSN: \n",
      "52 of 2284 P-ISSN: 19430663 E-ISSN: \n",
      "53 of 2284 P-ISSN: 21852766 E-ISSN: \n",
      "54 of 2284 P-ISSN: 15480992 E-ISSN: \n",
      "55 of 2284 P-ISSN: 1756378X E-ISSN: 17563798\n",
      "56 of 2284 P-ISSN: 19928645 E-ISSN: 18173195\n",
      "57 of 2284 P-ISSN: 19928645 E-ISSN: 18173195\n",
      "58 of 2284 P-ISSN: 15232867 E-ISSN: 15581160\n",
      "59 of 2284 P-ISSN: 15519899 E-ISSN: 15520633\n",
      "60 of 2284 P-ISSN: 15427730 E-ISSN: 15427749\n",
      "61 of 2284 P-ISSN: 01476882 E-ISSN: 19348118\n",
      "62 of 2284 P-ISSN: 19317883 E-ISSN: 19317891\n",
      "63 of 2284 P-ISSN: 11125209 E-ISSN: \n",
      "64 of 2284 P-ISSN: 18744796 E-ISSN: \n",
      "65 of 2284 P-ISSN: 01287680 E-ISSN: \n",
      "66 of 2284 P-ISSN: 20751087 E-ISSN: 20751109\n",
      "67 of 2284 P-ISSN: 19387857 E-ISSN: 19387865\n",
      "68 of 2284 P-ISSN: 13283154 E-ISSN: \n",
      "69 of 2284 P-ISSN: 13283154 E-ISSN: \n",
      "70 of 2284 P-ISSN: 13283154 E-ISSN: \n",
      "71 of 2284 P-ISSN: 22105379 E-ISSN: \n",
      "72 of 2284 P-ISSN: 15551229 E-ISSN: 15551237\n",
      "73 of 2284 P-ISSN: 14714175 E-ISSN: 14770857\n",
      "74 of 2284 P-ISSN: 12201766 E-ISSN: 1841429X\n",
      "75 of 2284 P-ISSN: 14548658 E-ISSN: \n"
     ]
    }
   ],
   "source": [
    "link = journal['scopus_link']\n",
    "result = []\n",
    "number = 0\n",
    "length = len(link)\n",
    "\n",
    "driver = webdriver.Chrome(r'C:\\Users\\Gbubemi\\Downloads\\Setup\\Downloads\\chromedriver.exe')\n",
    "for i in link:\n",
    "    driver.get(i)\n",
    "    soup = BeautifulSoup(driver.page_source, 'lxml')\n",
    "    item_list = soup.find_all(class_=\"JNLUL list-unstyled fontMedium lineHeight2 noPadding marginBottom1\")\n",
    "    if item_list!=None: \n",
    "        all_items=item_list\n",
    "        lst=all_items\n",
    "        for i in range(len(all_items)):\n",
    "            issn = lst[i].find(id=\"issn\").get_text()\n",
    "            \n",
    "            issn = issn.split(':')\n",
    "            p_issn = issn[1].split('E')\n",
    "            p_issn = p_issn[0]\n",
    "            p_issn = ''.join((p_issn).split('-'))\n",
    "            \n",
    "            try:\n",
    "                e_issn = issn[2]\n",
    "                e_issn = ''.join((e_issn).split('-'))\n",
    "            except: \n",
    "                e_issn = \"\"\n",
    "\n",
    "        print(number,\"of\",length, \"P-ISSN:\",p_issn, \"E-ISSN:\", e_issn)\n",
    "        number = number + 1\n",
    "        result.append([p_issn, e_issn])\n",
    "print(\"All:\",result)"
   ]
  },
  {
   "cell_type": "code",
   "execution_count": null,
   "metadata": {},
   "outputs": [],
   "source": [
    "result"
   ]
  },
  {
   "cell_type": "code",
   "execution_count": null,
   "metadata": {},
   "outputs": [],
   "source": []
  }
 ],
 "metadata": {
  "kernelspec": {
   "display_name": "Python 3",
   "language": "python",
   "name": "python3"
  },
  "language_info": {
   "codemirror_mode": {
    "name": "ipython",
    "version": 3
   },
   "file_extension": ".py",
   "mimetype": "text/x-python",
   "name": "python",
   "nbconvert_exporter": "python",
   "pygments_lexer": "ipython3",
   "version": "3.7.3"
  }
 },
 "nbformat": 4,
 "nbformat_minor": 2
}
