{
 "cells": [
  {
   "cell_type": "markdown",
   "metadata": {},
   "source": [
    "# Import all the needed libraries"
   ]
  },
  {
   "cell_type": "code",
   "execution_count": 1,
   "metadata": {},
   "outputs": [],
   "source": [
    "import numpy as np\n",
    "import pandas as pd\n",
    "import matplotlib.pyplot as plt\n",
    "import seaborn as sns\n",
    "%matplotlib inline"
   ]
  },
  {
   "cell_type": "code",
   "execution_count": 2,
   "metadata": {},
   "outputs": [
    {
     "data": {
      "text/html": [
       "<div>\n",
       "<style scoped>\n",
       "    .dataframe tbody tr th:only-of-type {\n",
       "        vertical-align: middle;\n",
       "    }\n",
       "\n",
       "    .dataframe tbody tr th {\n",
       "        vertical-align: top;\n",
       "    }\n",
       "\n",
       "    .dataframe thead th {\n",
       "        text-align: right;\n",
       "    }\n",
       "</style>\n",
       "<table border=\"1\" class=\"dataframe\">\n",
       "  <thead>\n",
       "    <tr style=\"text-align: right;\">\n",
       "      <th></th>\n",
       "      <th>scopus_source_id</th>\n",
       "      <th>title</th>\n",
       "      <th>citescore</th>\n",
       "      <th>percentile</th>\n",
       "      <th>citation_count</th>\n",
       "      <th>scholarly_output</th>\n",
       "      <th>percent_cited</th>\n",
       "      <th>snip</th>\n",
       "      <th>sjr</th>\n",
       "      <th>rank</th>\n",
       "      <th>...</th>\n",
       "      <th>scopus_asjc_code</th>\n",
       "      <th>subject_area</th>\n",
       "      <th>quartile</th>\n",
       "      <th>top_10%</th>\n",
       "      <th>scopus_link</th>\n",
       "      <th>print_issn</th>\n",
       "      <th>e_issn</th>\n",
       "      <th>index</th>\n",
       "      <th>frequency</th>\n",
       "      <th>review_time</th>\n",
       "    </tr>\n",
       "  </thead>\n",
       "  <tbody>\n",
       "    <tr>\n",
       "      <th>0</th>\n",
       "      <td>11900154400</td>\n",
       "      <td>International Journal of Information Technolog...</td>\n",
       "      <td>1.29</td>\n",
       "      <td>60</td>\n",
       "      <td>63</td>\n",
       "      <td>49</td>\n",
       "      <td>63</td>\n",
       "      <td>0.635</td>\n",
       "      <td>0.191</td>\n",
       "      <td>82</td>\n",
       "      <td>...</td>\n",
       "      <td>1700</td>\n",
       "      <td>General Computer Science</td>\n",
       "      <td>Quartile2</td>\n",
       "      <td>NaN</td>\n",
       "      <td>https://www.scopus.com/sourceid/11900154400</td>\n",
       "      <td>15541045</td>\n",
       "      <td>15541053</td>\n",
       "      <td>Scopus</td>\n",
       "      <td>Bi-monthly</td>\n",
       "      <td>12 weeks</td>\n",
       "    </tr>\n",
       "    <tr>\n",
       "      <th>1</th>\n",
       "      <td>12100154817</td>\n",
       "      <td>International Journal of Wireless and Mobile C...</td>\n",
       "      <td>0.49</td>\n",
       "      <td>22</td>\n",
       "      <td>137</td>\n",
       "      <td>280</td>\n",
       "      <td>30</td>\n",
       "      <td>0.252</td>\n",
       "      <td>0.168</td>\n",
       "      <td>160</td>\n",
       "      <td>...</td>\n",
       "      <td>1700</td>\n",
       "      <td>General Computer Science</td>\n",
       "      <td>Quartile4</td>\n",
       "      <td>NaN</td>\n",
       "      <td>https://www.scopus.com/sourceid/12100154817</td>\n",
       "      <td>17411084</td>\n",
       "      <td>17411092</td>\n",
       "      <td>Scopus</td>\n",
       "      <td>Bi-monthly</td>\n",
       "      <td>12 weeks</td>\n",
       "    </tr>\n",
       "  </tbody>\n",
       "</table>\n",
       "<p>2 rows × 24 columns</p>\n",
       "</div>"
      ],
      "text/plain": [
       "   scopus_source_id                                              title  \\\n",
       "0       11900154400  International Journal of Information Technolog...   \n",
       "1       12100154817  International Journal of Wireless and Mobile C...   \n",
       "\n",
       "   citescore  percentile  citation_count  scholarly_output  percent_cited  \\\n",
       "0       1.29          60              63                49             63   \n",
       "1       0.49          22             137               280             30   \n",
       "\n",
       "    snip    sjr  rank  ...  scopus_asjc_code              subject_area  \\\n",
       "0  0.635  0.191    82  ...              1700  General Computer Science   \n",
       "1  0.252  0.168   160  ...              1700  General Computer Science   \n",
       "\n",
       "    quartile top_10%                                  scopus_link print_issn  \\\n",
       "0  Quartile2     NaN  https://www.scopus.com/sourceid/11900154400   15541045   \n",
       "1  Quartile4     NaN  https://www.scopus.com/sourceid/12100154817   17411084   \n",
       "\n",
       "     e_issn   index   frequency review_time  \n",
       "0  15541053  Scopus  Bi-monthly    12 weeks  \n",
       "1  17411092  Scopus  Bi-monthly    12 weeks  \n",
       "\n",
       "[2 rows x 24 columns]"
      ]
     },
     "execution_count": 2,
     "metadata": {},
     "output_type": "execute_result"
    }
   ],
   "source": [
    "journal = pd.read_csv('Ranking Journals.csv')\n",
    "journal.head(2)"
   ]
  },
  {
   "cell_type": "markdown",
   "metadata": {},
   "source": [
    "## Creating new columns for ranking"
   ]
  },
  {
   "cell_type": "code",
   "execution_count": 3,
   "metadata": {},
   "outputs": [],
   "source": [
    "journal['user_index'] = journal['index']\n",
    "journal['user_publisher'] = journal['publisher']\n",
    "journal['user_percentile'] = journal['percentile']\n",
    "journal['user_frequency'] = journal['frequency']\n",
    "journal['user_open_access'] = journal['open_access']\n",
    "journal['user_review_time'] = journal['review_time']"
   ]
  },
  {
   "cell_type": "markdown",
   "metadata": {},
   "source": [
    "# Ranking Time Everybody!!!!!"
   ]
  },
  {
   "cell_type": "markdown",
   "metadata": {},
   "source": [
    "# Subject Area"
   ]
  },
  {
   "cell_type": "code",
   "execution_count": 5,
   "metadata": {},
   "outputs": [
    {
     "name": "stdout",
     "output_type": "stream",
     "text": [
      "Please Enter a number which represent a computer science sub-subject area: 1\n"
     ]
    }
   ],
   "source": [
    "def user__switch_subject_area(arg):\n",
    "    switcher = {\n",
    "        1: \"General Computer Science\",\n",
    "        2: \"Computer Science (miscellaneous)\",\n",
    "        3: \"Artificial Intelligence\",\n",
    "        4: \"Computational Theory and Mathematics\",\n",
    "        5: \"Computer Graphics and Computer-Aided Design\",\n",
    "        6: \"Computer Networks and Communications\",\n",
    "        7: \"Computer Science Applications\",\n",
    "        8: \"Computer Vision and Pattern Recognition\",\n",
    "        9: \"Hardware and Architecture\",\n",
    "        10: \"Human-Computer Interaction\",\n",
    "        11: \"Information Systems\",\n",
    "        12: \"Signal Processing\",\n",
    "        13: \"Software\"\n",
    "    }\n",
    "    return switcher.get(arg, \"You entered an invalid input\")\n",
    "\n",
    "user_subject_area = int(input(\"Please Enter a number which represent a computer science sub-subject area: \"))\n",
    "subject_area = user__switch_subject_area(user_subject_area)\n",
    "\n",
    "not_suject_area = journal.loc[journal['subject_area'] != subject_area]\n",
    "journal=journal.drop(not_suject_area.index, axis=0)"
   ]
  },
  {
   "cell_type": "markdown",
   "metadata": {},
   "source": [
    "# Index"
   ]
  },
  {
   "cell_type": "code",
   "execution_count": 6,
   "metadata": {},
   "outputs": [
    {
     "name": "stdout",
     "output_type": "stream",
     "text": [
      "Kindly input rank: \n",
      "1 for Scopus journals \n",
      "2 for Others\n",
      "Enter the first journal index ranking number: 1\n",
      "Enter the second journal index ranking number: 2\n"
     ]
    }
   ],
   "source": [
    "index = dict()\n",
    "def user_index():\n",
    "    print(\"Kindly input rank: \\n1 for Scopus journals \\n2 for Others\")\n",
    "    dict_index = { 1: \"Scopus\", 2: \"Others\" }\n",
    "    list_index = [\"first\", \"second\"]\n",
    "    rank_index = [1.0, 0.5]\n",
    "    \n",
    "    for (x, y) in zip(list_index, rank_index):   \n",
    "        user_text_index = \"Enter the {} journal index ranking number: \".format(x)\n",
    "        user_index = int(input(user_text_index))\n",
    "        for key in dict_index.keys():\n",
    "            if user_index == key:\n",
    "                index[dict_index[key]] = y\n",
    "               \n",
    "            elif user_index not in dict_index.keys():\n",
    "                return (\"Please enter either 1 or 2\")\n",
    "    return index\n",
    "\n",
    "user_index()\n",
    "\n",
    "rank_index = journal['user_index']\n",
    "for i in rank_index:\n",
    "    for key in index.keys():\n",
    "        if (i == key):\n",
    "            a = rank_index.replace(i,index[key], inplace=True)"
   ]
  },
  {
   "cell_type": "markdown",
   "metadata": {},
   "source": [
    "# Publisher"
   ]
  },
  {
   "cell_type": "code",
   "execution_count": 7,
   "metadata": {},
   "outputs": [
    {
     "name": "stdout",
     "output_type": "stream",
     "text": [
      "Kindly input rank: \n",
      "1 for Springer \n",
      "2 for Elsevier \n",
      "3 for IEEE \n",
      "4 for Taylor and Francis \n",
      "5 for Inderscience         \n",
      "6 for ACM \n",
      "7 for Others\n",
      "Enter the first publisher ranking number: 1\n",
      "Enter the second publisher ranking number: 2\n",
      "Enter the third publisher ranking number: 3\n",
      "Enter the forth publisher ranking number: 4\n",
      "Enter the fifth publisher ranking number: 5\n",
      "Enter the sixth publisher ranking number: 6\n",
      "Enter the seventh publisher ranking number: 7\n"
     ]
    }
   ],
   "source": [
    "publisher = dict()\n",
    "def user_publisher():\n",
    "    print(\"Kindly input rank: \\n1 for Springer \\n2 for Elsevier \\n3 for IEEE \\n4 for Taylor and Francis \\n5 for Inderscience\\\n",
    "         \\n6 for ACM \\n7 for Others\")\n",
    "    dict_publisher = { 1: \"Springer\", 2: \"Elsevier\", 3: \"IEEE\", 4: \"Taylor and Francis\", 5: \"Inderscience\", 6: \"ACM\", \n",
    "                      7: \"Others\" }\n",
    "    list_publisher = [\"first\", \"second\", \"third\", \"forth\", \"fifth\", \"sixth\", \"seventh\"]\n",
    "    rank_publisher = [1.0, 0.85, 0.7, 0.55, 0.4, 0.25, 0.1]\n",
    "    \n",
    "    for (x, y) in zip(list_publisher, rank_publisher):   \n",
    "        user_text_publisher = \"Enter the {} publisher ranking number: \".format(x)\n",
    "        user_publisher = int(input(user_text_publisher))\n",
    "        for key in dict_publisher.keys():\n",
    "            if user_publisher == key:\n",
    "                publisher[dict_publisher[key]] = y\n",
    "                \n",
    "            elif user_publisher not in dict_publisher.keys():\n",
    "                return (\"Please enter a number between 1 to 7\")\n",
    "    return publisher\n",
    "\n",
    "user_publisher()\n",
    "\n",
    "rank_publisher = journal['user_publisher']\n",
    "for i in rank_publisher:\n",
    "    for key in publisher.keys():\n",
    "        if (i == key):\n",
    "            a = rank_publisher.replace(i,publisher[key], inplace=True)"
   ]
  },
  {
   "cell_type": "markdown",
   "metadata": {},
   "source": [
    "# Percentile"
   ]
  },
  {
   "cell_type": "code",
   "execution_count": 8,
   "metadata": {},
   "outputs": [],
   "source": [
    "#Grouping the Percentile\n",
    "percent = journal['user_percentile']\n",
    "for i in percent:\n",
    "    if(i>=0 and i<=25):\n",
    "        a = percent.replace(i, 4, inplace=True)\n",
    "\n",
    "for i in percent:\n",
    "    if(i>=25 and i<=49):\n",
    "        a = percent.replace(i, 3, inplace=True)\n",
    "        \n",
    "for i in percent:\n",
    "    if(i>=50 and i<=74):\n",
    "        a = percent.replace(i, 2, inplace=True)\n",
    "\n",
    "for i in percent:\n",
    "    if(i>=75 and i<=99):\n",
    "        a = percent.replace(i, 1, inplace=True)"
   ]
  },
  {
   "cell_type": "code",
   "execution_count": 9,
   "metadata": {},
   "outputs": [
    {
     "name": "stdout",
     "output_type": "stream",
     "text": [
      "Kindly input rank: \n",
      "1 for 99 - 75 \n",
      "2 for 74 - 50 \n",
      "3 for 49 - 25 \n",
      "4 for 24 - 0\n",
      "Enter the first percentile ranking number: 1\n",
      "Enter the second percentile ranking number: 2\n",
      "Enter the third percentile ranking number: 3\n",
      "Enter the forth percentile ranking number: 4\n"
     ]
    }
   ],
   "source": [
    "percentile = dict() \n",
    "def user_percentile(): \n",
    "    print(\"Kindly input rank: \\n1 for 99 - 75 \\n2 for 74 - 50 \\n3 for 49 - 25 \\n4 for 24 - 0\") \n",
    "    dict_percentile = { 1: 1, 2: 2, 3: 3, 4: 4} \n",
    "    list_percentile = [\"first\", \"second\", \"third\", \"forth\"] \n",
    "    rank_percentile = [1.0, 0.7, 0.5, 0.3]\n",
    "    for (x, y) in zip(list_percentile, rank_percentile):   \n",
    "        user_text_percentile = \"Enter the {} percentile ranking number: \".format(x)\n",
    "        user_percentile = int(input(user_text_percentile))\n",
    "        for key in dict_percentile.keys():\n",
    "            if user_percentile == key:\n",
    "                percentile[dict_percentile[key]] = y\n",
    "\n",
    "            elif user_percentile not in dict_percentile.keys():\n",
    "                return (\"Please enter a number between 1 to 4\")\n",
    "    return percentile\n",
    "\n",
    "user_percentile()\n",
    "rank_percentile = journal['user_percentile']\n",
    "for i in rank_percentile:\n",
    "    for key in percentile.keys():\n",
    "        if (i == key):\n",
    "            a = rank_percentile.replace(i,percentile[key], inplace=True)"
   ]
  },
  {
   "cell_type": "markdown",
   "metadata": {},
   "source": [
    "# Frequency"
   ]
  },
  {
   "cell_type": "code",
   "execution_count": 10,
   "metadata": {},
   "outputs": [
    {
     "name": "stdout",
     "output_type": "stream",
     "text": [
      "Kindly input rank: \n",
      "1 for Monthly \n",
      "2 for Bi-monthly \n",
      "3 for Quarterly \n",
      "4 for Bi-annually \n",
      "5 for Annually\n",
      "Enter the first frequency ranking number: 1\n",
      "Enter the second frequency ranking number: 2\n",
      "Enter the third frequency ranking number: 3\n",
      "Enter the forth frequency ranking number: 4\n",
      "Enter the fifth frequency ranking number: 5\n"
     ]
    }
   ],
   "source": [
    "frequency = dict()\n",
    "def user_frequency():\n",
    "    print(\"Kindly input rank: \\n1 for Monthly \\n2 for Bi-monthly \\n3 for Quarterly \\n4 for Bi-annually \\n5 for Annually\")\n",
    "    dict_frequency = { 1: \"Monthly\", 2: \"Bi-monthly\", 3: \"Quarterly\", 4: \"Bi-annually\", 5: \"Annually\" }\n",
    "    list_frequency = [\"first\", \"second\", \"third\", \"forth\", \"fifth\"]\n",
    "    rank_frequency = [1.0, 0.8, 0.6, 0.4, 0.2]\n",
    "    \n",
    "    for (x, y) in zip(list_frequency, rank_frequency):   \n",
    "        user_text_frequency = \"Enter the {} frequency ranking number: \".format(x)\n",
    "        user_frequency = int(input(user_text_frequency))\n",
    "        for key in dict_frequency.keys():\n",
    "            if user_frequency == key:\n",
    "                frequency[dict_frequency[key]] = y\n",
    "                \n",
    "            elif user_frequency not in dict_frequency.keys():\n",
    "                return (\"Please enter a number between 1 to 5\")\n",
    "    return frequency\n",
    "\n",
    "user_frequency()\n",
    "rank_frequency = journal['user_frequency']\n",
    "for i in rank_frequency:\n",
    "    for key in frequency.keys():\n",
    "        if (i == key):\n",
    "            a = rank_frequency.replace(i,frequency[key], inplace=True)"
   ]
  },
  {
   "cell_type": "markdown",
   "metadata": {},
   "source": [
    "# Open Access"
   ]
  },
  {
   "cell_type": "code",
   "execution_count": 11,
   "metadata": {},
   "outputs": [
    {
     "name": "stdout",
     "output_type": "stream",
     "text": [
      "Do you want open access journal input: \n",
      "1 for Yes \n",
      "2 for No\n",
      "Enter the first open access ranking number: 1\n",
      "Enter the second open access ranking number: 2\n"
     ]
    }
   ],
   "source": [
    "open_access = dict()\n",
    "def user_open_access():\n",
    "    print(\"Do you want open access journal input: \\n1 for Yes \\n2 for No\")\n",
    "    dict_open_access = { 1: \"YES\", 2: \"NO\" }\n",
    "    list_open_access = [\"first\", \"second\"]\n",
    "    rank_open_access = [1.0, 0.5]\n",
    "    \n",
    "    for (x, y) in zip(list_open_access, rank_open_access):   \n",
    "        user_text_open_access = \"Enter the {} open access ranking number: \".format(x)\n",
    "        user_open_access = int(input(user_text_open_access))\n",
    "        for key in dict_open_access.keys():\n",
    "            if user_open_access == key:\n",
    "                open_access[dict_open_access[key]] = y\n",
    "               \n",
    "            elif user_open_access not in dict_open_access.keys():\n",
    "                return (\"Please enter either 1 or 2\")\n",
    "    return open_access\n",
    "\n",
    "user_open_access()\n",
    "rank_open_access = journal['user_open_access']\n",
    "for i in rank_open_access:\n",
    "    for key in open_access.keys():\n",
    "        if (i == key):\n",
    "            a = rank_open_access.replace(i,open_access[key], inplace=True)"
   ]
  },
  {
   "cell_type": "markdown",
   "metadata": {},
   "source": [
    "# Review Time"
   ]
  },
  {
   "cell_type": "code",
   "execution_count": 12,
   "metadata": {},
   "outputs": [
    {
     "name": "stdout",
     "output_type": "stream",
     "text": [
      "Kindly input rank: \n",
      "1 for 4 weeks \n",
      "2 for 6 weeks \n",
      "3 for 10 weeks \n",
      "4 for 12 weeks \n",
      "5 for 18 weeks\n",
      "Enter the first review time ranking number: 1\n",
      "Enter the second review time ranking number: 2\n",
      "Enter the third review time ranking number: 3\n",
      "Enter the forth review time ranking number: 4\n",
      "Enter the fifth review time ranking number: 5\n"
     ]
    }
   ],
   "source": [
    "review_time = dict()\n",
    "def user_review_time():\n",
    "    print(\"Kindly input rank: \\n1 for 4 weeks \\n2 for 6 weeks \\n3 for 10 weeks \\n4 for 12 weeks \\n5 for 18 weeks\")\n",
    "    dict_review_time = { 1: \"4 weeks\", 2: \"6 weeks\", 3: \"10 weeks\", 4: \"12 weeks\", 5: \"18 weeks\" }\n",
    "    list_review_time = [\"first\", \"second\", \"third\", \"forth\", \"fifth\"]\n",
    "    rank_review_time = [1.0, 0.8, 0.6, 0.4, 0.2]\n",
    "    \n",
    "    for (x, y) in zip(list_review_time, rank_review_time):   \n",
    "        user_text_review_time = \"Enter the {} review time ranking number: \".format(x)\n",
    "        user_review_time = int(input(user_text_review_time))\n",
    "        for key in dict_review_time.keys():\n",
    "            if user_review_time == key:\n",
    "                review_time[dict_review_time[key]] = y\n",
    "                \n",
    "            elif user_review_time not in dict_review_time.keys():\n",
    "                return (\"Please enter a number between 1 to 5\")\n",
    "    return review_time\n",
    "\n",
    "user_review_time()\n",
    "rank_review_time = journal['user_review_time']\n",
    "for i in rank_review_time:\n",
    "    for key in review_time.keys():\n",
    "        if (i == key):\n",
    "            a = rank_review_time.replace(i,review_time[key], inplace=True)"
   ]
  },
  {
   "cell_type": "markdown",
   "metadata": {},
   "source": [
    "# View Dataset"
   ]
  },
  {
   "cell_type": "code",
   "execution_count": 13,
   "metadata": {},
   "outputs": [
    {
     "data": {
      "text/html": [
       "<div>\n",
       "<style scoped>\n",
       "    .dataframe tbody tr th:only-of-type {\n",
       "        vertical-align: middle;\n",
       "    }\n",
       "\n",
       "    .dataframe tbody tr th {\n",
       "        vertical-align: top;\n",
       "    }\n",
       "\n",
       "    .dataframe thead th {\n",
       "        text-align: right;\n",
       "    }\n",
       "</style>\n",
       "<table border=\"1\" class=\"dataframe\">\n",
       "  <thead>\n",
       "    <tr style=\"text-align: right;\">\n",
       "      <th></th>\n",
       "      <th>scopus_source_id</th>\n",
       "      <th>title</th>\n",
       "      <th>citescore</th>\n",
       "      <th>percentile</th>\n",
       "      <th>citation_count</th>\n",
       "      <th>scholarly_output</th>\n",
       "      <th>percent_cited</th>\n",
       "      <th>snip</th>\n",
       "      <th>sjr</th>\n",
       "      <th>rank</th>\n",
       "      <th>...</th>\n",
       "      <th>e_issn</th>\n",
       "      <th>index</th>\n",
       "      <th>frequency</th>\n",
       "      <th>review_time</th>\n",
       "      <th>user_index</th>\n",
       "      <th>user_publisher</th>\n",
       "      <th>user_percentile</th>\n",
       "      <th>user_frequency</th>\n",
       "      <th>user_open_access</th>\n",
       "      <th>user_review_time</th>\n",
       "    </tr>\n",
       "  </thead>\n",
       "  <tbody>\n",
       "    <tr>\n",
       "      <th>0</th>\n",
       "      <td>11900154400</td>\n",
       "      <td>International Journal of Information Technolog...</td>\n",
       "      <td>1.29</td>\n",
       "      <td>60</td>\n",
       "      <td>63</td>\n",
       "      <td>49</td>\n",
       "      <td>63</td>\n",
       "      <td>0.635</td>\n",
       "      <td>0.191</td>\n",
       "      <td>82</td>\n",
       "      <td>...</td>\n",
       "      <td>15541053</td>\n",
       "      <td>Scopus</td>\n",
       "      <td>Bi-monthly</td>\n",
       "      <td>12 weeks</td>\n",
       "      <td>1.0</td>\n",
       "      <td>0.10</td>\n",
       "      <td>0.7</td>\n",
       "      <td>0.8</td>\n",
       "      <td>0.5</td>\n",
       "      <td>0.4</td>\n",
       "    </tr>\n",
       "    <tr>\n",
       "      <th>1</th>\n",
       "      <td>12100154817</td>\n",
       "      <td>International Journal of Wireless and Mobile C...</td>\n",
       "      <td>0.49</td>\n",
       "      <td>22</td>\n",
       "      <td>137</td>\n",
       "      <td>280</td>\n",
       "      <td>30</td>\n",
       "      <td>0.252</td>\n",
       "      <td>0.168</td>\n",
       "      <td>160</td>\n",
       "      <td>...</td>\n",
       "      <td>17411092</td>\n",
       "      <td>Scopus</td>\n",
       "      <td>Bi-monthly</td>\n",
       "      <td>12 weeks</td>\n",
       "      <td>1.0</td>\n",
       "      <td>0.40</td>\n",
       "      <td>0.3</td>\n",
       "      <td>0.8</td>\n",
       "      <td>0.5</td>\n",
       "      <td>0.4</td>\n",
       "    </tr>\n",
       "    <tr>\n",
       "      <th>2</th>\n",
       "      <td>12100154833</td>\n",
       "      <td>ACM Transactions on Applied Perception</td>\n",
       "      <td>1.93</td>\n",
       "      <td>75</td>\n",
       "      <td>145</td>\n",
       "      <td>75</td>\n",
       "      <td>59</td>\n",
       "      <td>1.244</td>\n",
       "      <td>0.381</td>\n",
       "      <td>52</td>\n",
       "      <td>...</td>\n",
       "      <td>15443965</td>\n",
       "      <td>Scopus</td>\n",
       "      <td>Bi-annually</td>\n",
       "      <td>6 weeks</td>\n",
       "      <td>1.0</td>\n",
       "      <td>0.25</td>\n",
       "      <td>1.0</td>\n",
       "      <td>0.4</td>\n",
       "      <td>0.5</td>\n",
       "      <td>0.8</td>\n",
       "    </tr>\n",
       "    <tr>\n",
       "      <th>3</th>\n",
       "      <td>12166</td>\n",
       "      <td>Mathematics and Computers in Simulation</td>\n",
       "      <td>1.88</td>\n",
       "      <td>73</td>\n",
       "      <td>733</td>\n",
       "      <td>389</td>\n",
       "      <td>59</td>\n",
       "      <td>0.981</td>\n",
       "      <td>0.526</td>\n",
       "      <td>54</td>\n",
       "      <td>...</td>\n",
       "      <td>NaN</td>\n",
       "      <td>Scopus</td>\n",
       "      <td>Quarterly</td>\n",
       "      <td>10 weeks</td>\n",
       "      <td>1.0</td>\n",
       "      <td>0.85</td>\n",
       "      <td>0.7</td>\n",
       "      <td>0.6</td>\n",
       "      <td>0.5</td>\n",
       "      <td>0.6</td>\n",
       "    </tr>\n",
       "    <tr>\n",
       "      <th>4</th>\n",
       "      <td>12213</td>\n",
       "      <td>ACM Transactions on Computer Systems</td>\n",
       "      <td>3.84</td>\n",
       "      <td>90</td>\n",
       "      <td>146</td>\n",
       "      <td>38</td>\n",
       "      <td>71</td>\n",
       "      <td>2.746</td>\n",
       "      <td>0.537</td>\n",
       "      <td>20</td>\n",
       "      <td>...</td>\n",
       "      <td>NaN</td>\n",
       "      <td>Scopus</td>\n",
       "      <td>Bi-monthly</td>\n",
       "      <td>12 weeks</td>\n",
       "      <td>1.0</td>\n",
       "      <td>0.25</td>\n",
       "      <td>1.0</td>\n",
       "      <td>0.8</td>\n",
       "      <td>0.5</td>\n",
       "      <td>0.4</td>\n",
       "    </tr>\n",
       "  </tbody>\n",
       "</table>\n",
       "<p>5 rows × 30 columns</p>\n",
       "</div>"
      ],
      "text/plain": [
       "   scopus_source_id                                              title  \\\n",
       "0       11900154400  International Journal of Information Technolog...   \n",
       "1       12100154817  International Journal of Wireless and Mobile C...   \n",
       "2       12100154833             ACM Transactions on Applied Perception   \n",
       "3             12166            Mathematics and Computers in Simulation   \n",
       "4             12213               ACM Transactions on Computer Systems   \n",
       "\n",
       "   citescore  percentile  citation_count  scholarly_output  percent_cited  \\\n",
       "0       1.29          60              63                49             63   \n",
       "1       0.49          22             137               280             30   \n",
       "2       1.93          75             145                75             59   \n",
       "3       1.88          73             733               389             59   \n",
       "4       3.84          90             146                38             71   \n",
       "\n",
       "    snip    sjr  rank  ...    e_issn   index    frequency review_time  \\\n",
       "0  0.635  0.191    82  ...  15541053  Scopus   Bi-monthly    12 weeks   \n",
       "1  0.252  0.168   160  ...  17411092  Scopus   Bi-monthly    12 weeks   \n",
       "2  1.244  0.381    52  ...  15443965  Scopus  Bi-annually     6 weeks   \n",
       "3  0.981  0.526    54  ...       NaN  Scopus    Quarterly    10 weeks   \n",
       "4  2.746  0.537    20  ...       NaN  Scopus   Bi-monthly    12 weeks   \n",
       "\n",
       "   user_index user_publisher user_percentile user_frequency user_open_access  \\\n",
       "0         1.0           0.10             0.7            0.8              0.5   \n",
       "1         1.0           0.40             0.3            0.8              0.5   \n",
       "2         1.0           0.25             1.0            0.4              0.5   \n",
       "3         1.0           0.85             0.7            0.6              0.5   \n",
       "4         1.0           0.25             1.0            0.8              0.5   \n",
       "\n",
       "  user_review_time  \n",
       "0              0.4  \n",
       "1              0.4  \n",
       "2              0.8  \n",
       "3              0.6  \n",
       "4              0.4  \n",
       "\n",
       "[5 rows x 30 columns]"
      ]
     },
     "execution_count": 13,
     "metadata": {},
     "output_type": "execute_result"
    }
   ],
   "source": [
    "journal.head()"
   ]
  },
  {
   "cell_type": "code",
   "execution_count": 14,
   "metadata": {},
   "outputs": [],
   "source": [
    "journal.to_csv(r'C:\\Users\\Gbubemi\\Documents\\#Project\\journal-ranking-system-dataset\\User Journals.csv', index=False) "
   ]
  },
  {
   "cell_type": "code",
   "execution_count": null,
   "metadata": {},
   "outputs": [],
   "source": []
  }
 ],
 "metadata": {
  "kernelspec": {
   "display_name": "Python 3",
   "language": "python",
   "name": "python3"
  },
  "language_info": {
   "codemirror_mode": {
    "name": "ipython",
    "version": 3
   },
   "file_extension": ".py",
   "mimetype": "text/x-python",
   "name": "python",
   "nbconvert_exporter": "python",
   "pygments_lexer": "ipython3",
   "version": "3.7.3"
  }
 },
 "nbformat": 4,
 "nbformat_minor": 2
}
