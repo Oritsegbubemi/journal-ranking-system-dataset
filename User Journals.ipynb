{
 "cells": [
  {
   "cell_type": "markdown",
   "metadata": {},
   "source": [
    "# Import all the needed libraries"
   ]
  },
  {
   "cell_type": "code",
   "execution_count": 1,
   "metadata": {},
   "outputs": [],
   "source": [
    "import numpy as np\n",
    "import pandas as pd"
   ]
  },
  {
   "cell_type": "code",
   "execution_count": 2,
   "metadata": {},
   "outputs": [
    {
     "data": {
      "text/html": [
       "<div>\n",
       "<style scoped>\n",
       "    .dataframe tbody tr th:only-of-type {\n",
       "        vertical-align: middle;\n",
       "    }\n",
       "\n",
       "    .dataframe tbody tr th {\n",
       "        vertical-align: top;\n",
       "    }\n",
       "\n",
       "    .dataframe thead th {\n",
       "        text-align: right;\n",
       "    }\n",
       "</style>\n",
       "<table border=\"1\" class=\"dataframe\">\n",
       "  <thead>\n",
       "    <tr style=\"text-align: right;\">\n",
       "      <th></th>\n",
       "      <th>scopus_source_id</th>\n",
       "      <th>title</th>\n",
       "      <th>citescore</th>\n",
       "      <th>percentile</th>\n",
       "      <th>citation_count</th>\n",
       "      <th>scholarly_output</th>\n",
       "      <th>percent_cited</th>\n",
       "      <th>snip</th>\n",
       "      <th>sjr</th>\n",
       "      <th>rank</th>\n",
       "      <th>...</th>\n",
       "      <th>e_issn</th>\n",
       "      <th>index</th>\n",
       "      <th>frequency</th>\n",
       "      <th>review_time</th>\n",
       "      <th>user_index</th>\n",
       "      <th>user_publisher</th>\n",
       "      <th>user_percentile</th>\n",
       "      <th>user_frequency</th>\n",
       "      <th>user_open_access</th>\n",
       "      <th>user_review_time</th>\n",
       "    </tr>\n",
       "  </thead>\n",
       "  <tbody>\n",
       "    <tr>\n",
       "      <th>0</th>\n",
       "      <td>13024</td>\n",
       "      <td>Acta Cybernetica</td>\n",
       "      <td>0.37</td>\n",
       "      <td>19</td>\n",
       "      <td>30</td>\n",
       "      <td>81</td>\n",
       "      <td>23</td>\n",
       "      <td>0.373</td>\n",
       "      <td>0.138</td>\n",
       "      <td>41</td>\n",
       "      <td>...</td>\n",
       "      <td>NaN</td>\n",
       "      <td>Scopus</td>\n",
       "      <td>Bi-annually</td>\n",
       "      <td>6 weeks</td>\n",
       "      <td>1.0</td>\n",
       "      <td>0.1</td>\n",
       "      <td>0.3</td>\n",
       "      <td>0.4</td>\n",
       "      <td>0.5</td>\n",
       "      <td>0.8</td>\n",
       "    </tr>\n",
       "    <tr>\n",
       "      <th>1</th>\n",
       "      <td>144674</td>\n",
       "      <td>Journal of Geomatics</td>\n",
       "      <td>0.10</td>\n",
       "      <td>6</td>\n",
       "      <td>41</td>\n",
       "      <td>413</td>\n",
       "      <td>7</td>\n",
       "      <td>0.074</td>\n",
       "      <td>0.111</td>\n",
       "      <td>47</td>\n",
       "      <td>...</td>\n",
       "      <td>NaN</td>\n",
       "      <td>Scopus</td>\n",
       "      <td>Bi-annually</td>\n",
       "      <td>6 weeks</td>\n",
       "      <td>1.0</td>\n",
       "      <td>0.1</td>\n",
       "      <td>0.3</td>\n",
       "      <td>0.4</td>\n",
       "      <td>0.5</td>\n",
       "      <td>0.8</td>\n",
       "    </tr>\n",
       "    <tr>\n",
       "      <th>2</th>\n",
       "      <td>145095</td>\n",
       "      <td>Journal of Logic, Language and Information</td>\n",
       "      <td>0.91</td>\n",
       "      <td>37</td>\n",
       "      <td>40</td>\n",
       "      <td>44</td>\n",
       "      <td>50</td>\n",
       "      <td>1.514</td>\n",
       "      <td>0.342</td>\n",
       "      <td>32</td>\n",
       "      <td>...</td>\n",
       "      <td>NaN</td>\n",
       "      <td>Scopus</td>\n",
       "      <td>Monthly</td>\n",
       "      <td>18 weeks</td>\n",
       "      <td>1.0</td>\n",
       "      <td>1.0</td>\n",
       "      <td>0.5</td>\n",
       "      <td>1.0</td>\n",
       "      <td>0.5</td>\n",
       "      <td>0.2</td>\n",
       "    </tr>\n",
       "    <tr>\n",
       "      <th>3</th>\n",
       "      <td>15591</td>\n",
       "      <td>Journal of Artificial Societies and Social Sim...</td>\n",
       "      <td>2.42</td>\n",
       "      <td>79</td>\n",
       "      <td>404</td>\n",
       "      <td>167</td>\n",
       "      <td>69</td>\n",
       "      <td>1.493</td>\n",
       "      <td>1.097</td>\n",
       "      <td>11</td>\n",
       "      <td>...</td>\n",
       "      <td>NaN</td>\n",
       "      <td>Scopus</td>\n",
       "      <td>Annually</td>\n",
       "      <td>4 weeks</td>\n",
       "      <td>1.0</td>\n",
       "      <td>0.1</td>\n",
       "      <td>1.0</td>\n",
       "      <td>0.2</td>\n",
       "      <td>1.0</td>\n",
       "      <td>1.0</td>\n",
       "    </tr>\n",
       "    <tr>\n",
       "      <th>4</th>\n",
       "      <td>17700155307</td>\n",
       "      <td>Chongqing Daxue Xuebao/Journal of Chongqing Un...</td>\n",
       "      <td>0.33</td>\n",
       "      <td>14</td>\n",
       "      <td>129</td>\n",
       "      <td>389</td>\n",
       "      <td>24</td>\n",
       "      <td>0.301</td>\n",
       "      <td>0.203</td>\n",
       "      <td>43</td>\n",
       "      <td>...</td>\n",
       "      <td>NaN</td>\n",
       "      <td>Scopus</td>\n",
       "      <td>Annually</td>\n",
       "      <td>4 weeks</td>\n",
       "      <td>1.0</td>\n",
       "      <td>0.1</td>\n",
       "      <td>0.3</td>\n",
       "      <td>0.2</td>\n",
       "      <td>0.5</td>\n",
       "      <td>1.0</td>\n",
       "    </tr>\n",
       "  </tbody>\n",
       "</table>\n",
       "<p>5 rows × 30 columns</p>\n",
       "</div>"
      ],
      "text/plain": [
       "   scopus_source_id                                              title  \\\n",
       "0             13024                                   Acta Cybernetica   \n",
       "1            144674                               Journal of Geomatics   \n",
       "2            145095         Journal of Logic, Language and Information   \n",
       "3             15591  Journal of Artificial Societies and Social Sim...   \n",
       "4       17700155307  Chongqing Daxue Xuebao/Journal of Chongqing Un...   \n",
       "\n",
       "   citescore  percentile  citation_count  scholarly_output  percent_cited  \\\n",
       "0       0.37          19              30                81             23   \n",
       "1       0.10           6              41               413              7   \n",
       "2       0.91          37              40                44             50   \n",
       "3       2.42          79             404               167             69   \n",
       "4       0.33          14             129               389             24   \n",
       "\n",
       "    snip    sjr  rank  ...  e_issn   index    frequency review_time  \\\n",
       "0  0.373  0.138    41  ...     NaN  Scopus  Bi-annually     6 weeks   \n",
       "1  0.074  0.111    47  ...     NaN  Scopus  Bi-annually     6 weeks   \n",
       "2  1.514  0.342    32  ...     NaN  Scopus      Monthly    18 weeks   \n",
       "3  1.493  1.097    11  ...     NaN  Scopus     Annually     4 weeks   \n",
       "4  0.301  0.203    43  ...     NaN  Scopus     Annually     4 weeks   \n",
       "\n",
       "   user_index user_publisher user_percentile user_frequency user_open_access  \\\n",
       "0         1.0            0.1             0.3            0.4              0.5   \n",
       "1         1.0            0.1             0.3            0.4              0.5   \n",
       "2         1.0            1.0             0.5            1.0              0.5   \n",
       "3         1.0            0.1             1.0            0.2              1.0   \n",
       "4         1.0            0.1             0.3            0.2              0.5   \n",
       "\n",
       "  user_review_time  \n",
       "0              0.8  \n",
       "1              0.8  \n",
       "2              0.2  \n",
       "3              1.0  \n",
       "4              1.0  \n",
       "\n",
       "[5 rows x 30 columns]"
      ]
     },
     "execution_count": 2,
     "metadata": {},
     "output_type": "execute_result"
    }
   ],
   "source": [
    "journal = pd.read_csv('User Journals.csv')\n",
    "journal.head()"
   ]
  },
  {
   "cell_type": "code",
   "execution_count": 3,
   "metadata": {},
   "outputs": [],
   "source": [
    "number = len(journal)\n",
    "columns = journal.columns[24:30]"
   ]
  },
  {
   "cell_type": "code",
   "execution_count": 4,
   "metadata": {},
   "outputs": [
    {
     "name": "stdout",
     "output_type": "stream",
     "text": [
      "Index(['user_index', 'user_publisher', 'user_percentile', 'user_frequency',\n",
      "       'user_open_access', 'user_review_time'],\n",
      "      dtype='object')\n"
     ]
    }
   ],
   "source": [
    "print(columns)"
   ]
  },
  {
   "cell_type": "markdown",
   "metadata": {},
   "source": [
    "## Mean"
   ]
  },
  {
   "cell_type": "code",
   "execution_count": 5,
   "metadata": {},
   "outputs": [
    {
     "name": "stdout",
     "output_type": "stream",
     "text": [
      "[1.0, 0.23333333333333317, 0.6266666666666666, 0.551111111111111, 0.6555555555555556, 0.6488888888888888]\n"
     ]
    }
   ],
   "source": [
    "#Mean - 4\n",
    "mean = []\n",
    "for i in columns:\n",
    "    mean_criteria = np.mean(journal[i])\n",
    "    mean.append(mean_criteria)\n",
    "print(mean)"
   ]
  },
  {
   "cell_type": "markdown",
   "metadata": {},
   "source": [
    "## Variance"
   ]
  },
  {
   "cell_type": "code",
   "execution_count": 6,
   "metadata": {},
   "outputs": [
    {
     "name": "stdout",
     "output_type": "stream",
     "text": [
      "[0.0, 3.340000000000002, 2.9479999999999995, 3.5324444444444443, 2.4111111111111114, 3.532444444444442]\n"
     ]
    }
   ],
   "source": [
    "#Variance - 5\n",
    "variance = []\n",
    "for i in columns:\n",
    "    variance_criteria = np.var(journal[i])*number\n",
    "    variance.append(variance_criteria)\n",
    "print(variance)"
   ]
  },
  {
   "cell_type": "markdown",
   "metadata": {},
   "source": [
    "## Deviation"
   ]
  },
  {
   "cell_type": "code",
   "execution_count": 7,
   "metadata": {},
   "outputs": [
    {
     "name": "stdout",
     "output_type": "stream",
     "text": [
      "[1.0, -2.340000000000002, -1.9479999999999995, -2.5324444444444443, -1.4111111111111114, -2.532444444444442]\n"
     ]
    }
   ],
   "source": [
    "#Deviation - 6\n",
    "deviation = []\n",
    "for (i, j) in zip(columns, variance):\n",
    "    deviation_criteria = 1 - j\n",
    "    deviation.append(deviation_criteria)\n",
    "print(deviation)"
   ]
  },
  {
   "cell_type": "markdown",
   "metadata": {},
   "source": [
    "## Finding Overall preference value "
   ]
  },
  {
   "cell_type": "code",
   "execution_count": 8,
   "metadata": {},
   "outputs": [
    {
     "name": "stdout",
     "output_type": "stream",
     "text": [
      "[-0.10241704219582139, 0.23965587873822228, 0.19950839819746002, 0.2593654695252401, 0.14452182620965912, 0.25936546952523987]\n"
     ]
    }
   ],
   "source": [
    "#Finding Overall preference value - 7\n",
    "preference_value = []\n",
    "overall = sum(deviation)\n",
    "for (i, j) in zip(columns, deviation):\n",
    "    preference_criteria = j/overall\n",
    "    preference_value.append(preference_criteria)\n",
    "print(preference_value)\n",
    "sum_ = sum(preference_value)"
   ]
  },
  {
   "cell_type": "code",
   "execution_count": 9,
   "metadata": {},
   "outputs": [
    {
     "data": {
      "text/plain": [
       "1.0"
      ]
     },
     "execution_count": 9,
     "metadata": {},
     "output_type": "execute_result"
    }
   ],
   "source": [
    "sum_"
   ]
  },
  {
   "cell_type": "markdown",
   "metadata": {},
   "source": [
    "## Calculating PSI"
   ]
  },
  {
   "cell_type": "code",
   "execution_count": 10,
   "metadata": {},
   "outputs": [],
   "source": [
    "#Calculating PSI - 8\n",
    "for (i,j) in zip(columns, preference_value): \n",
    "    journal[i] = journal.loc[:, i] * j"
   ]
  },
  {
   "cell_type": "code",
   "execution_count": 11,
   "metadata": {},
   "outputs": [],
   "source": [
    "#psi_rank = journal.drop(['scopus_source_id', 'subject_area'], axis=1)\n",
    "psi_rank = journal.iloc[:, 24:30]\n",
    "psi = []\n",
    "for i in range(number):\n",
    "    psi_sum = sum(psi_rank.loc[i])\n",
    "    psi.append(psi_sum)"
   ]
  },
  {
   "cell_type": "code",
   "execution_count": 12,
   "metadata": {},
   "outputs": [],
   "source": [
    "journal['PSI'] = psi"
   ]
  },
  {
   "cell_type": "code",
   "execution_count": 13,
   "metadata": {},
   "outputs": [],
   "source": [
    "ranked_journal = journal.sort_values('PSI', ascending=False)"
   ]
  },
  {
   "cell_type": "code",
   "execution_count": 14,
   "metadata": {},
   "outputs": [
    {
     "data": {
      "text/html": [
       "<div>\n",
       "<style scoped>\n",
       "    .dataframe tbody tr th:only-of-type {\n",
       "        vertical-align: middle;\n",
       "    }\n",
       "\n",
       "    .dataframe tbody tr th {\n",
       "        vertical-align: top;\n",
       "    }\n",
       "\n",
       "    .dataframe thead th {\n",
       "        text-align: right;\n",
       "    }\n",
       "</style>\n",
       "<table border=\"1\" class=\"dataframe\">\n",
       "  <thead>\n",
       "    <tr style=\"text-align: right;\">\n",
       "      <th></th>\n",
       "      <th>scopus_source_id</th>\n",
       "      <th>title</th>\n",
       "      <th>citescore</th>\n",
       "      <th>percentile</th>\n",
       "      <th>citation_count</th>\n",
       "      <th>scholarly_output</th>\n",
       "      <th>percent_cited</th>\n",
       "      <th>snip</th>\n",
       "      <th>sjr</th>\n",
       "      <th>rank</th>\n",
       "      <th>...</th>\n",
       "      <th>index</th>\n",
       "      <th>frequency</th>\n",
       "      <th>review_time</th>\n",
       "      <th>user_index</th>\n",
       "      <th>user_publisher</th>\n",
       "      <th>user_percentile</th>\n",
       "      <th>user_frequency</th>\n",
       "      <th>user_open_access</th>\n",
       "      <th>user_review_time</th>\n",
       "      <th>PSI</th>\n",
       "    </tr>\n",
       "  </thead>\n",
       "  <tbody>\n",
       "    <tr>\n",
       "      <th>35</th>\n",
       "      <td>28352</td>\n",
       "      <td>Ocean Modelling</td>\n",
       "      <td>3.27</td>\n",
       "      <td>87</td>\n",
       "      <td>1093</td>\n",
       "      <td>334</td>\n",
       "      <td>82</td>\n",
       "      <td>1.392</td>\n",
       "      <td>1.899</td>\n",
       "      <td>7</td>\n",
       "      <td>...</td>\n",
       "      <td>Scopus</td>\n",
       "      <td>Monthly</td>\n",
       "      <td>18 weeks</td>\n",
       "      <td>-0.102417</td>\n",
       "      <td>0.203707</td>\n",
       "      <td>0.199508</td>\n",
       "      <td>0.259365</td>\n",
       "      <td>0.072261</td>\n",
       "      <td>0.051873</td>\n",
       "      <td>0.684298</td>\n",
       "    </tr>\n",
       "    <tr>\n",
       "      <th>17</th>\n",
       "      <td>21100405702</td>\n",
       "      <td>Journal of Computer Virology and Hacking Techn...</td>\n",
       "      <td>1.84</td>\n",
       "      <td>67</td>\n",
       "      <td>138</td>\n",
       "      <td>75</td>\n",
       "      <td>53</td>\n",
       "      <td>1.100</td>\n",
       "      <td>0.279</td>\n",
       "      <td>17</td>\n",
       "      <td>...</td>\n",
       "      <td>Scopus</td>\n",
       "      <td>Monthly</td>\n",
       "      <td>18 weeks</td>\n",
       "      <td>-0.102417</td>\n",
       "      <td>0.239656</td>\n",
       "      <td>0.139656</td>\n",
       "      <td>0.259365</td>\n",
       "      <td>0.072261</td>\n",
       "      <td>0.051873</td>\n",
       "      <td>0.660394</td>\n",
       "    </tr>\n",
       "    <tr>\n",
       "      <th>14</th>\n",
       "      <td>21100368801</td>\n",
       "      <td>IEEE/ACM Transactions on Audio Speech and Lang...</td>\n",
       "      <td>5.06</td>\n",
       "      <td>95</td>\n",
       "      <td>2388</td>\n",
       "      <td>472</td>\n",
       "      <td>85</td>\n",
       "      <td>2.382</td>\n",
       "      <td>1.045</td>\n",
       "      <td>3</td>\n",
       "      <td>...</td>\n",
       "      <td>Scopus</td>\n",
       "      <td>Bi-monthly</td>\n",
       "      <td>12 weeks</td>\n",
       "      <td>-0.102417</td>\n",
       "      <td>0.167759</td>\n",
       "      <td>0.199508</td>\n",
       "      <td>0.207492</td>\n",
       "      <td>0.072261</td>\n",
       "      <td>0.103746</td>\n",
       "      <td>0.648350</td>\n",
       "    </tr>\n",
       "    <tr>\n",
       "      <th>13</th>\n",
       "      <td>21100338508</td>\n",
       "      <td>IEEE Transactions on Emerging Topics in Computing</td>\n",
       "      <td>4.36</td>\n",
       "      <td>91</td>\n",
       "      <td>659</td>\n",
       "      <td>151</td>\n",
       "      <td>74</td>\n",
       "      <td>1.830</td>\n",
       "      <td>0.659</td>\n",
       "      <td>5</td>\n",
       "      <td>...</td>\n",
       "      <td>Scopus</td>\n",
       "      <td>Annually</td>\n",
       "      <td>4 weeks</td>\n",
       "      <td>-0.102417</td>\n",
       "      <td>0.167759</td>\n",
       "      <td>0.199508</td>\n",
       "      <td>0.051873</td>\n",
       "      <td>0.072261</td>\n",
       "      <td>0.259365</td>\n",
       "      <td>0.648350</td>\n",
       "    </tr>\n",
       "    <tr>\n",
       "      <th>2</th>\n",
       "      <td>145095</td>\n",
       "      <td>Journal of Logic, Language and Information</td>\n",
       "      <td>0.91</td>\n",
       "      <td>37</td>\n",
       "      <td>40</td>\n",
       "      <td>44</td>\n",
       "      <td>50</td>\n",
       "      <td>1.514</td>\n",
       "      <td>0.342</td>\n",
       "      <td>32</td>\n",
       "      <td>...</td>\n",
       "      <td>Scopus</td>\n",
       "      <td>Monthly</td>\n",
       "      <td>18 weeks</td>\n",
       "      <td>-0.102417</td>\n",
       "      <td>0.239656</td>\n",
       "      <td>0.099754</td>\n",
       "      <td>0.259365</td>\n",
       "      <td>0.072261</td>\n",
       "      <td>0.051873</td>\n",
       "      <td>0.620493</td>\n",
       "    </tr>\n",
       "  </tbody>\n",
       "</table>\n",
       "<p>5 rows × 31 columns</p>\n",
       "</div>"
      ],
      "text/plain": [
       "    scopus_source_id                                              title  \\\n",
       "35             28352                                    Ocean Modelling   \n",
       "17       21100405702  Journal of Computer Virology and Hacking Techn...   \n",
       "14       21100368801  IEEE/ACM Transactions on Audio Speech and Lang...   \n",
       "13       21100338508  IEEE Transactions on Emerging Topics in Computing   \n",
       "2             145095         Journal of Logic, Language and Information   \n",
       "\n",
       "    citescore  percentile  citation_count  scholarly_output  percent_cited  \\\n",
       "35       3.27          87            1093               334             82   \n",
       "17       1.84          67             138                75             53   \n",
       "14       5.06          95            2388               472             85   \n",
       "13       4.36          91             659               151             74   \n",
       "2        0.91          37              40                44             50   \n",
       "\n",
       "     snip    sjr  rank  ...   index   frequency review_time user_index  \\\n",
       "35  1.392  1.899     7  ...  Scopus     Monthly    18 weeks  -0.102417   \n",
       "17  1.100  0.279    17  ...  Scopus     Monthly    18 weeks  -0.102417   \n",
       "14  2.382  1.045     3  ...  Scopus  Bi-monthly    12 weeks  -0.102417   \n",
       "13  1.830  0.659     5  ...  Scopus    Annually     4 weeks  -0.102417   \n",
       "2   1.514  0.342    32  ...  Scopus     Monthly    18 weeks  -0.102417   \n",
       "\n",
       "    user_publisher user_percentile user_frequency user_open_access  \\\n",
       "35        0.203707        0.199508       0.259365         0.072261   \n",
       "17        0.239656        0.139656       0.259365         0.072261   \n",
       "14        0.167759        0.199508       0.207492         0.072261   \n",
       "13        0.167759        0.199508       0.051873         0.072261   \n",
       "2         0.239656        0.099754       0.259365         0.072261   \n",
       "\n",
       "   user_review_time       PSI  \n",
       "35         0.051873  0.684298  \n",
       "17         0.051873  0.660394  \n",
       "14         0.103746  0.648350  \n",
       "13         0.259365  0.648350  \n",
       "2          0.051873  0.620493  \n",
       "\n",
       "[5 rows x 31 columns]"
      ]
     },
     "execution_count": 14,
     "metadata": {},
     "output_type": "execute_result"
    }
   ],
   "source": [
    "ranked_journal.head()"
   ]
  },
  {
   "cell_type": "code",
   "execution_count": 15,
   "metadata": {},
   "outputs": [],
   "source": [
    "ranked_journal.to_csv(r'C:\\Users\\Gbubemi\\Documents\\#Project\\journal-ranking-system-dataset\\Result Journals.csv', index=False) "
   ]
  },
  {
   "cell_type": "code",
   "execution_count": null,
   "metadata": {},
   "outputs": [],
   "source": []
  }
 ],
 "metadata": {
  "kernelspec": {
   "display_name": "Python 3",
   "language": "python",
   "name": "python3"
  },
  "language_info": {
   "codemirror_mode": {
    "name": "ipython",
    "version": 3
   },
   "file_extension": ".py",
   "mimetype": "text/x-python",
   "name": "python",
   "nbconvert_exporter": "python",
   "pygments_lexer": "ipython3",
   "version": "3.7.3"
  }
 },
 "nbformat": 4,
 "nbformat_minor": 2
}
