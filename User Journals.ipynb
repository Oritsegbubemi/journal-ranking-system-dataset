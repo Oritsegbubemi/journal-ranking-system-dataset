{
 "cells": [
  {
   "cell_type": "markdown",
   "metadata": {},
   "source": [
    "# Import all the needed libraries"
   ]
  },
  {
   "cell_type": "code",
   "execution_count": 12,
   "metadata": {},
   "outputs": [],
   "source": [
    "import numpy as np\n",
    "import pandas as pd"
   ]
  },
  {
   "cell_type": "code",
   "execution_count": 13,
   "metadata": {},
   "outputs": [
    {
     "data": {
      "text/html": [
       "<div>\n",
       "<style scoped>\n",
       "    .dataframe tbody tr th:only-of-type {\n",
       "        vertical-align: middle;\n",
       "    }\n",
       "\n",
       "    .dataframe tbody tr th {\n",
       "        vertical-align: top;\n",
       "    }\n",
       "\n",
       "    .dataframe thead th {\n",
       "        text-align: right;\n",
       "    }\n",
       "</style>\n",
       "<table border=\"1\" class=\"dataframe\">\n",
       "  <thead>\n",
       "    <tr style=\"text-align: right;\">\n",
       "      <th></th>\n",
       "      <th>scopus_source_id</th>\n",
       "      <th>title</th>\n",
       "      <th>citescore</th>\n",
       "      <th>percentile</th>\n",
       "      <th>citation_count</th>\n",
       "      <th>scholarly_output</th>\n",
       "      <th>percent_cited</th>\n",
       "      <th>snip</th>\n",
       "      <th>sjr</th>\n",
       "      <th>rank</th>\n",
       "      <th>...</th>\n",
       "      <th>journal_website</th>\n",
       "      <th>review_time</th>\n",
       "      <th>open_access2</th>\n",
       "      <th>print_issn</th>\n",
       "      <th>e_issn</th>\n",
       "      <th>user_index</th>\n",
       "      <th>user_publisher</th>\n",
       "      <th>user_percentile</th>\n",
       "      <th>user_frequency</th>\n",
       "      <th>user_open_access</th>\n",
       "    </tr>\n",
       "  </thead>\n",
       "  <tbody>\n",
       "    <tr>\n",
       "      <th>0</th>\n",
       "      <td>13024</td>\n",
       "      <td>Acta Cybernetica</td>\n",
       "      <td>0.37</td>\n",
       "      <td>19</td>\n",
       "      <td>30</td>\n",
       "      <td>81</td>\n",
       "      <td>23</td>\n",
       "      <td>0.373</td>\n",
       "      <td>0.138</td>\n",
       "      <td>41</td>\n",
       "      <td>...</td>\n",
       "      <td>http://www.inf.u-szeged.hu/actacybernetica/edb...</td>\n",
       "      <td>NaN</td>\n",
       "      <td>No</td>\n",
       "      <td>0324-721X</td>\n",
       "      <td>NaN</td>\n",
       "      <td>1.0</td>\n",
       "      <td>0.1</td>\n",
       "      <td>0.3</td>\n",
       "      <td>0.3</td>\n",
       "      <td>0.5</td>\n",
       "    </tr>\n",
       "    <tr>\n",
       "      <th>1</th>\n",
       "      <td>144674</td>\n",
       "      <td>Journal of Geomatics</td>\n",
       "      <td>0.10</td>\n",
       "      <td>6</td>\n",
       "      <td>41</td>\n",
       "      <td>413</td>\n",
       "      <td>7</td>\n",
       "      <td>0.074</td>\n",
       "      <td>0.111</td>\n",
       "      <td>47</td>\n",
       "      <td>...</td>\n",
       "      <td>https://ores.su/en/journals/journal-of-geomatics/</td>\n",
       "      <td>NaN</td>\n",
       "      <td>No</td>\n",
       "      <td>2095-6045</td>\n",
       "      <td>NaN</td>\n",
       "      <td>1.0</td>\n",
       "      <td>0.1</td>\n",
       "      <td>0.3</td>\n",
       "      <td>0.6</td>\n",
       "      <td>0.5</td>\n",
       "    </tr>\n",
       "    <tr>\n",
       "      <th>2</th>\n",
       "      <td>145095</td>\n",
       "      <td>Journal of Logic, Language and Information</td>\n",
       "      <td>0.91</td>\n",
       "      <td>37</td>\n",
       "      <td>40</td>\n",
       "      <td>44</td>\n",
       "      <td>50</td>\n",
       "      <td>1.514</td>\n",
       "      <td>0.342</td>\n",
       "      <td>32</td>\n",
       "      <td>...</td>\n",
       "      <td>http://www.springer.com/philosophy/logic+and+p...</td>\n",
       "      <td>NaN</td>\n",
       "      <td>No</td>\n",
       "      <td>0925-8531</td>\n",
       "      <td>1572-9583</td>\n",
       "      <td>1.0</td>\n",
       "      <td>1.0</td>\n",
       "      <td>0.5</td>\n",
       "      <td>0.5</td>\n",
       "      <td>0.5</td>\n",
       "    </tr>\n",
       "    <tr>\n",
       "      <th>3</th>\n",
       "      <td>15591</td>\n",
       "      <td>Journal of Artificial Societies and Social Sim...</td>\n",
       "      <td>2.42</td>\n",
       "      <td>79</td>\n",
       "      <td>404</td>\n",
       "      <td>167</td>\n",
       "      <td>69</td>\n",
       "      <td>1.493</td>\n",
       "      <td>1.097</td>\n",
       "      <td>11</td>\n",
       "      <td>...</td>\n",
       "      <td>http://jasss.soc.surrey.ac.uk/JASSS.html</td>\n",
       "      <td>21 weeks</td>\n",
       "      <td>Yes</td>\n",
       "      <td>1460-7425</td>\n",
       "      <td>NaN</td>\n",
       "      <td>1.0</td>\n",
       "      <td>0.1</td>\n",
       "      <td>1.0</td>\n",
       "      <td>0.5</td>\n",
       "      <td>1.0</td>\n",
       "    </tr>\n",
       "    <tr>\n",
       "      <th>4</th>\n",
       "      <td>17700155307</td>\n",
       "      <td>Chongqing Daxue Xuebao/Journal of Chongqing Un...</td>\n",
       "      <td>0.33</td>\n",
       "      <td>14</td>\n",
       "      <td>129</td>\n",
       "      <td>389</td>\n",
       "      <td>24</td>\n",
       "      <td>0.301</td>\n",
       "      <td>0.203</td>\n",
       "      <td>43</td>\n",
       "      <td>...</td>\n",
       "      <td>NaN</td>\n",
       "      <td>NaN</td>\n",
       "      <td>No</td>\n",
       "      <td>1000-582X</td>\n",
       "      <td>NaN</td>\n",
       "      <td>1.0</td>\n",
       "      <td>0.1</td>\n",
       "      <td>0.3</td>\n",
       "      <td>0.6</td>\n",
       "      <td>0.5</td>\n",
       "    </tr>\n",
       "  </tbody>\n",
       "</table>\n",
       "<p>5 rows × 33 columns</p>\n",
       "</div>"
      ],
      "text/plain": [
       "   scopus_source_id                                              title  \\\n",
       "0             13024                                   Acta Cybernetica   \n",
       "1            144674                               Journal of Geomatics   \n",
       "2            145095         Journal of Logic, Language and Information   \n",
       "3             15591  Journal of Artificial Societies and Social Sim...   \n",
       "4       17700155307  Chongqing Daxue Xuebao/Journal of Chongqing Un...   \n",
       "\n",
       "   citescore  percentile  citation_count  scholarly_output  percent_cited  \\\n",
       "0       0.37          19              30                81             23   \n",
       "1       0.10           6              41               413              7   \n",
       "2       0.91          37              40                44             50   \n",
       "3       2.42          79             404               167             69   \n",
       "4       0.33          14             129               389             24   \n",
       "\n",
       "    snip    sjr  rank  ...                                    journal_website  \\\n",
       "0  0.373  0.138    41  ...  http://www.inf.u-szeged.hu/actacybernetica/edb...   \n",
       "1  0.074  0.111    47  ...  https://ores.su/en/journals/journal-of-geomatics/   \n",
       "2  1.514  0.342    32  ...  http://www.springer.com/philosophy/logic+and+p...   \n",
       "3  1.493  1.097    11  ...           http://jasss.soc.surrey.ac.uk/JASSS.html   \n",
       "4  0.301  0.203    43  ...                                                NaN   \n",
       "\n",
       "  review_time open_access2 print_issn     e_issn user_index user_publisher  \\\n",
       "0         NaN           No  0324-721X        NaN        1.0            0.1   \n",
       "1         NaN           No  2095-6045        NaN        1.0            0.1   \n",
       "2         NaN           No  0925-8531  1572-9583        1.0            1.0   \n",
       "3    21 weeks          Yes  1460-7425        NaN        1.0            0.1   \n",
       "4         NaN           No  1000-582X        NaN        1.0            0.1   \n",
       "\n",
       "  user_percentile user_frequency user_open_access  \n",
       "0             0.3            0.3              0.5  \n",
       "1             0.3            0.6              0.5  \n",
       "2             0.5            0.5              0.5  \n",
       "3             1.0            0.5              1.0  \n",
       "4             0.3            0.6              0.5  \n",
       "\n",
       "[5 rows x 33 columns]"
      ]
     },
     "execution_count": 13,
     "metadata": {},
     "output_type": "execute_result"
    }
   ],
   "source": [
    "journal = pd.read_csv('User Journals.csv')\n",
    "journal.head()"
   ]
  },
  {
   "cell_type": "code",
   "execution_count": 14,
   "metadata": {},
   "outputs": [],
   "source": [
    "number = len(journal)\n",
    "columns = journal.columns[28:33]"
   ]
  },
  {
   "cell_type": "code",
   "execution_count": 15,
   "metadata": {},
   "outputs": [
    {
     "name": "stdout",
     "output_type": "stream",
     "text": [
      "Index(['user_index', 'user_publisher', 'user_percentile', 'user_frequency',\n",
      "       'user_open_access'],\n",
      "      dtype='object')\n"
     ]
    }
   ],
   "source": [
    "print(columns)"
   ]
  },
  {
   "cell_type": "markdown",
   "metadata": {},
   "source": [
    "## Mean"
   ]
  },
  {
   "cell_type": "code",
   "execution_count": 17,
   "metadata": {},
   "outputs": [
    {
     "name": "stdout",
     "output_type": "stream",
     "text": [
      "[1.0, 0.23333333333333317, 0.6266666666666666, 0.5311111111111113, 0.6555555555555556]\n"
     ]
    }
   ],
   "source": [
    "#Mean - 4\n",
    "mean = []\n",
    "for i in columns:\n",
    "    mean_criteria = np.mean(journal[i])\n",
    "    mean.append(mean_criteria)\n",
    "print(mean)"
   ]
  },
  {
   "cell_type": "markdown",
   "metadata": {},
   "source": [
    "## Variance"
   ]
  },
  {
   "cell_type": "code",
   "execution_count": 18,
   "metadata": {},
   "outputs": [
    {
     "name": "stdout",
     "output_type": "stream",
     "text": [
      "[0.0, 3.340000000000002, 2.9479999999999995, 0.816444444444445, 2.4111111111111114]\n"
     ]
    }
   ],
   "source": [
    "#Variance - 5\n",
    "variance = []\n",
    "for i in columns:\n",
    "    variance_criteria = np.var(journal[i])*number\n",
    "    variance.append(variance_criteria)\n",
    "print(variance)"
   ]
  },
  {
   "cell_type": "markdown",
   "metadata": {},
   "source": [
    "## Deviation"
   ]
  },
  {
   "cell_type": "code",
   "execution_count": 19,
   "metadata": {},
   "outputs": [
    {
     "name": "stdout",
     "output_type": "stream",
     "text": [
      "[1.0, -2.340000000000002, -1.9479999999999995, 0.18355555555555503, -1.4111111111111114]\n"
     ]
    }
   ],
   "source": [
    "#Deviation - 6\n",
    "deviation = []\n",
    "for (i, j) in zip(columns, variance):\n",
    "    deviation_criteria = 1 - j\n",
    "    deviation.append(deviation_criteria)\n",
    "print(deviation)"
   ]
  },
  {
   "cell_type": "markdown",
   "metadata": {},
   "source": [
    "## Finding Overall preference value "
   ]
  },
  {
   "cell_type": "code",
   "execution_count": 20,
   "metadata": {},
   "outputs": [
    {
     "name": "stdout",
     "output_type": "stream",
     "text": [
      "[-0.2214566929133857, 0.518208661417323, 0.43139763779527524, -0.04064960629921246, 0.3124999999999999]\n"
     ]
    }
   ],
   "source": [
    "#Finding Overall preference value - 7\n",
    "preference_value = []\n",
    "overall = sum(deviation)\n",
    "for (i, j) in zip(columns, deviation):\n",
    "    preference_criteria = j/overall\n",
    "    preference_value.append(preference_criteria)\n",
    "print(preference_value)\n",
    "sum_ = sum(preference_value)"
   ]
  },
  {
   "cell_type": "code",
   "execution_count": 21,
   "metadata": {},
   "outputs": [
    {
     "data": {
      "text/plain": [
       "1.0"
      ]
     },
     "execution_count": 21,
     "metadata": {},
     "output_type": "execute_result"
    }
   ],
   "source": [
    "sum_"
   ]
  },
  {
   "cell_type": "markdown",
   "metadata": {},
   "source": [
    "## Calculating PSI"
   ]
  },
  {
   "cell_type": "code",
   "execution_count": 22,
   "metadata": {},
   "outputs": [],
   "source": [
    "#Calculating PSI - 8\n",
    "for (i,j) in zip(columns, preference_value): \n",
    "    journal[i] = journal.loc[:, i] * j"
   ]
  },
  {
   "cell_type": "code",
   "execution_count": 25,
   "metadata": {},
   "outputs": [],
   "source": [
    "#psi_rank = journal.drop(['scopus_source_id', 'subject_area'], axis=1)\n",
    "psi_rank = journal.iloc[:, 28:33]\n",
    "psi = []\n",
    "for i in range(number):\n",
    "    psi_sum = sum(psi_rank.loc[i])\n",
    "    psi.append(psi_sum)"
   ]
  },
  {
   "cell_type": "code",
   "execution_count": 26,
   "metadata": {},
   "outputs": [],
   "source": [
    "journal['PSI'] = psi"
   ]
  },
  {
   "cell_type": "code",
   "execution_count": 27,
   "metadata": {},
   "outputs": [],
   "source": [
    "ranked_journal = journal.sort_values('PSI', ascending=False)"
   ]
  },
  {
   "cell_type": "code",
   "execution_count": 28,
   "metadata": {},
   "outputs": [
    {
     "data": {
      "text/html": [
       "<div>\n",
       "<style scoped>\n",
       "    .dataframe tbody tr th:only-of-type {\n",
       "        vertical-align: middle;\n",
       "    }\n",
       "\n",
       "    .dataframe tbody tr th {\n",
       "        vertical-align: top;\n",
       "    }\n",
       "\n",
       "    .dataframe thead th {\n",
       "        text-align: right;\n",
       "    }\n",
       "</style>\n",
       "<table border=\"1\" class=\"dataframe\">\n",
       "  <thead>\n",
       "    <tr style=\"text-align: right;\">\n",
       "      <th></th>\n",
       "      <th>scopus_source_id</th>\n",
       "      <th>title</th>\n",
       "      <th>citescore</th>\n",
       "      <th>percentile</th>\n",
       "      <th>citation_count</th>\n",
       "      <th>scholarly_output</th>\n",
       "      <th>percent_cited</th>\n",
       "      <th>snip</th>\n",
       "      <th>sjr</th>\n",
       "      <th>rank</th>\n",
       "      <th>...</th>\n",
       "      <th>review_time</th>\n",
       "      <th>open_access2</th>\n",
       "      <th>print_issn</th>\n",
       "      <th>e_issn</th>\n",
       "      <th>user_index</th>\n",
       "      <th>user_publisher</th>\n",
       "      <th>user_percentile</th>\n",
       "      <th>user_frequency</th>\n",
       "      <th>user_open_access</th>\n",
       "      <th>PSI</th>\n",
       "    </tr>\n",
       "  </thead>\n",
       "  <tbody>\n",
       "    <tr>\n",
       "      <th>35</th>\n",
       "      <td>28352</td>\n",
       "      <td>Ocean Modelling</td>\n",
       "      <td>3.27</td>\n",
       "      <td>87</td>\n",
       "      <td>1093</td>\n",
       "      <td>334</td>\n",
       "      <td>82</td>\n",
       "      <td>1.392</td>\n",
       "      <td>1.899</td>\n",
       "      <td>7</td>\n",
       "      <td>...</td>\n",
       "      <td>NaN</td>\n",
       "      <td>No</td>\n",
       "      <td>1463-5003</td>\n",
       "      <td>1463-5011</td>\n",
       "      <td>-0.221457</td>\n",
       "      <td>0.440477</td>\n",
       "      <td>0.431398</td>\n",
       "      <td>-0.028455</td>\n",
       "      <td>0.15625</td>\n",
       "      <td>0.778214</td>\n",
       "    </tr>\n",
       "    <tr>\n",
       "      <th>17</th>\n",
       "      <td>21100405702</td>\n",
       "      <td>Journal of Computer Virology and Hacking Techn...</td>\n",
       "      <td>1.84</td>\n",
       "      <td>67</td>\n",
       "      <td>138</td>\n",
       "      <td>75</td>\n",
       "      <td>53</td>\n",
       "      <td>1.100</td>\n",
       "      <td>0.279</td>\n",
       "      <td>17</td>\n",
       "      <td>...</td>\n",
       "      <td>NaN</td>\n",
       "      <td>No</td>\n",
       "      <td>NaN</td>\n",
       "      <td>2263-8733</td>\n",
       "      <td>-0.221457</td>\n",
       "      <td>0.518209</td>\n",
       "      <td>0.301978</td>\n",
       "      <td>-0.024390</td>\n",
       "      <td>0.15625</td>\n",
       "      <td>0.730591</td>\n",
       "    </tr>\n",
       "    <tr>\n",
       "      <th>13</th>\n",
       "      <td>21100338508</td>\n",
       "      <td>IEEE Transactions on Emerging Topics in Computing</td>\n",
       "      <td>4.36</td>\n",
       "      <td>91</td>\n",
       "      <td>659</td>\n",
       "      <td>151</td>\n",
       "      <td>74</td>\n",
       "      <td>1.830</td>\n",
       "      <td>0.659</td>\n",
       "      <td>5</td>\n",
       "      <td>...</td>\n",
       "      <td>NaN</td>\n",
       "      <td>No</td>\n",
       "      <td>2168-6750</td>\n",
       "      <td>NaN</td>\n",
       "      <td>-0.221457</td>\n",
       "      <td>0.362746</td>\n",
       "      <td>0.431398</td>\n",
       "      <td>-0.020325</td>\n",
       "      <td>0.15625</td>\n",
       "      <td>0.708612</td>\n",
       "    </tr>\n",
       "    <tr>\n",
       "      <th>14</th>\n",
       "      <td>21100368801</td>\n",
       "      <td>IEEE/ACM Transactions on Audio Speech and Lang...</td>\n",
       "      <td>5.06</td>\n",
       "      <td>95</td>\n",
       "      <td>2388</td>\n",
       "      <td>472</td>\n",
       "      <td>85</td>\n",
       "      <td>2.382</td>\n",
       "      <td>1.045</td>\n",
       "      <td>3</td>\n",
       "      <td>...</td>\n",
       "      <td>NaN</td>\n",
       "      <td>No</td>\n",
       "      <td>2329-9290</td>\n",
       "      <td>2329-9304</td>\n",
       "      <td>-0.221457</td>\n",
       "      <td>0.362746</td>\n",
       "      <td>0.431398</td>\n",
       "      <td>-0.028455</td>\n",
       "      <td>0.15625</td>\n",
       "      <td>0.700482</td>\n",
       "    </tr>\n",
       "    <tr>\n",
       "      <th>2</th>\n",
       "      <td>145095</td>\n",
       "      <td>Journal of Logic, Language and Information</td>\n",
       "      <td>0.91</td>\n",
       "      <td>37</td>\n",
       "      <td>40</td>\n",
       "      <td>44</td>\n",
       "      <td>50</td>\n",
       "      <td>1.514</td>\n",
       "      <td>0.342</td>\n",
       "      <td>32</td>\n",
       "      <td>...</td>\n",
       "      <td>NaN</td>\n",
       "      <td>No</td>\n",
       "      <td>0925-8531</td>\n",
       "      <td>1572-9583</td>\n",
       "      <td>-0.221457</td>\n",
       "      <td>0.518209</td>\n",
       "      <td>0.215699</td>\n",
       "      <td>-0.020325</td>\n",
       "      <td>0.15625</td>\n",
       "      <td>0.648376</td>\n",
       "    </tr>\n",
       "  </tbody>\n",
       "</table>\n",
       "<p>5 rows × 34 columns</p>\n",
       "</div>"
      ],
      "text/plain": [
       "    scopus_source_id                                              title  \\\n",
       "35             28352                                    Ocean Modelling   \n",
       "17       21100405702  Journal of Computer Virology and Hacking Techn...   \n",
       "13       21100338508  IEEE Transactions on Emerging Topics in Computing   \n",
       "14       21100368801  IEEE/ACM Transactions on Audio Speech and Lang...   \n",
       "2             145095         Journal of Logic, Language and Information   \n",
       "\n",
       "    citescore  percentile  citation_count  scholarly_output  percent_cited  \\\n",
       "35       3.27          87            1093               334             82   \n",
       "17       1.84          67             138                75             53   \n",
       "13       4.36          91             659               151             74   \n",
       "14       5.06          95            2388               472             85   \n",
       "2        0.91          37              40                44             50   \n",
       "\n",
       "     snip    sjr  rank  ...  review_time open_access2 print_issn     e_issn  \\\n",
       "35  1.392  1.899     7  ...          NaN           No  1463-5003  1463-5011   \n",
       "17  1.100  0.279    17  ...          NaN           No        NaN  2263-8733   \n",
       "13  1.830  0.659     5  ...          NaN           No  2168-6750        NaN   \n",
       "14  2.382  1.045     3  ...          NaN           No  2329-9290  2329-9304   \n",
       "2   1.514  0.342    32  ...          NaN           No  0925-8531  1572-9583   \n",
       "\n",
       "    user_index user_publisher user_percentile user_frequency user_open_access  \\\n",
       "35   -0.221457       0.440477        0.431398      -0.028455          0.15625   \n",
       "17   -0.221457       0.518209        0.301978      -0.024390          0.15625   \n",
       "13   -0.221457       0.362746        0.431398      -0.020325          0.15625   \n",
       "14   -0.221457       0.362746        0.431398      -0.028455          0.15625   \n",
       "2    -0.221457       0.518209        0.215699      -0.020325          0.15625   \n",
       "\n",
       "         PSI  \n",
       "35  0.778214  \n",
       "17  0.730591  \n",
       "13  0.708612  \n",
       "14  0.700482  \n",
       "2   0.648376  \n",
       "\n",
       "[5 rows x 34 columns]"
      ]
     },
     "execution_count": 28,
     "metadata": {},
     "output_type": "execute_result"
    }
   ],
   "source": [
    "ranked_journal.head()"
   ]
  },
  {
   "cell_type": "code",
   "execution_count": 30,
   "metadata": {},
   "outputs": [],
   "source": [
    "ranked_journal.to_csv('Result Journals.csv', index=False) "
   ]
  },
  {
   "cell_type": "code",
   "execution_count": null,
   "metadata": {},
   "outputs": [],
   "source": []
  }
 ],
 "metadata": {
  "kernelspec": {
   "display_name": "Python 3",
   "language": "python",
   "name": "python3"
  },
  "language_info": {
   "codemirror_mode": {
    "name": "ipython",
    "version": 3
   },
   "file_extension": ".py",
   "mimetype": "text/x-python",
   "name": "python",
   "nbconvert_exporter": "python",
   "pygments_lexer": "ipython3",
   "version": "3.7.3"
  }
 },
 "nbformat": 4,
 "nbformat_minor": 2
}
