{
 "cells": [
  {
   "cell_type": "code",
   "execution_count": 17,
   "metadata": {},
   "outputs": [
    {
     "data": {
      "text/plain": [
       "['Abimbola Dorcas Olarinmoye',\n",
       " 'Oluwaseyi Olukoju',\n",
       " 'Mofe Olayanju',\n",
       " 'Idono Onyemunosa-Ibeabuchi',\n",
       " 'Nuhah DjKclern Horloladey (casted stonner)',\n",
       " 'Adesola Olomide',\n",
       " 'Melody Okunuga',\n",
       " 'Olalere Ajala',\n",
       " 'Koyi Kolade',\n",
       " 'Oluchi Opara',\n",
       " 'Akinbulire Ope',\n",
       " 'Valentine Akinkuoroye (Zaddy)',\n",
       " 'Omowumi Famojuro',\n",
       " 'Kolade Ade-Olunusi']"
      ]
     },
     "execution_count": 17,
     "metadata": {},
     "output_type": "execute_result"
    }
   ],
   "source": [
    "import time\n",
    "import os\n",
    "from selenium import webdriver\n",
    "from selenium.common.exceptions import UnexpectedAlertPresentException\n",
    "from selenium.webdriver.common.keys import Keys\n",
    "from bs4 import BeautifulSoup\n",
    "from selenium.webdriver.common.by import By\n",
    "from selenium.webdriver.support.ui import WebDriverWait\n",
    "from selenium.webdriver.support import expected_conditions as EC\n",
    "import json\n",
    "import re\n",
    "\n",
    "\n",
    "driver = webdriver.Firefox(r'C:\\geckodriver-v0.24.0-win64')\n",
    "def facebook_logIn():\n",
    "    driver.maximize_window()\n",
    "    driver.implicitly_wait(30)\n",
    "    linkToCdir = os.path.dirname('__file__')\n",
    "    driver.get(\"http://www.facebook.com\")\n",
    "    driver.find_element_by_id(\"email\").clear()\n",
    "    driver.find_element_by_id(\"email\").send_keys(\"08053089115\")\n",
    "    driver.find_element_by_id(\"pass\").send_keys(\"**********\")\n",
    "    driver.find_element_by_id(\"loginbutton\").click()\n",
    "    return list_of_friends()\n",
    "    \n",
    "def list_of_friends():\n",
    "    driver.get(\"https://www.facebook.com/search/me/friends?f=AboT-ij8dt0BxoIXcbBhrkKMTsgPfslssrOCWhDr3wjRJyT5y3SnZYZACjI2ZINne9MF0dF_--alUcS9JUM3ncEEBoTHKSOXHPC0cLltZviqBw&epa=SEE_MORE\")\n",
    "    my_soup = BeautifulSoup(driver.page_source, 'lxml')\n",
    "    html = my_soup.find_all('a',class_='_32mo')\n",
    "    friends = []\n",
    "    for i in html:\n",
    "        new = re.findall('(?<=<span>).*?(?=</span>)', str(i))\n",
    "        for names in new:\n",
    "            friends.append(names)\n",
    "    return friends\n",
    "\n",
    "friends = facebook_login()\n",
    "\n",
    "friends"
   ]
  },
  {
   "cell_type": "code",
   "execution_count": 13,
   "metadata": {},
   "outputs": [
    {
     "name": "stderr",
     "output_type": "stream",
     "text": [
      "C:\\Users\\Temitope\\Anaconda3\\lib\\site-packages\\bs4\\__init__.py:181: UserWarning: No parser was explicitly specified, so I'm using the best available HTML parser for this system (\"lxml\"). This usually isn't a problem, but if you run this code on another system, or in a different virtual environment, it may use a different parser and behave differently.\n",
      "\n",
      "The code that caused this warning is on line 193 of the file C:\\Users\\Temitope\\Anaconda3\\lib\\runpy.py. To get rid of this warning, change code that looks like this:\n",
      "\n",
      " BeautifulSoup(YOUR_MARKUP})\n",
      "\n",
      "to this:\n",
      "\n",
      " BeautifulSoup(YOUR_MARKUP, \"lxml\")\n",
      "\n",
      "  markup_type=markup_type))\n"
     ]
    },
    {
     "data": {
      "text/plain": [
       "{'Abimbola Dorcas Olarinmoye': [],\n",
       " 'Oluwaseyi Olukoju': ['Each drop of a tears 😂😂😂 is costly than anything in the world..........😡😡 But..... No one knows its value until they have it in their own eyes for someone. #Oluwa #reduce my stress',\n",
       "  'Hurry hurry hurry It ur day ogbomoso boy....lolzzz DAT wot I call him. May ur days b overflow with sweet success, extraordinary love,unconditional health and unmatched wealth.... A men. Black of  Africa.'],\n",
       " 'Mofe Olayanju': [],\n",
       " 'Idono Onyemunosa-Ibeabuchi': ['I Love You.💝 I don#t know where you#re growing to.🙄 Camdan Or where you#re going either. But I#m sure if you don#t find what it is you#re looking for, you#ll make your own. ... 🌟🌟🌟 Beautiful Brown Baby Doll.  Shine. Smile. Scintillate. Awesome, forever and always💦 Happy Birthday, Idono. 📷 These fascinating art pieces shot by the amazing Jesse Young Photography Jess Zedy. Thank you! See More',\n",
       "  'Y#alllllllll! New Musical video outttt! Yes. We did it again! Checkittt. 😎😎😎',\n",
       "  'Benin City. This Sunday! Be there!!!'],\n",
       " 'Nuhah DjKclern Horloladey (casted stonner)': [],\n",
       " 'Adesola Olomide': [],\n",
       " 'Melody Okunuga': ['It#s an Easter something!  @ Sheffield',\n",
       "  'Some throwback things! Such fun carefree time spent in Ibadan during my NYSC. The most difficult decisions to make then was whether or not to travel down to Lagos for the weekend. Take advantage of every time you have now. Live in the present and put the future in God#s hands. Make the most of your now!! And don#t forget to have fun. Don#t just survive, thrive!!!'],\n",
       " 'Olalere Ajala': ['Gbam! Very true!'],\n",
       " 'Koyi Kolade': ['Happy  birthday  to my wonderful sister who is filled with the heart of gold...I believe your special day will bring you alot of happiness, love and joy, may d joy that you have spread in the past and at the moment shower abundant blessings back to you in multiple fold...Today is your day and we are celebrating  you here as well, many happy returns dear sister...Hip! Hip!! Hip!!!...Hurrayyyyyyy'],\n",
       " 'Oluchi Opara': ['Happy easter guys Camp was a little bit fun  #Shanemayar',\n",
       "  'Me, my mum, my grandma and my grandpa joyfully wish you all a happy easter. I appreciate God for the gift of my grannies...  I pray for you, longer life in good health. Amen!!!',\n",
       "  'Happy birthday to dis brother of mine He can play for Africa all d same I  still lyk him lyk dat. Don#t try to sit close to dis guy in any funeral at all bcos u go laugh tire Heavenly blessings fall on u as u mark ur birthday. More success in all ur endeavors.... Don#t forget to live long Happy birthday once again age with sufficient Grace all the way. #mc cares See More',\n",
       "  'Thank God for journey mercy...  Look what I met at home...  Achicha Di oku... Mum made it...  And ... Most especially my grannies that I#ve not seen for long now.  No wonder I#ve been home sick since..   Home is bae jare... See More'],\n",
       " 'Akinbulire Ope': ['If you need a gorgeous wedding dress that would be at the mercy of your budget, look no further, @rehobothapparels got you covered. Contact us for this in particular and several other ones.. #ibadanwedding #ibadanfashionacademy #ibadantailor #gorgeousweddingdress #weddingdresses #rehobothapparelsfashionacademy',\n",
       "  'Glory to God in the highest .. My testimony can#t be put in words or written down, I can only say Baba Ese.   So I gladly tied the knot with my bestie at the very last hours of 2018, the best decision after giving my life to the Lord..'],\n",
       " 'Valentine Akinkuoroye (Zaddy)': ['Wisdom is not about gaining power, it is using power with a sense of responsibility. Be #WISE!!!!!'],\n",
       " 'Omowumi Famojuro': ['Join us as we speak on mental health. Register through the link below https://www.eventbrite.com/e/mental-health-speaks-tickets-6… #speakout... #reachout @asads.ei @executivesinitiative See More',\n",
       "  'Hurray💃 Happy birthday to me, I wish myself long life n prosperity  Thank you Jesus ❤'],\n",
       " 'Kolade Ade-Olunusi': ['Throwback  How time flies,  I remember my love for momma#s milk and attention. The beauty of life  @ Lagos, Nigeria',\n",
       "  'Happy birthday to me.  Thank you Jesus for your loving kindness'],\n",
       " 'Pwetty Jemimah (Gold Is Bae)': ['Currently at location  Genesis centre AJAH! Segekokoactor!',\n",
       "  'Another banger..... #hypecover....#freedemboyz.....#vjtown....#team...#watchout.....'],\n",
       " 'Offokaja Favour Onyinye': ['Having seen you girls as a wonderful sisters, I used to pray that the Lord should always spare you girls for me..... CHIAMAKA OFFOKAJA NDIDIAMAKA OFFOKAJA OGECHUKWU OFFOKAJA ONYIYECHI OFFOKAJA...... I LOVE YOU ALL....#E.MONEY CARES #']}"
      ]
     },
     "execution_count": 13,
     "metadata": {},
     "output_type": "execute_result"
    }
   ],
   "source": [
    "\n",
    "def to_get_posts():\n",
    "    driver.get(\"https://www.facebook.com/search/me/friends?f=AboT-ij8dt0BxoIXcbBhrkKMTsgPfslssrOCWhDr3wjRJyT5y3SnZYZACjI2ZINne9MF0dF_--alUcS9JUM3ncEEBoTHKSOXHPC0cLltZviqBw&epa=SEE_MORE\")\n",
    "    post_Dict = {}\n",
    "    for i in friends:\n",
    "        post_Dict[i.replace(\"'\",'#')]=[]\n",
    "        driver.find_element_by_link_text(str(i)).click()\n",
    "        driver.execute_script(\"window.scrollTo(0, document.body.scrollHeight);\")\n",
    "        driver.execute_script(\"window.scrollTo(0, document.body.scrollHeight);\")\n",
    "        driver.execute_script(\"window.scrollTo(0, document.body.scrollHeight);\")\n",
    "        \n",
    "        time.sleep(20)\n",
    "        my_soup = BeautifulSoup(driver.page_source, 'lxml')\n",
    "        html = my_soup.find_all('div', class_=\"_5pbx userContent _3576\" )\n",
    "        for ii in html:\n",
    "            soup = BeautifulSoup(str(ii))\n",
    "            posts = soup.text\n",
    "            posti = posts.replace(\"'\",'#')\n",
    "            post_Dict[i].append(posti)\n",
    "            \n",
    "        driver.get(\"https://www.facebook.com/search/me/friends?f=AboT-ij8dt0BxoIXcbBhrkKMTsgPfslssrOCWhDr3wjRJyT5y3SnZYZACjI2ZINne9MF0dF_--alUcS9JUM3ncEEBoTHKSOXHPC0cLltZviqBw&epa=SEE_MORE\")\n",
    "    return postDict\n",
    "\n",
    "fbb_posts = to_get_Posts()   \n",
    "\n",
    "fbb_posts"
   ]
  },
  {
   "cell_type": "code",
   "execution_count": 18,
   "metadata": {},
   "outputs": [
    {
     "data": {
      "text/plain": [
       "[{'name': 'datr',\n",
       "  'value': 'BpLgXD1BJue_8PScQa_KdVMi',\n",
       "  'path': '/',\n",
       "  'domain': '.facebook.com',\n",
       "  'secure': True,\n",
       "  'httpOnly': True,\n",
       "  'expiry': 1621293318},\n",
       " {'name': 'sb',\n",
       "  'value': 'BpLgXJY8dH1V4AooGJoRNL4N',\n",
       "  'path': '/',\n",
       "  'domain': '.facebook.com',\n",
       "  'secure': True,\n",
       "  'httpOnly': True,\n",
       "  'expiry': 1621293320},\n",
       " {'name': 'c_user',\n",
       "  'value': '100000600546149',\n",
       "  'path': '/',\n",
       "  'domain': '.facebook.com',\n",
       "  'secure': True,\n",
       "  'httpOnly': False,\n",
       "  'expiry': 1565997320},\n",
       " {'name': 'xs',\n",
       "  'value': '37%3AK8cKVLQpVrx3Zg%3A2%3A1558221327%3A2513%3A2947',\n",
       "  'path': '/',\n",
       "  'domain': '.facebook.com',\n",
       "  'secure': True,\n",
       "  'httpOnly': True,\n",
       "  'expiry': 1565997320},\n",
       " {'name': 'fr',\n",
       "  'value': '1gJMmFB0nlqqG3LLw.AWWvIuikc7dBsMeigVwMJGvM8eQ.Bc4JIG.Jy.AAA.0.0.Bc4JIP.AWViF0wA',\n",
       "  'path': '/',\n",
       "  'domain': '.facebook.com',\n",
       "  'secure': True,\n",
       "  'httpOnly': True,\n",
       "  'expiry': 1565997320},\n",
       " {'name': 'spin',\n",
       "  'value': 'r.1000729914_b.trunk_t.1558221328_s.1_v.2_',\n",
       "  'path': '/',\n",
       "  'domain': '.facebook.com',\n",
       "  'secure': True,\n",
       "  'httpOnly': True,\n",
       "  'expiry': 1558311321},\n",
       " {'name': 'wd',\n",
       "  'value': '1231x607',\n",
       "  'path': '/',\n",
       "  'domain': '.facebook.com',\n",
       "  'secure': True,\n",
       "  'httpOnly': False,\n",
       "  'expiry': 1558826145},\n",
       " {'name': 'presence',\n",
       "  'value': 'EDvF3EtimeF1558221348EuserFA21B00600546149A2EstateFDt3F_5b_5dG558221348424CEchFDp_5f1B00600546149F2CC',\n",
       "  'path': '/',\n",
       "  'domain': '.facebook.com',\n",
       "  'secure': True,\n",
       "  'httpOnly': False}]"
      ]
     },
     "execution_count": 18,
     "metadata": {},
     "output_type": "execute_result"
    }
   ],
   "source": [
    "driver.get_cookies()"
   ]
  },
  {
   "cell_type": "code",
   "execution_count": 20,
   "metadata": {},
   "outputs": [],
   "source": [
    "json_friend_post = json.dumps(fbb_posts)"
   ]
  },
  {
   "cell_type": "code",
   "execution_count": 21,
   "metadata": {},
   "outputs": [
    {
     "data": {
      "text/plain": [
       "'{\"Abimbola Dorcas Olarinmoye\": [], \"Oluwaseyi Olukoju\": [\"Each drop of a tears \\\\ud83d\\\\ude02\\\\ud83d\\\\ude02\\\\ud83d\\\\ude02 is costly than anything in the world..........\\\\ud83d\\\\ude21\\\\ud83d\\\\ude21 But..... No one knows its value until they have it in their own eyes for someone. #Oluwa #reduce my stress\", \"Hurry hurry hurry It ur day ogbomoso boy....lolzzz DAT wot I call him. May ur days b overflow with sweet success, extraordinary love,unconditional health and unmatched wealth.... A men. Black of  Africa.\"], \"Mofe Olayanju\": [], \"Idono Onyemunosa-Ibeabuchi\": [\"I Love You.\\\\ud83d\\\\udc9d I don#t know where you#re growing to.\\\\ud83d\\\\ude44 Camdan Or where you#re going either. But I#m sure if you don#t find what it is you#re looking for, you#ll make your own. ... \\\\ud83c\\\\udf1f\\\\ud83c\\\\udf1f\\\\ud83c\\\\udf1f Beautiful Brown Baby Doll.  Shine. Smile. Scintillate. Awesome, forever and always\\\\ud83d\\\\udca6 Happy Birthday, Idono. \\\\ud83d\\\\udcf7 These fascinating art pieces shot by the amazing Jesse Young Photography Jess Zedy. Thank you! See More\", \"Y#alllllllll! New Musical video outttt! Yes. We did it again! Checkittt. \\\\ud83d\\\\ude0e\\\\ud83d\\\\ude0e\\\\ud83d\\\\ude0e\", \"Benin City. This Sunday! Be there!!!\"], \"Nuhah DjKclern Horloladey (casted stonner)\": [], \"Adesola Olomide\": [], \"Melody Okunuga\": [\"It#s an Easter something!  @ Sheffield\", \"Some throwback things! Such fun carefree time spent in Ibadan during my NYSC. The most difficult decisions to make then was whether or not to travel down to Lagos for the weekend. Take advantage of every time you have now. Live in the present and put the future in God#s hands. Make the most of your now!! And don#t forget to have fun. Don#t just survive, thrive!!!\"], \"Olalere Ajala\": [\"Gbam! Very true!\"], \"Koyi Kolade\": [\"Happy  birthday  to my wonderful sister who is filled with the heart of gold...I believe your special day will bring you alot of happiness, love and joy, may d joy that you have spread in the past and at the moment shower abundant blessings back to you in multiple fold...Today is your day and we are celebrating  you here as well, many happy returns dear sister...Hip! Hip!! Hip!!!...Hurrayyyyyyy\"], \"Oluchi Opara\": [\"Happy easter guys Camp was a little bit fun  #Shanemayar\", \"Me, my mum, my grandma and my grandpa joyfully wish you all a happy easter. I appreciate God for the gift of my grannies...  I pray for you, longer life in good health. Amen!!!\", \"Happy birthday to dis brother of mine He can play for Africa all d same I  still lyk him lyk dat. Don#t try to sit close to dis guy in any funeral at all bcos u go laugh tire Heavenly blessings fall on u as u mark ur birthday. More success in all ur endeavors.... Don#t forget to live long Happy birthday once again age with sufficient Grace all the way. #mc cares See More\", \"Thank God for journey mercy...  Look what I met at home...  Achicha Di oku... Mum made it...  And ... Most especially my grannies that I#ve not seen for long now.  No wonder I#ve been home sick since..   Home is bae jare... See More\"], \"Akinbulire Ope\": [\"If you need a gorgeous wedding dress that would be at the mercy of your budget, look no further, @rehobothapparels got you covered. Contact us for this in particular and several other ones.. #ibadanwedding #ibadanfashionacademy #ibadantailor #gorgeousweddingdress #weddingdresses #rehobothapparelsfashionacademy\", \"Glory to God in the highest .. My testimony can#t be put in words or written down, I can only say Baba Ese.   So I gladly tied the knot with my bestie at the very last hours of 2018, the best decision after giving my life to the Lord..\"], \"Valentine Akinkuoroye (Zaddy)\": [\"Wisdom is not about gaining power, it is using power with a sense of responsibility. Be #WISE!!!!!\"], \"Omowumi Famojuro\": [\"Join us as we speak on mental health. Register through the link below https://www.eventbrite.com/e/mental-health-speaks-tickets-6\\\\u2026 #speakout... #reachout @asads.ei @executivesinitiative See More\", \"Hurray\\\\ud83d\\\\udc83 Happy birthday to me, I wish myself long life n prosperity  Thank you Jesus \\\\u2764\"], \"Kolade Ade-Olunusi\": [\"Throwback  How time flies,  I remember my love for momma#s milk and attention. The beauty of life  @ Lagos, Nigeria\", \"Happy birthday to me.  Thank you Jesus for your loving kindness\"], \"Pwetty Jemimah (Gold Is Bae)\": [\"Currently at location  Genesis centre AJAH! Segekokoactor!\", \"Another banger..... #hypecover....#freedemboyz.....#vjtown....#team...#watchout.....\"], \"Offokaja Favour Onyinye\": [\"Having seen you girls as a wonderful sisters, I used to pray that the Lord should always spare you girls for me..... CHIAMAKA OFFOKAJA NDIDIAMAKA OFFOKAJA OGECHUKWU OFFOKAJA ONYIYECHI OFFOKAJA...... I LOVE YOU ALL....#E.MONEY CARES #\"]}'"
      ]
     },
     "execution_count": 21,
     "metadata": {},
     "output_type": "execute_result"
    }
   ],
   "source": [
    "json_friend_post"
   ]
  },
  {
   "cell_type": "code",
   "execution_count": null,
   "metadata": {},
   "outputs": [],
   "source": []
  }
 ],
 "metadata": {
  "kernelspec": {
   "display_name": "Python 3",
   "language": "python",
   "name": "python3"
  },
  "language_info": {
   "codemirror_mode": {
    "name": "ipython",
    "version": 3
   },
   "file_extension": ".py",
   "mimetype": "text/x-python",
   "name": "python",
   "nbconvert_exporter": "python",
   "pygments_lexer": "ipython3",
   "version": "3.7.3"
  }
 },
 "nbformat": 4,
 "nbformat_minor": 2
}
