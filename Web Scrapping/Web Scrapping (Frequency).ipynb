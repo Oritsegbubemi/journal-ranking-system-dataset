{
 "cells": [
  {
   "cell_type": "markdown",
   "metadata": {},
   "source": [
    "# Import all the needed libraries"
   ]
  },
  {
   "cell_type": "code",
   "execution_count": 1,
   "metadata": {},
   "outputs": [],
   "source": [
    "import numpy as np\n",
    "import pandas as pd\n",
    "import matplotlib.pyplot as plt\n",
    "import seaborn as sns\n",
    "%matplotlib inline\n",
    "\n",
    "import time\n",
    "from selenium import webdriver\n",
    "from selenium.webdriver.common.keys import Keys\n",
    "from bs4 import BeautifulSoup"
   ]
  },
  {
   "cell_type": "code",
   "execution_count": 2,
   "metadata": {},
   "outputs": [],
   "source": [
    "journal = pd.read_csv('Ranking Journals.csv')"
   ]
  },
  {
   "cell_type": "code",
   "execution_count": 3,
   "metadata": {},
   "outputs": [],
   "source": [
    "journal = journal.drop('frequency', axis=1)"
   ]
  },
  {
   "cell_type": "code",
   "execution_count": 4,
   "metadata": {},
   "outputs": [
    {
     "data": {
      "text/html": [
       "<div>\n",
       "<style scoped>\n",
       "    .dataframe tbody tr th:only-of-type {\n",
       "        vertical-align: middle;\n",
       "    }\n",
       "\n",
       "    .dataframe tbody tr th {\n",
       "        vertical-align: top;\n",
       "    }\n",
       "\n",
       "    .dataframe thead th {\n",
       "        text-align: right;\n",
       "    }\n",
       "</style>\n",
       "<table border=\"1\" class=\"dataframe\">\n",
       "  <thead>\n",
       "    <tr style=\"text-align: right;\">\n",
       "      <th></th>\n",
       "      <th>scopus_source_id</th>\n",
       "      <th>title</th>\n",
       "      <th>citescore</th>\n",
       "      <th>percentile</th>\n",
       "      <th>citation_count</th>\n",
       "      <th>scholarly_output</th>\n",
       "      <th>percent_cited</th>\n",
       "      <th>snip</th>\n",
       "      <th>sjr</th>\n",
       "      <th>rank</th>\n",
       "      <th>...</th>\n",
       "      <th>open_access</th>\n",
       "      <th>scopus_asjc_code</th>\n",
       "      <th>subject_area</th>\n",
       "      <th>quartile</th>\n",
       "      <th>top_10%</th>\n",
       "      <th>scopus_link</th>\n",
       "      <th>print_issn</th>\n",
       "      <th>e_issn</th>\n",
       "      <th>index</th>\n",
       "      <th>review_time</th>\n",
       "    </tr>\n",
       "  </thead>\n",
       "  <tbody>\n",
       "    <tr>\n",
       "      <th>0</th>\n",
       "      <td>11900154400</td>\n",
       "      <td>International Journal of Information Technolog...</td>\n",
       "      <td>1.29</td>\n",
       "      <td>60</td>\n",
       "      <td>63</td>\n",
       "      <td>49</td>\n",
       "      <td>63</td>\n",
       "      <td>0.635</td>\n",
       "      <td>0.191</td>\n",
       "      <td>82</td>\n",
       "      <td>...</td>\n",
       "      <td>NO</td>\n",
       "      <td>1700</td>\n",
       "      <td>General Computer Science</td>\n",
       "      <td>Quartile2</td>\n",
       "      <td>NaN</td>\n",
       "      <td>https://www.scopus.com/sourceid/11900154400</td>\n",
       "      <td>15541045</td>\n",
       "      <td>15541053</td>\n",
       "      <td>Scopus</td>\n",
       "      <td>12 weeks</td>\n",
       "    </tr>\n",
       "    <tr>\n",
       "      <th>1</th>\n",
       "      <td>12100154817</td>\n",
       "      <td>International Journal of Wireless and Mobile C...</td>\n",
       "      <td>0.49</td>\n",
       "      <td>22</td>\n",
       "      <td>137</td>\n",
       "      <td>280</td>\n",
       "      <td>30</td>\n",
       "      <td>0.252</td>\n",
       "      <td>0.168</td>\n",
       "      <td>160</td>\n",
       "      <td>...</td>\n",
       "      <td>NO</td>\n",
       "      <td>1700</td>\n",
       "      <td>General Computer Science</td>\n",
       "      <td>Quartile4</td>\n",
       "      <td>NaN</td>\n",
       "      <td>https://www.scopus.com/sourceid/12100154817</td>\n",
       "      <td>17411084</td>\n",
       "      <td>17411092</td>\n",
       "      <td>Scopus</td>\n",
       "      <td>12 weeks</td>\n",
       "    </tr>\n",
       "  </tbody>\n",
       "</table>\n",
       "<p>2 rows × 23 columns</p>\n",
       "</div>"
      ],
      "text/plain": [
       "   scopus_source_id                                              title  \\\n",
       "0       11900154400  International Journal of Information Technolog...   \n",
       "1       12100154817  International Journal of Wireless and Mobile C...   \n",
       "\n",
       "   citescore  percentile  citation_count  scholarly_output  percent_cited  \\\n",
       "0       1.29          60              63                49             63   \n",
       "1       0.49          22             137               280             30   \n",
       "\n",
       "    snip    sjr  rank  ...  open_access scopus_asjc_code  \\\n",
       "0  0.635  0.191    82  ...           NO             1700   \n",
       "1  0.252  0.168   160  ...           NO             1700   \n",
       "\n",
       "               subject_area   quartile  top_10%  \\\n",
       "0  General Computer Science  Quartile2      NaN   \n",
       "1  General Computer Science  Quartile4      NaN   \n",
       "\n",
       "                                   scopus_link print_issn    e_issn   index  \\\n",
       "0  https://www.scopus.com/sourceid/11900154400   15541045  15541053  Scopus   \n",
       "1  https://www.scopus.com/sourceid/12100154817   17411084  17411092  Scopus   \n",
       "\n",
       "  review_time  \n",
       "0    12 weeks  \n",
       "1    12 weeks  \n",
       "\n",
       "[2 rows x 23 columns]"
      ]
     },
     "execution_count": 4,
     "metadata": {},
     "output_type": "execute_result"
    }
   ],
   "source": [
    "journal.head(2)"
   ]
  },
  {
   "cell_type": "markdown",
   "metadata": {},
   "source": [
    "### Remove NAN rows on ISSN Column"
   ]
  },
  {
   "cell_type": "code",
   "execution_count": 5,
   "metadata": {},
   "outputs": [
    {
     "name": "stdout",
     "output_type": "stream",
     "text": [
      "ISSN null:  162\n",
      "Journal Length:  2122\n"
     ]
    }
   ],
   "source": [
    "print(\"ISSN null: \", journal['print_issn'].isnull().sum())\n",
    "\n",
    "journal = journal[journal['print_issn'].notna()]\n",
    "print(\"Journal Length: \", len(journal))"
   ]
  },
  {
   "cell_type": "markdown",
   "metadata": {},
   "source": [
    "# Working on the Frequency column"
   ]
  },
  {
   "cell_type": "markdown",
   "metadata": {},
   "source": [
    "### Left padding to length of 8"
   ]
  },
  {
   "cell_type": "code",
   "execution_count": 6,
   "metadata": {},
   "outputs": [],
   "source": [
    "issn = journal['print_issn']\n",
    "issn_len = 8\n",
    "for i in issn:\n",
    "    if len(i) != issn_len:\n",
    "        z = issn_len - len(i)\n",
    "        new_issn = str(\"0\"*z)+(i)\n",
    "        value = issn.replace(i, new_issn, inplace=True)\n",
    "    else:\n",
    "        new_issn = i"
   ]
  },
  {
   "cell_type": "markdown",
   "metadata": {},
   "source": [
    "### Add hypen after index 4"
   ]
  },
  {
   "cell_type": "code",
   "execution_count": 7,
   "metadata": {},
   "outputs": [],
   "source": [
    "for i in issn:\n",
    "    if len(i) == 8:\n",
    "        hyphen = i[:4] + '-' + i[4:]\n",
    "        value = issn.replace(i, hyphen, inplace=True)  "
   ]
  },
  {
   "cell_type": "code",
   "execution_count": 8,
   "metadata": {},
   "outputs": [
    {
     "data": {
      "text/plain": [
       "2279    1788-1994\n",
       "2280    0920-5691\n",
       "2281    1001-0920\n",
       "2282    1570-7873\n",
       "2283    1003-6059\n",
       "Name: print_issn, dtype: object"
      ]
     },
     "execution_count": 8,
     "metadata": {},
     "output_type": "execute_result"
    }
   ],
   "source": [
    "issn.tail()"
   ]
  },
  {
   "cell_type": "code",
   "execution_count": 9,
   "metadata": {},
   "outputs": [
    {
     "data": {
      "text/plain": [
       "0    1554-1045\n",
       "1    1741-1084\n",
       "2    1544-3558\n",
       "3    0378-4754\n",
       "4    0734-2071\n",
       "Name: print_issn, dtype: object"
      ]
     },
     "execution_count": 9,
     "metadata": {},
     "output_type": "execute_result"
    }
   ],
   "source": [
    "issn.head()"
   ]
  },
  {
   "cell_type": "code",
   "execution_count": null,
   "metadata": {},
   "outputs": [],
   "source": []
  }
 ],
 "metadata": {
  "kernelspec": {
   "display_name": "Python 3",
   "language": "python",
   "name": "python3"
  },
  "language_info": {
   "codemirror_mode": {
    "name": "ipython",
    "version": 3
   },
   "file_extension": ".py",
   "mimetype": "text/x-python",
   "name": "python",
   "nbconvert_exporter": "python",
   "pygments_lexer": "ipython3",
   "version": "3.7.3"
  }
 },
 "nbformat": 4,
 "nbformat_minor": 2
}
