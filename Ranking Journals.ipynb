{
 "cells": [
  {
   "cell_type": "markdown",
   "metadata": {},
   "source": [
    "# Import all the needed libraries"
   ]
  },
  {
   "cell_type": "code",
   "execution_count": 1,
   "metadata": {},
   "outputs": [],
   "source": [
    "import numpy as np\n",
    "import pandas as pd\n",
    "import matplotlib.pyplot as plt\n",
    "import seaborn as sns\n",
    "%matplotlib inline"
   ]
  },
  {
   "cell_type": "code",
   "execution_count": 2,
   "metadata": {},
   "outputs": [
    {
     "data": {
      "text/html": [
       "<div>\n",
       "<style scoped>\n",
       "    .dataframe tbody tr th:only-of-type {\n",
       "        vertical-align: middle;\n",
       "    }\n",
       "\n",
       "    .dataframe tbody tr th {\n",
       "        vertical-align: top;\n",
       "    }\n",
       "\n",
       "    .dataframe thead th {\n",
       "        text-align: right;\n",
       "    }\n",
       "</style>\n",
       "<table border=\"1\" class=\"dataframe\">\n",
       "  <thead>\n",
       "    <tr style=\"text-align: right;\">\n",
       "      <th></th>\n",
       "      <th>scopus_source_id</th>\n",
       "      <th>title</th>\n",
       "      <th>citescore</th>\n",
       "      <th>percentile</th>\n",
       "      <th>citation_count</th>\n",
       "      <th>scholarly_output</th>\n",
       "      <th>percent_cited</th>\n",
       "      <th>snip</th>\n",
       "      <th>sjr</th>\n",
       "      <th>rank</th>\n",
       "      <th>...</th>\n",
       "      <th>scopus_link</th>\n",
       "      <th>index</th>\n",
       "      <th>publisher2</th>\n",
       "      <th>percentile2</th>\n",
       "      <th>frequency</th>\n",
       "      <th>journal_website</th>\n",
       "      <th>review_time</th>\n",
       "      <th>open_access2</th>\n",
       "      <th>print_issn</th>\n",
       "      <th>e_issn</th>\n",
       "    </tr>\n",
       "  </thead>\n",
       "  <tbody>\n",
       "    <tr>\n",
       "      <th>0</th>\n",
       "      <td>11900154400</td>\n",
       "      <td>International Journal of Information Technolog...</td>\n",
       "      <td>1.29</td>\n",
       "      <td>60</td>\n",
       "      <td>63</td>\n",
       "      <td>49</td>\n",
       "      <td>63</td>\n",
       "      <td>0.635</td>\n",
       "      <td>0.191</td>\n",
       "      <td>82</td>\n",
       "      <td>...</td>\n",
       "      <td>https://www.scopus.com/sourceid/11900154400</td>\n",
       "      <td>Scopus</td>\n",
       "      <td>Others</td>\n",
       "      <td>2</td>\n",
       "      <td>Quarterly</td>\n",
       "      <td>https://www.igi-global.com/gateway/journal/1093</td>\n",
       "      <td>NaN</td>\n",
       "      <td>No</td>\n",
       "      <td>1554-1045</td>\n",
       "      <td>1554-1053</td>\n",
       "    </tr>\n",
       "    <tr>\n",
       "      <th>1</th>\n",
       "      <td>12100154817</td>\n",
       "      <td>International Journal of Wireless and Mobile C...</td>\n",
       "      <td>0.49</td>\n",
       "      <td>22</td>\n",
       "      <td>137</td>\n",
       "      <td>280</td>\n",
       "      <td>30</td>\n",
       "      <td>0.252</td>\n",
       "      <td>0.168</td>\n",
       "      <td>160</td>\n",
       "      <td>...</td>\n",
       "      <td>https://www.scopus.com/sourceid/12100154817</td>\n",
       "      <td>Scopus</td>\n",
       "      <td>Inderscience</td>\n",
       "      <td>4</td>\n",
       "      <td>Bi-monthly</td>\n",
       "      <td>https://www.inderscience.com/jhome.php?jcode=i...</td>\n",
       "      <td>NaN</td>\n",
       "      <td>No</td>\n",
       "      <td>1741-1084</td>\n",
       "      <td>1741-1092</td>\n",
       "    </tr>\n",
       "  </tbody>\n",
       "</table>\n",
       "<p>2 rows × 28 columns</p>\n",
       "</div>"
      ],
      "text/plain": [
       "   scopus_source_id                                              title  \\\n",
       "0       11900154400  International Journal of Information Technolog...   \n",
       "1       12100154817  International Journal of Wireless and Mobile C...   \n",
       "\n",
       "   citescore  percentile  citation_count  scholarly_output  percent_cited  \\\n",
       "0       1.29          60              63                49             63   \n",
       "1       0.49          22             137               280             30   \n",
       "\n",
       "    snip    sjr  rank  ...                                  scopus_link  \\\n",
       "0  0.635  0.191    82  ...  https://www.scopus.com/sourceid/11900154400   \n",
       "1  0.252  0.168   160  ...  https://www.scopus.com/sourceid/12100154817   \n",
       "\n",
       "    index    publisher2 percentile2   frequency  \\\n",
       "0  Scopus        Others           2   Quarterly   \n",
       "1  Scopus  Inderscience           4  Bi-monthly   \n",
       "\n",
       "                                     journal_website review_time open_access2  \\\n",
       "0    https://www.igi-global.com/gateway/journal/1093         NaN           No   \n",
       "1  https://www.inderscience.com/jhome.php?jcode=i...         NaN           No   \n",
       "\n",
       "  print_issn     e_issn  \n",
       "0  1554-1045  1554-1053  \n",
       "1  1741-1084  1741-1092  \n",
       "\n",
       "[2 rows x 28 columns]"
      ]
     },
     "execution_count": 2,
     "metadata": {},
     "output_type": "execute_result"
    }
   ],
   "source": [
    "journal = pd.read_csv('Ranking Journals.csv')\n",
    "journal.head(2)"
   ]
  },
  {
   "cell_type": "code",
   "execution_count": 3,
   "metadata": {},
   "outputs": [
    {
     "data": {
      "text/plain": [
       "2284"
      ]
     },
     "execution_count": 3,
     "metadata": {},
     "output_type": "execute_result"
    }
   ],
   "source": [
    "len(journal)"
   ]
  },
  {
   "cell_type": "markdown",
   "metadata": {},
   "source": [
    "## Creating new columns for ranking"
   ]
  },
  {
   "cell_type": "code",
   "execution_count": 4,
   "metadata": {},
   "outputs": [],
   "source": [
    "journal['user_index'] = journal['index']\n",
    "journal['user_publisher'] = journal['publisher2']\n",
    "journal['user_percentile'] = journal['percentile2']\n",
    "journal['user_frequency'] = journal['frequency']\n",
    "journal['user_open_access'] = journal['open_access2']"
   ]
  },
  {
   "cell_type": "code",
   "execution_count": 5,
   "metadata": {},
   "outputs": [
    {
     "data": {
      "text/plain": [
       "Index(['scopus_source_id', 'title', 'citescore', 'percentile',\n",
       "       'citation_count', 'scholarly_output', 'percent_cited', 'snip', 'sjr',\n",
       "       'rank', 'rank_outof', 'publisher', 'type', 'open_access',\n",
       "       'scopus_asjc_code', 'subject_area', 'quartile', 'top_10%',\n",
       "       'scopus_link', 'index', 'publisher2', 'percentile2', 'frequency',\n",
       "       'journal_website', 'review_time', 'open_access2', 'print_issn',\n",
       "       'e_issn', 'user_index', 'user_publisher', 'user_percentile',\n",
       "       'user_frequency', 'user_open_access'],\n",
       "      dtype='object')"
      ]
     },
     "execution_count": 5,
     "metadata": {},
     "output_type": "execute_result"
    }
   ],
   "source": [
    "journal.columns"
   ]
  },
  {
   "cell_type": "markdown",
   "metadata": {},
   "source": [
    "# Ranking Time Everybody!!!!!"
   ]
  },
  {
   "cell_type": "markdown",
   "metadata": {},
   "source": [
    "# Subject Area"
   ]
  },
  {
   "cell_type": "code",
   "execution_count": 6,
   "metadata": {},
   "outputs": [
    {
     "name": "stdout",
     "output_type": "stream",
     "text": [
      "Please Enter a number which represent a computer science sub-subject area: 2\n"
     ]
    }
   ],
   "source": [
    "def user__switch_subject_area(arg):\n",
    "    switcher = {\n",
    "        1: \"General Computer Science\",\n",
    "        2: \"Computer Science (miscellaneous)\",\n",
    "        3: \"Artificial Intelligence\",\n",
    "        4: \"Computational Theory and Mathematics\",\n",
    "        5: \"Computer Graphics and Computer-Aided Design\",\n",
    "        6: \"Computer Networks and Communications\",\n",
    "        7: \"Computer Science Applications\",\n",
    "        8: \"Computer Vision and Pattern Recognition\",\n",
    "        9: \"Hardware and Architecture\",\n",
    "        10: \"Human-Computer Interaction\",\n",
    "        11: \"Information Systems\",\n",
    "        12: \"Signal Processing\",\n",
    "        13: \"Software\"\n",
    "    }\n",
    "    return switcher.get(arg, \"You entered an invalid input\")\n",
    "\n",
    "user_subject_area = int(input(\"Please Enter a number which represent a computer science sub-subject area: \"))\n",
    "subject_area = user__switch_subject_area(user_subject_area)\n",
    "\n",
    "not_suject_area = journal.loc[journal['subject_area'] != subject_area]\n",
    "journal=journal.drop(not_suject_area.index, axis=0)"
   ]
  },
  {
   "cell_type": "markdown",
   "metadata": {},
   "source": [
    "## Index"
   ]
  },
  {
   "cell_type": "code",
   "execution_count": 7,
   "metadata": {},
   "outputs": [
    {
     "name": "stdout",
     "output_type": "stream",
     "text": [
      "Kindly input rank: \n",
      "1 for Scopus journals \n",
      "2 for Others\n",
      "Enter the first journal index ranking number: 1\n",
      "Enter the second journal index ranking number: 2\n"
     ]
    }
   ],
   "source": [
    "index = dict()\n",
    "def user_index():\n",
    "    print(\"Kindly input rank: \\n1 for Scopus journals \\n2 for Others\")\n",
    "    dict_index = { 1: \"Scopus\", 2: \"Others\" }\n",
    "    list_index = [\"first\", \"second\"]\n",
    "    rank_index = [1.0, 0.5]\n",
    "    \n",
    "    for (x, y) in zip(list_index, rank_index):   \n",
    "        user_text_index = \"Enter the {} journal index ranking number: \".format(x)\n",
    "        user_index = int(input(user_text_index))\n",
    "        for key in dict_index.keys():\n",
    "            if user_index == key:\n",
    "                index[dict_index[key]] = y\n",
    "               \n",
    "            elif user_index not in dict_index.keys():\n",
    "                return (\"Please enter either 1 or 2\")\n",
    "    return index\n",
    "\n",
    "user_index()\n",
    "\n",
    "rank_index = journal['user_index']\n",
    "for i in rank_index:\n",
    "    for key in index.keys():\n",
    "        if (i == key):\n",
    "            a = rank_index.replace(i,index[key], inplace=True)"
   ]
  },
  {
   "cell_type": "markdown",
   "metadata": {},
   "source": [
    "# Publisher"
   ]
  },
  {
   "cell_type": "code",
   "execution_count": 8,
   "metadata": {},
   "outputs": [
    {
     "name": "stdout",
     "output_type": "stream",
     "text": [
      "Kindly input rank: \n",
      "1 for Springer \n",
      "2 for Elsevier \n",
      "3 for IEEE \n",
      "4 for Taylor and Francis \n",
      "5 for Inderscience         \n",
      "6 for ACM \n",
      "7 for Others\n",
      "Enter the first publisher ranking number: 1\n",
      "Enter the second publisher ranking number: 2\n",
      "Enter the third publisher ranking number: 3\n",
      "Enter the forth publisher ranking number: 4\n",
      "Enter the fifth publisher ranking number: 5\n",
      "Enter the sixth publisher ranking number: 6\n",
      "Enter the seventh publisher ranking number: 7\n"
     ]
    }
   ],
   "source": [
    "publisher = dict()\n",
    "def user_publisher():\n",
    "    print(\"Kindly input rank: \\n1 for Springer \\n2 for Elsevier \\n3 for IEEE \\n4 for Taylor and Francis \\n5 for Inderscience\\\n",
    "         \\n6 for ACM \\n7 for Others\")\n",
    "    dict_publisher = { 1: \"Springer\", 2: \"Elsevier\", 3: \"IEEE\", 4: \"Taylor and Francis\", 5: \"Inderscience\", 6: \"ACM\", \n",
    "                      7: \"Others\" }\n",
    "    list_publisher = [\"first\", \"second\", \"third\", \"forth\", \"fifth\", \"sixth\", \"seventh\"]\n",
    "    rank_publisher = [1.0, 0.85, 0.7, 0.55, 0.4, 0.25, 0.1]\n",
    "    \n",
    "    for (x, y) in zip(list_publisher, rank_publisher):   \n",
    "        user_text_publisher = \"Enter the {} publisher ranking number: \".format(x)\n",
    "        user_publisher = int(input(user_text_publisher))\n",
    "        for key in dict_publisher.keys():\n",
    "            if user_publisher == key:\n",
    "                publisher[dict_publisher[key]] = y\n",
    "                \n",
    "            elif user_publisher not in dict_publisher.keys():\n",
    "                return (\"Please enter a number between 1 to 7\")\n",
    "    return publisher\n",
    "\n",
    "user_publisher()\n",
    "\n",
    "rank_publisher = journal['user_publisher']\n",
    "for i in rank_publisher:\n",
    "    for key in publisher.keys():\n",
    "        if (i == key):\n",
    "            a = rank_publisher.replace(i,publisher[key], inplace=True)"
   ]
  },
  {
   "cell_type": "markdown",
   "metadata": {},
   "source": [
    "# Percentile"
   ]
  },
  {
   "cell_type": "code",
   "execution_count": 9,
   "metadata": {},
   "outputs": [
    {
     "name": "stdout",
     "output_type": "stream",
     "text": [
      "Kindly input rank: \n",
      "1 for 99 - 75 \n",
      "2 for 74 - 50 \n",
      "3 for 49 - 25 \n",
      "4 for 24 - 0\n",
      "Enter the first percentile ranking number: 1\n",
      "Enter the second percentile ranking number: 2\n",
      "Enter the third percentile ranking number: 3\n",
      "Enter the forth percentile ranking number: 4\n"
     ]
    }
   ],
   "source": [
    "percentile = dict() \n",
    "def user_percentile(): \n",
    "    print(\"Kindly input rank: \\n1 for 99 - 75 \\n2 for 74 - 50 \\n3 for 49 - 25 \\n4 for 24 - 0\") \n",
    "    dict_percentile = { 1: 1, 2: 2, 3: 3, 4: 4} \n",
    "    list_percentile = [\"first\", \"second\", \"third\", \"forth\"] \n",
    "    rank_percentile = [1.0, 0.7, 0.5, 0.3]\n",
    "    for (x, y) in zip(list_percentile, rank_percentile):   \n",
    "        user_text_percentile = \"Enter the {} percentile ranking number: \".format(x)\n",
    "        user_percentile = int(input(user_text_percentile))\n",
    "        for key in dict_percentile.keys():\n",
    "            if user_percentile == key:\n",
    "                percentile[dict_percentile[key]] = y\n",
    "\n",
    "            elif user_percentile not in dict_percentile.keys():\n",
    "                return (\"Please enter a number between 1 to 4\")\n",
    "    return percentile\n",
    "\n",
    "user_percentile()\n",
    "rank_percentile = journal['user_percentile']\n",
    "for i in rank_percentile:\n",
    "    for key in percentile.keys():\n",
    "        if (i == key):\n",
    "            a = rank_percentile.replace(i,percentile[key], inplace=True)"
   ]
  },
  {
   "cell_type": "markdown",
   "metadata": {},
   "source": [
    "# Frequency"
   ]
  },
  {
   "cell_type": "code",
   "execution_count": 10,
   "metadata": {},
   "outputs": [
    {
     "name": "stdout",
     "output_type": "stream",
     "text": [
      "Kindly input rank: \n",
      "1 for Weekly \n",
      "2 for Fortnightly \n",
      "3 for Semi-monthly \n",
      "4 for Monthly \n",
      "5 for Bi-monthly \n",
      "6 for Quarterly \n",
      "7 for Tri-annual \n",
      "8 for Semi-annual \n",
      "9 for Annual\n",
      "Enter the first frequency ranking number: 1\n",
      "Enter the second frequency ranking number: 2\n",
      "Enter the third frequency ranking number: 3\n",
      "Enter the forth frequency ranking number: 4\n",
      "Enter the fifth frequency ranking number: 5\n",
      "Enter the sixth frequency ranking number: 6\n",
      "Enter the seventh frequency ranking number: 7\n",
      "Enter the eighth frequency ranking number: 8\n",
      "Enter the ninth frequency ranking number: 9\n"
     ]
    }
   ],
   "source": [
    "frequency = dict()\n",
    "def user_frequency():\n",
    "    print(\"Kindly input rank: \\n1 for Weekly \\n2 for Fortnightly \\n3 for Semi-monthly \\n4 for Monthly \\n5 for Bi-monthly \\n6 for Quarterly \\n7 for Tri-annual \\n8 for Semi-annual \\n9 for Annual\")\n",
    "    dict_frequency = { 1: \"Weekly\", 2: \"Fortnightly\", 3: \"Semi-monthly\", 4: \"Monthly\", 5: \"Bi-monthly\", 6: \"Quarterly\", 7: \"Tri-annual\", 8: \"Semi-annual\", 9: \"Annual\" }\n",
    "    list_frequency = [\"first\", \"second\", \"third\", \"forth\", \"fifth\", \"sixth\", \"seventh\", \"eighth\", \"ninth\"]\n",
    "    rank_frequency = [1.0, 0.9, 0.8, 0.7, 0.6, 0.5, 0.4, 0.3, 0.2]\n",
    "    \n",
    "    for (x, y) in zip(list_frequency, rank_frequency):   \n",
    "        user_text_frequency = \"Enter the {} frequency ranking number: \".format(x)\n",
    "        user_frequency = int(input(user_text_frequency))\n",
    "        for key in dict_frequency.keys():\n",
    "            if user_frequency == key:\n",
    "                frequency[dict_frequency[key]] = y\n",
    "                \n",
    "            elif user_frequency not in dict_frequency.keys():\n",
    "                return (\"Please enter a number between 1 to 9\")\n",
    "    return frequency\n",
    "\n",
    "user_frequency()\n",
    "rank_frequency = journal['user_frequency']\n",
    "for i in rank_frequency:\n",
    "    for key in frequency.keys():\n",
    "        if (i == key):\n",
    "            a = rank_frequency.replace(i,frequency[key], inplace=True)"
   ]
  },
  {
   "cell_type": "markdown",
   "metadata": {},
   "source": [
    "# Open Access"
   ]
  },
  {
   "cell_type": "code",
   "execution_count": 13,
   "metadata": {},
   "outputs": [
    {
     "name": "stdout",
     "output_type": "stream",
     "text": [
      "Do you want open access journal input: \n",
      "1 for Yes \n",
      "2 for No\n",
      "Enter the first open access ranking number: 1\n",
      "Enter the second open access ranking number: 2\n"
     ]
    }
   ],
   "source": [
    "open_access = dict()\n",
    "def user_open_access():\n",
    "    print(\"Do you want open access journal input: \\n1 for Yes \\n2 for No\")\n",
    "    dict_open_access = { 1: \"Yes\", 2: \"No\" }\n",
    "    list_open_access = [\"first\", \"second\"]\n",
    "    rank_open_access = [1.0, 0.5]\n",
    "    \n",
    "    for (x, y) in zip(list_open_access, rank_open_access):   \n",
    "        user_text_open_access = \"Enter the {} open access ranking number: \".format(x)\n",
    "        user_open_access = int(input(user_text_open_access))\n",
    "        for key in dict_open_access.keys():\n",
    "            if user_open_access == key:\n",
    "                open_access[dict_open_access[key]] = y\n",
    "               \n",
    "            elif user_open_access not in dict_open_access.keys():\n",
    "                return (\"Please enter either 1 or 2\")\n",
    "    return open_access\n",
    "\n",
    "user_open_access()\n",
    "rank_open_access = journal['user_open_access']\n",
    "for i in rank_open_access:\n",
    "    for key in open_access.keys():\n",
    "        if (i == key):\n",
    "            a = rank_open_access.replace(i,open_access[key], inplace=True)"
   ]
  },
  {
   "cell_type": "markdown",
   "metadata": {},
   "source": [
    "# View Dataset"
   ]
  },
  {
   "cell_type": "code",
   "execution_count": 14,
   "metadata": {},
   "outputs": [
    {
     "data": {
      "text/html": [
       "<div>\n",
       "<style scoped>\n",
       "    .dataframe tbody tr th:only-of-type {\n",
       "        vertical-align: middle;\n",
       "    }\n",
       "\n",
       "    .dataframe tbody tr th {\n",
       "        vertical-align: top;\n",
       "    }\n",
       "\n",
       "    .dataframe thead th {\n",
       "        text-align: right;\n",
       "    }\n",
       "</style>\n",
       "<table border=\"1\" class=\"dataframe\">\n",
       "  <thead>\n",
       "    <tr style=\"text-align: right;\">\n",
       "      <th></th>\n",
       "      <th>scopus_source_id</th>\n",
       "      <th>title</th>\n",
       "      <th>citescore</th>\n",
       "      <th>percentile</th>\n",
       "      <th>citation_count</th>\n",
       "      <th>scholarly_output</th>\n",
       "      <th>percent_cited</th>\n",
       "      <th>snip</th>\n",
       "      <th>sjr</th>\n",
       "      <th>rank</th>\n",
       "      <th>...</th>\n",
       "      <th>journal_website</th>\n",
       "      <th>review_time</th>\n",
       "      <th>open_access2</th>\n",
       "      <th>print_issn</th>\n",
       "      <th>e_issn</th>\n",
       "      <th>user_index</th>\n",
       "      <th>user_publisher</th>\n",
       "      <th>user_percentile</th>\n",
       "      <th>user_frequency</th>\n",
       "      <th>user_open_access</th>\n",
       "    </tr>\n",
       "  </thead>\n",
       "  <tbody>\n",
       "    <tr>\n",
       "      <th>180</th>\n",
       "      <td>13024</td>\n",
       "      <td>Acta Cybernetica</td>\n",
       "      <td>0.37</td>\n",
       "      <td>19</td>\n",
       "      <td>30</td>\n",
       "      <td>81</td>\n",
       "      <td>23</td>\n",
       "      <td>0.373</td>\n",
       "      <td>0.138</td>\n",
       "      <td>41</td>\n",
       "      <td>...</td>\n",
       "      <td>http://www.inf.u-szeged.hu/actacybernetica/edb...</td>\n",
       "      <td>NaN</td>\n",
       "      <td>No</td>\n",
       "      <td>0324-721X</td>\n",
       "      <td>NaN</td>\n",
       "      <td>1.0</td>\n",
       "      <td>0.1</td>\n",
       "      <td>0.3</td>\n",
       "      <td>0.3</td>\n",
       "      <td>0.5</td>\n",
       "    </tr>\n",
       "    <tr>\n",
       "      <th>181</th>\n",
       "      <td>144674</td>\n",
       "      <td>Journal of Geomatics</td>\n",
       "      <td>0.10</td>\n",
       "      <td>6</td>\n",
       "      <td>41</td>\n",
       "      <td>413</td>\n",
       "      <td>7</td>\n",
       "      <td>0.074</td>\n",
       "      <td>0.111</td>\n",
       "      <td>47</td>\n",
       "      <td>...</td>\n",
       "      <td>https://ores.su/en/journals/journal-of-geomatics/</td>\n",
       "      <td>NaN</td>\n",
       "      <td>No</td>\n",
       "      <td>2095-6045</td>\n",
       "      <td>NaN</td>\n",
       "      <td>1.0</td>\n",
       "      <td>0.1</td>\n",
       "      <td>0.3</td>\n",
       "      <td>0.6</td>\n",
       "      <td>0.5</td>\n",
       "    </tr>\n",
       "    <tr>\n",
       "      <th>182</th>\n",
       "      <td>145095</td>\n",
       "      <td>Journal of Logic, Language and Information</td>\n",
       "      <td>0.91</td>\n",
       "      <td>37</td>\n",
       "      <td>40</td>\n",
       "      <td>44</td>\n",
       "      <td>50</td>\n",
       "      <td>1.514</td>\n",
       "      <td>0.342</td>\n",
       "      <td>32</td>\n",
       "      <td>...</td>\n",
       "      <td>http://www.springer.com/philosophy/logic+and+p...</td>\n",
       "      <td>NaN</td>\n",
       "      <td>No</td>\n",
       "      <td>0925-8531</td>\n",
       "      <td>1572-9583</td>\n",
       "      <td>1.0</td>\n",
       "      <td>1.0</td>\n",
       "      <td>0.5</td>\n",
       "      <td>0.5</td>\n",
       "      <td>0.5</td>\n",
       "    </tr>\n",
       "    <tr>\n",
       "      <th>183</th>\n",
       "      <td>15591</td>\n",
       "      <td>Journal of Artificial Societies and Social Sim...</td>\n",
       "      <td>2.42</td>\n",
       "      <td>79</td>\n",
       "      <td>404</td>\n",
       "      <td>167</td>\n",
       "      <td>69</td>\n",
       "      <td>1.493</td>\n",
       "      <td>1.097</td>\n",
       "      <td>11</td>\n",
       "      <td>...</td>\n",
       "      <td>http://jasss.soc.surrey.ac.uk/JASSS.html</td>\n",
       "      <td>21 weeks</td>\n",
       "      <td>Yes</td>\n",
       "      <td>1460-7425</td>\n",
       "      <td>NaN</td>\n",
       "      <td>1.0</td>\n",
       "      <td>0.1</td>\n",
       "      <td>1.0</td>\n",
       "      <td>0.5</td>\n",
       "      <td>1.0</td>\n",
       "    </tr>\n",
       "    <tr>\n",
       "      <th>184</th>\n",
       "      <td>17700155307</td>\n",
       "      <td>Chongqing Daxue Xuebao/Journal of Chongqing Un...</td>\n",
       "      <td>0.33</td>\n",
       "      <td>14</td>\n",
       "      <td>129</td>\n",
       "      <td>389</td>\n",
       "      <td>24</td>\n",
       "      <td>0.301</td>\n",
       "      <td>0.203</td>\n",
       "      <td>43</td>\n",
       "      <td>...</td>\n",
       "      <td>NaN</td>\n",
       "      <td>NaN</td>\n",
       "      <td>No</td>\n",
       "      <td>1000-582X</td>\n",
       "      <td>NaN</td>\n",
       "      <td>1.0</td>\n",
       "      <td>0.1</td>\n",
       "      <td>0.3</td>\n",
       "      <td>0.6</td>\n",
       "      <td>0.5</td>\n",
       "    </tr>\n",
       "  </tbody>\n",
       "</table>\n",
       "<p>5 rows × 33 columns</p>\n",
       "</div>"
      ],
      "text/plain": [
       "     scopus_source_id                                              title  \\\n",
       "180             13024                                   Acta Cybernetica   \n",
       "181            144674                               Journal of Geomatics   \n",
       "182            145095         Journal of Logic, Language and Information   \n",
       "183             15591  Journal of Artificial Societies and Social Sim...   \n",
       "184       17700155307  Chongqing Daxue Xuebao/Journal of Chongqing Un...   \n",
       "\n",
       "     citescore  percentile  citation_count  scholarly_output  percent_cited  \\\n",
       "180       0.37          19              30                81             23   \n",
       "181       0.10           6              41               413              7   \n",
       "182       0.91          37              40                44             50   \n",
       "183       2.42          79             404               167             69   \n",
       "184       0.33          14             129               389             24   \n",
       "\n",
       "      snip    sjr  rank  ...  \\\n",
       "180  0.373  0.138    41  ...   \n",
       "181  0.074  0.111    47  ...   \n",
       "182  1.514  0.342    32  ...   \n",
       "183  1.493  1.097    11  ...   \n",
       "184  0.301  0.203    43  ...   \n",
       "\n",
       "                                       journal_website review_time  \\\n",
       "180  http://www.inf.u-szeged.hu/actacybernetica/edb...         NaN   \n",
       "181  https://ores.su/en/journals/journal-of-geomatics/         NaN   \n",
       "182  http://www.springer.com/philosophy/logic+and+p...         NaN   \n",
       "183           http://jasss.soc.surrey.ac.uk/JASSS.html    21 weeks   \n",
       "184                                                NaN         NaN   \n",
       "\n",
       "    open_access2 print_issn     e_issn user_index user_publisher  \\\n",
       "180           No  0324-721X        NaN        1.0            0.1   \n",
       "181           No  2095-6045        NaN        1.0            0.1   \n",
       "182           No  0925-8531  1572-9583        1.0            1.0   \n",
       "183          Yes  1460-7425        NaN        1.0            0.1   \n",
       "184           No  1000-582X        NaN        1.0            0.1   \n",
       "\n",
       "    user_percentile user_frequency user_open_access  \n",
       "180             0.3            0.3              0.5  \n",
       "181             0.3            0.6              0.5  \n",
       "182             0.5            0.5              0.5  \n",
       "183             1.0            0.5              1.0  \n",
       "184             0.3            0.6              0.5  \n",
       "\n",
       "[5 rows x 33 columns]"
      ]
     },
     "execution_count": 14,
     "metadata": {},
     "output_type": "execute_result"
    }
   ],
   "source": [
    "journal.head()"
   ]
  },
  {
   "cell_type": "code",
   "execution_count": 15,
   "metadata": {},
   "outputs": [],
   "source": [
    "journal.to_csv('User Journals.csv', index=False) "
   ]
  },
  {
   "cell_type": "code",
   "execution_count": null,
   "metadata": {},
   "outputs": [],
   "source": []
  }
 ],
 "metadata": {
  "kernelspec": {
   "display_name": "Python 3",
   "language": "python",
   "name": "python3"
  },
  "language_info": {
   "codemirror_mode": {
    "name": "ipython",
    "version": 3
   },
   "file_extension": ".py",
   "mimetype": "text/x-python",
   "name": "python",
   "nbconvert_exporter": "python",
   "pygments_lexer": "ipython3",
   "version": "3.7.3"
  }
 },
 "nbformat": 4,
 "nbformat_minor": 2
}
