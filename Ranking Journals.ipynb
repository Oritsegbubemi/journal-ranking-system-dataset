{
 "cells": [
  {
   "cell_type": "markdown",
   "metadata": {},
   "source": [
    "# Import all the needed libraries"
   ]
  },
  {
   "cell_type": "code",
   "execution_count": 1,
   "metadata": {},
   "outputs": [],
   "source": [
    "import numpy as np\n",
    "import pandas as pd"
   ]
  },
  {
   "cell_type": "code",
   "execution_count": 2,
   "metadata": {},
   "outputs": [
    {
     "data": {
      "text/html": [
       "<div>\n",
       "<style scoped>\n",
       "    .dataframe tbody tr th:only-of-type {\n",
       "        vertical-align: middle;\n",
       "    }\n",
       "\n",
       "    .dataframe tbody tr th {\n",
       "        vertical-align: top;\n",
       "    }\n",
       "\n",
       "    .dataframe thead th {\n",
       "        text-align: right;\n",
       "    }\n",
       "</style>\n",
       "<table border=\"1\" class=\"dataframe\">\n",
       "  <thead>\n",
       "    <tr style=\"text-align: right;\">\n",
       "      <th></th>\n",
       "      <th>Title</th>\n",
       "      <th>Citation Count</th>\n",
       "      <th>Scholarly Output</th>\n",
       "      <th>Percent Cited</th>\n",
       "      <th>CiteScore</th>\n",
       "      <th>SNIP</th>\n",
       "      <th>SJR</th>\n",
       "      <th>subject_area</th>\n",
       "      <th>Percentile</th>\n",
       "      <th>RANK</th>\n",
       "      <th>...</th>\n",
       "      <th>Publisher</th>\n",
       "      <th>Open Access</th>\n",
       "      <th>Quartile</th>\n",
       "      <th>URL Scopus Source ID</th>\n",
       "      <th>Print ISSN</th>\n",
       "      <th>E-ISSN</th>\n",
       "      <th>Index</th>\n",
       "      <th>Publisher2</th>\n",
       "      <th>Percentile2</th>\n",
       "      <th>Open Access2</th>\n",
       "    </tr>\n",
       "  </thead>\n",
       "  <tbody>\n",
       "    <tr>\n",
       "      <th>0</th>\n",
       "      <td>Computers in Education Journal</td>\n",
       "      <td>75</td>\n",
       "      <td>88</td>\n",
       "      <td>31.8</td>\n",
       "      <td>0.9</td>\n",
       "      <td>0.524</td>\n",
       "      <td>0.258</td>\n",
       "      <td>General Computer Science</td>\n",
       "      <td>24.0</td>\n",
       "      <td>168.0</td>\n",
       "      <td>...</td>\n",
       "      <td>American Society for Engineering Education</td>\n",
       "      <td>NO</td>\n",
       "      <td>4.0</td>\n",
       "      <td>https://www.scopus.com/sourceid/18388</td>\n",
       "      <td>1069-3769</td>\n",
       "      <td>NaN</td>\n",
       "      <td>Scopus</td>\n",
       "      <td>Others</td>\n",
       "      <td>400.0</td>\n",
       "      <td>No</td>\n",
       "    </tr>\n",
       "    <tr>\n",
       "      <th>1</th>\n",
       "      <td>Eurasip Journal on Embedded Systems</td>\n",
       "      <td>110</td>\n",
       "      <td>65</td>\n",
       "      <td>67.7</td>\n",
       "      <td>1.7</td>\n",
       "      <td>0.837</td>\n",
       "      <td>0.154</td>\n",
       "      <td>General Computer Science</td>\n",
       "      <td>50.0</td>\n",
       "      <td>111.0</td>\n",
       "      <td>...</td>\n",
       "      <td>Springer Nature</td>\n",
       "      <td>YES</td>\n",
       "      <td>2.0</td>\n",
       "      <td>https://www.scopus.com/sourceid/4000151614</td>\n",
       "      <td>1687-3955</td>\n",
       "      <td>1687-3963</td>\n",
       "      <td>Scopus</td>\n",
       "      <td>Springer</td>\n",
       "      <td>200.0</td>\n",
       "      <td>Yes</td>\n",
       "    </tr>\n",
       "  </tbody>\n",
       "</table>\n",
       "<p>2 rows × 21 columns</p>\n",
       "</div>"
      ],
      "text/plain": [
       "                                 Title  Citation Count  Scholarly Output  \\\n",
       "0       Computers in Education Journal              75                88   \n",
       "1  Eurasip Journal on Embedded Systems             110                65   \n",
       "\n",
       "   Percent Cited  CiteScore   SNIP    SJR              subject_area  \\\n",
       "0           31.8        0.9  0.524  0.258  General Computer Science   \n",
       "1           67.7        1.7  0.837  0.154  General Computer Science   \n",
       "\n",
       "   Percentile   RANK  ...                                   Publisher  \\\n",
       "0        24.0  168.0  ...  American Society for Engineering Education   \n",
       "1        50.0  111.0  ...                             Springer Nature   \n",
       "\n",
       "  Open Access Quartile                        URL Scopus Source ID Print ISSN  \\\n",
       "0          NO      4.0       https://www.scopus.com/sourceid/18388  1069-3769   \n",
       "1         YES      2.0  https://www.scopus.com/sourceid/4000151614  1687-3955   \n",
       "\n",
       "      E-ISSN   Index Publisher2 Percentile2  Open Access2  \n",
       "0        NaN  Scopus     Others       400.0            No  \n",
       "1  1687-3963  Scopus   Springer       200.0           Yes  \n",
       "\n",
       "[2 rows x 21 columns]"
      ]
     },
     "execution_count": 2,
     "metadata": {},
     "output_type": "execute_result"
    }
   ],
   "source": [
    "journal = pd.read_csv('Ranking Journals.csv')\n",
    "journal.head(2)"
   ]
  },
  {
   "cell_type": "code",
   "execution_count": 3,
   "metadata": {},
   "outputs": [
    {
     "data": {
      "text/plain": [
       "2524"
      ]
     },
     "execution_count": 3,
     "metadata": {},
     "output_type": "execute_result"
    }
   ],
   "source": [
    "len(journal)"
   ]
  },
  {
   "cell_type": "markdown",
   "metadata": {},
   "source": [
    "## Creating new columns for ranking"
   ]
  },
  {
   "cell_type": "code",
   "execution_count": 4,
   "metadata": {},
   "outputs": [],
   "source": [
    "journal['user_index'] = journal['Index']\n",
    "journal['user_publisher'] = journal['Publisher2']\n",
    "journal['user_percentile'] = journal['Percentile2']\n",
    "journal['user_open_access'] = journal['Open Access2']"
   ]
  },
  {
   "cell_type": "code",
   "execution_count": 5,
   "metadata": {},
   "outputs": [
    {
     "data": {
      "text/plain": [
       "Index(['Title', 'Citation Count', 'Scholarly Output', 'Percent Cited',\n",
       "       'CiteScore', 'SNIP', 'SJR', 'subject_area', 'Percentile', 'RANK',\n",
       "       'Rank Out Of', 'Publisher', 'Open Access', 'Quartile',\n",
       "       'URL Scopus Source ID', 'Print ISSN', 'E-ISSN', 'Index', 'Publisher2',\n",
       "       'Percentile2', 'Open Access2', 'user_index', 'user_publisher',\n",
       "       'user_percentile', 'user_open_access'],\n",
       "      dtype='object')"
      ]
     },
     "execution_count": 5,
     "metadata": {},
     "output_type": "execute_result"
    }
   ],
   "source": [
    "journal.columns"
   ]
  },
  {
   "cell_type": "markdown",
   "metadata": {},
   "source": [
    "# Ranking Time Everybody!!!!!"
   ]
  },
  {
   "cell_type": "markdown",
   "metadata": {},
   "source": [
    "# Subject Area"
   ]
  },
  {
   "cell_type": "code",
   "execution_count": 6,
   "metadata": {},
   "outputs": [
    {
     "name": "stdout",
     "output_type": "stream",
     "text": [
      "Please Enter a number which represent a computer science sub-subject area: 2\n"
     ]
    }
   ],
   "source": [
    "def user__switch_subject_area(arg):\n",
    "    switcher = {\n",
    "        1: \"General Computer Science\",\n",
    "        2: \"Computer Science (miscellaneous)\",\n",
    "        3: \"Artificial Intelligence\",\n",
    "        4: \"Computational Theory and Mathematics\",\n",
    "        5: \"Computer Graphics and Computer-Aided Design\",\n",
    "        6: \"Computer Networks and Communications\",\n",
    "        7: \"Computer Science Applications\",\n",
    "        8: \"Computer Vision and Pattern Recognition\",\n",
    "        9: \"Hardware and Architecture\",\n",
    "        10: \"Human-Computer Interaction\",\n",
    "        11: \"Information Systems\",\n",
    "        12: \"Signal Processing\",\n",
    "        13: \"Software\"\n",
    "    }\n",
    "    return switcher.get(arg, \"You entered an invalid input\")\n",
    "\n",
    "user_subject_area = int(input(\"Please Enter a number which represent a computer science sub-subject area: \"))\n",
    "subject_area = user__switch_subject_area(user_subject_area)\n",
    "not_suject_area = journal.loc[journal['subject_area'] != subject_area]\n",
    "journal=journal.drop(not_suject_area.index, axis=0)"
   ]
  },
  {
   "cell_type": "markdown",
   "metadata": {},
   "source": [
    "## Index"
   ]
  },
  {
   "cell_type": "code",
   "execution_count": 7,
   "metadata": {},
   "outputs": [
    {
     "name": "stdout",
     "output_type": "stream",
     "text": [
      "Enter the Scopus index ranking number: 2\n",
      "Enter the Scopus & SCIEISI index ranking number: 1\n",
      "{'Scopus': 1.0, 'Scopus & SCIEISI': 0.5}\n"
     ]
    }
   ],
   "source": [
    "index = dict()\n",
    "def user_index():\n",
    "    list_index = [\"Scopus\", \"Scopus & SCIEISI\"]\n",
    "    value_index = np.linspace(0.0, 1.0, 3).round(3).tolist()\n",
    "    len_index = len(list_index)\n",
    "    check_duplicate = []\n",
    "    for x in list_index:\n",
    "        while True:\n",
    "            try:\n",
    "                user_index = int(input(\"Enter the {} index ranking number: \".format(x)))\n",
    "                if(user_index in check_duplicate):\n",
    "                    print(\"Number Already taken\")\n",
    "                elif (user_index not in range(1, len_index+1)):\n",
    "                    print(\"Please enter a number between 1 to 2\") \n",
    "                else:\n",
    "                    index[x] = value_index[user_index]\n",
    "                    check_duplicate.append(user_index)\n",
    "                    break\n",
    "            except:\n",
    "                user_index = int(input(\"Enter the {} index ranking number: \".format(x)))\n",
    "                continue\n",
    "    return index\n",
    "\n",
    "print(user_index())\n",
    "rank_index = journal['user_index']\n",
    "for i in rank_index:\n",
    "    for key in index.keys():\n",
    "        if (i == key):\n",
    "            a = rank_index.replace(i,index[key], inplace=True)"
   ]
  },
  {
   "cell_type": "markdown",
   "metadata": {},
   "source": [
    "# Publisher"
   ]
  },
  {
   "cell_type": "code",
   "execution_count": 8,
   "metadata": {},
   "outputs": [
    {
     "name": "stdout",
     "output_type": "stream",
     "text": [
      "Enter the Springer publisher ranking number: 8\n",
      "Enter the Elsevier publisher ranking number: 7\n",
      "Enter the IEEE publisher ranking number: 6\n",
      "Enter the Taylor and Francis publisher ranking number: 5\n",
      "Enter the Inderscience publisher ranking number: 4\n",
      "Enter the IGI Global publisher ranking number: 3\n",
      "Enter the ACM publisher ranking number: 2\n",
      "Enter the Others publisher ranking number: 1\n",
      "{'Springer': 1.0, 'Elsevier': 0.875, 'IEEE': 0.75, 'Taylor and Francis': 0.625, 'Inderscience': 0.5, 'IGI Global': 0.375, 'ACM': 0.25, 'Others': 0.125}\n"
     ]
    }
   ],
   "source": [
    "publisher = dict()\n",
    "def user_publisher():\n",
    "    list_publisher = [\"Springer\", \"Elsevier\", \"IEEE\", \"Taylor and Francis\", \"Inderscience\", \"IGI Global\", \"ACM\", \"Others\"]\n",
    "    value_publisher = np.linspace(0.0, 1.0, 9).round(3).tolist()\n",
    "    len_publisher = len(list_publisher)\n",
    "    check_duplicate = []\n",
    "    for x in list_publisher:\n",
    "        while True:\n",
    "            try:\n",
    "                user_publisher = int(input(\"Enter the {} publisher ranking number: \".format(x)))\n",
    "                if(user_publisher in check_duplicate):\n",
    "                    print(\"Number Already taken\")\n",
    "                elif (user_publisher not in range(1, len_publisher+1)):\n",
    "                    print(\"Please enter a number between 1 to 8\") \n",
    "                else:\n",
    "                    publisher[x] = value_publisher[user_publisher]\n",
    "                    check_duplicate.append(user_publisher)\n",
    "                    break\n",
    "            except:\n",
    "                user_publisher = int(input(\"Enter the {} publisher ranking number: \".format(x)))\n",
    "                continue\n",
    "    return publisher\n",
    "\n",
    "print(user_publisher())\n",
    "rank_publisher = journal['user_publisher']\n",
    "for i in rank_publisher:\n",
    "    for key in publisher.keys():\n",
    "        if (i == key):\n",
    "            a = rank_publisher.replace(i,publisher[key], inplace=True)"
   ]
  },
  {
   "cell_type": "markdown",
   "metadata": {},
   "source": [
    "# Percentile"
   ]
  },
  {
   "cell_type": "code",
   "execution_count": 9,
   "metadata": {},
   "outputs": [
    {
     "name": "stdout",
     "output_type": "stream",
     "text": [
      "Enter the 99 - 75 percentile ranking number: 4\n",
      "Enter the 74 - 50 percentile ranking number: 3\n",
      "Enter the 49 - 25 percentile ranking number: 2\n",
      "Enter the 24 - 0 percentile ranking number: 1\n",
      "{100: 1.0, 200: 0.75, 300: 0.5, 400: 0.25}\n"
     ]
    }
   ],
   "source": [
    "percentile = dict() \n",
    "def user_percentile():  \n",
    "    print_percentile = [\"99 - 75\", \"74 - 50\", \"49 - 25\", \"24 - 0\"] \n",
    "    list_percentile = [100, 200, 300, 400]\n",
    "    value_percentile = np.linspace(0.0, 1.0, 5).round(3).tolist()\n",
    "    len_percentile = len(list_percentile)\n",
    "    check_duplicate = []\n",
    "    for (x, y) in zip(list_percentile, print_percentile):\n",
    "        while True:\n",
    "            try:\n",
    "                user_percentile = int(input(\"Enter the {} percentile ranking number: \".format(y)))\n",
    "                if(user_percentile in check_duplicate):\n",
    "                    print(\"Number Already taken\")\n",
    "                elif (user_percentile not in range(1, len_percentile+1)):\n",
    "                    print(\"Please enter a number between 1 to 4\") \n",
    "                else:\n",
    "                    percentile[x] = value_percentile[user_percentile]\n",
    "                    check_duplicate.append(user_percentile)\n",
    "                    break\n",
    "            except:\n",
    "                user_percentile = int(input(\"Enter the {} percentile ranking number: \".format(x)))\n",
    "                continue\n",
    "    return percentile\n",
    "\n",
    "print(user_percentile())\n",
    "rank_percentile = journal['user_percentile']\n",
    "for i in rank_percentile:\n",
    "    for key in percentile.keys():\n",
    "        if (i == key):\n",
    "            a = rank_percentile.replace(i,percentile[key], inplace=True)"
   ]
  },
  {
   "cell_type": "markdown",
   "metadata": {},
   "source": [
    "## Open Access"
   ]
  },
  {
   "cell_type": "code",
   "execution_count": 10,
   "metadata": {},
   "outputs": [
    {
     "name": "stdout",
     "output_type": "stream",
     "text": [
      "Enter the Yes open access ranking number: 2\n",
      "Enter the No open access ranking number: 1\n",
      "{'Yes': 1.0, 'No': 0.5}\n"
     ]
    }
   ],
   "source": [
    "open_access = dict()\n",
    "def user_open_access():\n",
    "    list_open_access = [\"Yes\", \"No\"]\n",
    "    value_open_access = np.linspace(0.0, 1.0, 3).round(3).tolist()\n",
    "    len_open_access = len(list_open_access)\n",
    "    check_duplicate = []\n",
    "    for x in list_open_access:\n",
    "        while True:\n",
    "            try:\n",
    "                user_open_access = int(input(\"Enter the {} open access ranking number: \".format(x)))\n",
    "                if(user_open_access in check_duplicate):\n",
    "                    print(\"Number Already taken\")\n",
    "                elif (user_open_access not in range(1, len_open_access+1)):\n",
    "                    print(\"Please enter a number between 1 to 2\") \n",
    "                else:\n",
    "                    open_access[x] = value_open_access[user_open_access]\n",
    "                    check_duplicate.append(user_open_access)\n",
    "                    break\n",
    "            except:\n",
    "                user_open_access = int(input(\"Enter the {} openaccess ranking number: \".format(x)))\n",
    "                continue\n",
    "    return open_access\n",
    "\n",
    "print(user_open_access())\n",
    "rank_open_access = journal['user_open_access']\n",
    "for i in rank_open_access:\n",
    "    for key in open_access.keys():\n",
    "        if (i == key):\n",
    "            a = rank_open_access.replace(i,open_access[key], inplace=True)"
   ]
  },
  {
   "cell_type": "markdown",
   "metadata": {},
   "source": [
    "# View Dataset"
   ]
  },
  {
   "cell_type": "code",
   "execution_count": 11,
   "metadata": {},
   "outputs": [
    {
     "data": {
      "text/html": [
       "<div>\n",
       "<style scoped>\n",
       "    .dataframe tbody tr th:only-of-type {\n",
       "        vertical-align: middle;\n",
       "    }\n",
       "\n",
       "    .dataframe tbody tr th {\n",
       "        vertical-align: top;\n",
       "    }\n",
       "\n",
       "    .dataframe thead th {\n",
       "        text-align: right;\n",
       "    }\n",
       "</style>\n",
       "<table border=\"1\" class=\"dataframe\">\n",
       "  <thead>\n",
       "    <tr style=\"text-align: right;\">\n",
       "      <th></th>\n",
       "      <th>Title</th>\n",
       "      <th>Citation Count</th>\n",
       "      <th>Scholarly Output</th>\n",
       "      <th>Percent Cited</th>\n",
       "      <th>CiteScore</th>\n",
       "      <th>SNIP</th>\n",
       "      <th>SJR</th>\n",
       "      <th>subject_area</th>\n",
       "      <th>Percentile</th>\n",
       "      <th>RANK</th>\n",
       "      <th>...</th>\n",
       "      <th>Print ISSN</th>\n",
       "      <th>E-ISSN</th>\n",
       "      <th>Index</th>\n",
       "      <th>Publisher2</th>\n",
       "      <th>Percentile2</th>\n",
       "      <th>Open Access2</th>\n",
       "      <th>user_index</th>\n",
       "      <th>user_publisher</th>\n",
       "      <th>user_percentile</th>\n",
       "      <th>user_open_access</th>\n",
       "    </tr>\n",
       "  </thead>\n",
       "  <tbody>\n",
       "    <tr>\n",
       "      <th>195</th>\n",
       "      <td>Law, Innovation and Technology</td>\n",
       "      <td>106</td>\n",
       "      <td>43</td>\n",
       "      <td>55.8</td>\n",
       "      <td>2.5</td>\n",
       "      <td>1.839</td>\n",
       "      <td>0.492</td>\n",
       "      <td>Computer Science (miscellaneous)</td>\n",
       "      <td>60.0</td>\n",
       "      <td>26.0</td>\n",
       "      <td>...</td>\n",
       "      <td>1757-9961</td>\n",
       "      <td>1757-997X</td>\n",
       "      <td>Scopus</td>\n",
       "      <td>Taylor and Francis</td>\n",
       "      <td>200.0</td>\n",
       "      <td>No</td>\n",
       "      <td>1.0</td>\n",
       "      <td>0.625</td>\n",
       "      <td>0.75</td>\n",
       "      <td>0.5</td>\n",
       "    </tr>\n",
       "    <tr>\n",
       "      <th>196</th>\n",
       "      <td>World Journal on Educational Technology: Curre...</td>\n",
       "      <td>11</td>\n",
       "      <td>13</td>\n",
       "      <td>46.2</td>\n",
       "      <td>0.8</td>\n",
       "      <td>NaN</td>\n",
       "      <td>NaN</td>\n",
       "      <td>Computer Science (miscellaneous)</td>\n",
       "      <td>27.0</td>\n",
       "      <td>47.0</td>\n",
       "      <td>...</td>\n",
       "      <td>1309-1506</td>\n",
       "      <td>1309-0348</td>\n",
       "      <td>Scopus</td>\n",
       "      <td>Others</td>\n",
       "      <td>300.0</td>\n",
       "      <td>Yes</td>\n",
       "      <td>1.0</td>\n",
       "      <td>0.125</td>\n",
       "      <td>0.50</td>\n",
       "      <td>1.0</td>\n",
       "    </tr>\n",
       "    <tr>\n",
       "      <th>197</th>\n",
       "      <td>Machines</td>\n",
       "      <td>597</td>\n",
       "      <td>188</td>\n",
       "      <td>67.6</td>\n",
       "      <td>3.2</td>\n",
       "      <td>1.237</td>\n",
       "      <td>0.421</td>\n",
       "      <td>Computer Science (miscellaneous)</td>\n",
       "      <td>71.0</td>\n",
       "      <td>19.0</td>\n",
       "      <td>...</td>\n",
       "      <td>NaN</td>\n",
       "      <td>2075-1702</td>\n",
       "      <td>Scopus</td>\n",
       "      <td>Others</td>\n",
       "      <td>200.0</td>\n",
       "      <td>Yes</td>\n",
       "      <td>1.0</td>\n",
       "      <td>0.125</td>\n",
       "      <td>0.75</td>\n",
       "      <td>1.0</td>\n",
       "    </tr>\n",
       "    <tr>\n",
       "      <th>198</th>\n",
       "      <td>Indonesian Journal of Electrical Engineering a...</td>\n",
       "      <td>215</td>\n",
       "      <td>181</td>\n",
       "      <td>43.6</td>\n",
       "      <td>1.2</td>\n",
       "      <td>0.529</td>\n",
       "      <td>0.189</td>\n",
       "      <td>Computer Science (miscellaneous)</td>\n",
       "      <td>38.0</td>\n",
       "      <td>40.0</td>\n",
       "      <td>...</td>\n",
       "      <td>NaN</td>\n",
       "      <td>2089-3272</td>\n",
       "      <td>Scopus</td>\n",
       "      <td>Others</td>\n",
       "      <td>300.0</td>\n",
       "      <td>No</td>\n",
       "      <td>1.0</td>\n",
       "      <td>0.125</td>\n",
       "      <td>0.50</td>\n",
       "      <td>0.5</td>\n",
       "    </tr>\n",
       "    <tr>\n",
       "      <th>199</th>\n",
       "      <td>Karbala International Journal of Modern Science</td>\n",
       "      <td>499</td>\n",
       "      <td>139</td>\n",
       "      <td>64.7</td>\n",
       "      <td>3.6</td>\n",
       "      <td>1.270</td>\n",
       "      <td>0.334</td>\n",
       "      <td>Computer Science (miscellaneous)</td>\n",
       "      <td>75.0</td>\n",
       "      <td>16.0</td>\n",
       "      <td>...</td>\n",
       "      <td>2405-609X</td>\n",
       "      <td>2405-6103</td>\n",
       "      <td>Scopus</td>\n",
       "      <td>Others</td>\n",
       "      <td>100.0</td>\n",
       "      <td>Yes</td>\n",
       "      <td>1.0</td>\n",
       "      <td>0.125</td>\n",
       "      <td>1.00</td>\n",
       "      <td>1.0</td>\n",
       "    </tr>\n",
       "  </tbody>\n",
       "</table>\n",
       "<p>5 rows × 25 columns</p>\n",
       "</div>"
      ],
      "text/plain": [
       "                                                 Title  Citation Count  \\\n",
       "195                     Law, Innovation and Technology             106   \n",
       "196  World Journal on Educational Technology: Curre...              11   \n",
       "197                                           Machines             597   \n",
       "198  Indonesian Journal of Electrical Engineering a...             215   \n",
       "199    Karbala International Journal of Modern Science             499   \n",
       "\n",
       "     Scholarly Output  Percent Cited  CiteScore   SNIP    SJR  \\\n",
       "195                43           55.8        2.5  1.839  0.492   \n",
       "196                13           46.2        0.8    NaN    NaN   \n",
       "197               188           67.6        3.2  1.237  0.421   \n",
       "198               181           43.6        1.2  0.529  0.189   \n",
       "199               139           64.7        3.6  1.270  0.334   \n",
       "\n",
       "                         subject_area  Percentile  RANK  ...  Print ISSN  \\\n",
       "195  Computer Science (miscellaneous)        60.0  26.0  ...   1757-9961   \n",
       "196  Computer Science (miscellaneous)        27.0  47.0  ...   1309-1506   \n",
       "197  Computer Science (miscellaneous)        71.0  19.0  ...         NaN   \n",
       "198  Computer Science (miscellaneous)        38.0  40.0  ...         NaN   \n",
       "199  Computer Science (miscellaneous)        75.0  16.0  ...   2405-609X   \n",
       "\n",
       "        E-ISSN   Index          Publisher2 Percentile2 Open Access2  \\\n",
       "195  1757-997X  Scopus  Taylor and Francis       200.0           No   \n",
       "196  1309-0348  Scopus              Others       300.0          Yes   \n",
       "197  2075-1702  Scopus              Others       200.0          Yes   \n",
       "198  2089-3272  Scopus              Others       300.0           No   \n",
       "199  2405-6103  Scopus              Others       100.0          Yes   \n",
       "\n",
       "    user_index user_publisher user_percentile  user_open_access  \n",
       "195        1.0          0.625            0.75               0.5  \n",
       "196        1.0          0.125            0.50               1.0  \n",
       "197        1.0          0.125            0.75               1.0  \n",
       "198        1.0          0.125            0.50               0.5  \n",
       "199        1.0          0.125            1.00               1.0  \n",
       "\n",
       "[5 rows x 25 columns]"
      ]
     },
     "execution_count": 11,
     "metadata": {},
     "output_type": "execute_result"
    }
   ],
   "source": [
    "journal.head()"
   ]
  },
  {
   "cell_type": "code",
   "execution_count": 12,
   "metadata": {},
   "outputs": [],
   "source": [
    "journal.to_csv('PSI Journals.csv', index=False) "
   ]
  },
  {
   "cell_type": "code",
   "execution_count": null,
   "metadata": {},
   "outputs": [],
   "source": []
  }
 ],
 "metadata": {
  "kernelspec": {
   "display_name": "Python 3",
   "language": "python",
   "name": "python3"
  },
  "language_info": {
   "codemirror_mode": {
    "name": "ipython",
    "version": 3
   },
   "file_extension": ".py",
   "mimetype": "text/x-python",
   "name": "python",
   "nbconvert_exporter": "python",
   "pygments_lexer": "ipython3",
   "version": "3.7.3"
  }
 },
 "nbformat": 4,
 "nbformat_minor": 2
}
